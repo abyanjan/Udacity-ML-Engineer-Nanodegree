{
 "cells": [
  {
   "cell_type": "markdown",
   "metadata": {},
   "source": [
    "# Sentiment Analysis\n",
    "\n",
    "## Updating a Model in SageMaker\n",
    "\n",
    "_Deep Learning Nanodegree Program | Deployment_\n",
    "\n",
    "---\n",
    "\n",
    "In this notebook we will consider a situation in which a model that we constructed is no longer working as we intended. In particular, we will look at the XGBoost sentiment analysis model that we constructed earlier. In this case, however, we have some new data that our model doesn't seem to perform very well on. As a result, we will re-train our model and update an existing endpoint so that it uses our new model.\n",
    "\n",
    "This notebook starts by re-creating the XGBoost sentiment analysis model that was created in earlier notebooks. This means that you will have already seen the cells up to the end of Step 4. The new content in this notebook begins at Step 5.\n",
    "\n",
    "## Instructions\n",
    "\n",
    "Some template code has already been provided for you, and you will need to implement additional functionality to successfully complete this notebook. You will not need to modify the included code beyond what is requested. Sections that begin with '**TODO**' in the header indicate that you need to complete or implement some portion within them. Instructions will be provided for each section and the specifics of the implementation are marked in the code block with a `# TODO: ...` comment. Please be sure to read the instructions carefully!\n",
    "\n",
    "In addition to implementing code, there will be questions for you to answer which relate to the task and your implementation. Each section where you will answer a question is preceded by a '**Question:**' header. Carefully read each question and provide your answer below the '**Answer:**' header by editing the Markdown cell.\n",
    "\n",
    "> **Note**: Code and Markdown cells can be executed using the **Shift+Enter** keyboard shortcut. In addition, a cell can be edited by typically clicking it (double-click for Markdown cells) or by pressing **Enter** while it is highlighted."
   ]
  },
  {
   "cell_type": "code",
   "execution_count": 1,
   "metadata": {},
   "outputs": [
    {
     "name": "stdout",
     "output_type": "stream",
     "text": [
      "Collecting sagemaker==1.72.0\n",
      "  Downloading sagemaker-1.72.0.tar.gz (297 kB)\n",
      "\u001b[K     |████████████████████████████████| 297 kB 19.0 MB/s eta 0:00:01\n",
      "\u001b[?25hRequirement already satisfied: boto3>=1.14.12 in /home/ec2-user/anaconda3/envs/pytorch_p36/lib/python3.6/site-packages (from sagemaker==1.72.0) (1.16.37)\n",
      "Requirement already satisfied: numpy>=1.9.0 in /home/ec2-user/anaconda3/envs/pytorch_p36/lib/python3.6/site-packages (from sagemaker==1.72.0) (1.19.4)\n",
      "Requirement already satisfied: protobuf>=3.1 in /home/ec2-user/anaconda3/envs/pytorch_p36/lib/python3.6/site-packages (from sagemaker==1.72.0) (3.14.0)\n",
      "Requirement already satisfied: scipy>=0.19.0 in /home/ec2-user/anaconda3/envs/pytorch_p36/lib/python3.6/site-packages (from sagemaker==1.72.0) (1.4.1)\n",
      "Requirement already satisfied: protobuf3-to-dict>=0.1.5 in /home/ec2-user/anaconda3/envs/pytorch_p36/lib/python3.6/site-packages (from sagemaker==1.72.0) (0.1.5)\n",
      "Requirement already satisfied: importlib-metadata>=1.4.0 in /home/ec2-user/anaconda3/envs/pytorch_p36/lib/python3.6/site-packages (from sagemaker==1.72.0) (3.1.0)\n",
      "Requirement already satisfied: packaging>=20.0 in /home/ec2-user/anaconda3/envs/pytorch_p36/lib/python3.6/site-packages (from sagemaker==1.72.0) (20.7)\n",
      "Requirement already satisfied: botocore<1.20.0,>=1.19.37 in /home/ec2-user/anaconda3/envs/pytorch_p36/lib/python3.6/site-packages (from boto3>=1.14.12->sagemaker==1.72.0) (1.19.37)\n",
      "Requirement already satisfied: jmespath<1.0.0,>=0.7.1 in /home/ec2-user/anaconda3/envs/pytorch_p36/lib/python3.6/site-packages (from boto3>=1.14.12->sagemaker==1.72.0) (0.10.0)\n",
      "Requirement already satisfied: s3transfer<0.4.0,>=0.3.0 in /home/ec2-user/anaconda3/envs/pytorch_p36/lib/python3.6/site-packages (from boto3>=1.14.12->sagemaker==1.72.0) (0.3.3)\n",
      "Requirement already satisfied: python-dateutil<3.0.0,>=2.1 in /home/ec2-user/anaconda3/envs/pytorch_p36/lib/python3.6/site-packages (from botocore<1.20.0,>=1.19.37->boto3>=1.14.12->sagemaker==1.72.0) (2.8.1)\n",
      "Requirement already satisfied: jmespath<1.0.0,>=0.7.1 in /home/ec2-user/anaconda3/envs/pytorch_p36/lib/python3.6/site-packages (from boto3>=1.14.12->sagemaker==1.72.0) (0.10.0)\n",
      "Requirement already satisfied: urllib3<1.27,>=1.25.4 in /home/ec2-user/anaconda3/envs/pytorch_p36/lib/python3.6/site-packages (from botocore<1.20.0,>=1.19.37->boto3>=1.14.12->sagemaker==1.72.0) (1.25.11)\n",
      "Requirement already satisfied: zipp>=0.5 in /home/ec2-user/anaconda3/envs/pytorch_p36/lib/python3.6/site-packages (from importlib-metadata>=1.4.0->sagemaker==1.72.0) (3.4.0)\n",
      "Requirement already satisfied: pyparsing>=2.0.2 in /home/ec2-user/anaconda3/envs/pytorch_p36/lib/python3.6/site-packages (from packaging>=20.0->sagemaker==1.72.0) (2.4.7)\n",
      "Requirement already satisfied: six>=1.9 in /home/ec2-user/anaconda3/envs/pytorch_p36/lib/python3.6/site-packages (from protobuf>=3.1->sagemaker==1.72.0) (1.15.0)\n",
      "Requirement already satisfied: six>=1.9 in /home/ec2-user/anaconda3/envs/pytorch_p36/lib/python3.6/site-packages (from protobuf>=3.1->sagemaker==1.72.0) (1.15.0)\n",
      "Requirement already satisfied: protobuf>=3.1 in /home/ec2-user/anaconda3/envs/pytorch_p36/lib/python3.6/site-packages (from sagemaker==1.72.0) (3.14.0)\n",
      "Requirement already satisfied: six>=1.9 in /home/ec2-user/anaconda3/envs/pytorch_p36/lib/python3.6/site-packages (from protobuf>=3.1->sagemaker==1.72.0) (1.15.0)\n",
      "Requirement already satisfied: botocore<1.20.0,>=1.19.37 in /home/ec2-user/anaconda3/envs/pytorch_p36/lib/python3.6/site-packages (from boto3>=1.14.12->sagemaker==1.72.0) (1.19.37)\n",
      "Requirement already satisfied: numpy>=1.9.0 in /home/ec2-user/anaconda3/envs/pytorch_p36/lib/python3.6/site-packages (from sagemaker==1.72.0) (1.19.4)\n",
      "Collecting smdebug-rulesconfig==0.1.4\n",
      "  Downloading smdebug_rulesconfig-0.1.4-py2.py3-none-any.whl (10 kB)\n",
      "Building wheels for collected packages: sagemaker\n",
      "  Building wheel for sagemaker (setup.py) ... \u001b[?25ldone\n",
      "\u001b[?25h  Created wheel for sagemaker: filename=sagemaker-1.72.0-py2.py3-none-any.whl size=386358 sha256=0b925759634abf4cdf8934386bb6225982c838b7f4d4c7ceb837551bca793a2c\n",
      "  Stored in directory: /home/ec2-user/.cache/pip/wheels/c3/58/70/85faf4437568bfaa4c419937569ba1fe54d44c5db42406bbd7\n",
      "Successfully built sagemaker\n",
      "Installing collected packages: smdebug-rulesconfig, sagemaker\n",
      "  Attempting uninstall: smdebug-rulesconfig\n",
      "    Found existing installation: smdebug-rulesconfig 1.0.0\n",
      "    Uninstalling smdebug-rulesconfig-1.0.0:\n",
      "      Successfully uninstalled smdebug-rulesconfig-1.0.0\n",
      "  Attempting uninstall: sagemaker\n",
      "    Found existing installation: sagemaker 2.19.0\n",
      "    Uninstalling sagemaker-2.19.0:\n",
      "      Successfully uninstalled sagemaker-2.19.0\n",
      "Successfully installed sagemaker-1.72.0 smdebug-rulesconfig-0.1.4\n",
      "\u001b[33mWARNING: You are using pip version 20.3; however, version 21.0 is available.\n",
      "You should consider upgrading via the '/home/ec2-user/anaconda3/envs/pytorch_p36/bin/python -m pip install --upgrade pip' command.\u001b[0m\n"
     ]
    }
   ],
   "source": [
    "# Make sure that we use SageMaker 1.x\n",
    "!pip install sagemaker==1.72.0"
   ]
  },
  {
   "cell_type": "markdown",
   "metadata": {},
   "source": [
    "## Step 1: Downloading the data\n",
    "\n",
    "The dataset we are going to use is very popular among researchers in Natural Language Processing, usually referred to as the [IMDb dataset](http://ai.stanford.edu/~amaas/data/sentiment/). It consists of movie reviews from the website [imdb.com](http://www.imdb.com/), each labeled as either '**pos**itive', if the reviewer enjoyed the film, or '**neg**ative' otherwise.\n",
    "\n",
    "> Maas, Andrew L., et al. [Learning Word Vectors for Sentiment Analysis](http://ai.stanford.edu/~amaas/data/sentiment/). In _Proceedings of the 49th Annual Meeting of the Association for Computational Linguistics: Human Language Technologies_. Association for Computational Linguistics, 2011.\n",
    "\n",
    "We begin by using some Jupyter Notebook magic to download and extract the dataset."
   ]
  },
  {
   "cell_type": "code",
   "execution_count": 2,
   "metadata": {},
   "outputs": [
    {
     "name": "stdout",
     "output_type": "stream",
     "text": [
      "mkdir: cannot create directory ‘../data’: File exists\n",
      "--2021-01-24 11:37:58--  http://ai.stanford.edu/~amaas/data/sentiment/aclImdb_v1.tar.gz\n",
      "Resolving ai.stanford.edu (ai.stanford.edu)... 171.64.68.10\n",
      "Connecting to ai.stanford.edu (ai.stanford.edu)|171.64.68.10|:80... connected.\n",
      "HTTP request sent, awaiting response... 200 OK\n",
      "Length: 84125825 (80M) [application/x-gzip]\n",
      "Saving to: ‘../data/aclImdb_v1.tar.gz’\n",
      "\n",
      "../data/aclImdb_v1. 100%[===================>]  80.23M  21.4MB/s    in 5.8s    \n",
      "\n",
      "2021-01-24 11:38:04 (13.8 MB/s) - ‘../data/aclImdb_v1.tar.gz’ saved [84125825/84125825]\n",
      "\n"
     ]
    }
   ],
   "source": [
    "%mkdir ../data\n",
    "!wget -O ../data/aclImdb_v1.tar.gz http://ai.stanford.edu/~amaas/data/sentiment/aclImdb_v1.tar.gz\n",
    "!tar -zxf ../data/aclImdb_v1.tar.gz -C ../data"
   ]
  },
  {
   "cell_type": "markdown",
   "metadata": {},
   "source": [
    "## Step 2: Preparing the data\n",
    "\n",
    "The data we have downloaded is split into various files, each of which contains a single review. It will be much easier going forward if we combine these individual files into two large files, one for training and one for testing."
   ]
  },
  {
   "cell_type": "code",
   "execution_count": 3,
   "metadata": {},
   "outputs": [],
   "source": [
    "import os\n",
    "import glob\n",
    "\n",
    "def read_imdb_data(data_dir='../data/aclImdb'):\n",
    "    data = {}\n",
    "    labels = {}\n",
    "    \n",
    "    for data_type in ['train', 'test']:\n",
    "        data[data_type] = {}\n",
    "        labels[data_type] = {}\n",
    "        \n",
    "        for sentiment in ['pos', 'neg']:\n",
    "            data[data_type][sentiment] = []\n",
    "            labels[data_type][sentiment] = []\n",
    "            \n",
    "            path = os.path.join(data_dir, data_type, sentiment, '*.txt')\n",
    "            files = glob.glob(path)\n",
    "            \n",
    "            for f in files:\n",
    "                with open(f) as review:\n",
    "                    data[data_type][sentiment].append(review.read())\n",
    "                    # Here we represent a positive review by '1' and a negative review by '0'\n",
    "                    labels[data_type][sentiment].append(1 if sentiment == 'pos' else 0)\n",
    "                    \n",
    "            assert len(data[data_type][sentiment]) == len(labels[data_type][sentiment]), \\\n",
    "                    \"{}/{} data size does not match labels size\".format(data_type, sentiment)\n",
    "                \n",
    "    return data, labels"
   ]
  },
  {
   "cell_type": "code",
   "execution_count": 4,
   "metadata": {},
   "outputs": [
    {
     "name": "stdout",
     "output_type": "stream",
     "text": [
      "IMDB reviews: train = 12500 pos / 12500 neg, test = 12500 pos / 12500 neg\n"
     ]
    }
   ],
   "source": [
    "data, labels = read_imdb_data()\n",
    "print(\"IMDB reviews: train = {} pos / {} neg, test = {} pos / {} neg\".format(\n",
    "            len(data['train']['pos']), len(data['train']['neg']),\n",
    "            len(data['test']['pos']), len(data['test']['neg'])))"
   ]
  },
  {
   "cell_type": "code",
   "execution_count": 5,
   "metadata": {},
   "outputs": [],
   "source": [
    "from sklearn.utils import shuffle\n",
    "\n",
    "def prepare_imdb_data(data, labels):\n",
    "    \"\"\"Prepare training and test sets from IMDb movie reviews.\"\"\"\n",
    "    \n",
    "    #Combine positive and negative reviews and labels\n",
    "    data_train = data['train']['pos'] + data['train']['neg']\n",
    "    data_test = data['test']['pos'] + data['test']['neg']\n",
    "    labels_train = labels['train']['pos'] + labels['train']['neg']\n",
    "    labels_test = labels['test']['pos'] + labels['test']['neg']\n",
    "    \n",
    "    #Shuffle reviews and corresponding labels within training and test sets\n",
    "    data_train, labels_train = shuffle(data_train, labels_train)\n",
    "    data_test, labels_test = shuffle(data_test, labels_test)\n",
    "    \n",
    "    # Return a unified training data, test data, training labels, test labets\n",
    "    return data_train, data_test, labels_train, labels_test"
   ]
  },
  {
   "cell_type": "code",
   "execution_count": 6,
   "metadata": {},
   "outputs": [
    {
     "name": "stdout",
     "output_type": "stream",
     "text": [
      "IMDb reviews (combined): train = 25000, test = 25000\n"
     ]
    }
   ],
   "source": [
    "train_X, test_X, train_y, test_y = prepare_imdb_data(data, labels)\n",
    "print(\"IMDb reviews (combined): train = {}, test = {}\".format(len(train_X), len(test_X)))"
   ]
  },
  {
   "cell_type": "code",
   "execution_count": 7,
   "metadata": {},
   "outputs": [
    {
     "data": {
      "text/plain": [
       "\"I never heard of this film til it played as part of a Robert Mitchum retrospective at the National Film Theatre in London. Almost 60 years on the cast list looked tasty to say the least with seven names - in addition to top-billed Mitchum - in the public domain; Charles McGraw, not long off The Killers, Barbara Bel Geddes, long before Dallas and arguably still better known as the daughter of Theatre Set Designer Norman, Walter Brennan, who needed no introduction, Frank Faylen, the sadistic male nurse in The Lost Weekend and the much nicer small-town mensch in It's A Wonderful Life, Robert Preston still a decade away from Harold Hill in The Music Man with Tom Tully and Phyllis Thaxter making up the numbers. Alas, most of them were wasting their time. I looked in vain for any 'signature' scenes given that it was Robert Wise on bullhorn. By this time he'd made around a half dozen films and had still to find a style. The story is our old friend the range war and Mitchum must have thought it was barely a cut above the Hopalong Cassidy oaters on which he'd cut his teeth. There are no new twists - if you don't count the unbelievable scene when Mitchum accuses Preston of sleeping with Thaxter to gain information about her father's plans to move his cattle. This is perfectly true but how did Mitchum KNOW? We've seen or heard nothing to indicate how he discovered it. On balance not a lot to be said for this.\""
      ]
     },
     "execution_count": 7,
     "metadata": {},
     "output_type": "execute_result"
    }
   ],
   "source": [
    "train_X[100]"
   ]
  },
  {
   "cell_type": "markdown",
   "metadata": {},
   "source": [
    "## Step 3: Processing the data\n",
    "\n",
    "Now that we have our training and testing datasets merged and ready to use, we need to start processing the raw data into something that will be useable by our machine learning algorithm. To begin with, we remove any html formatting that may appear in the reviews and perform some standard natural language processing in order to homogenize the data."
   ]
  },
  {
   "cell_type": "code",
   "execution_count": 8,
   "metadata": {},
   "outputs": [
    {
     "name": "stderr",
     "output_type": "stream",
     "text": [
      "[nltk_data] Downloading package stopwords to\n",
      "[nltk_data]     /home/ec2-user/nltk_data...\n",
      "[nltk_data]   Unzipping corpora/stopwords.zip.\n"
     ]
    }
   ],
   "source": [
    "import nltk\n",
    "nltk.download(\"stopwords\")\n",
    "from nltk.corpus import stopwords\n",
    "from nltk.stem.porter import *\n",
    "stemmer = PorterStemmer()"
   ]
  },
  {
   "cell_type": "code",
   "execution_count": 9,
   "metadata": {},
   "outputs": [],
   "source": [
    "import re\n",
    "from bs4 import BeautifulSoup\n",
    "\n",
    "def review_to_words(review):\n",
    "    text = BeautifulSoup(review, \"html.parser\").get_text() # Remove HTML tags\n",
    "    text = re.sub(r\"[^a-zA-Z0-9]\", \" \", text.lower()) # Convert to lower case\n",
    "    words = text.split() # Split string into words\n",
    "    words = [w for w in words if w not in stopwords.words(\"english\")] # Remove stopwords\n",
    "    words = [PorterStemmer().stem(w) for w in words] # stem\n",
    "    \n",
    "    return words"
   ]
  },
  {
   "cell_type": "code",
   "execution_count": 10,
   "metadata": {},
   "outputs": [
    {
     "data": {
      "text/plain": [
       "['never',\n",
       " 'heard',\n",
       " 'film',\n",
       " 'til',\n",
       " 'play',\n",
       " 'part',\n",
       " 'robert',\n",
       " 'mitchum',\n",
       " 'retrospect',\n",
       " 'nation',\n",
       " 'film',\n",
       " 'theatr',\n",
       " 'london',\n",
       " 'almost',\n",
       " '60',\n",
       " 'year',\n",
       " 'cast',\n",
       " 'list',\n",
       " 'look',\n",
       " 'tasti',\n",
       " 'say',\n",
       " 'least',\n",
       " 'seven',\n",
       " 'name',\n",
       " 'addit',\n",
       " 'top',\n",
       " 'bill',\n",
       " 'mitchum',\n",
       " 'public',\n",
       " 'domain',\n",
       " 'charl',\n",
       " 'mcgraw',\n",
       " 'long',\n",
       " 'killer',\n",
       " 'barbara',\n",
       " 'bel',\n",
       " 'gedd',\n",
       " 'long',\n",
       " 'dalla',\n",
       " 'arguabl',\n",
       " 'still',\n",
       " 'better',\n",
       " 'known',\n",
       " 'daughter',\n",
       " 'theatr',\n",
       " 'set',\n",
       " 'design',\n",
       " 'norman',\n",
       " 'walter',\n",
       " 'brennan',\n",
       " 'need',\n",
       " 'introduct',\n",
       " 'frank',\n",
       " 'faylen',\n",
       " 'sadist',\n",
       " 'male',\n",
       " 'nurs',\n",
       " 'lost',\n",
       " 'weekend',\n",
       " 'much',\n",
       " 'nicer',\n",
       " 'small',\n",
       " 'town',\n",
       " 'mensch',\n",
       " 'wonder',\n",
       " 'life',\n",
       " 'robert',\n",
       " 'preston',\n",
       " 'still',\n",
       " 'decad',\n",
       " 'away',\n",
       " 'harold',\n",
       " 'hill',\n",
       " 'music',\n",
       " 'man',\n",
       " 'tom',\n",
       " 'tulli',\n",
       " 'phylli',\n",
       " 'thaxter',\n",
       " 'make',\n",
       " 'number',\n",
       " 'ala',\n",
       " 'wast',\n",
       " 'time',\n",
       " 'look',\n",
       " 'vain',\n",
       " 'signatur',\n",
       " 'scene',\n",
       " 'given',\n",
       " 'robert',\n",
       " 'wise',\n",
       " 'bullhorn',\n",
       " 'time',\n",
       " 'made',\n",
       " 'around',\n",
       " 'half',\n",
       " 'dozen',\n",
       " 'film',\n",
       " 'still',\n",
       " 'find',\n",
       " 'style',\n",
       " 'stori',\n",
       " 'old',\n",
       " 'friend',\n",
       " 'rang',\n",
       " 'war',\n",
       " 'mitchum',\n",
       " 'must',\n",
       " 'thought',\n",
       " 'bare',\n",
       " 'cut',\n",
       " 'hopalong',\n",
       " 'cassidi',\n",
       " 'oater',\n",
       " 'cut',\n",
       " 'teeth',\n",
       " 'new',\n",
       " 'twist',\n",
       " 'count',\n",
       " 'unbeliev',\n",
       " 'scene',\n",
       " 'mitchum',\n",
       " 'accus',\n",
       " 'preston',\n",
       " 'sleep',\n",
       " 'thaxter',\n",
       " 'gain',\n",
       " 'inform',\n",
       " 'father',\n",
       " 'plan',\n",
       " 'move',\n",
       " 'cattl',\n",
       " 'perfectli',\n",
       " 'true',\n",
       " 'mitchum',\n",
       " 'know',\n",
       " 'seen',\n",
       " 'heard',\n",
       " 'noth',\n",
       " 'indic',\n",
       " 'discov',\n",
       " 'balanc',\n",
       " 'lot',\n",
       " 'said']"
      ]
     },
     "execution_count": 10,
     "metadata": {},
     "output_type": "execute_result"
    }
   ],
   "source": [
    "review_to_words(train_X[100])"
   ]
  },
  {
   "cell_type": "code",
   "execution_count": 11,
   "metadata": {},
   "outputs": [],
   "source": [
    "import pickle\n",
    "\n",
    "cache_dir = os.path.join(\"../cache\", \"sentiment_analysis\")  # where to store cache files\n",
    "os.makedirs(cache_dir, exist_ok=True)  # ensure cache directory exists\n",
    "\n",
    "def preprocess_data(data_train, data_test, labels_train, labels_test,\n",
    "                    cache_dir=cache_dir, cache_file=\"preprocessed_data.pkl\"):\n",
    "    \"\"\"Convert each review to words; read from cache if available.\"\"\"\n",
    "\n",
    "    # If cache_file is not None, try to read from it first\n",
    "    cache_data = None\n",
    "    if cache_file is not None:\n",
    "        try:\n",
    "            with open(os.path.join(cache_dir, cache_file), \"rb\") as f:\n",
    "                cache_data = pickle.load(f)\n",
    "            print(\"Read preprocessed data from cache file:\", cache_file)\n",
    "        except:\n",
    "            pass  # unable to read from cache, but that's okay\n",
    "    \n",
    "    # If cache is missing, then do the heavy lifting\n",
    "    if cache_data is None:\n",
    "        # Preprocess training and test data to obtain words for each review\n",
    "        #words_train = list(map(review_to_words, data_train))\n",
    "        #words_test = list(map(review_to_words, data_test))\n",
    "        words_train = [review_to_words(review) for review in data_train]\n",
    "        words_test = [review_to_words(review) for review in data_test]\n",
    "        \n",
    "        # Write to cache file for future runs\n",
    "        if cache_file is not None:\n",
    "            cache_data = dict(words_train=words_train, words_test=words_test,\n",
    "                              labels_train=labels_train, labels_test=labels_test)\n",
    "            with open(os.path.join(cache_dir, cache_file), \"wb\") as f:\n",
    "                pickle.dump(cache_data, f)\n",
    "            print(\"Wrote preprocessed data to cache file:\", cache_file)\n",
    "    else:\n",
    "        # Unpack data loaded from cache file\n",
    "        words_train, words_test, labels_train, labels_test = (cache_data['words_train'],\n",
    "                cache_data['words_test'], cache_data['labels_train'], cache_data['labels_test'])\n",
    "    \n",
    "    return words_train, words_test, labels_train, labels_test"
   ]
  },
  {
   "cell_type": "code",
   "execution_count": 12,
   "metadata": {},
   "outputs": [
    {
     "name": "stdout",
     "output_type": "stream",
     "text": [
      "Read preprocessed data from cache file: preprocessed_data.pkl\n"
     ]
    }
   ],
   "source": [
    "# Preprocess data\n",
    "train_X, test_X, train_y, test_y = preprocess_data(train_X, test_X, train_y, test_y)"
   ]
  },
  {
   "cell_type": "markdown",
   "metadata": {},
   "source": [
    "### Extract Bag-of-Words features\n",
    "\n",
    "For the model we will be implementing, rather than using the reviews directly, we are going to transform each review into a Bag-of-Words feature representation. Keep in mind that 'in the wild' we will only have access to the training set so our transformer can only use the training set to construct a representation."
   ]
  },
  {
   "cell_type": "code",
   "execution_count": 13,
   "metadata": {},
   "outputs": [
    {
     "name": "stderr",
     "output_type": "stream",
     "text": [
      "/home/ec2-user/anaconda3/envs/pytorch_p36/lib/python3.6/site-packages/sklearn/externals/joblib/__init__.py:15: FutureWarning: sklearn.externals.joblib is deprecated in 0.21 and will be removed in 0.23. Please import this functionality directly from joblib, which can be installed with: pip install joblib. If this warning is raised when loading pickled models, you may need to re-serialize those models with scikit-learn 0.21+.\n",
      "  warnings.warn(msg, category=FutureWarning)\n"
     ]
    }
   ],
   "source": [
    "import numpy as np\n",
    "from sklearn.feature_extraction.text import CountVectorizer\n",
    "from sklearn.externals import joblib\n",
    "# joblib is an enhanced version of pickle that is more efficient for storing NumPy arrays\n",
    "\n",
    "def extract_BoW_features(words_train, words_test, vocabulary_size=5000,\n",
    "                         cache_dir=cache_dir, cache_file=\"bow_features.pkl\"):\n",
    "    \"\"\"Extract Bag-of-Words for a given set of documents, already preprocessed into words.\"\"\"\n",
    "    \n",
    "    # If cache_file is not None, try to read from it first\n",
    "    cache_data = None\n",
    "    if cache_file is not None:\n",
    "        try:\n",
    "            with open(os.path.join(cache_dir, cache_file), \"rb\") as f:\n",
    "                cache_data = joblib.load(f)\n",
    "            print(\"Read features from cache file:\", cache_file)\n",
    "        except:\n",
    "            pass  # unable to read from cache, but that's okay\n",
    "    \n",
    "    # If cache is missing, then do the heavy lifting\n",
    "    if cache_data is None:\n",
    "        # Fit a vectorizer to training documents and use it to transform them\n",
    "        # NOTE: Training documents have already been preprocessed and tokenized into words;\n",
    "        #       pass in dummy functions to skip those steps, e.g. preprocessor=lambda x: x\n",
    "        vectorizer = CountVectorizer(max_features=vocabulary_size,\n",
    "                preprocessor=lambda x: x, tokenizer=lambda x: x)  # already preprocessed\n",
    "        features_train = vectorizer.fit_transform(words_train).toarray()\n",
    "\n",
    "        # Apply the same vectorizer to transform the test documents (ignore unknown words)\n",
    "        features_test = vectorizer.transform(words_test).toarray()\n",
    "        \n",
    "        # NOTE: Remember to convert the features using .toarray() for a compact representation\n",
    "        \n",
    "        # Write to cache file for future runs (store vocabulary as well)\n",
    "        if cache_file is not None:\n",
    "            vocabulary = vectorizer.vocabulary_\n",
    "            cache_data = dict(features_train=features_train, features_test=features_test,\n",
    "                             vocabulary=vocabulary)\n",
    "            with open(os.path.join(cache_dir, cache_file), \"wb\") as f:\n",
    "                joblib.dump(cache_data, f)\n",
    "            print(\"Wrote features to cache file:\", cache_file)\n",
    "    else:\n",
    "        # Unpack data loaded from cache file\n",
    "        features_train, features_test, vocabulary = (cache_data['features_train'],\n",
    "                cache_data['features_test'], cache_data['vocabulary'])\n",
    "    \n",
    "    # Return both the extracted features as well as the vocabulary\n",
    "    return features_train, features_test, vocabulary"
   ]
  },
  {
   "cell_type": "code",
   "execution_count": 14,
   "metadata": {},
   "outputs": [
    {
     "name": "stdout",
     "output_type": "stream",
     "text": [
      "Read features from cache file: bow_features.pkl\n"
     ]
    }
   ],
   "source": [
    "# Extract Bag of Words features for both training and test datasets\n",
    "train_X, test_X, vocabulary = extract_BoW_features(train_X, test_X)"
   ]
  },
  {
   "cell_type": "code",
   "execution_count": 15,
   "metadata": {},
   "outputs": [
    {
     "data": {
      "text/plain": [
       "5000"
      ]
     },
     "execution_count": 15,
     "metadata": {},
     "output_type": "execute_result"
    }
   ],
   "source": [
    "len(train_X[100])"
   ]
  },
  {
   "cell_type": "markdown",
   "metadata": {},
   "source": [
    "## Step 4: Classification using XGBoost\n",
    "\n",
    "Now that we have created the feature representation of our training (and testing) data, it is time to start setting up and using the XGBoost classifier provided by SageMaker.\n",
    "\n",
    "### Writing the dataset\n",
    "\n",
    "The XGBoost classifier that we will be using requires the dataset to be written to a file and stored using Amazon S3. To do this, we will start by splitting the training dataset into two parts, the data we will train the model with and a validation set. Then, we will write those datasets to a file and upload the files to S3. In addition, we will write the test set input to a file and upload the file to S3. This is so that we can use SageMakers Batch Transform functionality to test our model once we've fit it."
   ]
  },
  {
   "cell_type": "code",
   "execution_count": 16,
   "metadata": {},
   "outputs": [],
   "source": [
    "import pandas as pd\n",
    "\n",
    "# Earlier we shuffled the training dataset so to make things simple we can just assign\n",
    "# the first 10 000 reviews to the validation set and use the remaining reviews for training.\n",
    "val_X = pd.DataFrame(train_X[:10000])\n",
    "train_X = pd.DataFrame(train_X[10000:])\n",
    "\n",
    "val_y = pd.DataFrame(train_y[:10000])\n",
    "train_y = pd.DataFrame(train_y[10000:])"
   ]
  },
  {
   "cell_type": "markdown",
   "metadata": {},
   "source": [
    "The documentation for the XGBoost algorithm in SageMaker requires that the saved datasets should contain no headers or index and that for the training and validation data, the label should occur first for each sample.\n",
    "\n",
    "For more information about this and other algorithms, the SageMaker developer documentation can be found on __[Amazon's website.](https://docs.aws.amazon.com/sagemaker/latest/dg/)__"
   ]
  },
  {
   "cell_type": "code",
   "execution_count": 17,
   "metadata": {},
   "outputs": [],
   "source": [
    "# First we make sure that the local directory in which we'd like to store the training and validation csv files exists.\n",
    "data_dir = '../data/sentiment_update'\n",
    "if not os.path.exists(data_dir):\n",
    "    os.makedirs(data_dir)"
   ]
  },
  {
   "cell_type": "code",
   "execution_count": 18,
   "metadata": {},
   "outputs": [],
   "source": [
    "pd.DataFrame(test_X).to_csv(os.path.join(data_dir, 'test.csv'), header=False, index=False)\n",
    "\n",
    "pd.concat([val_y, val_X], axis=1).to_csv(os.path.join(data_dir, 'validation.csv'), header=False, index=False)\n",
    "pd.concat([train_y, train_X], axis=1).to_csv(os.path.join(data_dir, 'train.csv'), header=False, index=False)"
   ]
  },
  {
   "cell_type": "code",
   "execution_count": 19,
   "metadata": {},
   "outputs": [],
   "source": [
    "# To save a bit of memory we can set text_X, train_X, val_X, train_y and val_y to None.\n",
    "\n",
    "test_X = train_X = val_X = train_y = val_y = None"
   ]
  },
  {
   "cell_type": "markdown",
   "metadata": {},
   "source": [
    "### Uploading Training / Validation files to S3\n",
    "\n",
    "Amazon's S3 service allows us to store files that can be access by both the built-in training models such as the XGBoost model we will be using as well as custom models such as the one we will see a little later.\n",
    "\n",
    "For this, and most other tasks we will be doing using SageMaker, there are two methods we could use. The first is to use the low level functionality of SageMaker which requires knowing each of the objects involved in the SageMaker environment. The second is to use the high level functionality in which certain choices have been made on the user's behalf. The low level approach benefits from allowing the user a great deal of flexibility while the high level approach makes development much quicker. For our purposes we will opt to use the high level approach although using the low-level approach is certainly an option.\n",
    "\n",
    "Recall the method `upload_data()` which is a member of object representing our current SageMaker session. What this method does is upload the data to the default bucket (which is created if it does not exist) into the path described by the key_prefix variable. To see this for yourself, once you have uploaded the data files, go to the S3 console and look to see where the files have been uploaded.\n",
    "\n",
    "For additional resources, see the __[SageMaker API documentation](http://sagemaker.readthedocs.io/en/latest/)__ and in addition the __[SageMaker Developer Guide.](https://docs.aws.amazon.com/sagemaker/latest/dg/)__"
   ]
  },
  {
   "cell_type": "code",
   "execution_count": 20,
   "metadata": {},
   "outputs": [],
   "source": [
    "import sagemaker\n",
    "\n",
    "session = sagemaker.Session() # Store the current SageMaker session\n",
    "\n",
    "# S3 prefix (which folder will we use)\n",
    "prefix = 'sentiment-update'\n",
    "\n",
    "test_location = session.upload_data(os.path.join(data_dir, 'test.csv'), key_prefix=prefix)\n",
    "val_location = session.upload_data(os.path.join(data_dir, 'validation.csv'), key_prefix=prefix)\n",
    "train_location = session.upload_data(os.path.join(data_dir, 'train.csv'), key_prefix=prefix)"
   ]
  },
  {
   "cell_type": "markdown",
   "metadata": {},
   "source": [
    "### Creating the XGBoost model\n",
    "\n",
    "Now that the data has been uploaded it is time to create the XGBoost model. To begin with, we need to do some setup. At this point it is worth discussing what a model is in SageMaker. It is easiest to think of a model of comprising three different objects in the SageMaker ecosystem, which interact with one another.\n",
    "\n",
    "- Model Artifacts\n",
    "- Training Code (Container)\n",
    "- Inference Code (Container)\n",
    "\n",
    "The Model Artifacts are what you might think of as the actual model itself. For example, if you were building a neural network, the model artifacts would be the weights of the various layers. In our case, for an XGBoost model, the artifacts are the actual trees that are created during training.\n",
    "\n",
    "The other two objects, the training code and the inference code are then used the manipulate the training artifacts. More precisely, the training code uses the training data that is provided and creates the model artifacts, while the inference code uses the model artifacts to make predictions on new data.\n",
    "\n",
    "The way that SageMaker runs the training and inference code is by making use of Docker containers. For now, think of a container as being a way of packaging code up so that dependencies aren't an issue."
   ]
  },
  {
   "cell_type": "code",
   "execution_count": 21,
   "metadata": {},
   "outputs": [],
   "source": [
    "from sagemaker import get_execution_role\n",
    "\n",
    "# Our current execution role is require when creating the model as the training\n",
    "# and inference code will need to access the model artifacts.\n",
    "role = get_execution_role()"
   ]
  },
  {
   "cell_type": "code",
   "execution_count": 22,
   "metadata": {},
   "outputs": [
    {
     "name": "stderr",
     "output_type": "stream",
     "text": [
      "'get_image_uri' method will be deprecated in favor of 'ImageURIProvider' class in SageMaker Python SDK v2.\n",
      "There is a more up to date SageMaker XGBoost image. To use the newer image, please set 'repo_version'='1.0-1'. For example:\n",
      "\tget_image_uri(region, 'xgboost', '1.0-1').\n"
     ]
    }
   ],
   "source": [
    "# We need to retrieve the location of the container which is provided by Amazon for using XGBoost.\n",
    "# As a matter of convenience, the training and inference code both use the same container.\n",
    "from sagemaker.amazon.amazon_estimator import get_image_uri\n",
    "\n",
    "container = get_image_uri(session.boto_region_name, 'xgboost')"
   ]
  },
  {
   "cell_type": "code",
   "execution_count": 23,
   "metadata": {},
   "outputs": [
    {
     "name": "stderr",
     "output_type": "stream",
     "text": [
      "Parameter image_name will be renamed to image_uri in SageMaker Python SDK v2.\n"
     ]
    }
   ],
   "source": [
    "# First we create a SageMaker estimator object for our model.\n",
    "xgb = sagemaker.estimator.Estimator(container, # The location of the container we wish to use\n",
    "                                    role,                                    # What is our current IAM Role\n",
    "                                    train_instance_count=1,                  # How many compute instances\n",
    "                                    train_instance_type='ml.m4.xlarge',      # What kind of compute instances\n",
    "                                    output_path='s3://{}/{}/output'.format(session.default_bucket(), prefix),\n",
    "                                    sagemaker_session=session)\n",
    "\n",
    "# And then set the algorithm specific parameters.\n",
    "xgb.set_hyperparameters(max_depth=5,\n",
    "                        eta=0.2,\n",
    "                        gamma=4,\n",
    "                        min_child_weight=6,\n",
    "                        subsample=0.8,\n",
    "                        silent=0,\n",
    "                        objective='binary:logistic',\n",
    "                        early_stopping_rounds=10,\n",
    "                        num_round=500)"
   ]
  },
  {
   "cell_type": "markdown",
   "metadata": {},
   "source": [
    "### Fit the XGBoost model\n",
    "\n",
    "Now that our model has been set up we simply need to attach the training and validation datasets and then ask SageMaker to set up the computation."
   ]
  },
  {
   "cell_type": "code",
   "execution_count": 24,
   "metadata": {},
   "outputs": [
    {
     "name": "stderr",
     "output_type": "stream",
     "text": [
      "'s3_input' class will be renamed to 'TrainingInput' in SageMaker Python SDK v2.\n",
      "'s3_input' class will be renamed to 'TrainingInput' in SageMaker Python SDK v2.\n"
     ]
    }
   ],
   "source": [
    "s3_input_train = sagemaker.s3_input(s3_data=train_location, content_type='csv')\n",
    "s3_input_validation = sagemaker.s3_input(s3_data=val_location, content_type='csv')"
   ]
  },
  {
   "cell_type": "code",
   "execution_count": 25,
   "metadata": {},
   "outputs": [
    {
     "name": "stdout",
     "output_type": "stream",
     "text": [
      "2021-01-24 11:45:41 Starting - Starting the training job...\n",
      "2021-01-24 11:45:43 Starting - Launching requested ML instances......\n",
      "2021-01-24 11:46:56 Starting - Preparing the instances for training.........\n",
      "2021-01-24 11:48:22 Downloading - Downloading input data...\n",
      "2021-01-24 11:48:58 Training - Downloading the training image...\n",
      "2021-01-24 11:49:25 Training - Training image download completed. Training in progress.\u001b[34mArguments: train\u001b[0m\n",
      "\u001b[34m[2021-01-24:11:49:26:INFO] Running standalone xgboost training.\u001b[0m\n",
      "\u001b[34m[2021-01-24:11:49:26:INFO] File size need to be processed in the node: 238.47mb. Available memory size in the node: 8425.3mb\u001b[0m\n",
      "\u001b[34m[2021-01-24:11:49:26:INFO] Determined delimiter of CSV input is ','\u001b[0m\n",
      "\u001b[34m[11:49:26] S3DistributionType set as FullyReplicated\u001b[0m\n",
      "\u001b[34m[11:49:28] 15000x5000 matrix with 75000000 entries loaded from /opt/ml/input/data/train?format=csv&label_column=0&delimiter=,\u001b[0m\n",
      "\u001b[34m[2021-01-24:11:49:28:INFO] Determined delimiter of CSV input is ','\u001b[0m\n",
      "\u001b[34m[11:49:28] S3DistributionType set as FullyReplicated\u001b[0m\n",
      "\u001b[34m[11:49:29] 10000x5000 matrix with 50000000 entries loaded from /opt/ml/input/data/validation?format=csv&label_column=0&delimiter=,\u001b[0m\n",
      "\u001b[34m[11:49:32] src/tree/updater_prune.cc:74: tree pruning end, 1 roots, 38 extra nodes, 6 pruned nodes, max_depth=5\u001b[0m\n",
      "\u001b[34m[0]#011train-error:0.302467#011validation-error:0.3029\u001b[0m\n",
      "\u001b[34mMultiple eval metrics have been passed: 'validation-error' will be used for early stopping.\n",
      "\u001b[0m\n",
      "\u001b[34mWill train until validation-error hasn't improved in 10 rounds.\u001b[0m\n",
      "\u001b[34m[11:49:34] src/tree/updater_prune.cc:74: tree pruning end, 1 roots, 34 extra nodes, 14 pruned nodes, max_depth=5\u001b[0m\n",
      "\u001b[34m[1]#011train-error:0.2814#011validation-error:0.2819\u001b[0m\n",
      "\u001b[34m[11:49:36] src/tree/updater_prune.cc:74: tree pruning end, 1 roots, 48 extra nodes, 6 pruned nodes, max_depth=5\u001b[0m\n",
      "\u001b[34m[2]#011train-error:0.276933#011validation-error:0.28\u001b[0m\n",
      "\u001b[34m[11:49:37] src/tree/updater_prune.cc:74: tree pruning end, 1 roots, 36 extra nodes, 6 pruned nodes, max_depth=5\u001b[0m\n",
      "\u001b[34m[3]#011train-error:0.2684#011validation-error:0.2706\u001b[0m\n",
      "\u001b[34m[11:49:38] src/tree/updater_prune.cc:74: tree pruning end, 1 roots, 32 extra nodes, 4 pruned nodes, max_depth=5\u001b[0m\n",
      "\u001b[34m[4]#011train-error:0.251667#011validation-error:0.2537\u001b[0m\n",
      "\u001b[34m[11:49:40] src/tree/updater_prune.cc:74: tree pruning end, 1 roots, 48 extra nodes, 6 pruned nodes, max_depth=5\u001b[0m\n",
      "\u001b[34m[5]#011train-error:0.246933#011validation-error:0.2526\u001b[0m\n",
      "\u001b[34m[11:49:41] src/tree/updater_prune.cc:74: tree pruning end, 1 roots, 32 extra nodes, 2 pruned nodes, max_depth=5\u001b[0m\n",
      "\u001b[34m[6]#011train-error:0.241333#011validation-error:0.2471\u001b[0m\n",
      "\u001b[34m[11:49:42] src/tree/updater_prune.cc:74: tree pruning end, 1 roots, 30 extra nodes, 4 pruned nodes, max_depth=5\u001b[0m\n",
      "\u001b[34m[7]#011train-error:0.235333#011validation-error:0.2428\u001b[0m\n",
      "\u001b[34m[11:49:43] src/tree/updater_prune.cc:74: tree pruning end, 1 roots, 32 extra nodes, 2 pruned nodes, max_depth=5\u001b[0m\n",
      "\u001b[34m[8]#011train-error:0.2326#011validation-error:0.2407\u001b[0m\n",
      "\u001b[34m[11:49:45] src/tree/updater_prune.cc:74: tree pruning end, 1 roots, 38 extra nodes, 6 pruned nodes, max_depth=5\u001b[0m\n",
      "\u001b[34m[9]#011train-error:0.228733#011validation-error:0.2362\u001b[0m\n",
      "\u001b[34m[11:49:46] src/tree/updater_prune.cc:74: tree pruning end, 1 roots, 28 extra nodes, 6 pruned nodes, max_depth=5\u001b[0m\n",
      "\u001b[34m[10]#011train-error:0.223#011validation-error:0.2292\u001b[0m\n",
      "\u001b[34m[11:49:47] src/tree/updater_prune.cc:74: tree pruning end, 1 roots, 26 extra nodes, 10 pruned nodes, max_depth=5\u001b[0m\n",
      "\u001b[34m[11]#011train-error:0.217267#011validation-error:0.2224\u001b[0m\n",
      "\u001b[34m[11:49:49] src/tree/updater_prune.cc:74: tree pruning end, 1 roots, 30 extra nodes, 4 pruned nodes, max_depth=5\u001b[0m\n",
      "\u001b[34m[12]#011train-error:0.212267#011validation-error:0.2178\u001b[0m\n",
      "\u001b[34m[11:49:50] src/tree/updater_prune.cc:74: tree pruning end, 1 roots, 28 extra nodes, 4 pruned nodes, max_depth=5\u001b[0m\n",
      "\u001b[34m[13]#011train-error:0.205533#011validation-error:0.2138\u001b[0m\n",
      "\u001b[34m[11:49:51] src/tree/updater_prune.cc:74: tree pruning end, 1 roots, 32 extra nodes, 6 pruned nodes, max_depth=5\u001b[0m\n",
      "\u001b[34m[14]#011train-error:0.201533#011validation-error:0.2108\u001b[0m\n",
      "\u001b[34m[11:49:53] src/tree/updater_prune.cc:74: tree pruning end, 1 roots, 30 extra nodes, 4 pruned nodes, max_depth=5\u001b[0m\n",
      "\u001b[34m[15]#011train-error:0.1986#011validation-error:0.2091\u001b[0m\n",
      "\u001b[34m[11:49:54] src/tree/updater_prune.cc:74: tree pruning end, 1 roots, 26 extra nodes, 10 pruned nodes, max_depth=5\u001b[0m\n",
      "\u001b[34m[16]#011train-error:0.198933#011validation-error:0.2093\u001b[0m\n",
      "\u001b[34m[11:49:55] src/tree/updater_prune.cc:74: tree pruning end, 1 roots, 32 extra nodes, 2 pruned nodes, max_depth=5\u001b[0m\n",
      "\u001b[34m[17]#011train-error:0.1948#011validation-error:0.2056\u001b[0m\n",
      "\u001b[34m[11:49:57] src/tree/updater_prune.cc:74: tree pruning end, 1 roots, 32 extra nodes, 16 pruned nodes, max_depth=5\u001b[0m\n",
      "\u001b[34m[18]#011train-error:0.188733#011validation-error:0.2029\u001b[0m\n",
      "\u001b[34m[11:49:58] src/tree/updater_prune.cc:74: tree pruning end, 1 roots, 20 extra nodes, 10 pruned nodes, max_depth=5\u001b[0m\n",
      "\u001b[34m[19]#011train-error:0.185667#011validation-error:0.201\u001b[0m\n",
      "\u001b[34m[11:49:59] src/tree/updater_prune.cc:74: tree pruning end, 1 roots, 20 extra nodes, 12 pruned nodes, max_depth=5\u001b[0m\n",
      "\u001b[34m[20]#011train-error:0.185067#011validation-error:0.1972\u001b[0m\n",
      "\u001b[34m[11:50:01] src/tree/updater_prune.cc:74: tree pruning end, 1 roots, 30 extra nodes, 2 pruned nodes, max_depth=5\u001b[0m\n",
      "\u001b[34m[21]#011train-error:0.184133#011validation-error:0.1971\u001b[0m\n",
      "\u001b[34m[11:50:02] src/tree/updater_prune.cc:74: tree pruning end, 1 roots, 28 extra nodes, 4 pruned nodes, max_depth=5\u001b[0m\n",
      "\u001b[34m[22]#011train-error:0.183667#011validation-error:0.1961\u001b[0m\n",
      "\u001b[34m[11:50:03] src/tree/updater_prune.cc:74: tree pruning end, 1 roots, 28 extra nodes, 4 pruned nodes, max_depth=5\u001b[0m\n",
      "\u001b[34m[23]#011train-error:0.182133#011validation-error:0.1949\u001b[0m\n",
      "\u001b[34m[11:50:05] src/tree/updater_prune.cc:74: tree pruning end, 1 roots, 28 extra nodes, 6 pruned nodes, max_depth=5\u001b[0m\n",
      "\u001b[34m[24]#011train-error:0.178467#011validation-error:0.193\u001b[0m\n",
      "\u001b[34m[11:50:07] src/tree/updater_prune.cc:74: tree pruning end, 1 roots, 38 extra nodes, 2 pruned nodes, max_depth=5\u001b[0m\n",
      "\u001b[34m[25]#011train-error:0.175133#011validation-error:0.1894\u001b[0m\n",
      "\u001b[34m[11:50:08] src/tree/updater_prune.cc:74: tree pruning end, 1 roots, 24 extra nodes, 6 pruned nodes, max_depth=5\u001b[0m\n",
      "\u001b[34m[26]#011train-error:0.1728#011validation-error:0.1885\u001b[0m\n",
      "\u001b[34m[11:50:10] src/tree/updater_prune.cc:74: tree pruning end, 1 roots, 24 extra nodes, 6 pruned nodes, max_depth=5\u001b[0m\n",
      "\u001b[34m[27]#011train-error:0.169333#011validation-error:0.187\u001b[0m\n",
      "\u001b[34m[11:50:11] src/tree/updater_prune.cc:74: tree pruning end, 1 roots, 28 extra nodes, 8 pruned nodes, max_depth=5\u001b[0m\n",
      "\u001b[34m[28]#011train-error:0.168067#011validation-error:0.1848\u001b[0m\n",
      "\u001b[34m[11:50:12] src/tree/updater_prune.cc:74: tree pruning end, 1 roots, 30 extra nodes, 10 pruned nodes, max_depth=5\u001b[0m\n",
      "\u001b[34m[29]#011train-error:0.1672#011validation-error:0.1856\u001b[0m\n",
      "\u001b[34m[11:50:13] src/tree/updater_prune.cc:74: tree pruning end, 1 roots, 26 extra nodes, 6 pruned nodes, max_depth=5\u001b[0m\n",
      "\u001b[34m[30]#011train-error:0.166867#011validation-error:0.185\u001b[0m\n",
      "\u001b[34m[11:50:15] src/tree/updater_prune.cc:74: tree pruning end, 1 roots, 26 extra nodes, 18 pruned nodes, max_depth=5\u001b[0m\n",
      "\u001b[34m[31]#011train-error:0.164#011validation-error:0.1843\u001b[0m\n",
      "\u001b[34m[11:50:16] src/tree/updater_prune.cc:74: tree pruning end, 1 roots, 30 extra nodes, 14 pruned nodes, max_depth=5\u001b[0m\n",
      "\u001b[34m[32]#011train-error:0.163667#011validation-error:0.1841\u001b[0m\n",
      "\u001b[34m[11:50:17] src/tree/updater_prune.cc:74: tree pruning end, 1 roots, 28 extra nodes, 6 pruned nodes, max_depth=5\u001b[0m\n",
      "\u001b[34m[33]#011train-error:0.161533#011validation-error:0.1825\u001b[0m\n",
      "\u001b[34m[11:50:19] src/tree/updater_prune.cc:74: tree pruning end, 1 roots, 12 extra nodes, 12 pruned nodes, max_depth=5\u001b[0m\n",
      "\u001b[34m[34]#011train-error:0.1606#011validation-error:0.1824\u001b[0m\n",
      "\u001b[34m[11:50:20] src/tree/updater_prune.cc:74: tree pruning end, 1 roots, 26 extra nodes, 8 pruned nodes, max_depth=5\u001b[0m\n",
      "\u001b[34m[35]#011train-error:0.159867#011validation-error:0.1788\u001b[0m\n",
      "\u001b[34m[11:50:21] src/tree/updater_prune.cc:74: tree pruning end, 1 roots, 16 extra nodes, 8 pruned nodes, max_depth=5\u001b[0m\n",
      "\u001b[34m[36]#011train-error:0.158067#011validation-error:0.1779\u001b[0m\n",
      "\u001b[34m[11:50:23] src/tree/updater_prune.cc:74: tree pruning end, 1 roots, 26 extra nodes, 12 pruned nodes, max_depth=5\u001b[0m\n",
      "\u001b[34m[37]#011train-error:0.1578#011validation-error:0.1779\u001b[0m\n",
      "\u001b[34m[11:50:24] src/tree/updater_prune.cc:74: tree pruning end, 1 roots, 30 extra nodes, 10 pruned nodes, max_depth=5\u001b[0m\n",
      "\u001b[34m[38]#011train-error:0.1562#011validation-error:0.177\u001b[0m\n",
      "\u001b[34m[11:50:25] src/tree/updater_prune.cc:74: tree pruning end, 1 roots, 22 extra nodes, 8 pruned nodes, max_depth=5\u001b[0m\n",
      "\u001b[34m[39]#011train-error:0.154733#011validation-error:0.1761\u001b[0m\n",
      "\u001b[34m[11:50:27] src/tree/updater_prune.cc:74: tree pruning end, 1 roots, 32 extra nodes, 4 pruned nodes, max_depth=5\u001b[0m\n",
      "\u001b[34m[40]#011train-error:0.153#011validation-error:0.1747\u001b[0m\n",
      "\u001b[34m[11:50:28] src/tree/updater_prune.cc:74: tree pruning end, 1 roots, 20 extra nodes, 12 pruned nodes, max_depth=5\u001b[0m\n",
      "\u001b[34m[41]#011train-error:0.152533#011validation-error:0.1746\u001b[0m\n",
      "\u001b[34m[11:50:29] src/tree/updater_prune.cc:74: tree pruning end, 1 roots, 30 extra nodes, 10 pruned nodes, max_depth=5\u001b[0m\n",
      "\u001b[34m[42]#011train-error:0.1506#011validation-error:0.1732\u001b[0m\n",
      "\u001b[34m[11:50:30] src/tree/updater_prune.cc:74: tree pruning end, 1 roots, 28 extra nodes, 4 pruned nodes, max_depth=5\u001b[0m\n",
      "\u001b[34m[43]#011train-error:0.149533#011validation-error:0.1722\u001b[0m\n",
      "\u001b[34m[11:50:32] src/tree/updater_prune.cc:74: tree pruning end, 1 roots, 24 extra nodes, 12 pruned nodes, max_depth=5\u001b[0m\n",
      "\u001b[34m[44]#011train-error:0.147933#011validation-error:0.17\u001b[0m\n",
      "\u001b[34m[11:50:33] src/tree/updater_prune.cc:74: tree pruning end, 1 roots, 12 extra nodes, 10 pruned nodes, max_depth=5\u001b[0m\n",
      "\u001b[34m[45]#011train-error:0.1458#011validation-error:0.1701\u001b[0m\n",
      "\u001b[34m[11:50:34] src/tree/updater_prune.cc:74: tree pruning end, 1 roots, 24 extra nodes, 6 pruned nodes, max_depth=5\u001b[0m\n",
      "\u001b[34m[46]#011train-error:0.1438#011validation-error:0.1699\u001b[0m\n",
      "\u001b[34m[11:50:36] src/tree/updater_prune.cc:74: tree pruning end, 1 roots, 24 extra nodes, 6 pruned nodes, max_depth=5\u001b[0m\n",
      "\u001b[34m[47]#011train-error:0.142733#011validation-error:0.1693\u001b[0m\n",
      "\u001b[34m[11:50:37] src/tree/updater_prune.cc:74: tree pruning end, 1 roots, 28 extra nodes, 18 pruned nodes, max_depth=5\u001b[0m\n",
      "\u001b[34m[48]#011train-error:0.1418#011validation-error:0.1687\u001b[0m\n",
      "\u001b[34m[11:50:38] src/tree/updater_prune.cc:74: tree pruning end, 1 roots, 14 extra nodes, 6 pruned nodes, max_depth=5\u001b[0m\n",
      "\u001b[34m[49]#011train-error:0.143133#011validation-error:0.1676\u001b[0m\n",
      "\u001b[34m[11:50:40] src/tree/updater_prune.cc:74: tree pruning end, 1 roots, 26 extra nodes, 8 pruned nodes, max_depth=5\u001b[0m\n",
      "\u001b[34m[50]#011train-error:0.142067#011validation-error:0.1669\u001b[0m\n",
      "\u001b[34m[11:50:41] src/tree/updater_prune.cc:74: tree pruning end, 1 roots, 24 extra nodes, 14 pruned nodes, max_depth=5\u001b[0m\n",
      "\u001b[34m[51]#011train-error:0.141467#011validation-error:0.1654\u001b[0m\n",
      "\u001b[34m[11:50:42] src/tree/updater_prune.cc:74: tree pruning end, 1 roots, 12 extra nodes, 12 pruned nodes, max_depth=5\u001b[0m\n",
      "\u001b[34m[52]#011train-error:0.140333#011validation-error:0.1651\u001b[0m\n",
      "\u001b[34m[11:50:43] src/tree/updater_prune.cc:74: tree pruning end, 1 roots, 26 extra nodes, 10 pruned nodes, max_depth=5\u001b[0m\n",
      "\u001b[34m[53]#011train-error:0.138133#011validation-error:0.1631\u001b[0m\n",
      "\u001b[34m[11:50:45] src/tree/updater_prune.cc:74: tree pruning end, 1 roots, 18 extra nodes, 10 pruned nodes, max_depth=5\u001b[0m\n",
      "\u001b[34m[54]#011train-error:0.136933#011validation-error:0.1645\u001b[0m\n",
      "\u001b[34m[11:50:46] src/tree/updater_prune.cc:74: tree pruning end, 1 roots, 18 extra nodes, 16 pruned nodes, max_depth=5\u001b[0m\n",
      "\u001b[34m[55]#011train-error:0.135867#011validation-error:0.1648\u001b[0m\n",
      "\u001b[34m[11:50:47] src/tree/updater_prune.cc:74: tree pruning end, 1 roots, 22 extra nodes, 8 pruned nodes, max_depth=5\u001b[0m\n",
      "\u001b[34m[56]#011train-error:0.134933#011validation-error:0.1633\u001b[0m\n",
      "\u001b[34m[11:50:49] src/tree/updater_prune.cc:74: tree pruning end, 1 roots, 12 extra nodes, 10 pruned nodes, max_depth=5\u001b[0m\n",
      "\u001b[34m[57]#011train-error:0.134267#011validation-error:0.1632\u001b[0m\n",
      "\u001b[34m[11:50:50] src/tree/updater_prune.cc:74: tree pruning end, 1 roots, 20 extra nodes, 10 pruned nodes, max_depth=5\u001b[0m\n",
      "\u001b[34m[58]#011train-error:0.1334#011validation-error:0.1639\u001b[0m\n",
      "\u001b[34m[11:50:51] src/tree/updater_prune.cc:74: tree pruning end, 1 roots, 16 extra nodes, 10 pruned nodes, max_depth=5\u001b[0m\n",
      "\u001b[34m[59]#011train-error:0.1328#011validation-error:0.1623\u001b[0m\n",
      "\u001b[34m[11:50:53] src/tree/updater_prune.cc:74: tree pruning end, 1 roots, 16 extra nodes, 8 pruned nodes, max_depth=5\u001b[0m\n",
      "\u001b[34m[60]#011train-error:0.132133#011validation-error:0.1622\u001b[0m\n",
      "\u001b[34m[11:50:54] src/tree/updater_prune.cc:74: tree pruning end, 1 roots, 32 extra nodes, 10 pruned nodes, max_depth=5\u001b[0m\n",
      "\u001b[34m[61]#011train-error:0.130733#011validation-error:0.1619\u001b[0m\n",
      "\u001b[34m[11:50:55] src/tree/updater_prune.cc:74: tree pruning end, 1 roots, 22 extra nodes, 14 pruned nodes, max_depth=5\u001b[0m\n",
      "\u001b[34m[62]#011train-error:0.1288#011validation-error:0.1619\u001b[0m\n",
      "\u001b[34m[11:50:57] src/tree/updater_prune.cc:74: tree pruning end, 1 roots, 16 extra nodes, 10 pruned nodes, max_depth=5\u001b[0m\n",
      "\u001b[34m[63]#011train-error:0.1286#011validation-error:0.1607\u001b[0m\n",
      "\u001b[34m[11:50:58] src/tree/updater_prune.cc:74: tree pruning end, 1 roots, 16 extra nodes, 16 pruned nodes, max_depth=5\u001b[0m\n",
      "\u001b[34m[64]#011train-error:0.127733#011validation-error:0.1598\u001b[0m\n",
      "\u001b[34m[11:50:59] src/tree/updater_prune.cc:74: tree pruning end, 1 roots, 14 extra nodes, 14 pruned nodes, max_depth=5\u001b[0m\n",
      "\u001b[34m[65]#011train-error:0.1264#011validation-error:0.1588\u001b[0m\n",
      "\u001b[34m[11:51:01] src/tree/updater_prune.cc:74: tree pruning end, 1 roots, 24 extra nodes, 6 pruned nodes, max_depth=5\u001b[0m\n",
      "\u001b[34m[66]#011train-error:0.125867#011validation-error:0.1585\u001b[0m\n",
      "\u001b[34m[11:51:02] src/tree/updater_prune.cc:74: tree pruning end, 1 roots, 12 extra nodes, 4 pruned nodes, max_depth=5\u001b[0m\n",
      "\u001b[34m[67]#011train-error:0.125667#011validation-error:0.1565\u001b[0m\n",
      "\u001b[34m[11:51:04] src/tree/updater_prune.cc:74: tree pruning end, 1 roots, 16 extra nodes, 6 pruned nodes, max_depth=5\u001b[0m\n",
      "\u001b[34m[68]#011train-error:0.125333#011validation-error:0.157\u001b[0m\n",
      "\u001b[34m[11:51:05] src/tree/updater_prune.cc:74: tree pruning end, 1 roots, 14 extra nodes, 8 pruned nodes, max_depth=5\u001b[0m\n",
      "\u001b[34m[69]#011train-error:0.124667#011validation-error:0.1571\u001b[0m\n",
      "\u001b[34m[11:51:07] src/tree/updater_prune.cc:74: tree pruning end, 1 roots, 20 extra nodes, 4 pruned nodes, max_depth=5\u001b[0m\n",
      "\u001b[34m[70]#011train-error:0.122933#011validation-error:0.1562\u001b[0m\n",
      "\u001b[34m[11:51:08] src/tree/updater_prune.cc:74: tree pruning end, 1 roots, 22 extra nodes, 14 pruned nodes, max_depth=5\u001b[0m\n",
      "\u001b[34m[71]#011train-error:0.122133#011validation-error:0.1553\u001b[0m\n",
      "\u001b[34m[11:51:09] src/tree/updater_prune.cc:74: tree pruning end, 1 roots, 30 extra nodes, 16 pruned nodes, max_depth=5\u001b[0m\n",
      "\u001b[34m[72]#011train-error:0.121467#011validation-error:0.1547\u001b[0m\n",
      "\u001b[34m[11:51:11] src/tree/updater_prune.cc:74: tree pruning end, 1 roots, 20 extra nodes, 14 pruned nodes, max_depth=5\u001b[0m\n",
      "\u001b[34m[73]#011train-error:0.120333#011validation-error:0.1555\u001b[0m\n",
      "\u001b[34m[11:51:12] src/tree/updater_prune.cc:74: tree pruning end, 1 roots, 16 extra nodes, 4 pruned nodes, max_depth=5\u001b[0m\n",
      "\u001b[34m[74]#011train-error:0.119867#011validation-error:0.1554\u001b[0m\n",
      "\u001b[34m[11:51:13] src/tree/updater_prune.cc:74: tree pruning end, 1 roots, 20 extra nodes, 8 pruned nodes, max_depth=5\u001b[0m\n",
      "\u001b[34m[75]#011train-error:0.1198#011validation-error:0.1545\u001b[0m\n",
      "\u001b[34m[11:51:14] src/tree/updater_prune.cc:74: tree pruning end, 1 roots, 16 extra nodes, 16 pruned nodes, max_depth=5\u001b[0m\n",
      "\u001b[34m[76]#011train-error:0.1192#011validation-error:0.1538\u001b[0m\n",
      "\u001b[34m[11:51:16] src/tree/updater_prune.cc:74: tree pruning end, 1 roots, 14 extra nodes, 8 pruned nodes, max_depth=5\u001b[0m\n",
      "\u001b[34m[77]#011train-error:0.119067#011validation-error:0.154\u001b[0m\n",
      "\u001b[34m[11:51:17] src/tree/updater_prune.cc:74: tree pruning end, 1 roots, 22 extra nodes, 14 pruned nodes, max_depth=5\u001b[0m\n",
      "\u001b[34m[78]#011train-error:0.118667#011validation-error:0.1551\u001b[0m\n",
      "\u001b[34m[11:51:18] src/tree/updater_prune.cc:74: tree pruning end, 1 roots, 28 extra nodes, 6 pruned nodes, max_depth=5\u001b[0m\n",
      "\u001b[34m[79]#011train-error:0.1176#011validation-error:0.1548\u001b[0m\n",
      "\u001b[34m[11:51:20] src/tree/updater_prune.cc:74: tree pruning end, 1 roots, 20 extra nodes, 4 pruned nodes, max_depth=5\u001b[0m\n",
      "\u001b[34m[80]#011train-error:0.1168#011validation-error:0.1547\u001b[0m\n",
      "\u001b[34m[11:51:21] src/tree/updater_prune.cc:74: tree pruning end, 1 roots, 12 extra nodes, 6 pruned nodes, max_depth=5\u001b[0m\n",
      "\u001b[34m[81]#011train-error:0.116#011validation-error:0.1542\u001b[0m\n",
      "\u001b[34m[11:51:22] src/tree/updater_prune.cc:74: tree pruning end, 1 roots, 34 extra nodes, 10 pruned nodes, max_depth=5\u001b[0m\n",
      "\u001b[34m[82]#011train-error:0.114667#011validation-error:0.1542\u001b[0m\n",
      "\u001b[34m[11:51:24] src/tree/updater_prune.cc:74: tree pruning end, 1 roots, 16 extra nodes, 6 pruned nodes, max_depth=5\u001b[0m\n",
      "\u001b[34m[83]#011train-error:0.1142#011validation-error:0.1542\u001b[0m\n",
      "\u001b[34m[11:51:25] src/tree/updater_prune.cc:74: tree pruning end, 1 roots, 20 extra nodes, 6 pruned nodes, max_depth=5\u001b[0m\n",
      "\u001b[34m[84]#011train-error:0.114533#011validation-error:0.1543\u001b[0m\n",
      "\u001b[34m[11:51:26] src/tree/updater_prune.cc:74: tree pruning end, 1 roots, 18 extra nodes, 10 pruned nodes, max_depth=5\u001b[0m\n",
      "\u001b[34m[85]#011train-error:0.113667#011validation-error:0.1542\u001b[0m\n",
      "\u001b[34m[11:51:28] src/tree/updater_prune.cc:74: tree pruning end, 1 roots, 12 extra nodes, 8 pruned nodes, max_depth=5\u001b[0m\n",
      "\u001b[34m[86]#011train-error:0.113267#011validation-error:0.1536\u001b[0m\n",
      "\u001b[34m[11:51:29] src/tree/updater_prune.cc:74: tree pruning end, 1 roots, 18 extra nodes, 4 pruned nodes, max_depth=5\u001b[0m\n",
      "\u001b[34m[87]#011train-error:0.112667#011validation-error:0.1535\u001b[0m\n",
      "\u001b[34m[11:51:30] src/tree/updater_prune.cc:74: tree pruning end, 1 roots, 14 extra nodes, 6 pruned nodes, max_depth=5\u001b[0m\n",
      "\u001b[34m[88]#011train-error:0.112067#011validation-error:0.1531\u001b[0m\n",
      "\u001b[34m[11:51:31] src/tree/updater_prune.cc:74: tree pruning end, 1 roots, 12 extra nodes, 6 pruned nodes, max_depth=5\u001b[0m\n",
      "\u001b[34m[89]#011train-error:0.112267#011validation-error:0.1524\u001b[0m\n",
      "\u001b[34m[11:51:33] src/tree/updater_prune.cc:74: tree pruning end, 1 roots, 14 extra nodes, 8 pruned nodes, max_depth=5\u001b[0m\n",
      "\u001b[34m[90]#011train-error:0.1116#011validation-error:0.1514\u001b[0m\n",
      "\u001b[34m[11:51:34] src/tree/updater_prune.cc:74: tree pruning end, 1 roots, 28 extra nodes, 8 pruned nodes, max_depth=5\u001b[0m\n",
      "\u001b[34m[91]#011train-error:0.1102#011validation-error:0.151\u001b[0m\n",
      "\u001b[34m[11:51:35] src/tree/updater_prune.cc:74: tree pruning end, 1 roots, 26 extra nodes, 6 pruned nodes, max_depth=5\u001b[0m\n",
      "\u001b[34m[92]#011train-error:0.109533#011validation-error:0.151\u001b[0m\n",
      "\u001b[34m[11:51:37] src/tree/updater_prune.cc:74: tree pruning end, 1 roots, 14 extra nodes, 18 pruned nodes, max_depth=5\u001b[0m\n",
      "\u001b[34m[93]#011train-error:0.108667#011validation-error:0.151\u001b[0m\n",
      "\u001b[34m[11:51:38] src/tree/updater_prune.cc:74: tree pruning end, 1 roots, 24 extra nodes, 8 pruned nodes, max_depth=5\u001b[0m\n",
      "\u001b[34m[94]#011train-error:0.108533#011validation-error:0.1514\u001b[0m\n",
      "\u001b[34m[11:51:39] src/tree/updater_prune.cc:74: tree pruning end, 1 roots, 16 extra nodes, 14 pruned nodes, max_depth=5\u001b[0m\n",
      "\u001b[34m[95]#011train-error:0.1074#011validation-error:0.1509\u001b[0m\n",
      "\u001b[34m[11:51:41] src/tree/updater_prune.cc:74: tree pruning end, 1 roots, 30 extra nodes, 12 pruned nodes, max_depth=5\u001b[0m\n",
      "\u001b[34m[96]#011train-error:0.1068#011validation-error:0.1498\u001b[0m\n",
      "\u001b[34m[11:51:42] src/tree/updater_prune.cc:74: tree pruning end, 1 roots, 20 extra nodes, 4 pruned nodes, max_depth=5\u001b[0m\n",
      "\u001b[34m[97]#011train-error:0.106133#011validation-error:0.1499\u001b[0m\n",
      "\u001b[34m[11:51:43] src/tree/updater_prune.cc:74: tree pruning end, 1 roots, 14 extra nodes, 4 pruned nodes, max_depth=5\u001b[0m\n",
      "\u001b[34m[98]#011train-error:0.105733#011validation-error:0.1491\u001b[0m\n",
      "\u001b[34m[11:51:45] src/tree/updater_prune.cc:74: tree pruning end, 1 roots, 12 extra nodes, 4 pruned nodes, max_depth=5\u001b[0m\n",
      "\u001b[34m[99]#011train-error:0.1056#011validation-error:0.1488\u001b[0m\n",
      "\u001b[34m[11:51:46] src/tree/updater_prune.cc:74: tree pruning end, 1 roots, 10 extra nodes, 10 pruned nodes, max_depth=5\u001b[0m\n",
      "\u001b[34m[100]#011train-error:0.105667#011validation-error:0.1488\u001b[0m\n",
      "\u001b[34m[11:51:47] src/tree/updater_prune.cc:74: tree pruning end, 1 roots, 10 extra nodes, 10 pruned nodes, max_depth=5\u001b[0m\n",
      "\u001b[34m[101]#011train-error:0.105267#011validation-error:0.1483\u001b[0m\n",
      "\u001b[34m[11:51:48] src/tree/updater_prune.cc:74: tree pruning end, 1 roots, 30 extra nodes, 16 pruned nodes, max_depth=5\u001b[0m\n",
      "\u001b[34m[102]#011train-error:0.104533#011validation-error:0.1477\u001b[0m\n",
      "\u001b[34m[11:51:50] src/tree/updater_prune.cc:74: tree pruning end, 1 roots, 26 extra nodes, 4 pruned nodes, max_depth=5\u001b[0m\n",
      "\u001b[34m[103]#011train-error:0.104533#011validation-error:0.1473\u001b[0m\n",
      "\u001b[34m[11:51:51] src/tree/updater_prune.cc:74: tree pruning end, 1 roots, 10 extra nodes, 14 pruned nodes, max_depth=5\u001b[0m\n",
      "\u001b[34m[104]#011train-error:0.104267#011validation-error:0.1471\u001b[0m\n",
      "\u001b[34m[11:51:52] src/tree/updater_prune.cc:74: tree pruning end, 1 roots, 16 extra nodes, 12 pruned nodes, max_depth=5\u001b[0m\n",
      "\u001b[34m[105]#011train-error:0.103667#011validation-error:0.1466\u001b[0m\n",
      "\u001b[34m[11:51:54] src/tree/updater_prune.cc:74: tree pruning end, 1 roots, 12 extra nodes, 10 pruned nodes, max_depth=5\u001b[0m\n",
      "\u001b[34m[106]#011train-error:0.1038#011validation-error:0.1463\u001b[0m\n",
      "\u001b[34m[11:51:55] src/tree/updater_prune.cc:74: tree pruning end, 1 roots, 20 extra nodes, 12 pruned nodes, max_depth=5\u001b[0m\n",
      "\u001b[34m[107]#011train-error:0.1022#011validation-error:0.1462\u001b[0m\n",
      "\u001b[34m[11:51:56] src/tree/updater_prune.cc:74: tree pruning end, 1 roots, 10 extra nodes, 6 pruned nodes, max_depth=5\u001b[0m\n",
      "\u001b[34m[108]#011train-error:0.1022#011validation-error:0.1458\u001b[0m\n",
      "\u001b[34m[11:51:58] src/tree/updater_prune.cc:74: tree pruning end, 1 roots, 18 extra nodes, 14 pruned nodes, max_depth=5\u001b[0m\n",
      "\u001b[34m[109]#011train-error:0.101467#011validation-error:0.1452\u001b[0m\n",
      "\u001b[34m[11:51:59] src/tree/updater_prune.cc:74: tree pruning end, 1 roots, 16 extra nodes, 10 pruned nodes, max_depth=5\u001b[0m\n",
      "\u001b[34m[110]#011train-error:0.100933#011validation-error:0.1453\u001b[0m\n",
      "\u001b[34m[11:52:00] src/tree/updater_prune.cc:74: tree pruning end, 1 roots, 22 extra nodes, 6 pruned nodes, max_depth=5\u001b[0m\n",
      "\u001b[34m[111]#011train-error:0.101133#011validation-error:0.1449\u001b[0m\n",
      "\u001b[34m[11:52:02] src/tree/updater_prune.cc:74: tree pruning end, 1 roots, 20 extra nodes, 8 pruned nodes, max_depth=5\u001b[0m\n",
      "\u001b[34m[112]#011train-error:0.1008#011validation-error:0.145\u001b[0m\n",
      "\u001b[34m[11:52:03] src/tree/updater_prune.cc:74: tree pruning end, 1 roots, 14 extra nodes, 8 pruned nodes, max_depth=5\u001b[0m\n",
      "\u001b[34m[113]#011train-error:0.1006#011validation-error:0.1446\u001b[0m\n",
      "\u001b[34m[11:52:04] src/tree/updater_prune.cc:74: tree pruning end, 1 roots, 10 extra nodes, 6 pruned nodes, max_depth=5\u001b[0m\n",
      "\u001b[34m[114]#011train-error:0.1002#011validation-error:0.1436\u001b[0m\n",
      "\u001b[34m[11:52:06] src/tree/updater_prune.cc:74: tree pruning end, 1 roots, 16 extra nodes, 2 pruned nodes, max_depth=5\u001b[0m\n",
      "\u001b[34m[115]#011train-error:0.099#011validation-error:0.1431\u001b[0m\n",
      "\u001b[34m[11:52:08] src/tree/updater_prune.cc:74: tree pruning end, 1 roots, 24 extra nodes, 14 pruned nodes, max_depth=5\u001b[0m\n",
      "\u001b[34m[116]#011train-error:0.098333#011validation-error:0.1419\u001b[0m\n",
      "\u001b[34m[11:52:09] src/tree/updater_prune.cc:74: tree pruning end, 1 roots, 20 extra nodes, 8 pruned nodes, max_depth=5\u001b[0m\n",
      "\u001b[34m[117]#011train-error:0.097733#011validation-error:0.1429\u001b[0m\n",
      "\u001b[34m[11:52:10] src/tree/updater_prune.cc:74: tree pruning end, 1 roots, 20 extra nodes, 8 pruned nodes, max_depth=5\u001b[0m\n",
      "\u001b[34m[118]#011train-error:0.098067#011validation-error:0.1435\u001b[0m\n",
      "\u001b[34m[11:52:12] src/tree/updater_prune.cc:74: tree pruning end, 1 roots, 20 extra nodes, 8 pruned nodes, max_depth=5\u001b[0m\n",
      "\u001b[34m[119]#011train-error:0.098133#011validation-error:0.1434\u001b[0m\n",
      "\u001b[34m[11:52:13] src/tree/updater_prune.cc:74: tree pruning end, 1 roots, 18 extra nodes, 6 pruned nodes, max_depth=5\u001b[0m\n",
      "\u001b[34m[120]#011train-error:0.097733#011validation-error:0.1432\u001b[0m\n",
      "\u001b[34m[11:52:14] src/tree/updater_prune.cc:74: tree pruning end, 1 roots, 20 extra nodes, 8 pruned nodes, max_depth=5\u001b[0m\n",
      "\u001b[34m[121]#011train-error:0.097133#011validation-error:0.1431\u001b[0m\n",
      "\u001b[34m[11:52:16] src/tree/updater_prune.cc:74: tree pruning end, 1 roots, 22 extra nodes, 8 pruned nodes, max_depth=5\u001b[0m\n",
      "\u001b[34m[122]#011train-error:0.0968#011validation-error:0.1429\u001b[0m\n",
      "\u001b[34m[11:52:17] src/tree/updater_prune.cc:74: tree pruning end, 1 roots, 16 extra nodes, 10 pruned nodes, max_depth=5\u001b[0m\n",
      "\u001b[34m[123]#011train-error:0.096667#011validation-error:0.1438\u001b[0m\n",
      "\u001b[34m[11:52:18] src/tree/updater_prune.cc:74: tree pruning end, 1 roots, 18 extra nodes, 8 pruned nodes, max_depth=5\u001b[0m\n",
      "\u001b[34m[124]#011train-error:0.095867#011validation-error:0.1432\u001b[0m\n",
      "\u001b[34m[11:52:20] src/tree/updater_prune.cc:74: tree pruning end, 1 roots, 20 extra nodes, 2 pruned nodes, max_depth=5\u001b[0m\n",
      "\u001b[34m[125]#011train-error:0.094667#011validation-error:0.1438\u001b[0m\n",
      "\u001b[34m[11:52:21] src/tree/updater_prune.cc:74: tree pruning end, 1 roots, 16 extra nodes, 4 pruned nodes, max_depth=5\u001b[0m\n",
      "\u001b[34m[126]#011train-error:0.0946#011validation-error:0.1434\u001b[0m\n",
      "\u001b[34mStopping. Best iteration:\u001b[0m\n",
      "\u001b[34m[116]#011train-error:0.098333#011validation-error:0.1419\n",
      "\u001b[0m\n",
      "\n",
      "2021-01-24 11:52:31 Uploading - Uploading generated training model\n",
      "2021-01-24 11:52:31 Completed - Training job completed\n",
      "Training seconds: 249\n",
      "Billable seconds: 249\n"
     ]
    }
   ],
   "source": [
    "xgb.fit({'train': s3_input_train, 'validation': s3_input_validation})"
   ]
  },
  {
   "cell_type": "markdown",
   "metadata": {},
   "source": [
    "### Testing the model\n",
    "\n",
    "Now that we've fit our XGBoost model, it's time to see how well it performs. To do this we will use SageMakers Batch Transform functionality. Batch Transform is a convenient way to perform inference on a large dataset in a way that is not realtime. That is, we don't necessarily need to use our model's results immediately and instead we can peform inference on a large number of samples. An example of this in industry might be peforming an end of month report. This method of inference can also be useful to us as it means to can perform inference on our entire test set. \n",
    "\n",
    "To perform a Batch Transformation we need to first create a transformer objects from our trained estimator object."
   ]
  },
  {
   "cell_type": "code",
   "execution_count": 26,
   "metadata": {},
   "outputs": [
    {
     "name": "stderr",
     "output_type": "stream",
     "text": [
      "Parameter image will be renamed to image_uri in SageMaker Python SDK v2.\n"
     ]
    }
   ],
   "source": [
    "xgb_transformer = xgb.transformer(instance_count = 1, instance_type = 'ml.m4.xlarge')"
   ]
  },
  {
   "cell_type": "markdown",
   "metadata": {},
   "source": [
    "Next we actually perform the transform job. When doing so we need to make sure to specify the type of data we are sending so that it is serialized correctly in the background. In our case we are providing our model with csv data so we specify `text/csv`. Also, if the test data that we have provided is too large to process all at once then we need to specify how the data file should be split up. Since each line is a single entry in our data set we tell SageMaker that it can split the input on each line."
   ]
  },
  {
   "cell_type": "code",
   "execution_count": 27,
   "metadata": {},
   "outputs": [],
   "source": [
    "xgb_transformer.transform(test_location, content_type='text/csv', split_type='Line')"
   ]
  },
  {
   "cell_type": "markdown",
   "metadata": {},
   "source": [
    "Currently the transform job is running but it is doing so in the background. Since we wish to wait until the transform job is done and we would like a bit of feedback we can run the `wait()` method."
   ]
  },
  {
   "cell_type": "code",
   "execution_count": 28,
   "metadata": {},
   "outputs": [
    {
     "name": "stdout",
     "output_type": "stream",
     "text": [
      ".............................\u001b[34mArguments: serve\u001b[0m\n",
      "\u001b[35mArguments: serve\u001b[0m\n",
      "\u001b[34m[2021-01-24 11:58:00 +0000] [1] [INFO] Starting gunicorn 19.7.1\u001b[0m\n",
      "\u001b[35m[2021-01-24 11:58:00 +0000] [1] [INFO] Starting gunicorn 19.7.1\u001b[0m\n",
      "\u001b[34m[2021-01-24 11:58:00 +0000] [1] [INFO] Listening at: http://0.0.0.0:8080 (1)\u001b[0m\n",
      "\u001b[34m[2021-01-24 11:58:00 +0000] [1] [INFO] Using worker: gevent\u001b[0m\n",
      "\u001b[34m[2021-01-24 11:58:00 +0000] [36] [INFO] Booting worker with pid: 36\u001b[0m\n",
      "\u001b[34m[2021-01-24 11:58:00 +0000] [37] [INFO] Booting worker with pid: 37\u001b[0m\n",
      "\u001b[34m[2021-01-24 11:58:00 +0000] [38] [INFO] Booting worker with pid: 38\u001b[0m\n",
      "\u001b[34m[2021-01-24 11:58:00 +0000] [39] [INFO] Booting worker with pid: 39\u001b[0m\n",
      "\u001b[34m[2021-01-24:11:58:00:INFO] Model loaded successfully for worker : 36\u001b[0m\n",
      "\u001b[34m[2021-01-24:11:58:00:INFO] Model loaded successfully for worker : 37\u001b[0m\n",
      "\u001b[34m[2021-01-24:11:58:00:INFO] Model loaded successfully for worker : 38\u001b[0m\n",
      "\u001b[34m[2021-01-24:11:58:00:INFO] Model loaded successfully for worker : 39\u001b[0m\n",
      "\u001b[34m[2021-01-24:11:58:00:INFO] Sniff delimiter as ','\u001b[0m\n",
      "\u001b[34m[2021-01-24:11:58:00:INFO] Determined delimiter of CSV input is ','\u001b[0m\n",
      "\u001b[35m[2021-01-24 11:58:00 +0000] [1] [INFO] Listening at: http://0.0.0.0:8080 (1)\u001b[0m\n",
      "\u001b[35m[2021-01-24 11:58:00 +0000] [1] [INFO] Using worker: gevent\u001b[0m\n",
      "\u001b[35m[2021-01-24 11:58:00 +0000] [36] [INFO] Booting worker with pid: 36\u001b[0m\n",
      "\u001b[35m[2021-01-24 11:58:00 +0000] [37] [INFO] Booting worker with pid: 37\u001b[0m\n",
      "\u001b[35m[2021-01-24 11:58:00 +0000] [38] [INFO] Booting worker with pid: 38\u001b[0m\n",
      "\u001b[35m[2021-01-24 11:58:00 +0000] [39] [INFO] Booting worker with pid: 39\u001b[0m\n",
      "\u001b[35m[2021-01-24:11:58:00:INFO] Model loaded successfully for worker : 36\u001b[0m\n",
      "\u001b[35m[2021-01-24:11:58:00:INFO] Model loaded successfully for worker : 37\u001b[0m\n",
      "\u001b[35m[2021-01-24:11:58:00:INFO] Model loaded successfully for worker : 38\u001b[0m\n",
      "\u001b[35m[2021-01-24:11:58:00:INFO] Model loaded successfully for worker : 39\u001b[0m\n",
      "\u001b[35m[2021-01-24:11:58:00:INFO] Sniff delimiter as ','\u001b[0m\n",
      "\u001b[35m[2021-01-24:11:58:00:INFO] Determined delimiter of CSV input is ','\u001b[0m\n",
      "\u001b[34m[2021-01-24:11:58:00:INFO] Sniff delimiter as ','\u001b[0m\n",
      "\u001b[34m[2021-01-24:11:58:00:INFO] Determined delimiter of CSV input is ','\u001b[0m\n",
      "\u001b[34m[2021-01-24:11:58:00:INFO] Sniff delimiter as ','\u001b[0m\n",
      "\u001b[34m[2021-01-24:11:58:00:INFO] Determined delimiter of CSV input is ','\u001b[0m\n",
      "\u001b[34m[2021-01-24:11:58:01:INFO] Sniff delimiter as ','\u001b[0m\n",
      "\u001b[34m[2021-01-24:11:58:01:INFO] Determined delimiter of CSV input is ','\u001b[0m\n",
      "\u001b[35m[2021-01-24:11:58:00:INFO] Sniff delimiter as ','\u001b[0m\n",
      "\u001b[35m[2021-01-24:11:58:00:INFO] Determined delimiter of CSV input is ','\u001b[0m\n",
      "\u001b[35m[2021-01-24:11:58:00:INFO] Sniff delimiter as ','\u001b[0m\n",
      "\u001b[35m[2021-01-24:11:58:00:INFO] Determined delimiter of CSV input is ','\u001b[0m\n",
      "\u001b[35m[2021-01-24:11:58:01:INFO] Sniff delimiter as ','\u001b[0m\n",
      "\u001b[35m[2021-01-24:11:58:01:INFO] Determined delimiter of CSV input is ','\u001b[0m\n",
      "\u001b[34m[2021-01-24:11:58:03:INFO] Sniff delimiter as ','\u001b[0m\n",
      "\u001b[34m[2021-01-24:11:58:03:INFO] Determined delimiter of CSV input is ','\u001b[0m\n",
      "\u001b[34m[2021-01-24:11:58:03:INFO] Sniff delimiter as ','\u001b[0m\n",
      "\u001b[34m[2021-01-24:11:58:03:INFO] Determined delimiter of CSV input is ','\u001b[0m\n",
      "\u001b[34m[2021-01-24:11:58:03:INFO] Sniff delimiter as ','\u001b[0m\n",
      "\u001b[34m[2021-01-24:11:58:03:INFO] Determined delimiter of CSV input is ','\u001b[0m\n",
      "\u001b[35m[2021-01-24:11:58:03:INFO] Sniff delimiter as ','\u001b[0m\n",
      "\u001b[35m[2021-01-24:11:58:03:INFO] Determined delimiter of CSV input is ','\u001b[0m\n",
      "\u001b[35m[2021-01-24:11:58:03:INFO] Sniff delimiter as ','\u001b[0m\n",
      "\u001b[35m[2021-01-24:11:58:03:INFO] Determined delimiter of CSV input is ','\u001b[0m\n",
      "\u001b[35m[2021-01-24:11:58:03:INFO] Sniff delimiter as ','\u001b[0m\n",
      "\u001b[35m[2021-01-24:11:58:03:INFO] Determined delimiter of CSV input is ','\u001b[0m\n",
      "\u001b[34m[2021-01-24:11:58:03:INFO] Sniff delimiter as ','\u001b[0m\n",
      "\u001b[34m[2021-01-24:11:58:03:INFO] Determined delimiter of CSV input is ','\u001b[0m\n",
      "\u001b[35m[2021-01-24:11:58:03:INFO] Sniff delimiter as ','\u001b[0m\n",
      "\u001b[35m[2021-01-24:11:58:03:INFO] Determined delimiter of CSV input is ','\u001b[0m\n",
      "\u001b[32m2021-01-24T11:58:00.258:[sagemaker logs]: MaxConcurrentTransforms=4, MaxPayloadInMB=6, BatchStrategy=MULTI_RECORD\u001b[0m\n",
      "\u001b[34m[2021-01-24:11:58:05:INFO] Sniff delimiter as ','\u001b[0m\n",
      "\u001b[34m[2021-01-24:11:58:05:INFO] Determined delimiter of CSV input is ','\u001b[0m\n",
      "\u001b[35m[2021-01-24:11:58:05:INFO] Sniff delimiter as ','\u001b[0m\n",
      "\u001b[35m[2021-01-24:11:58:05:INFO] Determined delimiter of CSV input is ','\u001b[0m\n",
      "\u001b[34m[2021-01-24:11:58:05:INFO] Sniff delimiter as ','\u001b[0m\n",
      "\u001b[34m[2021-01-24:11:58:05:INFO] Determined delimiter of CSV input is ','\u001b[0m\n",
      "\u001b[34m[2021-01-24:11:58:05:INFO] Sniff delimiter as ','\u001b[0m\n",
      "\u001b[34m[2021-01-24:11:58:05:INFO] Determined delimiter of CSV input is ','\u001b[0m\n",
      "\u001b[34m[2021-01-24:11:58:06:INFO] Sniff delimiter as ','\u001b[0m\n",
      "\u001b[34m[2021-01-24:11:58:06:INFO] Determined delimiter of CSV input is ','\u001b[0m\n",
      "\u001b[35m[2021-01-24:11:58:05:INFO] Sniff delimiter as ','\u001b[0m\n",
      "\u001b[35m[2021-01-24:11:58:05:INFO] Determined delimiter of CSV input is ','\u001b[0m\n",
      "\u001b[35m[2021-01-24:11:58:05:INFO] Sniff delimiter as ','\u001b[0m\n",
      "\u001b[35m[2021-01-24:11:58:05:INFO] Determined delimiter of CSV input is ','\u001b[0m\n",
      "\u001b[35m[2021-01-24:11:58:06:INFO] Sniff delimiter as ','\u001b[0m\n",
      "\u001b[35m[2021-01-24:11:58:06:INFO] Determined delimiter of CSV input is ','\u001b[0m\n",
      "\u001b[34m[2021-01-24:11:58:08:INFO] Sniff delimiter as ','\u001b[0m\n",
      "\u001b[34m[2021-01-24:11:58:08:INFO] Determined delimiter of CSV input is ','\u001b[0m\n",
      "\u001b[34m[2021-01-24:11:58:08:INFO] Sniff delimiter as ','\u001b[0m\n",
      "\u001b[34m[2021-01-24:11:58:08:INFO] Determined delimiter of CSV input is ','\u001b[0m\n",
      "\u001b[34m[2021-01-24:11:58:08:INFO] Sniff delimiter as ','\u001b[0m\n",
      "\u001b[34m[2021-01-24:11:58:08:INFO] Determined delimiter of CSV input is ','\u001b[0m\n",
      "\u001b[35m[2021-01-24:11:58:08:INFO] Sniff delimiter as ','\u001b[0m\n",
      "\u001b[35m[2021-01-24:11:58:08:INFO] Determined delimiter of CSV input is ','\u001b[0m\n",
      "\u001b[35m[2021-01-24:11:58:08:INFO] Sniff delimiter as ','\u001b[0m\n",
      "\u001b[35m[2021-01-24:11:58:08:INFO] Determined delimiter of CSV input is ','\u001b[0m\n",
      "\u001b[35m[2021-01-24:11:58:08:INFO] Sniff delimiter as ','\u001b[0m\n",
      "\u001b[35m[2021-01-24:11:58:08:INFO] Determined delimiter of CSV input is ','\u001b[0m\n",
      "\u001b[34m[2021-01-24:11:58:10:INFO] Sniff delimiter as ','\u001b[0m\n",
      "\u001b[34m[2021-01-24:11:58:10:INFO] Determined delimiter of CSV input is ','\u001b[0m\n",
      "\u001b[34m[2021-01-24:11:58:11:INFO] Sniff delimiter as ','\u001b[0m\n",
      "\u001b[34m[2021-01-24:11:58:11:INFO] Determined delimiter of CSV input is ','\u001b[0m\n",
      "\u001b[35m[2021-01-24:11:58:10:INFO] Sniff delimiter as ','\u001b[0m\n",
      "\u001b[35m[2021-01-24:11:58:10:INFO] Determined delimiter of CSV input is ','\u001b[0m\n",
      "\u001b[35m[2021-01-24:11:58:11:INFO] Sniff delimiter as ','\u001b[0m\n",
      "\u001b[35m[2021-01-24:11:58:11:INFO] Determined delimiter of CSV input is ','\u001b[0m\n",
      "\u001b[34m[2021-01-24:11:58:13:INFO] Sniff delimiter as ','\u001b[0m\n",
      "\u001b[34m[2021-01-24:11:58:13:INFO] Determined delimiter of CSV input is ','\u001b[0m\n",
      "\u001b[34m[2021-01-24:11:58:13:INFO] Sniff delimiter as ','\u001b[0m\n",
      "\u001b[34m[2021-01-24:11:58:13:INFO] Determined delimiter of CSV input is ','\u001b[0m\n",
      "\u001b[34m[2021-01-24:11:58:13:INFO] Sniff delimiter as ','\u001b[0m\n",
      "\u001b[34m[2021-01-24:11:58:13:INFO] Determined delimiter of CSV input is ','\u001b[0m\n",
      "\u001b[34m[2021-01-24:11:58:13:INFO] Sniff delimiter as ','\u001b[0m\n",
      "\u001b[34m[2021-01-24:11:58:13:INFO] Determined delimiter of CSV input is ','\u001b[0m\n",
      "\u001b[35m[2021-01-24:11:58:13:INFO] Sniff delimiter as ','\u001b[0m\n",
      "\u001b[35m[2021-01-24:11:58:13:INFO] Determined delimiter of CSV input is ','\u001b[0m\n",
      "\u001b[35m[2021-01-24:11:58:13:INFO] Sniff delimiter as ','\u001b[0m\n",
      "\u001b[35m[2021-01-24:11:58:13:INFO] Determined delimiter of CSV input is ','\u001b[0m\n",
      "\u001b[35m[2021-01-24:11:58:13:INFO] Sniff delimiter as ','\u001b[0m\n",
      "\u001b[35m[2021-01-24:11:58:13:INFO] Determined delimiter of CSV input is ','\u001b[0m\n",
      "\u001b[35m[2021-01-24:11:58:13:INFO] Sniff delimiter as ','\u001b[0m\n",
      "\u001b[35m[2021-01-24:11:58:13:INFO] Determined delimiter of CSV input is ','\u001b[0m\n",
      "\u001b[34m[2021-01-24:11:58:15:INFO] Sniff delimiter as ','\u001b[0m\n",
      "\u001b[34m[2021-01-24:11:58:15:INFO] Determined delimiter of CSV input is ','\u001b[0m\n",
      "\u001b[34m[2021-01-24:11:58:15:INFO] Sniff delimiter as ','\u001b[0m\n",
      "\u001b[34m[2021-01-24:11:58:15:INFO] Determined delimiter of CSV input is ','\u001b[0m\n",
      "\u001b[35m[2021-01-24:11:58:15:INFO] Sniff delimiter as ','\u001b[0m\n",
      "\u001b[35m[2021-01-24:11:58:15:INFO] Determined delimiter of CSV input is ','\u001b[0m\n",
      "\u001b[35m[2021-01-24:11:58:15:INFO] Sniff delimiter as ','\u001b[0m\n",
      "\u001b[35m[2021-01-24:11:58:15:INFO] Determined delimiter of CSV input is ','\u001b[0m\n",
      "\u001b[34m[2021-01-24:11:58:15:INFO] Sniff delimiter as ','\u001b[0m\n",
      "\u001b[34m[2021-01-24:11:58:15:INFO] Determined delimiter of CSV input is ','\u001b[0m\n",
      "\u001b[34m[2021-01-24:11:58:16:INFO] Sniff delimiter as ','\u001b[0m\n",
      "\u001b[34m[2021-01-24:11:58:16:INFO] Determined delimiter of CSV input is ','\u001b[0m\n",
      "\u001b[35m[2021-01-24:11:58:15:INFO] Sniff delimiter as ','\u001b[0m\n",
      "\u001b[35m[2021-01-24:11:58:15:INFO] Determined delimiter of CSV input is ','\u001b[0m\n",
      "\u001b[35m[2021-01-24:11:58:16:INFO] Sniff delimiter as ','\u001b[0m\n",
      "\u001b[35m[2021-01-24:11:58:16:INFO] Determined delimiter of CSV input is ','\u001b[0m\n",
      "\u001b[34m[2021-01-24:11:58:18:INFO] Sniff delimiter as ','\u001b[0m\n",
      "\u001b[34m[2021-01-24:11:58:18:INFO] Determined delimiter of CSV input is ','\u001b[0m\n",
      "\u001b[34m[2021-01-24:11:58:18:INFO] Sniff delimiter as ','\u001b[0m\n",
      "\u001b[34m[2021-01-24:11:58:18:INFO] Determined delimiter of CSV input is ','\u001b[0m\n",
      "\u001b[34m[2021-01-24:11:58:18:INFO] Sniff delimiter as ','\u001b[0m\n",
      "\u001b[34m[2021-01-24:11:58:18:INFO] Determined delimiter of CSV input is ','\u001b[0m\n",
      "\u001b[34m[2021-01-24:11:58:18:INFO] Sniff delimiter as ','\u001b[0m\n",
      "\u001b[34m[2021-01-24:11:58:18:INFO] Determined delimiter of CSV input is ','\u001b[0m\n",
      "\u001b[35m[2021-01-24:11:58:18:INFO] Sniff delimiter as ','\u001b[0m\n",
      "\u001b[35m[2021-01-24:11:58:18:INFO] Determined delimiter of CSV input is ','\u001b[0m\n",
      "\u001b[35m[2021-01-24:11:58:18:INFO] Sniff delimiter as ','\u001b[0m\n",
      "\u001b[35m[2021-01-24:11:58:18:INFO] Determined delimiter of CSV input is ','\u001b[0m\n",
      "\u001b[35m[2021-01-24:11:58:18:INFO] Sniff delimiter as ','\u001b[0m\n",
      "\u001b[35m[2021-01-24:11:58:18:INFO] Determined delimiter of CSV input is ','\u001b[0m\n",
      "\u001b[35m[2021-01-24:11:58:18:INFO] Sniff delimiter as ','\u001b[0m\n",
      "\u001b[35m[2021-01-24:11:58:18:INFO] Determined delimiter of CSV input is ','\u001b[0m\n",
      "\u001b[34m[2021-01-24:11:58:22:INFO] Sniff delimiter as ','\u001b[0m\n",
      "\u001b[34m[2021-01-24:11:58:22:INFO] Determined delimiter of CSV input is ','\u001b[0m\n",
      "\u001b[35m[2021-01-24:11:58:22:INFO] Sniff delimiter as ','\u001b[0m\n",
      "\u001b[35m[2021-01-24:11:58:22:INFO] Determined delimiter of CSV input is ','\u001b[0m\n",
      "\u001b[34m[2021-01-24:11:58:22:INFO] Sniff delimiter as ','\u001b[0m\n",
      "\u001b[34m[2021-01-24:11:58:22:INFO] Determined delimiter of CSV input is ','\u001b[0m\n",
      "\u001b[34m[2021-01-24:11:58:23:INFO] Sniff delimiter as ','\u001b[0m\n",
      "\u001b[34m[2021-01-24:11:58:23:INFO] Determined delimiter of CSV input is ','\u001b[0m\n",
      "\u001b[34m[2021-01-24:11:58:23:INFO] Sniff delimiter as ','\u001b[0m\n",
      "\u001b[34m[2021-01-24:11:58:23:INFO] Determined delimiter of CSV input is ','\u001b[0m\n",
      "\u001b[35m[2021-01-24:11:58:22:INFO] Sniff delimiter as ','\u001b[0m\n",
      "\u001b[35m[2021-01-24:11:58:22:INFO] Determined delimiter of CSV input is ','\u001b[0m\n",
      "\u001b[35m[2021-01-24:11:58:23:INFO] Sniff delimiter as ','\u001b[0m\n",
      "\u001b[35m[2021-01-24:11:58:23:INFO] Determined delimiter of CSV input is ','\u001b[0m\n",
      "\u001b[35m[2021-01-24:11:58:23:INFO] Sniff delimiter as ','\u001b[0m\n",
      "\u001b[35m[2021-01-24:11:58:23:INFO] Determined delimiter of CSV input is ','\u001b[0m\n",
      "\n"
     ]
    }
   ],
   "source": [
    "xgb_transformer.wait()"
   ]
  },
  {
   "cell_type": "markdown",
   "metadata": {},
   "source": [
    "Now the transform job has executed and the result, the estimated sentiment of each review, has been saved on S3. Since we would rather work on this file locally we can perform a bit of notebook magic to copy the file to the `data_dir`."
   ]
  },
  {
   "cell_type": "code",
   "execution_count": 29,
   "metadata": {},
   "outputs": [
    {
     "name": "stdout",
     "output_type": "stream",
     "text": [
      "download: s3://sagemaker-us-east-1-459717541543/xgboost-2021-01-24-11-53-17-801/test.csv.out to ../data/sentiment_update/test.csv.out\r\n"
     ]
    }
   ],
   "source": [
    "!aws s3 cp --recursive $xgb_transformer.output_path $data_dir"
   ]
  },
  {
   "cell_type": "markdown",
   "metadata": {},
   "source": [
    "The last step is now to read in the output from our model, convert the output to something a little more usable, in this case we want the sentiment to be either `1` (positive) or `0` (negative), and then compare to the ground truth labels."
   ]
  },
  {
   "cell_type": "code",
   "execution_count": 30,
   "metadata": {},
   "outputs": [],
   "source": [
    "predictions = pd.read_csv(os.path.join(data_dir, 'test.csv.out'), header=None)\n",
    "predictions = [round(num) for num in predictions.squeeze().values]"
   ]
  },
  {
   "cell_type": "code",
   "execution_count": 31,
   "metadata": {},
   "outputs": [
    {
     "data": {
      "text/plain": [
       "0.85644"
      ]
     },
     "execution_count": 31,
     "metadata": {},
     "output_type": "execute_result"
    }
   ],
   "source": [
    "from sklearn.metrics import accuracy_score\n",
    "accuracy_score(test_y, predictions)"
   ]
  },
  {
   "cell_type": "markdown",
   "metadata": {},
   "source": [
    "## Step 5: Looking at New Data\n",
    "\n",
    "So now we have an XGBoost sentiment analysis model that we believe is working pretty well. As a result, we deployed it and we are using it in some sort of app.\n",
    "\n",
    "However, as we allow users to use our app we periodically record submitted movie reviews so that we can perform some quality control on our deployed model. Once we've accumulated enough reviews we go through them by hand and evaluate whether they are positive or negative (there are many ways you might do this in practice aside from by hand). The reason for doing this is so that we can check to see how well our model is doing."
   ]
  },
  {
   "cell_type": "code",
   "execution_count": 32,
   "metadata": {},
   "outputs": [],
   "source": [
    "import new_data\n",
    "\n",
    "new_X, new_Y = new_data.get_new_data()"
   ]
  },
  {
   "cell_type": "markdown",
   "metadata": {},
   "source": [
    "**NOTE:** Part of the fun in this notebook is trying to figure out what exactly is happening with the new data, so try not to cheat by looking in the `new_data` module. Also, the `new_data` module assumes that the cache created earlier in Step 3 is still stored in `../cache/sentiment_analysis`."
   ]
  },
  {
   "cell_type": "markdown",
   "metadata": {},
   "source": [
    "### (TODO) Testing the current model\n",
    "\n",
    "Now that we've loaded the new data, let's check to see how our current XGBoost model performs on it.\n",
    "\n",
    "First, note that the data that has been loaded has already been pre-processed so that each entry in `new_X` is a list of words that have been processed using `nltk`. However, we have not yet constructed the bag of words encoding, which we will do now.\n",
    "\n",
    "First, we use the vocabulary that we constructed earlier using the original training data to construct a `CountVectorizer` which we will use to transform our new data into its bag of words encoding.\n",
    "\n",
    "**TODO:** Create the CountVectorizer object using the vocabulary created earlier and use it to transform the new data."
   ]
  },
  {
   "cell_type": "code",
   "execution_count": 33,
   "metadata": {},
   "outputs": [],
   "source": [
    "# TODO: Create the CountVectorizer using the previously constructed vocabulary\n",
    "vectorizer = CountVectorizer(vocabulary=vocabulary,\n",
    "                            tokenizer=lambda x: x, preprocessor=lambda x: x)\n",
    "\n",
    "# TODO: Transform our new data set and store the transformed data in the variable new_XV\n",
    "new_XV = vectorizer.transform(new_X).toarray()"
   ]
  },
  {
   "cell_type": "markdown",
   "metadata": {},
   "source": [
    "As a quick sanity check, we make sure that the length of each of our bag of words encoded reviews is correct. In particular, it must be the same size as the vocabulary which in our case is `5000`."
   ]
  },
  {
   "cell_type": "code",
   "execution_count": 34,
   "metadata": {},
   "outputs": [
    {
     "data": {
      "text/plain": [
       "5000"
      ]
     },
     "execution_count": 34,
     "metadata": {},
     "output_type": "execute_result"
    }
   ],
   "source": [
    "len(new_XV[100])"
   ]
  },
  {
   "cell_type": "markdown",
   "metadata": {},
   "source": [
    "Now that we've performed the data processing that is required by our model we can save it locally and then upload it to S3 so that we can construct a batch transform job in order to see how well our model is working.\n",
    "\n",
    "First, we save the data locally.\n",
    "\n",
    "**TODO:** Save the new data (after it has been transformed using the original vocabulary) to the local notebook instance."
   ]
  },
  {
   "cell_type": "code",
   "execution_count": 35,
   "metadata": {},
   "outputs": [],
   "source": [
    "# TODO: Save the data contained in new_XV locally in the data_dir with the file name new_data.csv\n",
    "pd.DataFrame(new_XV).to_csv(os.path.join(data_dir,'new_data.csv'), header = False, index = False)"
   ]
  },
  {
   "cell_type": "markdown",
   "metadata": {},
   "source": [
    "Next, we upload the data to S3.\n",
    "\n",
    "**TODO:** Upload the csv file created above to S3."
   ]
  },
  {
   "cell_type": "code",
   "execution_count": 37,
   "metadata": {},
   "outputs": [],
   "source": [
    "# TODO: Upload the new_data.csv file contained in the data_dir folder to S3 and save the resulting\n",
    "#       URI as new_data_location\n",
    "\n",
    "new_data_location = session.upload_data(os.path.join(data_dir,'new_data.csv'), key_prefix = prefix)"
   ]
  },
  {
   "cell_type": "markdown",
   "metadata": {},
   "source": [
    "Then, once the new data has been uploaded to S3, we create and run the batch transform job to get our model's predictions about the sentiment of the new movie reviews.\n",
    "\n",
    "**TODO:** Using the `xgb_transformer` object that was created earlier (at the end of Step 4 to test the XGBoost model), transform the data located at `new_data_location`."
   ]
  },
  {
   "cell_type": "code",
   "execution_count": 38,
   "metadata": {},
   "outputs": [],
   "source": [
    "# TODO: Using xgb_transformer, transform the new_data_location data. You may wish to **wait** until\n",
    "#       the batch transform job has finished.\n",
    "xgb_transformer.transform(new_data_location, content_type='text/csv', split_type='Line')"
   ]
  },
  {
   "cell_type": "code",
   "execution_count": 39,
   "metadata": {},
   "outputs": [
    {
     "name": "stdout",
     "output_type": "stream",
     "text": [
      "...............................\u001b[32m2021-01-24T12:16:06.010:[sagemaker logs]: MaxConcurrentTransforms=4, MaxPayloadInMB=6, BatchStrategy=MULTI_RECORD\u001b[0m\n",
      "\u001b[34mArguments: serve\u001b[0m\n",
      "\u001b[34m[2021-01-24 12:16:05 +0000] [1] [INFO] Starting gunicorn 19.7.1\u001b[0m\n",
      "\u001b[34m[2021-01-24 12:16:05 +0000] [1] [INFO] Listening at: http://0.0.0.0:8080 (1)\u001b[0m\n",
      "\u001b[34m[2021-01-24 12:16:05 +0000] [1] [INFO] Using worker: gevent\u001b[0m\n",
      "\u001b[34m[2021-01-24 12:16:05 +0000] [36] [INFO] Booting worker with pid: 36\u001b[0m\n",
      "\u001b[34m[2021-01-24 12:16:05 +0000] [37] [INFO] Booting worker with pid: 37\u001b[0m\n",
      "\u001b[34m[2021-01-24:12:16:05:INFO] Model loaded successfully for worker : 36\u001b[0m\n",
      "\u001b[34m[2021-01-24 12:16:06 +0000] [38] [INFO] Booting worker with pid: 38\u001b[0m\n",
      "\u001b[34m[2021-01-24:12:16:06:INFO] Model loaded successfully for worker : 37\u001b[0m\n",
      "\u001b[34m[2021-01-24 12:16:06 +0000] [39] [INFO] Booting worker with pid: 39\u001b[0m\n",
      "\u001b[34m[2021-01-24:12:16:06:INFO] Model loaded successfully for worker : 38\u001b[0m\n",
      "\u001b[34m[2021-01-24:12:16:06:INFO] Model loaded successfully for worker : 39\u001b[0m\n",
      "\u001b[34m[2021-01-24:12:16:06:INFO] Sniff delimiter as ','\u001b[0m\n",
      "\u001b[34m[2021-01-24:12:16:06:INFO] Determined delimiter of CSV input is ','\u001b[0m\n",
      "\u001b[34m[2021-01-24:12:16:06:INFO] Sniff delimiter as ','\u001b[0m\n",
      "\u001b[34m[2021-01-24:12:16:06:INFO] Determined delimiter of CSV input is ','\u001b[0m\n",
      "\u001b[34m[2021-01-24:12:16:06:INFO] Sniff delimiter as ','\u001b[0m\n",
      "\u001b[35mArguments: serve\u001b[0m\n",
      "\u001b[35m[2021-01-24 12:16:05 +0000] [1] [INFO] Starting gunicorn 19.7.1\u001b[0m\n",
      "\u001b[35m[2021-01-24 12:16:05 +0000] [1] [INFO] Listening at: http://0.0.0.0:8080 (1)\u001b[0m\n",
      "\u001b[35m[2021-01-24 12:16:05 +0000] [1] [INFO] Using worker: gevent\u001b[0m\n",
      "\u001b[35m[2021-01-24 12:16:05 +0000] [36] [INFO] Booting worker with pid: 36\u001b[0m\n",
      "\u001b[35m[2021-01-24 12:16:05 +0000] [37] [INFO] Booting worker with pid: 37\u001b[0m\n",
      "\u001b[35m[2021-01-24:12:16:05:INFO] Model loaded successfully for worker : 36\u001b[0m\n",
      "\u001b[35m[2021-01-24 12:16:06 +0000] [38] [INFO] Booting worker with pid: 38\u001b[0m\n",
      "\u001b[35m[2021-01-24:12:16:06:INFO] Model loaded successfully for worker : 37\u001b[0m\n",
      "\u001b[35m[2021-01-24 12:16:06 +0000] [39] [INFO] Booting worker with pid: 39\u001b[0m\n",
      "\u001b[35m[2021-01-24:12:16:06:INFO] Model loaded successfully for worker : 38\u001b[0m\n",
      "\u001b[35m[2021-01-24:12:16:06:INFO] Model loaded successfully for worker : 39\u001b[0m\n",
      "\u001b[35m[2021-01-24:12:16:06:INFO] Sniff delimiter as ','\u001b[0m\n",
      "\u001b[35m[2021-01-24:12:16:06:INFO] Determined delimiter of CSV input is ','\u001b[0m\n",
      "\u001b[35m[2021-01-24:12:16:06:INFO] Sniff delimiter as ','\u001b[0m\n",
      "\u001b[35m[2021-01-24:12:16:06:INFO] Determined delimiter of CSV input is ','\u001b[0m\n",
      "\u001b[35m[2021-01-24:12:16:06:INFO] Sniff delimiter as ','\u001b[0m\n",
      "\u001b[34m[2021-01-24:12:16:06:INFO] Determined delimiter of CSV input is ','\u001b[0m\n",
      "\u001b[34m[2021-01-24:12:16:06:INFO] Sniff delimiter as ','\u001b[0m\n",
      "\u001b[34m[2021-01-24:12:16:06:INFO] Determined delimiter of CSV input is ','\u001b[0m\n",
      "\u001b[34m[2021-01-24:12:16:08:INFO] Sniff delimiter as ','\u001b[0m\n",
      "\u001b[34m[2021-01-24:12:16:08:INFO] Determined delimiter of CSV input is ','\u001b[0m\n",
      "\u001b[34m[2021-01-24:12:16:08:INFO] Sniff delimiter as ','\u001b[0m\n",
      "\u001b[34m[2021-01-24:12:16:08:INFO] Determined delimiter of CSV input is ','\u001b[0m\n",
      "\u001b[34m[2021-01-24:12:16:09:INFO] Sniff delimiter as ','\u001b[0m\n",
      "\u001b[34m[2021-01-24:12:16:09:INFO] Determined delimiter of CSV input is ','\u001b[0m\n",
      "\u001b[35m[2021-01-24:12:16:06:INFO] Determined delimiter of CSV input is ','\u001b[0m\n",
      "\u001b[35m[2021-01-24:12:16:06:INFO] Sniff delimiter as ','\u001b[0m\n",
      "\u001b[35m[2021-01-24:12:16:06:INFO] Determined delimiter of CSV input is ','\u001b[0m\n",
      "\u001b[35m[2021-01-24:12:16:08:INFO] Sniff delimiter as ','\u001b[0m\n",
      "\u001b[35m[2021-01-24:12:16:08:INFO] Determined delimiter of CSV input is ','\u001b[0m\n",
      "\u001b[35m[2021-01-24:12:16:08:INFO] Sniff delimiter as ','\u001b[0m\n",
      "\u001b[35m[2021-01-24:12:16:08:INFO] Determined delimiter of CSV input is ','\u001b[0m\n",
      "\u001b[35m[2021-01-24:12:16:09:INFO] Sniff delimiter as ','\u001b[0m\n",
      "\u001b[35m[2021-01-24:12:16:09:INFO] Determined delimiter of CSV input is ','\u001b[0m\n",
      "\u001b[34m[2021-01-24:12:16:09:INFO] Sniff delimiter as ','\u001b[0m\n",
      "\u001b[34m[2021-01-24:12:16:09:INFO] Determined delimiter of CSV input is ','\u001b[0m\n",
      "\u001b[35m[2021-01-24:12:16:09:INFO] Sniff delimiter as ','\u001b[0m\n",
      "\u001b[35m[2021-01-24:12:16:09:INFO] Determined delimiter of CSV input is ','\u001b[0m\n",
      "\u001b[34m[2021-01-24:12:16:11:INFO] Sniff delimiter as ','\u001b[0m\n",
      "\u001b[34m[2021-01-24:12:16:11:INFO] Determined delimiter of CSV input is ','\u001b[0m\n",
      "\u001b[34m[2021-01-24:12:16:11:INFO] Sniff delimiter as ','\u001b[0m\n",
      "\u001b[34m[2021-01-24:12:16:11:INFO] Determined delimiter of CSV input is ','\u001b[0m\n",
      "\u001b[34m[2021-01-24:12:16:11:INFO] Sniff delimiter as ','\u001b[0m\n",
      "\u001b[34m[2021-01-24:12:16:11:INFO] Determined delimiter of CSV input is ','\u001b[0m\n",
      "\u001b[35m[2021-01-24:12:16:11:INFO] Sniff delimiter as ','\u001b[0m\n",
      "\u001b[35m[2021-01-24:12:16:11:INFO] Determined delimiter of CSV input is ','\u001b[0m\n",
      "\u001b[35m[2021-01-24:12:16:11:INFO] Sniff delimiter as ','\u001b[0m\n",
      "\u001b[35m[2021-01-24:12:16:11:INFO] Determined delimiter of CSV input is ','\u001b[0m\n",
      "\u001b[35m[2021-01-24:12:16:11:INFO] Sniff delimiter as ','\u001b[0m\n",
      "\u001b[35m[2021-01-24:12:16:11:INFO] Determined delimiter of CSV input is ','\u001b[0m\n",
      "\u001b[34m[2021-01-24:12:16:11:INFO] Sniff delimiter as ','\u001b[0m\n",
      "\u001b[34m[2021-01-24:12:16:11:INFO] Determined delimiter of CSV input is ','\u001b[0m\n",
      "\u001b[35m[2021-01-24:12:16:11:INFO] Sniff delimiter as ','\u001b[0m\n",
      "\u001b[35m[2021-01-24:12:16:11:INFO] Determined delimiter of CSV input is ','\u001b[0m\n",
      "\u001b[34m[2021-01-24:12:16:13:INFO] Sniff delimiter as ','\u001b[0m\n",
      "\u001b[34m[2021-01-24:12:16:13:INFO] Determined delimiter of CSV input is ','\u001b[0m\n",
      "\u001b[34m[2021-01-24:12:16:14:INFO] Sniff delimiter as ','\u001b[0m\n",
      "\u001b[34m[2021-01-24:12:16:14:INFO] Determined delimiter of CSV input is ','\u001b[0m\n",
      "\u001b[35m[2021-01-24:12:16:13:INFO] Sniff delimiter as ','\u001b[0m\n",
      "\u001b[35m[2021-01-24:12:16:13:INFO] Determined delimiter of CSV input is ','\u001b[0m\n",
      "\u001b[35m[2021-01-24:12:16:14:INFO] Sniff delimiter as ','\u001b[0m\n",
      "\u001b[35m[2021-01-24:12:16:14:INFO] Determined delimiter of CSV input is ','\u001b[0m\n",
      "\u001b[34m[2021-01-24:12:16:14:INFO] Sniff delimiter as ','\u001b[0m\n",
      "\u001b[34m[2021-01-24:12:16:14:INFO] Determined delimiter of CSV input is ','\u001b[0m\n",
      "\u001b[35m[2021-01-24:12:16:14:INFO] Sniff delimiter as ','\u001b[0m\n",
      "\u001b[35m[2021-01-24:12:16:14:INFO] Determined delimiter of CSV input is ','\u001b[0m\n",
      "\u001b[34m[2021-01-24:12:16:16:INFO] Sniff delimiter as ','\u001b[0m\n",
      "\u001b[34m[2021-01-24:12:16:16:INFO] Determined delimiter of CSV input is ','\u001b[0m\n",
      "\u001b[34m[2021-01-24:12:16:16:INFO] Sniff delimiter as ','\u001b[0m\n",
      "\u001b[34m[2021-01-24:12:16:16:INFO] Determined delimiter of CSV input is ','\u001b[0m\n",
      "\u001b[34m[2021-01-24:12:16:16:INFO] Sniff delimiter as ','\u001b[0m\n",
      "\u001b[34m[2021-01-24:12:16:16:INFO] Determined delimiter of CSV input is ','\u001b[0m\n",
      "\u001b[34m[2021-01-24:12:16:16:INFO] Sniff delimiter as ','\u001b[0m\n",
      "\u001b[34m[2021-01-24:12:16:16:INFO] Determined delimiter of CSV input is ','\u001b[0m\n",
      "\u001b[35m[2021-01-24:12:16:16:INFO] Sniff delimiter as ','\u001b[0m\n",
      "\u001b[35m[2021-01-24:12:16:16:INFO] Determined delimiter of CSV input is ','\u001b[0m\n",
      "\u001b[35m[2021-01-24:12:16:16:INFO] Sniff delimiter as ','\u001b[0m\n",
      "\u001b[35m[2021-01-24:12:16:16:INFO] Determined delimiter of CSV input is ','\u001b[0m\n",
      "\u001b[35m[2021-01-24:12:16:16:INFO] Sniff delimiter as ','\u001b[0m\n",
      "\u001b[35m[2021-01-24:12:16:16:INFO] Determined delimiter of CSV input is ','\u001b[0m\n",
      "\u001b[35m[2021-01-24:12:16:16:INFO] Sniff delimiter as ','\u001b[0m\n",
      "\u001b[35m[2021-01-24:12:16:16:INFO] Determined delimiter of CSV input is ','\u001b[0m\n",
      "\u001b[34m[2021-01-24:12:16:18:INFO] Sniff delimiter as ','\u001b[0m\n",
      "\u001b[34m[2021-01-24:12:16:18:INFO] Determined delimiter of CSV input is ','\u001b[0m\n",
      "\u001b[34m[2021-01-24:12:16:19:INFO] Sniff delimiter as ','\u001b[0m\n",
      "\u001b[34m[2021-01-24:12:16:19:INFO] Determined delimiter of CSV input is ','\u001b[0m\n",
      "\u001b[34m[2021-01-24:12:16:19:INFO] Sniff delimiter as ','\u001b[0m\n",
      "\u001b[34m[2021-01-24:12:16:19:INFO] Determined delimiter of CSV input is ','\u001b[0m\n",
      "\u001b[35m[2021-01-24:12:16:18:INFO] Sniff delimiter as ','\u001b[0m\n",
      "\u001b[35m[2021-01-24:12:16:18:INFO] Determined delimiter of CSV input is ','\u001b[0m\n",
      "\u001b[35m[2021-01-24:12:16:19:INFO] Sniff delimiter as ','\u001b[0m\n",
      "\u001b[35m[2021-01-24:12:16:19:INFO] Determined delimiter of CSV input is ','\u001b[0m\n",
      "\u001b[35m[2021-01-24:12:16:19:INFO] Sniff delimiter as ','\u001b[0m\n",
      "\u001b[35m[2021-01-24:12:16:19:INFO] Determined delimiter of CSV input is ','\u001b[0m\n",
      "\u001b[34m[2021-01-24:12:16:19:INFO] Sniff delimiter as ','\u001b[0m\n",
      "\u001b[34m[2021-01-24:12:16:19:INFO] Determined delimiter of CSV input is ','\u001b[0m\n",
      "\u001b[35m[2021-01-24:12:16:19:INFO] Sniff delimiter as ','\u001b[0m\n",
      "\u001b[35m[2021-01-24:12:16:19:INFO] Determined delimiter of CSV input is ','\u001b[0m\n",
      "\u001b[34m[2021-01-24:12:16:21:INFO] Sniff delimiter as ','\u001b[0m\n",
      "\u001b[34m[2021-01-24:12:16:21:INFO] Determined delimiter of CSV input is ','\u001b[0m\n",
      "\u001b[34m[2021-01-24:12:16:21:INFO] Sniff delimiter as ','\u001b[0m\n",
      "\u001b[34m[2021-01-24:12:16:21:INFO] Determined delimiter of CSV input is ','\u001b[0m\n",
      "\u001b[34m[2021-01-24:12:16:21:INFO] Sniff delimiter as ','\u001b[0m\n",
      "\u001b[34m[2021-01-24:12:16:21:INFO] Determined delimiter of CSV input is ','\u001b[0m\n",
      "\u001b[34m[2021-01-24:12:16:21:INFO] Sniff delimiter as ','\u001b[0m\n",
      "\u001b[34m[2021-01-24:12:16:21:INFO] Determined delimiter of CSV input is ','\u001b[0m\n",
      "\u001b[35m[2021-01-24:12:16:21:INFO] Sniff delimiter as ','\u001b[0m\n",
      "\u001b[35m[2021-01-24:12:16:21:INFO] Determined delimiter of CSV input is ','\u001b[0m\n",
      "\u001b[35m[2021-01-24:12:16:21:INFO] Sniff delimiter as ','\u001b[0m\n",
      "\u001b[35m[2021-01-24:12:16:21:INFO] Determined delimiter of CSV input is ','\u001b[0m\n",
      "\u001b[35m[2021-01-24:12:16:21:INFO] Sniff delimiter as ','\u001b[0m\n",
      "\u001b[35m[2021-01-24:12:16:21:INFO] Determined delimiter of CSV input is ','\u001b[0m\n",
      "\u001b[35m[2021-01-24:12:16:21:INFO] Sniff delimiter as ','\u001b[0m\n",
      "\u001b[35m[2021-01-24:12:16:21:INFO] Determined delimiter of CSV input is ','\u001b[0m\n",
      "\n",
      "\u001b[34m[2021-01-24:12:16:26:INFO] Sniff delimiter as ','\u001b[0m\n",
      "\u001b[34m[2021-01-24:12:16:26:INFO] Determined delimiter of CSV input is ','\u001b[0m\n",
      "\u001b[34m[2021-01-24:12:16:26:INFO] Sniff delimiter as ','\u001b[0m\n",
      "\u001b[34m[2021-01-24:12:16:26:INFO] Determined delimiter of CSV input is ','\u001b[0m\n",
      "\u001b[35m[2021-01-24:12:16:26:INFO] Sniff delimiter as ','\u001b[0m\n",
      "\u001b[35m[2021-01-24:12:16:26:INFO] Determined delimiter of CSV input is ','\u001b[0m\n",
      "\u001b[35m[2021-01-24:12:16:26:INFO] Sniff delimiter as ','\u001b[0m\n",
      "\u001b[35m[2021-01-24:12:16:26:INFO] Determined delimiter of CSV input is ','\u001b[0m\n",
      "\u001b[34m[2021-01-24:12:16:26:INFO] Sniff delimiter as ','\u001b[0m\n",
      "\u001b[34m[2021-01-24:12:16:26:INFO] Determined delimiter of CSV input is ','\u001b[0m\n",
      "\u001b[34m[2021-01-24:12:16:26:INFO] Sniff delimiter as ','\u001b[0m\n",
      "\u001b[34m[2021-01-24:12:16:26:INFO] Determined delimiter of CSV input is ','\u001b[0m\n",
      "\u001b[35m[2021-01-24:12:16:26:INFO] Sniff delimiter as ','\u001b[0m\n",
      "\u001b[35m[2021-01-24:12:16:26:INFO] Determined delimiter of CSV input is ','\u001b[0m\n",
      "\u001b[35m[2021-01-24:12:16:26:INFO] Sniff delimiter as ','\u001b[0m\n",
      "\u001b[35m[2021-01-24:12:16:26:INFO] Determined delimiter of CSV input is ','\u001b[0m\n",
      "\u001b[34m[2021-01-24:12:16:28:INFO] Sniff delimiter as ','\u001b[0m\n",
      "\u001b[35m[2021-01-24:12:16:28:INFO] Sniff delimiter as ','\u001b[0m\n",
      "\u001b[34m[2021-01-24:12:16:28:INFO] Determined delimiter of CSV input is ','\u001b[0m\n",
      "\u001b[34m[2021-01-24:12:16:28:INFO] Sniff delimiter as ','\u001b[0m\n",
      "\u001b[34m[2021-01-24:12:16:28:INFO] Determined delimiter of CSV input is ','\u001b[0m\n",
      "\u001b[34m[2021-01-24:12:16:28:INFO] Sniff delimiter as ','\u001b[0m\n",
      "\u001b[34m[2021-01-24:12:16:28:INFO] Determined delimiter of CSV input is ','\u001b[0m\n",
      "\u001b[35m[2021-01-24:12:16:28:INFO] Determined delimiter of CSV input is ','\u001b[0m\n",
      "\u001b[35m[2021-01-24:12:16:28:INFO] Sniff delimiter as ','\u001b[0m\n",
      "\u001b[35m[2021-01-24:12:16:28:INFO] Determined delimiter of CSV input is ','\u001b[0m\n",
      "\u001b[35m[2021-01-24:12:16:28:INFO] Sniff delimiter as ','\u001b[0m\n",
      "\u001b[35m[2021-01-24:12:16:28:INFO] Determined delimiter of CSV input is ','\u001b[0m\n",
      "\u001b[34m[2021-01-24:12:16:29:INFO] Sniff delimiter as ','\u001b[0m\n",
      "\u001b[34m[2021-01-24:12:16:29:INFO] Determined delimiter of CSV input is ','\u001b[0m\n",
      "\u001b[35m[2021-01-24:12:16:29:INFO] Sniff delimiter as ','\u001b[0m\n",
      "\u001b[35m[2021-01-24:12:16:29:INFO] Determined delimiter of CSV input is ','\u001b[0m\n"
     ]
    }
   ],
   "source": [
    "xgb_transformer.wait()"
   ]
  },
  {
   "cell_type": "markdown",
   "metadata": {},
   "source": [
    "As usual, we copy the results of the batch transform job to our local instance."
   ]
  },
  {
   "cell_type": "code",
   "execution_count": 40,
   "metadata": {},
   "outputs": [
    {
     "name": "stdout",
     "output_type": "stream",
     "text": [
      "download: s3://sagemaker-us-east-1-459717541543/xgboost-2021-01-24-12-11-04-450/new_data.csv.out to ../data/sentiment_update/new_data.csv.out\r\n"
     ]
    }
   ],
   "source": [
    "!aws s3 cp --recursive $xgb_transformer.output_path $data_dir"
   ]
  },
  {
   "cell_type": "markdown",
   "metadata": {},
   "source": [
    "Read in the results of the batch transform job."
   ]
  },
  {
   "cell_type": "code",
   "execution_count": 41,
   "metadata": {},
   "outputs": [],
   "source": [
    "predictions = pd.read_csv(os.path.join(data_dir, 'new_data.csv.out'), header=None)\n",
    "predictions = [round(num) for num in predictions.squeeze().values]"
   ]
  },
  {
   "cell_type": "markdown",
   "metadata": {},
   "source": [
    "And check the accuracy of our current model."
   ]
  },
  {
   "cell_type": "code",
   "execution_count": 42,
   "metadata": {},
   "outputs": [
    {
     "data": {
      "text/plain": [
       "0.73604"
      ]
     },
     "execution_count": 42,
     "metadata": {},
     "output_type": "execute_result"
    }
   ],
   "source": [
    "accuracy_score(new_Y, predictions)"
   ]
  },
  {
   "cell_type": "markdown",
   "metadata": {},
   "source": [
    "So it would appear that *something* has changed since our model is no longer (as) effective at determining the sentiment of a user provided review.\n",
    "\n",
    "In a real life scenario you would check a number of different things to see what exactly is going on. In our case, we are only going to check one and that is whether some aspect of the underlying distribution has changed. In other words, we want to see if the words that appear in our new collection of reviews matches the words that appear in the original training set. Of course, we want to narrow our scope a little bit so we will only look at the `5000` most frequently appearing words in each data set, or in other words, the vocabulary generated by each data set.\n",
    "\n",
    "Before doing that, however, let's take a look at some of the incorrectly classified reviews in the new data set.\n",
    "\n",
    "To start, we will deploy the original XGBoost model. We will then use the deployed model to infer the sentiment of some of the new reviews. This will also serve as a nice excuse to deploy our model so that we can mimic a real life scenario where we have a model that has been deployed and is being used in production.\n",
    "\n",
    "**TODO:** Deploy the XGBoost model."
   ]
  },
  {
   "cell_type": "code",
   "execution_count": 43,
   "metadata": {},
   "outputs": [
    {
     "name": "stderr",
     "output_type": "stream",
     "text": [
      "Parameter image will be renamed to image_uri in SageMaker Python SDK v2.\n",
      "Using already existing model: xgboost-2021-01-24-11-45-40-884\n"
     ]
    },
    {
     "name": "stdout",
     "output_type": "stream",
     "text": [
      "---------------!"
     ]
    }
   ],
   "source": [
    "# TODO: Deploy the model that was created earlier. Recall that the object name is 'xgb'.\n",
    "xgb_predictor = xgb.deploy(initial_instance_count=1,instance_type='ml.m4.xlarge')"
   ]
  },
  {
   "cell_type": "markdown",
   "metadata": {},
   "source": [
    "### Diagnose the problem\n",
    "\n",
    "Now that we have our deployed \"production\" model, we can send some of our new data to it and filter out some of the incorrectly classified reviews."
   ]
  },
  {
   "cell_type": "code",
   "execution_count": 44,
   "metadata": {},
   "outputs": [],
   "source": [
    "from sagemaker.predictor import csv_serializer\n",
    "\n",
    "# We need to tell the endpoint what format the data we are sending is in so that SageMaker can perform the serialization.\n",
    "xgb_predictor.content_type = 'text/csv'\n",
    "xgb_predictor.serializer = csv_serializer"
   ]
  },
  {
   "cell_type": "markdown",
   "metadata": {},
   "source": [
    "It will be useful to look at a few different examples of incorrectly classified reviews so we will start by creating a *generator* which we will use to iterate through some of the new reviews and find ones that are incorrect.\n",
    "\n",
    "**NOTE:** Understanding what Python generators are isn't really required for this module. The reason we use them here is so that we don't have to iterate through all of the new reviews, searching for incorrectly classified samples."
   ]
  },
  {
   "cell_type": "code",
   "execution_count": 45,
   "metadata": {},
   "outputs": [],
   "source": [
    "def get_sample(in_X, in_XV, in_Y):\n",
    "    for idx, smp in enumerate(in_X):\n",
    "        res = round(float(xgb_predictor.predict(in_XV[idx])))\n",
    "        if res != in_Y[idx]:\n",
    "            yield smp, in_Y[idx]"
   ]
  },
  {
   "cell_type": "code",
   "execution_count": 46,
   "metadata": {},
   "outputs": [],
   "source": [
    "gn = get_sample(new_X, new_XV, new_Y)"
   ]
  },
  {
   "cell_type": "markdown",
   "metadata": {},
   "source": [
    "At this point, `gn` is the *generator* which generates samples from the new data set which are not classified correctly. To get the *next* sample we simply call the `next` method on our generator."
   ]
  },
  {
   "cell_type": "code",
   "execution_count": 48,
   "metadata": {},
   "outputs": [
    {
     "name": "stdout",
     "output_type": "stream",
     "text": [
      "(['carol', 'journey', 'pleasur', 'watch', 'mani', 'reason', 'act', 'clara', 'lago', 'simpli', 'amaz', 'someon', 'young', 'one', 'special', 'actor', 'say', 'say', 'much', 'facial', 'express', 'director', 'imanol', 'urbib', 'present', 'tight', 'control', 'film', 'break', 'continu', 'therebi', 'propel', 'plot', 'steadi', 'pace', 'enough', 'suspens', 'keep', 'one', 'wonder', 'nest', 'scene', 'bring', 'screenplay', 'angel', 'garcia', 'roldan', 'stori', 'tell', 'best', 'seem', 'major', 'purpos', 'film', 'plot', 'unpredict', 'yet', 'event', 'unravel', 'complet', 'logic', 'perhap', 'best', 'featur', 'film', 'tell', 'stori', 'spanish', 'civil', 'war', 'affect', 'peopl', 'major', 'event', '20th', 'centuri', 'yet', 'hardli', 'american', 'know', 'fact', '40', 'year', 'univers', 'teach', 'averag', 'one', 'student', 'semest', 'even', 'heard', 'much', 'less', 'could', 'say', 'anyth', 'comprehens', 'overwhelm', 'number', 'student', 'merit', 'scholar', 'speak', 'enorm', 'amount', 'censorship', 'american', 'educ', 'one', 'way', 'film', 'good', 'way', 'begin', 'studi', 'event', 'keep', 'mind', 'one', 'thread', 'pull', 'great', 'deal', 'histori', 'unravel', 'appreci', 'film', 'therefor', 'direct', 'relat', 'amount', 'one', 'knowledg', 'view', 'film', 'anoth', 'come', 'age', 'movi', 'miss', 'movi', 'complet', 'left', 'elbow', 'index', 'consid', 'seven', 'aspect', 'film', 'act', 'product', 'set', 'charact', 'develop', 'plot', 'dialogu', 'film', 'continu', 'artistri', 'scale', '10', 'good', '5', 'averag', '1', 'need', 'help', 'carol', 'journey', 'averag', 'count', 'except', 'dialogu', 'rate', 'averag', 'lei', 'averag', 'film', '9', '3', 'rais', '10', 'equat', 'imdb', 'scale', 'highli', 'recommend', 'film', 'age', 'banana'], 0)\n"
     ]
    }
   ],
   "source": [
    "print(next(gn))"
   ]
  },
  {
   "cell_type": "markdown",
   "metadata": {},
   "source": [
    "After looking at a few examples, maybe we decide to look at the most frequently appearing `5000` words in each data set, the original training data set and the new data set. The reason for looking at this might be that we expect the frequency of use of different words to have changed, maybe there is some new slang that has been introduced or some other artifact of popular culture that has changed the way that people write movie reviews.\n",
    "\n",
    "To do this, we start by fitting a `CountVectorizer` to the new data."
   ]
  },
  {
   "cell_type": "code",
   "execution_count": 49,
   "metadata": {},
   "outputs": [
    {
     "name": "stderr",
     "output_type": "stream",
     "text": [
      "/home/ec2-user/anaconda3/envs/pytorch_p36/lib/python3.6/site-packages/sklearn/feature_extraction/text.py:507: UserWarning: The parameter 'token_pattern' will not be used since 'tokenizer' is not None'\n",
      "  warnings.warn(\"The parameter 'token_pattern' will not be used\"\n"
     ]
    },
    {
     "data": {
      "text/plain": [
       "CountVectorizer(analyzer='word', binary=False, decode_error='strict',\n",
       "                dtype=<class 'numpy.int64'>, encoding='utf-8', input='content',\n",
       "                lowercase=True, max_df=1.0, max_features=5000, min_df=1,\n",
       "                ngram_range=(1, 1),\n",
       "                preprocessor=<function <lambda> at 0x7f685c440950>,\n",
       "                stop_words=None, strip_accents=None,\n",
       "                token_pattern='(?u)\\\\b\\\\w\\\\w+\\\\b',\n",
       "                tokenizer=<function <lambda> at 0x7f685c440268>,\n",
       "                vocabulary=None)"
      ]
     },
     "execution_count": 49,
     "metadata": {},
     "output_type": "execute_result"
    }
   ],
   "source": [
    "new_vectorizer = CountVectorizer(max_features=5000,\n",
    "                preprocessor=lambda x: x, tokenizer=lambda x: x)\n",
    "new_vectorizer.fit(new_X)"
   ]
  },
  {
   "cell_type": "markdown",
   "metadata": {},
   "source": [
    "Now that we have this new `CountVectorizor` object, we can check to see if the corresponding vocabulary has changed between the two data sets."
   ]
  },
  {
   "cell_type": "code",
   "execution_count": 50,
   "metadata": {},
   "outputs": [],
   "source": [
    "original_vocabulary = set(vocabulary.keys())\n",
    "new_vocabulary = set(new_vectorizer.vocabulary_.keys())"
   ]
  },
  {
   "cell_type": "markdown",
   "metadata": {},
   "source": [
    "We can look at the words that were in the original vocabulary but not in the new vocabulary."
   ]
  },
  {
   "cell_type": "code",
   "execution_count": 51,
   "metadata": {},
   "outputs": [
    {
     "name": "stdout",
     "output_type": "stream",
     "text": [
      "{'21st', 'playboy', 'weari', 'ghetto', 'spill', 'reincarn', 'victorian'}\n"
     ]
    }
   ],
   "source": [
    "print(original_vocabulary - new_vocabulary)"
   ]
  },
  {
   "cell_type": "markdown",
   "metadata": {},
   "source": [
    "And similarly, we can look at the words that are in the new vocabulary but which were not in the original vocabulary."
   ]
  },
  {
   "cell_type": "code",
   "execution_count": 52,
   "metadata": {},
   "outputs": [
    {
     "name": "stdout",
     "output_type": "stream",
     "text": [
      "{'dubiou', 'orchestr', 'banana', 'sophi', 'omin', 'optimist', 'masterson'}\n"
     ]
    }
   ],
   "source": [
    "print(new_vocabulary - original_vocabulary)"
   ]
  },
  {
   "cell_type": "markdown",
   "metadata": {},
   "source": [
    "These words themselves don't tell us much, however if one of these words occured with a large frequency, that might tell us something. In particular, we wouldn't really expect any of the words above to appear with too much frequency.\n",
    "\n",
    "**Question** What exactly is going on here. Not only what (if any) words appear with a larger than expected frequency but also, what does this mean? What has changed about the world that our original model no longer takes into account?\n",
    "\n",
    "**NOTE:** This is meant to be a very open ended question. To investigate you may need more cells than the one provided below. Also, there isn't really a *correct* answer, this is meant to be an opportunity to explore the data."
   ]
  },
  {
   "cell_type": "code",
   "execution_count": null,
   "metadata": {},
   "outputs": [],
   "source": []
  },
  {
   "cell_type": "markdown",
   "metadata": {},
   "source": [
    "### (TODO) Build a new model\n",
    "\n",
    "Supposing that we believe something has changed about the underlying distribution of the words that our reviews are made up of, we need to create a new model. This way our new model will take into account whatever it is that has changed.\n",
    "\n",
    "To begin with, we will use the new vocabulary to create a bag of words encoding of the new data. We will then use this data to train a new XGBoost model.\n",
    "\n",
    "**NOTE:** Because we believe that the underlying distribution of words has changed it should follow that the original vocabulary that we used to construct a bag of words encoding of the reviews is no longer valid. This means that we need to be careful with our data. If we send an bag of words encoded review using the *original* vocabulary we should not expect any sort of meaningful results.\n",
    "\n",
    "In particular, this means that if we had deployed our XGBoost model like we did in the Web App notebook then we would need to implement this vocabulary change in the Lambda function as well."
   ]
  },
  {
   "cell_type": "code",
   "execution_count": 53,
   "metadata": {},
   "outputs": [],
   "source": [
    "new_XV = new_vectorizer.transform(new_X).toarray()"
   ]
  },
  {
   "cell_type": "markdown",
   "metadata": {},
   "source": [
    "And a quick check to make sure that the newly encoded reviews have the correct length, which should be the size of the new vocabulary which we created."
   ]
  },
  {
   "cell_type": "code",
   "execution_count": 54,
   "metadata": {},
   "outputs": [
    {
     "data": {
      "text/plain": [
       "5000"
      ]
     },
     "execution_count": 54,
     "metadata": {},
     "output_type": "execute_result"
    }
   ],
   "source": [
    "len(new_XV[0])"
   ]
  },
  {
   "cell_type": "markdown",
   "metadata": {},
   "source": [
    "Now that we have our newly encoded, newly collected data, we can split it up into a training and validation set so that we can train a new XGBoost model. As usual, we first split up the data, then save it locally and then upload it to S3."
   ]
  },
  {
   "cell_type": "code",
   "execution_count": 55,
   "metadata": {},
   "outputs": [],
   "source": [
    "import pandas as pd\n",
    "\n",
    "# Earlier we shuffled the training dataset so to make things simple we can just assign\n",
    "# the first 10 000 reviews to the validation set and use the remaining reviews for training.\n",
    "new_val_X = pd.DataFrame(new_XV[:10000])\n",
    "new_train_X = pd.DataFrame(new_XV[10000:])\n",
    "\n",
    "new_val_y = pd.DataFrame(new_Y[:10000])\n",
    "new_train_y = pd.DataFrame(new_Y[10000:])"
   ]
  },
  {
   "cell_type": "markdown",
   "metadata": {},
   "source": [
    "In order to save some memory we will effectively delete the `new_X` variable. Remember that this contained a list of reviews and each review was a list of words. Note that once this cell has been executed you will need to read the new data in again if you want to work with it."
   ]
  },
  {
   "cell_type": "code",
   "execution_count": 56,
   "metadata": {},
   "outputs": [],
   "source": [
    "new_X = None"
   ]
  },
  {
   "cell_type": "markdown",
   "metadata": {},
   "source": [
    "Next we save the new training and validation sets locally. Note that we overwrite the training and validation sets used earlier. This is mostly because the amount of space that we have available on our notebook instance is limited. Of course, you can increase this if you'd like but to do so may increase the cost of running the notebook instance."
   ]
  },
  {
   "cell_type": "code",
   "execution_count": 57,
   "metadata": {},
   "outputs": [],
   "source": [
    "pd.DataFrame(new_XV).to_csv(os.path.join(data_dir, 'new_data.csv'), header=False, index=False)\n",
    "\n",
    "pd.concat([new_val_y, new_val_X], axis=1).to_csv(os.path.join(data_dir, 'new_validation.csv'), header=False, index=False)\n",
    "pd.concat([new_train_y, new_train_X], axis=1).to_csv(os.path.join(data_dir, 'new_train.csv'), header=False, index=False)"
   ]
  },
  {
   "cell_type": "markdown",
   "metadata": {},
   "source": [
    "Now that we've saved our data to the local instance, we can safely delete the variables to save on memory."
   ]
  },
  {
   "cell_type": "code",
   "execution_count": 58,
   "metadata": {},
   "outputs": [],
   "source": [
    "new_val_y = new_val_X = new_train_y = new_train_X = new_XV = None"
   ]
  },
  {
   "cell_type": "markdown",
   "metadata": {},
   "source": [
    "Lastly, we make sure to upload the new training and validation sets to S3.\n",
    "\n",
    "**TODO:** Upload the new data as well as the new training and validation data sets to S3."
   ]
  },
  {
   "cell_type": "code",
   "execution_count": 60,
   "metadata": {},
   "outputs": [],
   "source": [
    "# TODO: Upload the new data and the new validation.csv and train.csv files in the data_dir directory to S3.\n",
    "new_data_location = session.upload_data(os.path.join(data_dir,'new_data.csv'),key_prefix=prefix)\n",
    "new_val_location = session.upload_data(os.path.join(data_dir,'new_validation.csv'),key_prefix=prefix)\n",
    "new_train_location = session.upload_data(os.path.join(data_dir,'new_train.csv'),key_prefix=prefix)"
   ]
  },
  {
   "cell_type": "markdown",
   "metadata": {},
   "source": [
    "Once our new training data has been uploaded to S3, we can create a new XGBoost model that will take into account the changes that have occured in our data set.\n",
    "\n",
    "**TODO:** Create a new XGBoost estimator object."
   ]
  },
  {
   "cell_type": "code",
   "execution_count": 62,
   "metadata": {},
   "outputs": [
    {
     "name": "stderr",
     "output_type": "stream",
     "text": [
      "Parameter image_name will be renamed to image_uri in SageMaker Python SDK v2.\n"
     ]
    }
   ],
   "source": [
    "# TODO: First, create a SageMaker estimator object for our model.\n",
    "new_xgb = sagemaker.estimator.Estimator(container,\n",
    "                                       role,\n",
    "                                       train_instance_count=1,\n",
    "                                       train_instance_type='ml.m4.xlarge',\n",
    "                                       output_path='s3://{}/{}/output'.format(session.default_bucket(), prefix),\n",
    "                                       sagemaker_session= session)\n",
    "\n",
    "# TODO: Then set the algorithm specific parameters. You may wish to use the same parameters that were\n",
    "#       used when training the original model.\n",
    "new_xgb.set_hyperparameters(max_depth=5,\n",
    "                        eta=0.2,\n",
    "                        gamma=4,\n",
    "                        min_child_weight=6,\n",
    "                        subsample=0.8,\n",
    "                        silent=0,\n",
    "                        objective='binary:logistic',\n",
    "                        early_stopping_rounds=10,\n",
    "                        num_round=500\n",
    "                        )"
   ]
  },
  {
   "cell_type": "markdown",
   "metadata": {},
   "source": [
    "Once the model has been created, we can train it with our new data.\n",
    "\n",
    "**TODO:** Train the new XGBoost model."
   ]
  },
  {
   "cell_type": "code",
   "execution_count": 63,
   "metadata": {},
   "outputs": [
    {
     "name": "stderr",
     "output_type": "stream",
     "text": [
      "'s3_input' class will be renamed to 'TrainingInput' in SageMaker Python SDK v2.\n",
      "'s3_input' class will be renamed to 'TrainingInput' in SageMaker Python SDK v2.\n"
     ]
    }
   ],
   "source": [
    "# TODO: First, make sure that you create s3 input objects so that SageMaker knows where to\n",
    "#       find the training and validation data.\n",
    "s3_new_input_train = sagemaker.s3_input(s3_data=new_train_location, content_type='csv')\n",
    "s3_new_input_validation = sagemaker.s3_input(s3_data = new_val_location, content_type = 'csv')"
   ]
  },
  {
   "cell_type": "code",
   "execution_count": 64,
   "metadata": {},
   "outputs": [
    {
     "name": "stdout",
     "output_type": "stream",
     "text": [
      "2021-01-24 12:53:46 Starting - Starting the training job...\n",
      "2021-01-24 12:53:48 Starting - Launching requested ML instances......\n",
      "2021-01-24 12:54:59 Starting - Preparing the instances for training......\n",
      "2021-01-24 12:56:09 Downloading - Downloading input data...\n",
      "2021-01-24 12:56:30 Training - Downloading the training image..\u001b[34mArguments: train\u001b[0m\n",
      "\u001b[34m[2021-01-24:12:56:56:INFO] Running standalone xgboost training.\u001b[0m\n",
      "\u001b[34m[2021-01-24:12:56:56:INFO] File size need to be processed in the node: 238.47mb. Available memory size in the node: 8424.58mb\u001b[0m\n",
      "\u001b[34m[2021-01-24:12:56:56:INFO] Determined delimiter of CSV input is ','\u001b[0m\n",
      "\u001b[34m[12:56:56] S3DistributionType set as FullyReplicated\u001b[0m\n",
      "\u001b[34m[12:56:58] 15000x5000 matrix with 75000000 entries loaded from /opt/ml/input/data/train?format=csv&label_column=0&delimiter=,\u001b[0m\n",
      "\u001b[34m[2021-01-24:12:56:58:INFO] Determined delimiter of CSV input is ','\u001b[0m\n",
      "\u001b[34m[12:56:58] S3DistributionType set as FullyReplicated\u001b[0m\n",
      "\u001b[34m[12:56:59] 10000x5000 matrix with 50000000 entries loaded from /opt/ml/input/data/validation?format=csv&label_column=0&delimiter=,\u001b[0m\n",
      "\n",
      "2021-01-24 12:56:56 Training - Training image download completed. Training in progress.\u001b[34m[12:57:04] src/tree/updater_prune.cc:74: tree pruning end, 1 roots, 42 extra nodes, 12 pruned nodes, max_depth=5\u001b[0m\n",
      "\u001b[34m[0]#011train-error:0.314533#011validation-error:0.3122\u001b[0m\n",
      "\u001b[34mMultiple eval metrics have been passed: 'validation-error' will be used for early stopping.\n",
      "\u001b[0m\n",
      "\u001b[34mWill train until validation-error hasn't improved in 10 rounds.\u001b[0m\n",
      "\u001b[34m[12:57:05] src/tree/updater_prune.cc:74: tree pruning end, 1 roots, 44 extra nodes, 8 pruned nodes, max_depth=5\u001b[0m\n",
      "\u001b[34m[1]#011train-error:0.2872#011validation-error:0.2865\u001b[0m\n",
      "\u001b[34m[12:57:07] src/tree/updater_prune.cc:74: tree pruning end, 1 roots, 44 extra nodes, 8 pruned nodes, max_depth=5\u001b[0m\n",
      "\u001b[34m[2]#011train-error:0.285933#011validation-error:0.2856\u001b[0m\n",
      "\u001b[34m[12:57:08] src/tree/updater_prune.cc:74: tree pruning end, 1 roots, 46 extra nodes, 6 pruned nodes, max_depth=5\u001b[0m\n",
      "\u001b[34m[3]#011train-error:0.277067#011validation-error:0.2824\u001b[0m\n",
      "\u001b[34m[12:57:10] src/tree/updater_prune.cc:74: tree pruning end, 1 roots, 44 extra nodes, 12 pruned nodes, max_depth=5\u001b[0m\n",
      "\u001b[34m[4]#011train-error:0.274933#011validation-error:0.2799\u001b[0m\n",
      "\u001b[34m[12:57:11] src/tree/updater_prune.cc:74: tree pruning end, 1 roots, 38 extra nodes, 6 pruned nodes, max_depth=5\u001b[0m\n",
      "\u001b[34m[5]#011train-error:0.268533#011validation-error:0.274\u001b[0m\n",
      "\u001b[34m[12:57:12] src/tree/updater_prune.cc:74: tree pruning end, 1 roots, 28 extra nodes, 14 pruned nodes, max_depth=5\u001b[0m\n",
      "\u001b[34m[6]#011train-error:0.255867#011validation-error:0.2597\u001b[0m\n",
      "\u001b[34m[12:57:14] src/tree/updater_prune.cc:74: tree pruning end, 1 roots, 28 extra nodes, 12 pruned nodes, max_depth=5\u001b[0m\n",
      "\u001b[34m[7]#011train-error:0.250133#011validation-error:0.256\u001b[0m\n",
      "\u001b[34m[12:57:15] src/tree/updater_prune.cc:74: tree pruning end, 1 roots, 36 extra nodes, 8 pruned nodes, max_depth=5\u001b[0m\n",
      "\u001b[34m[8]#011train-error:0.256533#011validation-error:0.2601\u001b[0m\n",
      "\u001b[34m[12:57:16] src/tree/updater_prune.cc:74: tree pruning end, 1 roots, 36 extra nodes, 12 pruned nodes, max_depth=5\u001b[0m\n",
      "\u001b[34m[9]#011train-error:0.243867#011validation-error:0.2529\u001b[0m\n",
      "\u001b[34m[12:57:17] src/tree/updater_prune.cc:74: tree pruning end, 1 roots, 28 extra nodes, 16 pruned nodes, max_depth=5\u001b[0m\n",
      "\u001b[34m[10]#011train-error:0.2442#011validation-error:0.2498\u001b[0m\n",
      "\u001b[34m[12:57:19] src/tree/updater_prune.cc:74: tree pruning end, 1 roots, 26 extra nodes, 8 pruned nodes, max_depth=5\u001b[0m\n",
      "\u001b[34m[11]#011train-error:0.234867#011validation-error:0.2418\u001b[0m\n",
      "\u001b[34m[12:57:20] src/tree/updater_prune.cc:74: tree pruning end, 1 roots, 40 extra nodes, 6 pruned nodes, max_depth=5\u001b[0m\n",
      "\u001b[34m[12]#011train-error:0.229667#011validation-error:0.2382\u001b[0m\n",
      "\u001b[34m[12:57:21] src/tree/updater_prune.cc:74: tree pruning end, 1 roots, 30 extra nodes, 8 pruned nodes, max_depth=5\u001b[0m\n",
      "\u001b[34m[13]#011train-error:0.223733#011validation-error:0.2319\u001b[0m\n",
      "\u001b[34m[12:57:23] src/tree/updater_prune.cc:74: tree pruning end, 1 roots, 30 extra nodes, 8 pruned nodes, max_depth=5\u001b[0m\n",
      "\u001b[34m[14]#011train-error:0.220333#011validation-error:0.2287\u001b[0m\n",
      "\u001b[34m[12:57:24] src/tree/updater_prune.cc:74: tree pruning end, 1 roots, 44 extra nodes, 2 pruned nodes, max_depth=5\u001b[0m\n",
      "\u001b[34m[15]#011train-error:0.216267#011validation-error:0.226\u001b[0m\n",
      "\u001b[34m[12:57:25] src/tree/updater_prune.cc:74: tree pruning end, 1 roots, 24 extra nodes, 6 pruned nodes, max_depth=5\u001b[0m\n",
      "\u001b[34m[16]#011train-error:0.213333#011validation-error:0.223\u001b[0m\n",
      "\u001b[34m[12:57:26] src/tree/updater_prune.cc:74: tree pruning end, 1 roots, 40 extra nodes, 4 pruned nodes, max_depth=5\u001b[0m\n",
      "\u001b[34m[17]#011train-error:0.210467#011validation-error:0.2205\u001b[0m\n",
      "\u001b[34m[12:57:28] src/tree/updater_prune.cc:74: tree pruning end, 1 roots, 32 extra nodes, 4 pruned nodes, max_depth=5\u001b[0m\n",
      "\u001b[34m[18]#011train-error:0.207667#011validation-error:0.2185\u001b[0m\n",
      "\u001b[34m[12:57:29] src/tree/updater_prune.cc:74: tree pruning end, 1 roots, 30 extra nodes, 4 pruned nodes, max_depth=5\u001b[0m\n",
      "\u001b[34m[19]#011train-error:0.200667#011validation-error:0.2117\u001b[0m\n",
      "\u001b[34m[12:57:30] src/tree/updater_prune.cc:74: tree pruning end, 1 roots, 34 extra nodes, 10 pruned nodes, max_depth=5\u001b[0m\n",
      "\u001b[34m[20]#011train-error:0.1978#011validation-error:0.2106\u001b[0m\n",
      "\u001b[34m[12:57:32] src/tree/updater_prune.cc:74: tree pruning end, 1 roots, 44 extra nodes, 6 pruned nodes, max_depth=5\u001b[0m\n",
      "\u001b[34m[21]#011train-error:0.195133#011validation-error:0.2074\u001b[0m\n",
      "\u001b[34m[12:57:33] src/tree/updater_prune.cc:74: tree pruning end, 1 roots, 38 extra nodes, 12 pruned nodes, max_depth=5\u001b[0m\n",
      "\u001b[34m[22]#011train-error:0.191467#011validation-error:0.2046\u001b[0m\n",
      "\u001b[34m[12:57:34] src/tree/updater_prune.cc:74: tree pruning end, 1 roots, 34 extra nodes, 10 pruned nodes, max_depth=5\u001b[0m\n",
      "\u001b[34m[23]#011train-error:0.1884#011validation-error:0.2021\u001b[0m\n",
      "\u001b[34m[12:57:35] src/tree/updater_prune.cc:74: tree pruning end, 1 roots, 36 extra nodes, 4 pruned nodes, max_depth=5\u001b[0m\n",
      "\u001b[34m[24]#011train-error:0.1874#011validation-error:0.2012\u001b[0m\n",
      "\u001b[34m[12:57:37] src/tree/updater_prune.cc:74: tree pruning end, 1 roots, 26 extra nodes, 6 pruned nodes, max_depth=5\u001b[0m\n",
      "\u001b[34m[25]#011train-error:0.185133#011validation-error:0.201\u001b[0m\n",
      "\u001b[34m[12:57:38] src/tree/updater_prune.cc:74: tree pruning end, 1 roots, 32 extra nodes, 14 pruned nodes, max_depth=5\u001b[0m\n",
      "\u001b[34m[26]#011train-error:0.1856#011validation-error:0.1988\u001b[0m\n",
      "\u001b[34m[12:57:39] src/tree/updater_prune.cc:74: tree pruning end, 1 roots, 28 extra nodes, 12 pruned nodes, max_depth=5\u001b[0m\n",
      "\u001b[34m[27]#011train-error:0.180733#011validation-error:0.1973\u001b[0m\n",
      "\u001b[34m[12:57:41] src/tree/updater_prune.cc:74: tree pruning end, 1 roots, 36 extra nodes, 8 pruned nodes, max_depth=5\u001b[0m\n",
      "\u001b[34m[28]#011train-error:0.1796#011validation-error:0.197\u001b[0m\n",
      "\u001b[34m[12:57:42] src/tree/updater_prune.cc:74: tree pruning end, 1 roots, 36 extra nodes, 6 pruned nodes, max_depth=5\u001b[0m\n",
      "\u001b[34m[29]#011train-error:0.177733#011validation-error:0.1961\u001b[0m\n",
      "\u001b[34m[12:57:43] src/tree/updater_prune.cc:74: tree pruning end, 1 roots, 24 extra nodes, 10 pruned nodes, max_depth=5\u001b[0m\n",
      "\u001b[34m[30]#011train-error:0.176867#011validation-error:0.1976\u001b[0m\n",
      "\u001b[34m[12:57:45] src/tree/updater_prune.cc:74: tree pruning end, 1 roots, 22 extra nodes, 8 pruned nodes, max_depth=5\u001b[0m\n",
      "\u001b[34m[31]#011train-error:0.1754#011validation-error:0.1967\u001b[0m\n",
      "\u001b[34m[12:57:46] src/tree/updater_prune.cc:74: tree pruning end, 1 roots, 20 extra nodes, 14 pruned nodes, max_depth=5\u001b[0m\n",
      "\u001b[34m[32]#011train-error:0.175333#011validation-error:0.1951\u001b[0m\n",
      "\u001b[34m[12:57:47] src/tree/updater_prune.cc:74: tree pruning end, 1 roots, 38 extra nodes, 8 pruned nodes, max_depth=5\u001b[0m\n",
      "\u001b[34m[33]#011train-error:0.173467#011validation-error:0.1942\u001b[0m\n",
      "\u001b[34m[12:57:48] src/tree/updater_prune.cc:74: tree pruning end, 1 roots, 26 extra nodes, 4 pruned nodes, max_depth=5\u001b[0m\n",
      "\u001b[34m[34]#011train-error:0.172533#011validation-error:0.1939\u001b[0m\n",
      "\u001b[34m[12:57:50] src/tree/updater_prune.cc:74: tree pruning end, 1 roots, 24 extra nodes, 10 pruned nodes, max_depth=5\u001b[0m\n",
      "\u001b[34m[35]#011train-error:0.170933#011validation-error:0.1942\u001b[0m\n",
      "\u001b[34m[12:57:51] src/tree/updater_prune.cc:74: tree pruning end, 1 roots, 24 extra nodes, 4 pruned nodes, max_depth=5\u001b[0m\n",
      "\u001b[34m[36]#011train-error:0.170267#011validation-error:0.1933\u001b[0m\n",
      "\u001b[34m[12:57:52] src/tree/updater_prune.cc:74: tree pruning end, 1 roots, 36 extra nodes, 8 pruned nodes, max_depth=5\u001b[0m\n",
      "\u001b[34m[37]#011train-error:0.168133#011validation-error:0.1905\u001b[0m\n",
      "\u001b[34m[12:57:54] src/tree/updater_prune.cc:74: tree pruning end, 1 roots, 34 extra nodes, 8 pruned nodes, max_depth=5\u001b[0m\n",
      "\u001b[34m[38]#011train-error:0.166067#011validation-error:0.1896\u001b[0m\n",
      "\u001b[34m[12:57:55] src/tree/updater_prune.cc:74: tree pruning end, 1 roots, 38 extra nodes, 12 pruned nodes, max_depth=5\u001b[0m\n",
      "\u001b[34m[39]#011train-error:0.1642#011validation-error:0.1896\u001b[0m\n",
      "\u001b[34m[12:57:56] src/tree/updater_prune.cc:74: tree pruning end, 1 roots, 16 extra nodes, 10 pruned nodes, max_depth=5\u001b[0m\n",
      "\u001b[34m[40]#011train-error:0.163733#011validation-error:0.1902\u001b[0m\n",
      "\u001b[34m[12:57:57] src/tree/updater_prune.cc:74: tree pruning end, 1 roots, 26 extra nodes, 6 pruned nodes, max_depth=5\u001b[0m\n",
      "\u001b[34m[41]#011train-error:0.1624#011validation-error:0.1897\u001b[0m\n",
      "\u001b[34m[12:57:59] src/tree/updater_prune.cc:74: tree pruning end, 1 roots, 18 extra nodes, 8 pruned nodes, max_depth=5\u001b[0m\n",
      "\u001b[34m[42]#011train-error:0.1616#011validation-error:0.189\u001b[0m\n",
      "\u001b[34m[12:58:00] src/tree/updater_prune.cc:74: tree pruning end, 1 roots, 24 extra nodes, 2 pruned nodes, max_depth=5\u001b[0m\n",
      "\u001b[34m[43]#011train-error:0.159533#011validation-error:0.1872\u001b[0m\n",
      "\u001b[34m[12:58:01] src/tree/updater_prune.cc:74: tree pruning end, 1 roots, 36 extra nodes, 10 pruned nodes, max_depth=5\u001b[0m\n",
      "\u001b[34m[44]#011train-error:0.159067#011validation-error:0.1876\u001b[0m\n",
      "\u001b[34m[12:58:03] src/tree/updater_prune.cc:74: tree pruning end, 1 roots, 22 extra nodes, 6 pruned nodes, max_depth=5\u001b[0m\n",
      "\u001b[34m[45]#011train-error:0.158067#011validation-error:0.1856\u001b[0m\n",
      "\u001b[34m[12:58:04] src/tree/updater_prune.cc:74: tree pruning end, 1 roots, 26 extra nodes, 16 pruned nodes, max_depth=5\u001b[0m\n",
      "\u001b[34m[46]#011train-error:0.157067#011validation-error:0.1862\u001b[0m\n",
      "\u001b[34m[12:58:06] src/tree/updater_prune.cc:74: tree pruning end, 1 roots, 14 extra nodes, 6 pruned nodes, max_depth=5\u001b[0m\n",
      "\u001b[34m[47]#011train-error:0.157067#011validation-error:0.1862\u001b[0m\n",
      "\u001b[34m[12:58:08] src/tree/updater_prune.cc:74: tree pruning end, 1 roots, 20 extra nodes, 14 pruned nodes, max_depth=5\u001b[0m\n",
      "\u001b[34m[48]#011train-error:0.156667#011validation-error:0.1856\u001b[0m\n",
      "\u001b[34m[12:58:09] src/tree/updater_prune.cc:74: tree pruning end, 1 roots, 18 extra nodes, 10 pruned nodes, max_depth=5\u001b[0m\n",
      "\u001b[34m[49]#011train-error:0.156333#011validation-error:0.1853\u001b[0m\n",
      "\u001b[34m[12:58:10] src/tree/updater_prune.cc:74: tree pruning end, 1 roots, 16 extra nodes, 12 pruned nodes, max_depth=5\u001b[0m\n",
      "\u001b[34m[50]#011train-error:0.156533#011validation-error:0.1855\u001b[0m\n",
      "\u001b[34m[12:58:11] src/tree/updater_prune.cc:74: tree pruning end, 1 roots, 20 extra nodes, 6 pruned nodes, max_depth=5\u001b[0m\n",
      "\u001b[34m[51]#011train-error:0.1552#011validation-error:0.1853\u001b[0m\n",
      "\u001b[34m[12:58:13] src/tree/updater_prune.cc:74: tree pruning end, 1 roots, 26 extra nodes, 4 pruned nodes, max_depth=5\u001b[0m\n",
      "\u001b[34m[52]#011train-error:0.153733#011validation-error:0.1858\u001b[0m\n",
      "\u001b[34m[12:58:14] src/tree/updater_prune.cc:74: tree pruning end, 1 roots, 18 extra nodes, 0 pruned nodes, max_depth=5\u001b[0m\n",
      "\u001b[34m[53]#011train-error:0.153933#011validation-error:0.1855\u001b[0m\n",
      "\u001b[34m[12:58:15] src/tree/updater_prune.cc:74: tree pruning end, 1 roots, 26 extra nodes, 10 pruned nodes, max_depth=5\u001b[0m\n",
      "\u001b[34m[54]#011train-error:0.152533#011validation-error:0.1847\u001b[0m\n",
      "\u001b[34m[12:58:17] src/tree/updater_prune.cc:74: tree pruning end, 1 roots, 16 extra nodes, 6 pruned nodes, max_depth=5\u001b[0m\n",
      "\u001b[34m[55]#011train-error:0.152467#011validation-error:0.1855\u001b[0m\n",
      "\u001b[34m[12:58:18] src/tree/updater_prune.cc:74: tree pruning end, 1 roots, 38 extra nodes, 8 pruned nodes, max_depth=5\u001b[0m\n",
      "\u001b[34m[56]#011train-error:0.151533#011validation-error:0.1845\u001b[0m\n",
      "\u001b[34m[12:58:19] src/tree/updater_prune.cc:74: tree pruning end, 1 roots, 20 extra nodes, 10 pruned nodes, max_depth=5\u001b[0m\n",
      "\u001b[34m[57]#011train-error:0.149867#011validation-error:0.1849\u001b[0m\n",
      "\u001b[34m[12:58:21] src/tree/updater_prune.cc:74: tree pruning end, 1 roots, 16 extra nodes, 10 pruned nodes, max_depth=5\u001b[0m\n",
      "\u001b[34m[58]#011train-error:0.149533#011validation-error:0.1845\u001b[0m\n",
      "\u001b[34m[12:58:22] src/tree/updater_prune.cc:74: tree pruning end, 1 roots, 14 extra nodes, 10 pruned nodes, max_depth=5\u001b[0m\n",
      "\u001b[34m[59]#011train-error:0.1494#011validation-error:0.1836\u001b[0m\n",
      "\u001b[34m[12:58:23] src/tree/updater_prune.cc:74: tree pruning end, 1 roots, 30 extra nodes, 10 pruned nodes, max_depth=5\u001b[0m\n",
      "\u001b[34m[60]#011train-error:0.1488#011validation-error:0.1826\u001b[0m\n",
      "\u001b[34m[12:58:24] src/tree/updater_prune.cc:74: tree pruning end, 1 roots, 16 extra nodes, 6 pruned nodes, max_depth=5\u001b[0m\n",
      "\u001b[34m[61]#011train-error:0.1486#011validation-error:0.1823\u001b[0m\n",
      "\u001b[34m[12:58:26] src/tree/updater_prune.cc:74: tree pruning end, 1 roots, 26 extra nodes, 6 pruned nodes, max_depth=5\u001b[0m\n",
      "\u001b[34m[62]#011train-error:0.147#011validation-error:0.1819\u001b[0m\n",
      "\u001b[34m[12:58:27] src/tree/updater_prune.cc:74: tree pruning end, 1 roots, 26 extra nodes, 12 pruned nodes, max_depth=5\u001b[0m\n",
      "\u001b[34m[63]#011train-error:0.146267#011validation-error:0.1818\u001b[0m\n",
      "\u001b[34m[12:58:28] src/tree/updater_prune.cc:74: tree pruning end, 1 roots, 20 extra nodes, 8 pruned nodes, max_depth=5\u001b[0m\n",
      "\u001b[34m[64]#011train-error:0.145933#011validation-error:0.1821\u001b[0m\n",
      "\u001b[34m[12:58:30] src/tree/updater_prune.cc:74: tree pruning end, 1 roots, 20 extra nodes, 8 pruned nodes, max_depth=5\u001b[0m\n",
      "\u001b[34m[65]#011train-error:0.145533#011validation-error:0.1817\u001b[0m\n",
      "\u001b[34m[12:58:31] src/tree/updater_prune.cc:74: tree pruning end, 1 roots, 26 extra nodes, 12 pruned nodes, max_depth=5\u001b[0m\n",
      "\u001b[34m[66]#011train-error:0.144733#011validation-error:0.1828\u001b[0m\n",
      "\u001b[34m[12:58:32] src/tree/updater_prune.cc:74: tree pruning end, 1 roots, 26 extra nodes, 14 pruned nodes, max_depth=5\u001b[0m\n",
      "\u001b[34m[67]#011train-error:0.143533#011validation-error:0.182\u001b[0m\n",
      "\u001b[34m[12:58:33] src/tree/updater_prune.cc:74: tree pruning end, 1 roots, 12 extra nodes, 6 pruned nodes, max_depth=5\u001b[0m\n",
      "\u001b[34m[68]#011train-error:0.142733#011validation-error:0.1819\u001b[0m\n",
      "\u001b[34m[12:58:35] src/tree/updater_prune.cc:74: tree pruning end, 1 roots, 24 extra nodes, 4 pruned nodes, max_depth=5\u001b[0m\n",
      "\u001b[34m[69]#011train-error:0.1424#011validation-error:0.1815\u001b[0m\n",
      "\u001b[34m[12:58:36] src/tree/updater_prune.cc:74: tree pruning end, 1 roots, 32 extra nodes, 10 pruned nodes, max_depth=5\u001b[0m\n",
      "\u001b[34m[70]#011train-error:0.140667#011validation-error:0.1807\u001b[0m\n",
      "\u001b[34m[12:58:37] src/tree/updater_prune.cc:74: tree pruning end, 1 roots, 24 extra nodes, 12 pruned nodes, max_depth=5\u001b[0m\n",
      "\u001b[34m[71]#011train-error:0.140333#011validation-error:0.1814\u001b[0m\n",
      "\u001b[34m[12:58:39] src/tree/updater_prune.cc:74: tree pruning end, 1 roots, 16 extra nodes, 12 pruned nodes, max_depth=5\u001b[0m\n",
      "\u001b[34m[72]#011train-error:0.140467#011validation-error:0.181\u001b[0m\n",
      "\u001b[34m[12:58:40] src/tree/updater_prune.cc:74: tree pruning end, 1 roots, 22 extra nodes, 8 pruned nodes, max_depth=5\u001b[0m\n",
      "\u001b[34m[73]#011train-error:0.139133#011validation-error:0.1811\u001b[0m\n",
      "\u001b[34m[12:58:41] src/tree/updater_prune.cc:74: tree pruning end, 1 roots, 14 extra nodes, 8 pruned nodes, max_depth=5\u001b[0m\n",
      "\u001b[34m[74]#011train-error:0.139067#011validation-error:0.1801\u001b[0m\n",
      "\u001b[34m[12:58:42] src/tree/updater_prune.cc:74: tree pruning end, 1 roots, 14 extra nodes, 6 pruned nodes, max_depth=5\u001b[0m\n",
      "\u001b[34m[75]#011train-error:0.139267#011validation-error:0.1808\u001b[0m\n",
      "\u001b[34m[12:58:44] src/tree/updater_prune.cc:74: tree pruning end, 1 roots, 14 extra nodes, 4 pruned nodes, max_depth=5\u001b[0m\n",
      "\u001b[34m[76]#011train-error:0.139#011validation-error:0.181\u001b[0m\n",
      "\u001b[34m[12:58:45] src/tree/updater_prune.cc:74: tree pruning end, 1 roots, 22 extra nodes, 10 pruned nodes, max_depth=5\u001b[0m\n",
      "\u001b[34m[77]#011train-error:0.136533#011validation-error:0.1791\u001b[0m\n",
      "\u001b[34m[12:58:46] src/tree/updater_prune.cc:74: tree pruning end, 1 roots, 24 extra nodes, 4 pruned nodes, max_depth=5\u001b[0m\n",
      "\u001b[34m[78]#011train-error:0.136267#011validation-error:0.1784\u001b[0m\n",
      "\u001b[34m[12:58:48] src/tree/updater_prune.cc:74: tree pruning end, 1 roots, 38 extra nodes, 10 pruned nodes, max_depth=5\u001b[0m\n",
      "\u001b[34m[79]#011train-error:0.135467#011validation-error:0.1787\u001b[0m\n",
      "\u001b[34m[12:58:49] src/tree/updater_prune.cc:74: tree pruning end, 1 roots, 16 extra nodes, 4 pruned nodes, max_depth=5\u001b[0m\n",
      "\u001b[34m[80]#011train-error:0.1352#011validation-error:0.1791\u001b[0m\n",
      "\u001b[34m[12:58:50] src/tree/updater_prune.cc:74: tree pruning end, 1 roots, 22 extra nodes, 8 pruned nodes, max_depth=5\u001b[0m\n",
      "\u001b[34m[81]#011train-error:0.134667#011validation-error:0.1787\u001b[0m\n",
      "\u001b[34m[12:58:51] src/tree/updater_prune.cc:74: tree pruning end, 1 roots, 28 extra nodes, 4 pruned nodes, max_depth=5\u001b[0m\n",
      "\u001b[34m[82]#011train-error:0.1334#011validation-error:0.1789\u001b[0m\n",
      "\u001b[34m[12:58:53] src/tree/updater_prune.cc:74: tree pruning end, 1 roots, 16 extra nodes, 8 pruned nodes, max_depth=5\u001b[0m\n",
      "\u001b[34m[83]#011train-error:0.1336#011validation-error:0.1795\u001b[0m\n",
      "\u001b[34m[12:58:54] src/tree/updater_prune.cc:74: tree pruning end, 1 roots, 14 extra nodes, 6 pruned nodes, max_depth=5\u001b[0m\n",
      "\u001b[34m[84]#011train-error:0.132933#011validation-error:0.1785\u001b[0m\n",
      "\u001b[34m[12:58:55] src/tree/updater_prune.cc:74: tree pruning end, 1 roots, 16 extra nodes, 6 pruned nodes, max_depth=5\u001b[0m\n",
      "\u001b[34m[85]#011train-error:0.133267#011validation-error:0.1784\u001b[0m\n",
      "\u001b[34m[12:58:57] src/tree/updater_prune.cc:74: tree pruning end, 1 roots, 18 extra nodes, 8 pruned nodes, max_depth=5\u001b[0m\n",
      "\u001b[34m[86]#011train-error:0.133333#011validation-error:0.1781\u001b[0m\n",
      "\u001b[34m[12:58:58] src/tree/updater_prune.cc:74: tree pruning end, 1 roots, 14 extra nodes, 8 pruned nodes, max_depth=5\u001b[0m\n",
      "\u001b[34m[87]#011train-error:0.133467#011validation-error:0.1778\u001b[0m\n",
      "\u001b[34m[12:58:59] src/tree/updater_prune.cc:74: tree pruning end, 1 roots, 14 extra nodes, 14 pruned nodes, max_depth=5\u001b[0m\n",
      "\u001b[34m[88]#011train-error:0.133067#011validation-error:0.1787\u001b[0m\n",
      "\u001b[34m[12:59:00] src/tree/updater_prune.cc:74: tree pruning end, 1 roots, 18 extra nodes, 6 pruned nodes, max_depth=5\u001b[0m\n",
      "\u001b[34m[89]#011train-error:0.131667#011validation-error:0.1773\u001b[0m\n",
      "\u001b[34m[12:59:02] src/tree/updater_prune.cc:74: tree pruning end, 1 roots, 14 extra nodes, 2 pruned nodes, max_depth=5\u001b[0m\n",
      "\u001b[34m[90]#011train-error:0.131067#011validation-error:0.1776\u001b[0m\n",
      "\u001b[34m[12:59:03] src/tree/updater_prune.cc:74: tree pruning end, 1 roots, 34 extra nodes, 4 pruned nodes, max_depth=5\u001b[0m\n",
      "\u001b[34m[91]#011train-error:0.130333#011validation-error:0.1768\u001b[0m\n",
      "\u001b[34m[12:59:05] src/tree/updater_prune.cc:74: tree pruning end, 1 roots, 10 extra nodes, 0 pruned nodes, max_depth=5\u001b[0m\n",
      "\u001b[34m[92]#011train-error:0.130267#011validation-error:0.1765\u001b[0m\n",
      "\u001b[34m[12:59:06] src/tree/updater_prune.cc:74: tree pruning end, 1 roots, 14 extra nodes, 8 pruned nodes, max_depth=5\u001b[0m\n",
      "\u001b[34m[93]#011train-error:0.129933#011validation-error:0.1761\u001b[0m\n",
      "\u001b[34m[12:59:08] src/tree/updater_prune.cc:74: tree pruning end, 1 roots, 20 extra nodes, 4 pruned nodes, max_depth=5\u001b[0m\n",
      "\u001b[34m[94]#011train-error:0.129333#011validation-error:0.177\u001b[0m\n",
      "\u001b[34m[12:59:09] src/tree/updater_prune.cc:74: tree pruning end, 1 roots, 10 extra nodes, 4 pruned nodes, max_depth=5\u001b[0m\n",
      "\u001b[34m[95]#011train-error:0.129333#011validation-error:0.1775\u001b[0m\n",
      "\u001b[34m[12:59:10] src/tree/updater_prune.cc:74: tree pruning end, 1 roots, 22 extra nodes, 6 pruned nodes, max_depth=5\u001b[0m\n",
      "\u001b[34m[96]#011train-error:0.129067#011validation-error:0.1771\u001b[0m\n",
      "\u001b[34m[12:59:12] src/tree/updater_prune.cc:74: tree pruning end, 1 roots, 10 extra nodes, 8 pruned nodes, max_depth=5\u001b[0m\n",
      "\u001b[34m[97]#011train-error:0.128533#011validation-error:0.1773\u001b[0m\n",
      "\u001b[34m[12:59:13] src/tree/updater_prune.cc:74: tree pruning end, 1 roots, 18 extra nodes, 14 pruned nodes, max_depth=5\u001b[0m\n",
      "\u001b[34m[98]#011train-error:0.128733#011validation-error:0.1772\u001b[0m\n",
      "\u001b[34m[12:59:14] src/tree/updater_prune.cc:74: tree pruning end, 1 roots, 14 extra nodes, 0 pruned nodes, max_depth=5\u001b[0m\n",
      "\u001b[34m[99]#011train-error:0.1284#011validation-error:0.1775\u001b[0m\n",
      "\u001b[34m[12:59:16] src/tree/updater_prune.cc:74: tree pruning end, 1 roots, 18 extra nodes, 8 pruned nodes, max_depth=5\u001b[0m\n",
      "\u001b[34m[100]#011train-error:0.127333#011validation-error:0.1771\u001b[0m\n",
      "\u001b[34m[12:59:17] src/tree/updater_prune.cc:74: tree pruning end, 1 roots, 22 extra nodes, 8 pruned nodes, max_depth=5\u001b[0m\n",
      "\u001b[34m[101]#011train-error:0.127#011validation-error:0.1774\u001b[0m\n",
      "\u001b[34m[12:59:18] src/tree/updater_prune.cc:74: tree pruning end, 1 roots, 20 extra nodes, 6 pruned nodes, max_depth=5\u001b[0m\n",
      "\u001b[34m[102]#011train-error:0.126867#011validation-error:0.1782\u001b[0m\n",
      "\u001b[34m[12:59:20] src/tree/updater_prune.cc:74: tree pruning end, 1 roots, 14 extra nodes, 4 pruned nodes, max_depth=5\u001b[0m\n",
      "\u001b[34m[103]#011train-error:0.1262#011validation-error:0.178\u001b[0m\n",
      "\u001b[34mStopping. Best iteration:\u001b[0m\n",
      "\u001b[34m[93]#011train-error:0.129933#011validation-error:0.1761\n",
      "\u001b[0m\n",
      "\n",
      "2021-01-24 12:59:31 Uploading - Uploading generated training model\n",
      "2021-01-24 12:59:31 Completed - Training job completed\n",
      "Training seconds: 202\n",
      "Billable seconds: 202\n"
     ]
    }
   ],
   "source": [
    "# TODO: Using the new validation and training data, 'fit' your new model.\n",
    "new_xgb.fit({'train':s3_new_input_train, 'validation':s3_new_input_validation})"
   ]
  },
  {
   "cell_type": "markdown",
   "metadata": {},
   "source": [
    "### (TODO) Check the new model\n",
    "\n",
    "So now we have a new XGBoost model that we believe more accurately represents the state of the world at this time, at least in how it relates to the sentiment analysis problem that we are working on. The next step is to double check that our model is performing reasonably.\n",
    "\n",
    "To do this, we will first test our model on the new data.\n",
    "\n",
    "**Note:** In practice this is a pretty bad idea. We already trained our model on the new data, so testing it shouldn't really tell us much. In fact, this is sort of a textbook example of leakage. We are only doing it here so that we have a numerical baseline.\n",
    "\n",
    "**Question:** How might you address the leakage problem?"
   ]
  },
  {
   "cell_type": "markdown",
   "metadata": {},
   "source": [
    "First, we create a new transformer based on our new XGBoost model.\n",
    "\n",
    "**TODO:** Create a transformer object from the newly created XGBoost model."
   ]
  },
  {
   "cell_type": "code",
   "execution_count": 65,
   "metadata": {},
   "outputs": [
    {
     "name": "stderr",
     "output_type": "stream",
     "text": [
      "Parameter image will be renamed to image_uri in SageMaker Python SDK v2.\n"
     ]
    }
   ],
   "source": [
    "# TODO: Create a transformer object from the new_xgb model\n",
    "new_xgb_transformer = new_xgb.transformer(instance_count=1, instance_type='ml.m4.xlarge')"
   ]
  },
  {
   "cell_type": "markdown",
   "metadata": {},
   "source": [
    "Next we test our model on the new data.\n",
    "\n",
    "**TODO:** Use the transformer object to transform the new data (stored in the `new_data_location` variable)"
   ]
  },
  {
   "cell_type": "code",
   "execution_count": 66,
   "metadata": {},
   "outputs": [
    {
     "name": "stdout",
     "output_type": "stream",
     "text": [
      "................................\u001b[32m2021-01-24T13:07:32.729:[sagemaker logs]: MaxConcurrentTransforms=4, MaxPayloadInMB=6, BatchStrategy=MULTI_RECORD\u001b[0m\n",
      "\u001b[34mArguments: serve\u001b[0m\n",
      "\u001b[34m[2021-01-24 13:07:32 +0000] [1] [INFO] Starting gunicorn 19.7.1\u001b[0m\n",
      "\u001b[34m[2021-01-24 13:07:32 +0000] [1] [INFO] Listening at: http://0.0.0.0:8080 (1)\u001b[0m\n",
      "\u001b[34m[2021-01-24 13:07:32 +0000] [1] [INFO] Using worker: gevent\u001b[0m\n",
      "\u001b[34m[2021-01-24 13:07:32 +0000] [36] [INFO] Booting worker with pid: 36\u001b[0m\n",
      "\u001b[34m[2021-01-24 13:07:32 +0000] [37] [INFO] Booting worker with pid: 37\u001b[0m\n",
      "\u001b[34m[2021-01-24:13:07:32:INFO] Model loaded successfully for worker : 36\u001b[0m\n",
      "\u001b[34m[2021-01-24:13:07:32:INFO] Model loaded successfully for worker : 37\u001b[0m\n",
      "\u001b[34m[2021-01-24 13:07:32 +0000] [38] [INFO] Booting worker with pid: 38\u001b[0m\n",
      "\u001b[34m[2021-01-24 13:07:32 +0000] [39] [INFO] Booting worker with pid: 39\u001b[0m\n",
      "\u001b[34m[2021-01-24:13:07:32:INFO] Model loaded successfully for worker : 38\u001b[0m\n",
      "\u001b[35mArguments: serve\u001b[0m\n",
      "\u001b[35m[2021-01-24 13:07:32 +0000] [1] [INFO] Starting gunicorn 19.7.1\u001b[0m\n",
      "\u001b[35m[2021-01-24 13:07:32 +0000] [1] [INFO] Listening at: http://0.0.0.0:8080 (1)\u001b[0m\n",
      "\u001b[35m[2021-01-24 13:07:32 +0000] [1] [INFO] Using worker: gevent\u001b[0m\n",
      "\u001b[35m[2021-01-24 13:07:32 +0000] [36] [INFO] Booting worker with pid: 36\u001b[0m\n",
      "\u001b[35m[2021-01-24 13:07:32 +0000] [37] [INFO] Booting worker with pid: 37\u001b[0m\n",
      "\u001b[35m[2021-01-24:13:07:32:INFO] Model loaded successfully for worker : 36\u001b[0m\n",
      "\u001b[35m[2021-01-24:13:07:32:INFO] Model loaded successfully for worker : 37\u001b[0m\n",
      "\u001b[35m[2021-01-24 13:07:32 +0000] [38] [INFO] Booting worker with pid: 38\u001b[0m\n",
      "\u001b[35m[2021-01-24 13:07:32 +0000] [39] [INFO] Booting worker with pid: 39\u001b[0m\n",
      "\u001b[35m[2021-01-24:13:07:32:INFO] Model loaded successfully for worker : 38\u001b[0m\n",
      "\u001b[34m[2021-01-24:13:07:32:INFO] Model loaded successfully for worker : 39\u001b[0m\n",
      "\u001b[34m[2021-01-24:13:07:33:INFO] Sniff delimiter as ','\u001b[0m\n",
      "\u001b[34m[2021-01-24:13:07:33:INFO] Determined delimiter of CSV input is ','\u001b[0m\n",
      "\u001b[34m[2021-01-24:13:07:33:INFO] Sniff delimiter as ','\u001b[0m\n",
      "\u001b[34m[2021-01-24:13:07:33:INFO] Determined delimiter of CSV input is ','\u001b[0m\n",
      "\u001b[34m[2021-01-24:13:07:33:INFO] Sniff delimiter as ','\u001b[0m\n",
      "\u001b[34m[2021-01-24:13:07:33:INFO] Determined delimiter of CSV input is ','\u001b[0m\n",
      "\u001b[35m[2021-01-24:13:07:32:INFO] Model loaded successfully for worker : 39\u001b[0m\n",
      "\u001b[35m[2021-01-24:13:07:33:INFO] Sniff delimiter as ','\u001b[0m\n",
      "\u001b[35m[2021-01-24:13:07:33:INFO] Determined delimiter of CSV input is ','\u001b[0m\n",
      "\u001b[35m[2021-01-24:13:07:33:INFO] Sniff delimiter as ','\u001b[0m\n",
      "\u001b[35m[2021-01-24:13:07:33:INFO] Determined delimiter of CSV input is ','\u001b[0m\n",
      "\u001b[35m[2021-01-24:13:07:33:INFO] Sniff delimiter as ','\u001b[0m\n",
      "\u001b[35m[2021-01-24:13:07:33:INFO] Determined delimiter of CSV input is ','\u001b[0m\n",
      "\u001b[34m[2021-01-24:13:07:34:INFO] Sniff delimiter as ','\u001b[0m\n",
      "\u001b[34m[2021-01-24:13:07:34:INFO] Determined delimiter of CSV input is ','\u001b[0m\n",
      "\u001b[35m[2021-01-24:13:07:34:INFO] Sniff delimiter as ','\u001b[0m\n",
      "\u001b[35m[2021-01-24:13:07:34:INFO] Determined delimiter of CSV input is ','\u001b[0m\n",
      "\u001b[34m[2021-01-24:13:07:35:INFO] Sniff delimiter as ','\u001b[0m\n",
      "\u001b[34m[2021-01-24:13:07:35:INFO] Determined delimiter of CSV input is ','\u001b[0m\n",
      "\u001b[34m[2021-01-24:13:07:35:INFO] Sniff delimiter as ','\u001b[0m\n",
      "\u001b[34m[2021-01-24:13:07:35:INFO] Determined delimiter of CSV input is ','\u001b[0m\n",
      "\u001b[34m[2021-01-24:13:07:35:INFO] Sniff delimiter as ','\u001b[0m\n",
      "\u001b[34m[2021-01-24:13:07:35:INFO] Determined delimiter of CSV input is ','\u001b[0m\n",
      "\u001b[35m[2021-01-24:13:07:35:INFO] Sniff delimiter as ','\u001b[0m\n",
      "\u001b[35m[2021-01-24:13:07:35:INFO] Determined delimiter of CSV input is ','\u001b[0m\n",
      "\u001b[35m[2021-01-24:13:07:35:INFO] Sniff delimiter as ','\u001b[0m\n",
      "\u001b[35m[2021-01-24:13:07:35:INFO] Determined delimiter of CSV input is ','\u001b[0m\n",
      "\u001b[35m[2021-01-24:13:07:35:INFO] Sniff delimiter as ','\u001b[0m\n",
      "\u001b[35m[2021-01-24:13:07:35:INFO] Determined delimiter of CSV input is ','\u001b[0m\n",
      "\u001b[34m[2021-01-24:13:07:36:INFO] Sniff delimiter as ','\u001b[0m\n",
      "\u001b[34m[2021-01-24:13:07:36:INFO] Determined delimiter of CSV input is ','\u001b[0m\n",
      "\u001b[35m[2021-01-24:13:07:36:INFO] Sniff delimiter as ','\u001b[0m\n",
      "\u001b[35m[2021-01-24:13:07:36:INFO] Determined delimiter of CSV input is ','\u001b[0m\n",
      "\u001b[34m[2021-01-24:13:07:38:INFO] Sniff delimiter as ','\u001b[0m\n",
      "\u001b[34m[2021-01-24:13:07:38:INFO] Determined delimiter of CSV input is ','\u001b[0m\n",
      "\u001b[34m[2021-01-24:13:07:38:INFO] Sniff delimiter as ','\u001b[0m\n",
      "\u001b[34m[2021-01-24:13:07:38:INFO] Determined delimiter of CSV input is ','\u001b[0m\n",
      "\u001b[34m[2021-01-24:13:07:39:INFO] Sniff delimiter as ','\u001b[0m\n",
      "\u001b[34m[2021-01-24:13:07:39:INFO] Determined delimiter of CSV input is ','\u001b[0m\n",
      "\u001b[34m[2021-01-24:13:07:39:INFO] Sniff delimiter as ','\u001b[0m\n",
      "\u001b[34m[2021-01-24:13:07:39:INFO] Determined delimiter of CSV input is ','\u001b[0m\n",
      "\u001b[35m[2021-01-24:13:07:38:INFO] Sniff delimiter as ','\u001b[0m\n",
      "\u001b[35m[2021-01-24:13:07:38:INFO] Determined delimiter of CSV input is ','\u001b[0m\n",
      "\u001b[35m[2021-01-24:13:07:38:INFO] Sniff delimiter as ','\u001b[0m\n",
      "\u001b[35m[2021-01-24:13:07:38:INFO] Determined delimiter of CSV input is ','\u001b[0m\n",
      "\u001b[35m[2021-01-24:13:07:39:INFO] Sniff delimiter as ','\u001b[0m\n",
      "\u001b[35m[2021-01-24:13:07:39:INFO] Determined delimiter of CSV input is ','\u001b[0m\n",
      "\u001b[35m[2021-01-24:13:07:39:INFO] Sniff delimiter as ','\u001b[0m\n",
      "\u001b[35m[2021-01-24:13:07:39:INFO] Determined delimiter of CSV input is ','\u001b[0m\n",
      "\u001b[34m[2021-01-24:13:07:41:INFO] Sniff delimiter as ','\u001b[0m\n",
      "\u001b[34m[2021-01-24:13:07:41:INFO] Determined delimiter of CSV input is ','\u001b[0m\n",
      "\u001b[35m[2021-01-24:13:07:41:INFO] Sniff delimiter as ','\u001b[0m\n",
      "\u001b[35m[2021-01-24:13:07:41:INFO] Determined delimiter of CSV input is ','\u001b[0m\n",
      "\u001b[34m[2021-01-24:13:07:41:INFO] Sniff delimiter as ','\u001b[0m\n",
      "\u001b[34m[2021-01-24:13:07:41:INFO] Determined delimiter of CSV input is ','\u001b[0m\n",
      "\u001b[35m[2021-01-24:13:07:41:INFO] Sniff delimiter as ','\u001b[0m\n",
      "\u001b[35m[2021-01-24:13:07:41:INFO] Determined delimiter of CSV input is ','\u001b[0m\n",
      "\u001b[34m[2021-01-24:13:07:41:INFO] Sniff delimiter as ','\u001b[0m\n",
      "\u001b[34m[2021-01-24:13:07:41:INFO] Determined delimiter of CSV input is ','\u001b[0m\n",
      "\u001b[34m[2021-01-24:13:07:41:INFO] Sniff delimiter as ','\u001b[0m\n",
      "\u001b[34m[2021-01-24:13:07:41:INFO] Determined delimiter of CSV input is ','\u001b[0m\n",
      "\u001b[35m[2021-01-24:13:07:41:INFO] Sniff delimiter as ','\u001b[0m\n",
      "\u001b[35m[2021-01-24:13:07:41:INFO] Determined delimiter of CSV input is ','\u001b[0m\n",
      "\u001b[35m[2021-01-24:13:07:41:INFO] Sniff delimiter as ','\u001b[0m\n",
      "\u001b[35m[2021-01-24:13:07:41:INFO] Determined delimiter of CSV input is ','\u001b[0m\n",
      "\u001b[34m[2021-01-24:13:07:43:INFO] Sniff delimiter as ','\u001b[0m\n",
      "\u001b[35m[2021-01-24:13:07:43:INFO] Sniff delimiter as ','\u001b[0m\n",
      "\u001b[34m[2021-01-24:13:07:43:INFO] Determined delimiter of CSV input is ','\u001b[0m\n",
      "\u001b[34m[2021-01-24:13:07:43:INFO] Sniff delimiter as ','\u001b[0m\n",
      "\u001b[34m[2021-01-24:13:07:43:INFO] Determined delimiter of CSV input is ','\u001b[0m\n",
      "\u001b[34m[2021-01-24:13:07:43:INFO] Sniff delimiter as ','\u001b[0m\n",
      "\u001b[34m[2021-01-24:13:07:43:INFO] Determined delimiter of CSV input is ','\u001b[0m\n",
      "\u001b[34m[2021-01-24:13:07:44:INFO] Sniff delimiter as ','\u001b[0m\n",
      "\u001b[34m[2021-01-24:13:07:44:INFO] Determined delimiter of CSV input is ','\u001b[0m\n",
      "\u001b[35m[2021-01-24:13:07:43:INFO] Determined delimiter of CSV input is ','\u001b[0m\n",
      "\u001b[35m[2021-01-24:13:07:43:INFO] Sniff delimiter as ','\u001b[0m\n",
      "\u001b[35m[2021-01-24:13:07:43:INFO] Determined delimiter of CSV input is ','\u001b[0m\n",
      "\u001b[35m[2021-01-24:13:07:43:INFO] Sniff delimiter as ','\u001b[0m\n",
      "\u001b[35m[2021-01-24:13:07:43:INFO] Determined delimiter of CSV input is ','\u001b[0m\n",
      "\u001b[35m[2021-01-24:13:07:44:INFO] Sniff delimiter as ','\u001b[0m\n",
      "\u001b[35m[2021-01-24:13:07:44:INFO] Determined delimiter of CSV input is ','\u001b[0m\n",
      "\u001b[34m[2021-01-24:13:07:46:INFO] Sniff delimiter as ','\u001b[0m\n",
      "\u001b[35m[2021-01-24:13:07:46:INFO] Sniff delimiter as ','\u001b[0m\n",
      "\u001b[34m[2021-01-24:13:07:46:INFO] Determined delimiter of CSV input is ','\u001b[0m\n",
      "\u001b[35m[2021-01-24:13:07:46:INFO] Determined delimiter of CSV input is ','\u001b[0m\n",
      "\u001b[34m[2021-01-24:13:07:46:INFO] Sniff delimiter as ','\u001b[0m\n",
      "\u001b[34m[2021-01-24:13:07:46:INFO] Determined delimiter of CSV input is ','\u001b[0m\n",
      "\u001b[34m[2021-01-24:13:07:46:INFO] Sniff delimiter as ','\u001b[0m\n",
      "\u001b[34m[2021-01-24:13:07:46:INFO] Determined delimiter of CSV input is ','\u001b[0m\n",
      "\u001b[34m[2021-01-24:13:07:46:INFO] Sniff delimiter as ','\u001b[0m\n",
      "\u001b[34m[2021-01-24:13:07:46:INFO] Determined delimiter of CSV input is ','\u001b[0m\n",
      "\u001b[35m[2021-01-24:13:07:46:INFO] Sniff delimiter as ','\u001b[0m\n",
      "\u001b[35m[2021-01-24:13:07:46:INFO] Determined delimiter of CSV input is ','\u001b[0m\n",
      "\u001b[35m[2021-01-24:13:07:46:INFO] Sniff delimiter as ','\u001b[0m\n",
      "\u001b[35m[2021-01-24:13:07:46:INFO] Determined delimiter of CSV input is ','\u001b[0m\n",
      "\u001b[35m[2021-01-24:13:07:46:INFO] Sniff delimiter as ','\u001b[0m\n",
      "\u001b[35m[2021-01-24:13:07:46:INFO] Determined delimiter of CSV input is ','\u001b[0m\n",
      "\u001b[34m[2021-01-24:13:07:49:INFO] Sniff delimiter as ','\u001b[0m\n",
      "\u001b[34m[2021-01-24:13:07:49:INFO] Determined delimiter of CSV input is ','\u001b[0m\n",
      "\u001b[35m[2021-01-24:13:07:49:INFO] Sniff delimiter as ','\u001b[0m\n",
      "\u001b[35m[2021-01-24:13:07:49:INFO] Determined delimiter of CSV input is ','\u001b[0m\n",
      "\u001b[34m[2021-01-24:13:07:51:INFO] Sniff delimiter as ','\u001b[0m\n",
      "\u001b[34m[2021-01-24:13:07:51:INFO] Determined delimiter of CSV input is ','\u001b[0m\n",
      "\u001b[34m[2021-01-24:13:07:51:INFO] Sniff delimiter as ','\u001b[0m\n",
      "\u001b[34m[2021-01-24:13:07:51:INFO] Determined delimiter of CSV input is ','\u001b[0m\n",
      "\u001b[35m[2021-01-24:13:07:51:INFO] Sniff delimiter as ','\u001b[0m\n",
      "\u001b[35m[2021-01-24:13:07:51:INFO] Determined delimiter of CSV input is ','\u001b[0m\n",
      "\u001b[35m[2021-01-24:13:07:51:INFO] Sniff delimiter as ','\u001b[0m\n",
      "\u001b[35m[2021-01-24:13:07:51:INFO] Determined delimiter of CSV input is ','\u001b[0m\n",
      "\u001b[34m[2021-01-24:13:07:51:INFO] Sniff delimiter as ','\u001b[0m\n",
      "\u001b[34m[2021-01-24:13:07:51:INFO] Determined delimiter of CSV input is ','\u001b[0m\n",
      "\u001b[34m[2021-01-24:13:07:51:INFO] Sniff delimiter as ','\u001b[0m\n",
      "\u001b[34m[2021-01-24:13:07:51:INFO] Determined delimiter of CSV input is ','\u001b[0m\n",
      "\u001b[35m[2021-01-24:13:07:51:INFO] Sniff delimiter as ','\u001b[0m\n",
      "\u001b[35m[2021-01-24:13:07:51:INFO] Determined delimiter of CSV input is ','\u001b[0m\n",
      "\u001b[35m[2021-01-24:13:07:51:INFO] Sniff delimiter as ','\u001b[0m\n",
      "\u001b[35m[2021-01-24:13:07:51:INFO] Determined delimiter of CSV input is ','\u001b[0m\n",
      "\u001b[34m[2021-01-24:13:07:53:INFO] Sniff delimiter as ','\u001b[0m\n",
      "\u001b[35m[2021-01-24:13:07:53:INFO] Sniff delimiter as ','\u001b[0m\n",
      "\u001b[34m[2021-01-24:13:07:53:INFO] Determined delimiter of CSV input is ','\u001b[0m\n",
      "\u001b[34m[2021-01-24:13:07:53:INFO] Sniff delimiter as ','\u001b[0m\n",
      "\u001b[34m[2021-01-24:13:07:53:INFO] Determined delimiter of CSV input is ','\u001b[0m\n",
      "\u001b[34m[2021-01-24:13:07:53:INFO] Sniff delimiter as ','\u001b[0m\n",
      "\u001b[34m[2021-01-24:13:07:53:INFO] Determined delimiter of CSV input is ','\u001b[0m\n",
      "\u001b[34m[2021-01-24:13:07:53:INFO] Sniff delimiter as ','\u001b[0m\n",
      "\u001b[34m[2021-01-24:13:07:53:INFO] Determined delimiter of CSV input is ','\u001b[0m\n",
      "\u001b[35m[2021-01-24:13:07:53:INFO] Determined delimiter of CSV input is ','\u001b[0m\n",
      "\u001b[35m[2021-01-24:13:07:53:INFO] Sniff delimiter as ','\u001b[0m\n",
      "\u001b[35m[2021-01-24:13:07:53:INFO] Determined delimiter of CSV input is ','\u001b[0m\n",
      "\u001b[35m[2021-01-24:13:07:53:INFO] Sniff delimiter as ','\u001b[0m\n",
      "\u001b[35m[2021-01-24:13:07:53:INFO] Determined delimiter of CSV input is ','\u001b[0m\n",
      "\u001b[35m[2021-01-24:13:07:53:INFO] Sniff delimiter as ','\u001b[0m\n",
      "\u001b[35m[2021-01-24:13:07:53:INFO] Determined delimiter of CSV input is ','\u001b[0m\n",
      "\u001b[34m[2021-01-24:13:07:55:INFO] Sniff delimiter as ','\u001b[0m\n",
      "\u001b[34m[2021-01-24:13:07:55:INFO] Determined delimiter of CSV input is ','\u001b[0m\n",
      "\u001b[34m[2021-01-24:13:07:56:INFO] Sniff delimiter as ','\u001b[0m\n",
      "\u001b[34m[2021-01-24:13:07:56:INFO] Determined delimiter of CSV input is ','\u001b[0m\n",
      "\u001b[34m[2021-01-24:13:07:56:INFO] Sniff delimiter as ','\u001b[0m\n",
      "\u001b[34m[2021-01-24:13:07:56:INFO] Determined delimiter of CSV input is ','\u001b[0m\n",
      "\u001b[35m[2021-01-24:13:07:55:INFO] Sniff delimiter as ','\u001b[0m\n",
      "\u001b[35m[2021-01-24:13:07:55:INFO] Determined delimiter of CSV input is ','\u001b[0m\n",
      "\u001b[35m[2021-01-24:13:07:56:INFO] Sniff delimiter as ','\u001b[0m\n",
      "\u001b[35m[2021-01-24:13:07:56:INFO] Determined delimiter of CSV input is ','\u001b[0m\n",
      "\u001b[35m[2021-01-24:13:07:56:INFO] Sniff delimiter as ','\u001b[0m\n",
      "\u001b[35m[2021-01-24:13:07:56:INFO] Determined delimiter of CSV input is ','\u001b[0m\n",
      "\n"
     ]
    }
   ],
   "source": [
    "# TODO: Using new_xgb_transformer, transform the new_data_location data. You may wish to\n",
    "#       'wait' for the transform job to finish.\n",
    "new_xgb_transformer.transform(new_data_location, content_type='text/csv', split_type='Line')\n",
    "\n",
    "new_xgb_transformer.wait()"
   ]
  },
  {
   "cell_type": "markdown",
   "metadata": {},
   "source": [
    "Copy the results to our local instance."
   ]
  },
  {
   "cell_type": "code",
   "execution_count": 67,
   "metadata": {},
   "outputs": [
    {
     "name": "stdout",
     "output_type": "stream",
     "text": [
      "download: s3://sagemaker-us-east-1-459717541543/xgboost-2021-01-24-13-02-17-789/new_data.csv.out to ../data/sentiment_update/new_data.csv.out\r\n"
     ]
    }
   ],
   "source": [
    "!aws s3 cp --recursive $new_xgb_transformer.output_path $data_dir"
   ]
  },
  {
   "cell_type": "markdown",
   "metadata": {},
   "source": [
    "And see how well the model did."
   ]
  },
  {
   "cell_type": "code",
   "execution_count": 68,
   "metadata": {},
   "outputs": [],
   "source": [
    "predictions = pd.read_csv(os.path.join(data_dir, 'new_data.csv.out'), header=None)\n",
    "predictions = [round(num) for num in predictions.squeeze().values]"
   ]
  },
  {
   "cell_type": "code",
   "execution_count": 69,
   "metadata": {},
   "outputs": [
    {
     "data": {
      "text/plain": [
       "0.8516"
      ]
     },
     "execution_count": 69,
     "metadata": {},
     "output_type": "execute_result"
    }
   ],
   "source": [
    "accuracy_score(new_Y, predictions)"
   ]
  },
  {
   "cell_type": "markdown",
   "metadata": {},
   "source": [
    "As expected, since we trained the model on this data, our model performs pretty well. So, we have reason to believe that our new XGBoost model is a \"better\" model.\n",
    "\n",
    "However, before we start changing our deployed model, we should first make sure that our new model isn't too different. In other words, if our new model performed really poorly on the original test data then this might be an indication that something else has gone wrong.\n",
    "\n",
    "To start with, since we got rid of the variable that stored the original test reviews, we will read them in again from the cache that we created in Step 3. Note that we need to make sure that we read in the original test data after it has been pre-processed with `nltk` but before it has been bag of words encoded. This is because we need to use the new vocabulary instead of the original one."
   ]
  },
  {
   "cell_type": "code",
   "execution_count": 70,
   "metadata": {},
   "outputs": [
    {
     "name": "stdout",
     "output_type": "stream",
     "text": [
      "Read preprocessed data from cache file: preprocessed_data.pkl\n"
     ]
    }
   ],
   "source": [
    "cache_data = None\n",
    "with open(os.path.join(cache_dir, \"preprocessed_data.pkl\"), \"rb\") as f:\n",
    "            cache_data = pickle.load(f)\n",
    "            print(\"Read preprocessed data from cache file:\", \"preprocessed_data.pkl\")\n",
    "            \n",
    "test_X = cache_data['words_test']\n",
    "test_Y = cache_data['labels_test']\n",
    "\n",
    "# Here we set cache_data to None so that it doesn't occupy memory\n",
    "cache_data = None"
   ]
  },
  {
   "cell_type": "markdown",
   "metadata": {},
   "source": [
    "Once we've loaded the original test reviews, we need to create a bag of words encoding of them using the new vocabulary that we created, based on the new data.\n",
    "\n",
    "**TODO:** Transform the original test data using the new vocabulary."
   ]
  },
  {
   "cell_type": "code",
   "execution_count": 71,
   "metadata": {},
   "outputs": [],
   "source": [
    "# TODO: Use the new_vectorizer object that you created earlier to transform the test_X data.\n",
    "test_X = new_vectorizer.transform(test_X).toarray()"
   ]
  },
  {
   "cell_type": "markdown",
   "metadata": {},
   "source": [
    "Now that we have correctly encoded the original test data, we can write it to the local instance, upload it to S3 and test it."
   ]
  },
  {
   "cell_type": "code",
   "execution_count": 72,
   "metadata": {},
   "outputs": [],
   "source": [
    "pd.DataFrame(test_X).to_csv(os.path.join(data_dir, 'test.csv'), header=False, index=False)"
   ]
  },
  {
   "cell_type": "code",
   "execution_count": 73,
   "metadata": {},
   "outputs": [],
   "source": [
    "test_location = session.upload_data(os.path.join(data_dir, 'test.csv'), key_prefix=prefix)"
   ]
  },
  {
   "cell_type": "code",
   "execution_count": 74,
   "metadata": {},
   "outputs": [
    {
     "name": "stdout",
     "output_type": "stream",
     "text": [
      "...............................\u001b[32m2021-01-24T13:16:25.429:[sagemaker logs]: MaxConcurrentTransforms=4, MaxPayloadInMB=6, BatchStrategy=MULTI_RECORD\u001b[0m\n",
      "\u001b[34mArguments: serve\u001b[0m\n",
      "\u001b[34m[2021-01-24 13:16:25 +0000] [1] [INFO] Starting gunicorn 19.7.1\u001b[0m\n",
      "\u001b[34m[2021-01-24 13:16:25 +0000] [1] [INFO] Listening at: http://0.0.0.0:8080 (1)\u001b[0m\n",
      "\u001b[34m[2021-01-24 13:16:25 +0000] [1] [INFO] Using worker: gevent\u001b[0m\n",
      "\u001b[34m[2021-01-24 13:16:25 +0000] [36] [INFO] Booting worker with pid: 36\u001b[0m\n",
      "\u001b[34m[2021-01-24 13:16:25 +0000] [37] [INFO] Booting worker with pid: 37\u001b[0m\n",
      "\u001b[34m[2021-01-24 13:16:25 +0000] [38] [INFO] Booting worker with pid: 38\u001b[0m\n",
      "\u001b[34m[2021-01-24:13:16:25:INFO] Model loaded successfully for worker : 36\u001b[0m\n",
      "\u001b[34m[2021-01-24:13:16:25:INFO] Model loaded successfully for worker : 37\u001b[0m\n",
      "\u001b[35mArguments: serve\u001b[0m\n",
      "\u001b[35m[2021-01-24 13:16:25 +0000] [1] [INFO] Starting gunicorn 19.7.1\u001b[0m\n",
      "\u001b[35m[2021-01-24 13:16:25 +0000] [1] [INFO] Listening at: http://0.0.0.0:8080 (1)\u001b[0m\n",
      "\u001b[35m[2021-01-24 13:16:25 +0000] [1] [INFO] Using worker: gevent\u001b[0m\n",
      "\u001b[35m[2021-01-24 13:16:25 +0000] [36] [INFO] Booting worker with pid: 36\u001b[0m\n",
      "\u001b[35m[2021-01-24 13:16:25 +0000] [37] [INFO] Booting worker with pid: 37\u001b[0m\n",
      "\u001b[35m[2021-01-24 13:16:25 +0000] [38] [INFO] Booting worker with pid: 38\u001b[0m\n",
      "\u001b[35m[2021-01-24:13:16:25:INFO] Model loaded successfully for worker : 36\u001b[0m\n",
      "\u001b[35m[2021-01-24:13:16:25:INFO] Model loaded successfully for worker : 37\u001b[0m\n",
      "\u001b[34m[2021-01-24 13:16:25 +0000] [39] [INFO] Booting worker with pid: 39\u001b[0m\n",
      "\u001b[34m[2021-01-24:13:16:25:INFO] Model loaded successfully for worker : 38\u001b[0m\n",
      "\u001b[34m[2021-01-24:13:16:25:INFO] Model loaded successfully for worker : 39\u001b[0m\n",
      "\u001b[34m[2021-01-24:13:16:25:INFO] Sniff delimiter as ','\u001b[0m\n",
      "\u001b[34m[2021-01-24:13:16:25:INFO] Determined delimiter of CSV input is ','\u001b[0m\n",
      "\u001b[34m[2021-01-24:13:16:25:INFO] Sniff delimiter as ','\u001b[0m\n",
      "\u001b[34m[2021-01-24:13:16:25:INFO] Determined delimiter of CSV input is ','\u001b[0m\n",
      "\u001b[34m[2021-01-24:13:16:25:INFO] Sniff delimiter as ','\u001b[0m\n",
      "\u001b[34m[2021-01-24:13:16:25:INFO] Determined delimiter of CSV input is ','\u001b[0m\n",
      "\u001b[34m[2021-01-24:13:16:26:INFO] Sniff delimiter as ','\u001b[0m\n",
      "\u001b[34m[2021-01-24:13:16:26:INFO] Determined delimiter of CSV input is ','\u001b[0m\n",
      "\u001b[35m[2021-01-24 13:16:25 +0000] [39] [INFO] Booting worker with pid: 39\u001b[0m\n",
      "\u001b[35m[2021-01-24:13:16:25:INFO] Model loaded successfully for worker : 38\u001b[0m\n",
      "\u001b[35m[2021-01-24:13:16:25:INFO] Model loaded successfully for worker : 39\u001b[0m\n",
      "\u001b[35m[2021-01-24:13:16:25:INFO] Sniff delimiter as ','\u001b[0m\n",
      "\u001b[35m[2021-01-24:13:16:25:INFO] Determined delimiter of CSV input is ','\u001b[0m\n",
      "\u001b[35m[2021-01-24:13:16:25:INFO] Sniff delimiter as ','\u001b[0m\n",
      "\u001b[35m[2021-01-24:13:16:25:INFO] Determined delimiter of CSV input is ','\u001b[0m\n",
      "\u001b[35m[2021-01-24:13:16:25:INFO] Sniff delimiter as ','\u001b[0m\n",
      "\u001b[35m[2021-01-24:13:16:25:INFO] Determined delimiter of CSV input is ','\u001b[0m\n",
      "\u001b[35m[2021-01-24:13:16:26:INFO] Sniff delimiter as ','\u001b[0m\n",
      "\u001b[35m[2021-01-24:13:16:26:INFO] Determined delimiter of CSV input is ','\u001b[0m\n",
      "\u001b[34m[2021-01-24:13:16:28:INFO] Sniff delimiter as ','\u001b[0m\n",
      "\u001b[34m[2021-01-24:13:16:28:INFO] Determined delimiter of CSV input is ','\u001b[0m\n",
      "\u001b[34m[2021-01-24:13:16:28:INFO] Sniff delimiter as ','\u001b[0m\n",
      "\u001b[34m[2021-01-24:13:16:28:INFO] Determined delimiter of CSV input is ','\u001b[0m\n",
      "\u001b[34m[2021-01-24:13:16:28:INFO] Sniff delimiter as ','\u001b[0m\n",
      "\u001b[34m[2021-01-24:13:16:28:INFO] Determined delimiter of CSV input is ','\u001b[0m\n",
      "\u001b[34m[2021-01-24:13:16:28:INFO] Sniff delimiter as ','\u001b[0m\n",
      "\u001b[34m[2021-01-24:13:16:28:INFO] Determined delimiter of CSV input is ','\u001b[0m\n",
      "\u001b[35m[2021-01-24:13:16:28:INFO] Sniff delimiter as ','\u001b[0m\n",
      "\u001b[35m[2021-01-24:13:16:28:INFO] Determined delimiter of CSV input is ','\u001b[0m\n",
      "\u001b[35m[2021-01-24:13:16:28:INFO] Sniff delimiter as ','\u001b[0m\n",
      "\u001b[35m[2021-01-24:13:16:28:INFO] Determined delimiter of CSV input is ','\u001b[0m\n",
      "\u001b[35m[2021-01-24:13:16:28:INFO] Sniff delimiter as ','\u001b[0m\n",
      "\u001b[35m[2021-01-24:13:16:28:INFO] Determined delimiter of CSV input is ','\u001b[0m\n",
      "\u001b[35m[2021-01-24:13:16:28:INFO] Sniff delimiter as ','\u001b[0m\n",
      "\u001b[35m[2021-01-24:13:16:28:INFO] Determined delimiter of CSV input is ','\u001b[0m\n",
      "\u001b[34m[2021-01-24:13:16:30:INFO] Sniff delimiter as ','\u001b[0m\n",
      "\u001b[34m[2021-01-24:13:16:30:INFO] Determined delimiter of CSV input is ','\u001b[0m\n",
      "\u001b[34m[2021-01-24:13:16:30:INFO] Sniff delimiter as ','\u001b[0m\n",
      "\u001b[34m[2021-01-24:13:16:30:INFO] Determined delimiter of CSV input is ','\u001b[0m\n",
      "\u001b[34m[2021-01-24:13:16:31:INFO] Sniff delimiter as ','\u001b[0m\n",
      "\u001b[34m[2021-01-24:13:16:31:INFO] Determined delimiter of CSV input is ','\u001b[0m\n",
      "\u001b[34m[2021-01-24:13:16:31:INFO] Sniff delimiter as ','\u001b[0m\n",
      "\u001b[34m[2021-01-24:13:16:31:INFO] Determined delimiter of CSV input is ','\u001b[0m\n",
      "\u001b[35m[2021-01-24:13:16:30:INFO] Sniff delimiter as ','\u001b[0m\n",
      "\u001b[35m[2021-01-24:13:16:30:INFO] Determined delimiter of CSV input is ','\u001b[0m\n",
      "\u001b[35m[2021-01-24:13:16:30:INFO] Sniff delimiter as ','\u001b[0m\n",
      "\u001b[35m[2021-01-24:13:16:30:INFO] Determined delimiter of CSV input is ','\u001b[0m\n",
      "\u001b[35m[2021-01-24:13:16:31:INFO] Sniff delimiter as ','\u001b[0m\n",
      "\u001b[35m[2021-01-24:13:16:31:INFO] Determined delimiter of CSV input is ','\u001b[0m\n",
      "\u001b[35m[2021-01-24:13:16:31:INFO] Sniff delimiter as ','\u001b[0m\n",
      "\u001b[35m[2021-01-24:13:16:31:INFO] Determined delimiter of CSV input is ','\u001b[0m\n",
      "\u001b[34m[2021-01-24:13:16:33:INFO] Sniff delimiter as ','\u001b[0m\n",
      "\u001b[34m[2021-01-24:13:16:33:INFO] Determined delimiter of CSV input is ','\u001b[0m\n",
      "\u001b[35m[2021-01-24:13:16:33:INFO] Sniff delimiter as ','\u001b[0m\n",
      "\u001b[35m[2021-01-24:13:16:33:INFO] Determined delimiter of CSV input is ','\u001b[0m\n",
      "\u001b[34m[2021-01-24:13:16:33:INFO] Sniff delimiter as ','\u001b[0m\n",
      "\u001b[34m[2021-01-24:13:16:33:INFO] Determined delimiter of CSV input is ','\u001b[0m\n",
      "\u001b[34m[2021-01-24:13:16:33:INFO] Sniff delimiter as ','\u001b[0m\n",
      "\u001b[34m[2021-01-24:13:16:33:INFO] Determined delimiter of CSV input is ','\u001b[0m\n",
      "\u001b[34m[2021-01-24:13:16:33:INFO] Sniff delimiter as ','\u001b[0m\n",
      "\u001b[34m[2021-01-24:13:16:33:INFO] Determined delimiter of CSV input is ','\u001b[0m\n",
      "\u001b[35m[2021-01-24:13:16:33:INFO] Sniff delimiter as ','\u001b[0m\n",
      "\u001b[35m[2021-01-24:13:16:33:INFO] Determined delimiter of CSV input is ','\u001b[0m\n",
      "\u001b[35m[2021-01-24:13:16:33:INFO] Sniff delimiter as ','\u001b[0m\n",
      "\u001b[35m[2021-01-24:13:16:33:INFO] Determined delimiter of CSV input is ','\u001b[0m\n",
      "\u001b[35m[2021-01-24:13:16:33:INFO] Sniff delimiter as ','\u001b[0m\n",
      "\u001b[35m[2021-01-24:13:16:33:INFO] Determined delimiter of CSV input is ','\u001b[0m\n",
      "\u001b[34m[2021-01-24:13:16:36:INFO] Sniff delimiter as ','\u001b[0m\n",
      "\u001b[34m[2021-01-24:13:16:36:INFO] Determined delimiter of CSV input is ','\u001b[0m\n",
      "\u001b[35m[2021-01-24:13:16:36:INFO] Sniff delimiter as ','\u001b[0m\n",
      "\u001b[35m[2021-01-24:13:16:36:INFO] Determined delimiter of CSV input is ','\u001b[0m\n",
      "\u001b[34m[2021-01-24:13:16:38:INFO] Sniff delimiter as ','\u001b[0m\n",
      "\u001b[34m[2021-01-24:13:16:38:INFO] Determined delimiter of CSV input is ','\u001b[0m\n",
      "\u001b[34m[2021-01-24:13:16:38:INFO] Sniff delimiter as ','\u001b[0m\n",
      "\u001b[34m[2021-01-24:13:16:38:INFO] Determined delimiter of CSV input is ','\u001b[0m\n",
      "\u001b[35m[2021-01-24:13:16:38:INFO] Sniff delimiter as ','\u001b[0m\n",
      "\u001b[35m[2021-01-24:13:16:38:INFO] Determined delimiter of CSV input is ','\u001b[0m\n",
      "\u001b[35m[2021-01-24:13:16:38:INFO] Sniff delimiter as ','\u001b[0m\n",
      "\u001b[35m[2021-01-24:13:16:38:INFO] Determined delimiter of CSV input is ','\u001b[0m\n",
      "\u001b[34m[2021-01-24:13:16:38:INFO] Sniff delimiter as ','\u001b[0m\n",
      "\u001b[34m[2021-01-24:13:16:38:INFO] Determined delimiter of CSV input is ','\u001b[0m\n",
      "\u001b[34m[2021-01-24:13:16:38:INFO] Sniff delimiter as ','\u001b[0m\n",
      "\u001b[34m[2021-01-24:13:16:38:INFO] Determined delimiter of CSV input is ','\u001b[0m\n",
      "\u001b[35m[2021-01-24:13:16:38:INFO] Sniff delimiter as ','\u001b[0m\n",
      "\u001b[35m[2021-01-24:13:16:38:INFO] Determined delimiter of CSV input is ','\u001b[0m\n",
      "\u001b[35m[2021-01-24:13:16:38:INFO] Sniff delimiter as ','\u001b[0m\n",
      "\u001b[35m[2021-01-24:13:16:38:INFO] Determined delimiter of CSV input is ','\u001b[0m\n",
      "\u001b[34m[2021-01-24:13:16:40:INFO] Sniff delimiter as ','\u001b[0m\n",
      "\u001b[34m[2021-01-24:13:16:40:INFO] Determined delimiter of CSV input is ','\u001b[0m\n",
      "\u001b[34m[2021-01-24:13:16:40:INFO] Sniff delimiter as ','\u001b[0m\n",
      "\u001b[34m[2021-01-24:13:16:40:INFO] Determined delimiter of CSV input is ','\u001b[0m\n",
      "\u001b[34m[2021-01-24:13:16:40:INFO] Sniff delimiter as ','\u001b[0m\n",
      "\u001b[34m[2021-01-24:13:16:40:INFO] Determined delimiter of CSV input is ','\u001b[0m\n",
      "\u001b[34m[2021-01-24:13:16:40:INFO] Sniff delimiter as ','\u001b[0m\n",
      "\u001b[34m[2021-01-24:13:16:40:INFO] Determined delimiter of CSV input is ','\u001b[0m\n",
      "\u001b[35m[2021-01-24:13:16:40:INFO] Sniff delimiter as ','\u001b[0m\n",
      "\u001b[35m[2021-01-24:13:16:40:INFO] Determined delimiter of CSV input is ','\u001b[0m\n",
      "\u001b[35m[2021-01-24:13:16:40:INFO] Sniff delimiter as ','\u001b[0m\n",
      "\u001b[35m[2021-01-24:13:16:40:INFO] Determined delimiter of CSV input is ','\u001b[0m\n",
      "\u001b[35m[2021-01-24:13:16:40:INFO] Sniff delimiter as ','\u001b[0m\n",
      "\u001b[35m[2021-01-24:13:16:40:INFO] Determined delimiter of CSV input is ','\u001b[0m\n",
      "\u001b[35m[2021-01-24:13:16:40:INFO] Sniff delimiter as ','\u001b[0m\n",
      "\u001b[35m[2021-01-24:13:16:40:INFO] Determined delimiter of CSV input is ','\u001b[0m\n",
      "\u001b[34m[2021-01-24:13:16:42:INFO] Sniff delimiter as ','\u001b[0m\n",
      "\u001b[34m[2021-01-24:13:16:42:INFO] Determined delimiter of CSV input is ','\u001b[0m\n",
      "\u001b[34m[2021-01-24:13:16:43:INFO] Sniff delimiter as ','\u001b[0m\n",
      "\u001b[34m[2021-01-24:13:16:43:INFO] Determined delimiter of CSV input is ','\u001b[0m\n",
      "\u001b[35m[2021-01-24:13:16:42:INFO] Sniff delimiter as ','\u001b[0m\n",
      "\u001b[35m[2021-01-24:13:16:42:INFO] Determined delimiter of CSV input is ','\u001b[0m\n",
      "\u001b[35m[2021-01-24:13:16:43:INFO] Sniff delimiter as ','\u001b[0m\n",
      "\u001b[35m[2021-01-24:13:16:43:INFO] Determined delimiter of CSV input is ','\u001b[0m\n",
      "\u001b[34m[2021-01-24:13:16:43:INFO] Sniff delimiter as ','\u001b[0m\n",
      "\u001b[34m[2021-01-24:13:16:43:INFO] Determined delimiter of CSV input is ','\u001b[0m\n",
      "\u001b[34m[2021-01-24:13:16:43:INFO] Sniff delimiter as ','\u001b[0m\n",
      "\u001b[34m[2021-01-24:13:16:43:INFO] Determined delimiter of CSV input is ','\u001b[0m\n",
      "\u001b[35m[2021-01-24:13:16:43:INFO] Sniff delimiter as ','\u001b[0m\n",
      "\u001b[35m[2021-01-24:13:16:43:INFO] Determined delimiter of CSV input is ','\u001b[0m\n",
      "\u001b[35m[2021-01-24:13:16:43:INFO] Sniff delimiter as ','\u001b[0m\n",
      "\u001b[35m[2021-01-24:13:16:43:INFO] Determined delimiter of CSV input is ','\u001b[0m\n",
      "\n",
      "\u001b[34m[2021-01-24:13:16:45:INFO] Sniff delimiter as ','\u001b[0m\n",
      "\u001b[34m[2021-01-24:13:16:45:INFO] Determined delimiter of CSV input is ','\u001b[0m\n",
      "\u001b[34m[2021-01-24:13:16:46:INFO] Sniff delimiter as ','\u001b[0m\n",
      "\u001b[34m[2021-01-24:13:16:46:INFO] Determined delimiter of CSV input is ','\u001b[0m\n",
      "\u001b[35m[2021-01-24:13:16:45:INFO] Sniff delimiter as ','\u001b[0m\n",
      "\u001b[35m[2021-01-24:13:16:45:INFO] Determined delimiter of CSV input is ','\u001b[0m\n",
      "\u001b[35m[2021-01-24:13:16:46:INFO] Sniff delimiter as ','\u001b[0m\n",
      "\u001b[35m[2021-01-24:13:16:46:INFO] Determined delimiter of CSV input is ','\u001b[0m\n",
      "\u001b[34m[2021-01-24:13:16:47:INFO] Sniff delimiter as ','\u001b[0m\n",
      "\u001b[34m[2021-01-24:13:16:47:INFO] Determined delimiter of CSV input is ','\u001b[0m\n",
      "\u001b[34m[2021-01-24:13:16:47:INFO] Sniff delimiter as ','\u001b[0m\n",
      "\u001b[34m[2021-01-24:13:16:47:INFO] Determined delimiter of CSV input is ','\u001b[0m\n",
      "\u001b[34m[2021-01-24:13:16:48:INFO] Sniff delimiter as ','\u001b[0m\n",
      "\u001b[34m[2021-01-24:13:16:48:INFO] Determined delimiter of CSV input is ','\u001b[0m\n",
      "\u001b[35m[2021-01-24:13:16:47:INFO] Sniff delimiter as ','\u001b[0m\n",
      "\u001b[35m[2021-01-24:13:16:47:INFO] Determined delimiter of CSV input is ','\u001b[0m\n",
      "\u001b[35m[2021-01-24:13:16:47:INFO] Sniff delimiter as ','\u001b[0m\n",
      "\u001b[35m[2021-01-24:13:16:47:INFO] Determined delimiter of CSV input is ','\u001b[0m\n",
      "\u001b[35m[2021-01-24:13:16:48:INFO] Sniff delimiter as ','\u001b[0m\n",
      "\u001b[35m[2021-01-24:13:16:48:INFO] Determined delimiter of CSV input is ','\u001b[0m\n",
      "\u001b[34m[2021-01-24:13:16:48:INFO] Sniff delimiter as ','\u001b[0m\n",
      "\u001b[34m[2021-01-24:13:16:48:INFO] Determined delimiter of CSV input is ','\u001b[0m\n",
      "\u001b[35m[2021-01-24:13:16:48:INFO] Sniff delimiter as ','\u001b[0m\n",
      "\u001b[35m[2021-01-24:13:16:48:INFO] Determined delimiter of CSV input is ','\u001b[0m\n"
     ]
    }
   ],
   "source": [
    "new_xgb_transformer.transform(test_location, content_type='text/csv', split_type='Line')\n",
    "new_xgb_transformer.wait()"
   ]
  },
  {
   "cell_type": "code",
   "execution_count": 86,
   "metadata": {},
   "outputs": [],
   "source": [
    "!aws s3 cp --recursive $new_xgb_transformer.output_path $data_dir"
   ]
  },
  {
   "cell_type": "code",
   "execution_count": 87,
   "metadata": {},
   "outputs": [],
   "source": [
    "predictions = pd.read_csv(os.path.join(data_dir, 'test.csv.out'), header=None)\n",
    "predictions = [round(num) for num in predictions.squeeze().values]"
   ]
  },
  {
   "cell_type": "code",
   "execution_count": 88,
   "metadata": {},
   "outputs": [
    {
     "data": {
      "text/plain": [
       "0.83812"
      ]
     },
     "execution_count": 88,
     "metadata": {},
     "output_type": "execute_result"
    }
   ],
   "source": [
    "accuracy_score(test_Y, predictions)"
   ]
  },
  {
   "cell_type": "markdown",
   "metadata": {},
   "source": [
    "It would appear that our new XGBoost model is performing quite well on the old test data. This gives us some indication that our new model should be put into production and replace our original model."
   ]
  },
  {
   "cell_type": "markdown",
   "metadata": {},
   "source": [
    "## Step 6: (TODO) Updating the Model\n",
    "\n",
    "So we have a new model that we'd like to use instead of one that is already deployed. Furthermore, we are assuming that the model that is already deployed is being used in some sort of application. As a result, what we want to do is update the existing endpoint so that it uses our new model.\n",
    "\n",
    "Of course, to do this we need to create an endpoint configuration for our newly created model.\n",
    "\n",
    "First, note that we can access the name of the model that we created above using the `model_name` property of the transformer. The reason for this is that in order for the transformer to create a batch transform job it needs to first create the model object inside of SageMaker. Since we've sort of already done this we should take advantage of it."
   ]
  },
  {
   "cell_type": "code",
   "execution_count": 89,
   "metadata": {},
   "outputs": [
    {
     "data": {
      "text/plain": [
       "'xgboost-2021-01-24-12-53-46-415'"
      ]
     },
     "execution_count": 89,
     "metadata": {},
     "output_type": "execute_result"
    }
   ],
   "source": [
    "new_xgb_transformer.model_name"
   ]
  },
  {
   "cell_type": "markdown",
   "metadata": {},
   "source": [
    "Next, we create an endpoint configuration using the low level approach of creating the dictionary object which describes the endpoint configuration we want.\n",
    "\n",
    "**TODO:** Using the low level approach, create a new endpoint configuration. Don't forget that it needs a name and that the name needs to be unique. If you get stuck, try looking at the Boston Housing Low Level Deployment tutorial notebook."
   ]
  },
  {
   "cell_type": "code",
   "execution_count": 90,
   "metadata": {},
   "outputs": [],
   "source": [
    "from time import gmtime, strftime\n",
    "\n",
    "\n",
    "# TODO: Give our endpoint configuration a name. Remember, it needs to be unique.\n",
    "new_xgb_endpoint_config_name = \"sentiment-update-xgboost-endpoint-config-\" + strftime(\"%Y-%m-%d-%H-%M-%S\", gmtime())\n",
    "\n",
    "# TODO: Using the SageMaker Client, construct the endpoint configuration.\n",
    "new_xgb_endpoint_config_info = session.sagemaker_client.create_endpoint_config(\n",
    "                            EndpointConfigName = new_xgb_endpoint_config_name,\n",
    "                            ProductionVariants = [{\n",
    "                                \"InstanceType\": \"ml.m4.xlarge\",\n",
    "                                \"InitialVariantWeight\": 1,\n",
    "                                \"InitialInstanceCount\": 1,\n",
    "                                \"ModelName\": new_xgb_transformer.model_name,\n",
    "                                \"VariantName\": \"XGB-Model\"\n",
    "                            }])"
   ]
  },
  {
   "cell_type": "markdown",
   "metadata": {},
   "source": [
    "Once the endpoint configuration has been constructed, it is a straightforward matter to ask SageMaker to update the existing endpoint so that it uses the new endpoint configuration.\n",
    "\n",
    "Of note here is that SageMaker does this in such a way that there is no downtime. Essentially, SageMaker deploys the new model and then updates the original endpoint so that it points to the newly deployed model. After that, the original model is shut down. This way, whatever app is using our endpoint won't notice that we've changed the model that is being used.\n",
    "\n",
    "**TODO:** Use the SageMaker Client to update the endpoint that you deployed earlier."
   ]
  },
  {
   "cell_type": "code",
   "execution_count": 92,
   "metadata": {},
   "outputs": [
    {
     "data": {
      "text/plain": [
       "{'EndpointArn': 'arn:aws:sagemaker:us-east-1:459717541543:endpoint/xgboost-2021-01-24-11-45-40-884',\n",
       " 'ResponseMetadata': {'RequestId': '48302395-f52b-44e6-b7e4-7f25c6c8219e',\n",
       "  'HTTPStatusCode': 200,\n",
       "  'HTTPHeaders': {'x-amzn-requestid': '48302395-f52b-44e6-b7e4-7f25c6c8219e',\n",
       "   'content-type': 'application/x-amz-json-1.1',\n",
       "   'content-length': '99',\n",
       "   'date': 'Sun, 24 Jan 2021 13:36:22 GMT'},\n",
       "  'RetryAttempts': 0}}"
      ]
     },
     "execution_count": 92,
     "metadata": {},
     "output_type": "execute_result"
    }
   ],
   "source": [
    "# TODO: Update the xgb_predictor.endpoint so that it uses new_xgb_endpoint_config_name.\n",
    "session.sagemaker_client.update_endpoint(EndpointName = xgb_predictor.endpoint, EndpointConfigName = new_xgb_endpoint_config_name)"
   ]
  },
  {
   "cell_type": "markdown",
   "metadata": {},
   "source": [
    "And, as is generally the case with SageMaker requests, this is being done in the background so if we want to wait for it to complete we need to call the appropriate method."
   ]
  },
  {
   "cell_type": "code",
   "execution_count": 93,
   "metadata": {},
   "outputs": [
    {
     "name": "stdout",
     "output_type": "stream",
     "text": [
      "---------------!"
     ]
    },
    {
     "data": {
      "text/plain": [
       "{'EndpointName': 'xgboost-2021-01-24-11-45-40-884',\n",
       " 'EndpointArn': 'arn:aws:sagemaker:us-east-1:459717541543:endpoint/xgboost-2021-01-24-11-45-40-884',\n",
       " 'EndpointConfigName': 'sentiment-update-xgboost-endpoint-config-2021-01-24-13-31-13',\n",
       " 'ProductionVariants': [{'VariantName': 'XGB-Model',\n",
       "   'DeployedImages': [{'SpecifiedImage': '811284229777.dkr.ecr.us-east-1.amazonaws.com/xgboost:1',\n",
       "     'ResolvedImage': '811284229777.dkr.ecr.us-east-1.amazonaws.com/xgboost@sha256:52e3bbc5f2a9462bed15983634d6f615439afd4e81e8778337d734c93083bd5e',\n",
       "     'ResolutionTime': datetime.datetime(2021, 1, 24, 13, 36, 26, 363000, tzinfo=tzlocal())}],\n",
       "   'CurrentWeight': 1.0,\n",
       "   'DesiredWeight': 1.0,\n",
       "   'CurrentInstanceCount': 1,\n",
       "   'DesiredInstanceCount': 1}],\n",
       " 'EndpointStatus': 'InService',\n",
       " 'CreationTime': datetime.datetime(2021, 1, 24, 12, 22, 25, 671000, tzinfo=tzlocal()),\n",
       " 'LastModifiedTime': datetime.datetime(2021, 1, 24, 13, 43, 41, 872000, tzinfo=tzlocal()),\n",
       " 'ResponseMetadata': {'RequestId': 'ef2312df-6d27-4a25-86c3-64d29436e440',\n",
       "  'HTTPStatusCode': 200,\n",
       "  'HTTPHeaders': {'x-amzn-requestid': 'ef2312df-6d27-4a25-86c3-64d29436e440',\n",
       "   'content-type': 'application/x-amz-json-1.1',\n",
       "   'content-length': '742',\n",
       "   'date': 'Sun, 24 Jan 2021 13:44:05 GMT'},\n",
       "  'RetryAttempts': 0}}"
      ]
     },
     "execution_count": 93,
     "metadata": {},
     "output_type": "execute_result"
    }
   ],
   "source": [
    "session.wait_for_endpoint(xgb_predictor.endpoint)"
   ]
  },
  {
   "cell_type": "markdown",
   "metadata": {},
   "source": [
    "## Step 7: Delete the Endpoint\n",
    "\n",
    "Of course, since we are done with the deployed endpoint we need to make sure to shut it down, otherwise we will continue to be charged for it."
   ]
  },
  {
   "cell_type": "code",
   "execution_count": 94,
   "metadata": {},
   "outputs": [],
   "source": [
    "xgb_predictor.delete_endpoint()"
   ]
  },
  {
   "cell_type": "markdown",
   "metadata": {},
   "source": [
    "## Some Additional Questions\n",
    "\n",
    "This notebook is a little different from the other notebooks in this module. In part, this is because it is meant to be a little bit closer to the type of problem you may face in a real world scenario. Of course, this problem is a very easy one with a prescribed solution, but there are many other interesting questions that we did not consider here and that you may wish to consider yourself.\n",
    "\n",
    "For example,\n",
    "- What other ways could the underlying distribution change?\n",
    "- Is it a good idea to re-train the model using only the new data?\n",
    "- What would change if the quantity of new data wasn't large. Say you only received 500 samples?\n"
   ]
  },
  {
   "cell_type": "markdown",
   "metadata": {},
   "source": [
    "## Optional: Clean up\n",
    "\n",
    "The default notebook instance on SageMaker doesn't have a lot of excess disk space available. As you continue to complete and execute notebooks you will eventually fill up this disk space, leading to errors which can be difficult to diagnose. Once you are completely finished using a notebook it is a good idea to remove the files that you created along the way. Of course, you can do this from the terminal or from the notebook hub if you would like. The cell below contains some commands to clean up the created files from within the notebook."
   ]
  },
  {
   "cell_type": "code",
   "execution_count": 98,
   "metadata": {},
   "outputs": [],
   "source": [
    "# First we will remove all of the files contained in the data_dir directory\n",
    "!rm $data_dir/*\n",
    "\n",
    "# And then we delete the directory itself\n",
    "!rmdir $data_dir\n",
    "\n",
    "# Similarly we will remove the files in the cache_dir directory and the directory itself\n",
    "!rm $cache_dir/*\n",
    "!rmdir $cache_dir"
   ]
  },
  {
   "cell_type": "code",
   "execution_count": null,
   "metadata": {},
   "outputs": [],
   "source": []
  }
 ],
 "metadata": {
  "kernelspec": {
   "display_name": "conda_pytorch_p36",
   "language": "python",
   "name": "conda_pytorch_p36"
  },
  "language_info": {
   "codemirror_mode": {
    "name": "ipython",
    "version": 3
   },
   "file_extension": ".py",
   "mimetype": "text/x-python",
   "name": "python",
   "nbconvert_exporter": "python",
   "pygments_lexer": "ipython3",
   "version": "3.6.10"
  }
 },
 "nbformat": 4,
 "nbformat_minor": 2
}
