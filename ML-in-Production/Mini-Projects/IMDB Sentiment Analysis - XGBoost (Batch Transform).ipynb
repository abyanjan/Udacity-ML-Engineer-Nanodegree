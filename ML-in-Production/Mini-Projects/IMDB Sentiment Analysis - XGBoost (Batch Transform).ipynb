{
 "cells": [
  {
   "cell_type": "markdown",
   "metadata": {},
   "source": [
    "# Sentiment Analysis\n",
    "\n",
    "## Using XGBoost in SageMaker\n",
    "\n",
    "_Deep Learning Nanodegree Program | Deployment_\n",
    "\n",
    "---\n",
    "\n",
    "As our first example of using Amazon's SageMaker service we will construct a random tree model to predict the sentiment of a movie review. You may have seen a version of this example in a pervious lesson although it would have been done using the sklearn package. Instead, we will be using the XGBoost package as it is provided to us by Amazon.\n",
    "\n",
    "## Instructions\n",
    "\n",
    "Some template code has already been provided for you, and you will need to implement additional functionality to successfully complete this notebook. You will not need to modify the included code beyond what is requested. Sections that begin with '**TODO**' in the header indicate that you need to complete or implement some portion within them. Instructions will be provided for each section and the specifics of the implementation are marked in the code block with a `# TODO: ...` comment. Please be sure to read the instructions carefully!\n",
    "\n",
    "In addition to implementing code, there may be questions for you to answer which relate to the task and your implementation. Each section where you will answer a question is preceded by a '**Question:**' header. Carefully read each question and provide your answer below the '**Answer:**' header by editing the Markdown cell.\n",
    "\n",
    "> **Note**: Code and Markdown cells can be executed using the **Shift+Enter** keyboard shortcut. In addition, a cell can be edited by typically clicking it (double-click for Markdown cells) or by pressing **Enter** while it is highlighted."
   ]
  },
  {
   "cell_type": "code",
   "execution_count": 1,
   "metadata": {},
   "outputs": [
    {
     "name": "stdout",
     "output_type": "stream",
     "text": [
      "Collecting sagemaker==1.72.0\n",
      "  Using cached sagemaker-1.72.0-py2.py3-none-any.whl\n",
      "Requirement already satisfied: packaging>=20.0 in /home/ec2-user/anaconda3/envs/python3/lib/python3.6/site-packages (from sagemaker==1.72.0) (20.7)\n",
      "Requirement already satisfied: importlib-metadata>=1.4.0 in /home/ec2-user/anaconda3/envs/python3/lib/python3.6/site-packages (from sagemaker==1.72.0) (3.1.0)\n",
      "Requirement already satisfied: scipy>=0.19.0 in /home/ec2-user/anaconda3/envs/python3/lib/python3.6/site-packages (from sagemaker==1.72.0) (1.4.1)\n",
      "Requirement already satisfied: numpy>=1.9.0 in /home/ec2-user/anaconda3/envs/python3/lib/python3.6/site-packages (from sagemaker==1.72.0) (1.19.4)\n",
      "Requirement already satisfied: protobuf>=3.1 in /home/ec2-user/anaconda3/envs/python3/lib/python3.6/site-packages (from sagemaker==1.72.0) (3.14.0)\n",
      "Requirement already satisfied: boto3>=1.14.12 in /home/ec2-user/anaconda3/envs/python3/lib/python3.6/site-packages (from sagemaker==1.72.0) (1.16.37)\n",
      "Requirement already satisfied: protobuf3-to-dict>=0.1.5 in /home/ec2-user/anaconda3/envs/python3/lib/python3.6/site-packages (from sagemaker==1.72.0) (0.1.5)\n",
      "Requirement already satisfied: jmespath<1.0.0,>=0.7.1 in /home/ec2-user/anaconda3/envs/python3/lib/python3.6/site-packages (from boto3>=1.14.12->sagemaker==1.72.0) (0.10.0)\n",
      "Requirement already satisfied: botocore<1.20.0,>=1.19.37 in /home/ec2-user/anaconda3/envs/python3/lib/python3.6/site-packages (from boto3>=1.14.12->sagemaker==1.72.0) (1.19.37)\n",
      "Requirement already satisfied: s3transfer<0.4.0,>=0.3.0 in /home/ec2-user/anaconda3/envs/python3/lib/python3.6/site-packages (from boto3>=1.14.12->sagemaker==1.72.0) (0.3.3)\n",
      "Requirement already satisfied: python-dateutil<3.0.0,>=2.1 in /home/ec2-user/anaconda3/envs/python3/lib/python3.6/site-packages (from botocore<1.20.0,>=1.19.37->boto3>=1.14.12->sagemaker==1.72.0) (2.8.1)\n",
      "Requirement already satisfied: jmespath<1.0.0,>=0.7.1 in /home/ec2-user/anaconda3/envs/python3/lib/python3.6/site-packages (from boto3>=1.14.12->sagemaker==1.72.0) (0.10.0)\n",
      "Requirement already satisfied: urllib3<1.27,>=1.25.4 in /home/ec2-user/anaconda3/envs/python3/lib/python3.6/site-packages (from botocore<1.20.0,>=1.19.37->boto3>=1.14.12->sagemaker==1.72.0) (1.25.11)\n",
      "Requirement already satisfied: zipp>=0.5 in /home/ec2-user/anaconda3/envs/python3/lib/python3.6/site-packages (from importlib-metadata>=1.4.0->sagemaker==1.72.0) (3.4.0)\n",
      "Requirement already satisfied: pyparsing>=2.0.2 in /home/ec2-user/anaconda3/envs/python3/lib/python3.6/site-packages (from packaging>=20.0->sagemaker==1.72.0) (2.4.7)\n",
      "Requirement already satisfied: six>=1.9 in /home/ec2-user/anaconda3/envs/python3/lib/python3.6/site-packages (from protobuf>=3.1->sagemaker==1.72.0) (1.15.0)\n",
      "Requirement already satisfied: six>=1.9 in /home/ec2-user/anaconda3/envs/python3/lib/python3.6/site-packages (from protobuf>=3.1->sagemaker==1.72.0) (1.15.0)\n",
      "Requirement already satisfied: protobuf>=3.1 in /home/ec2-user/anaconda3/envs/python3/lib/python3.6/site-packages (from sagemaker==1.72.0) (3.14.0)\n",
      "Requirement already satisfied: six>=1.9 in /home/ec2-user/anaconda3/envs/python3/lib/python3.6/site-packages (from protobuf>=3.1->sagemaker==1.72.0) (1.15.0)\n",
      "Requirement already satisfied: botocore<1.20.0,>=1.19.37 in /home/ec2-user/anaconda3/envs/python3/lib/python3.6/site-packages (from boto3>=1.14.12->sagemaker==1.72.0) (1.19.37)\n",
      "Requirement already satisfied: numpy>=1.9.0 in /home/ec2-user/anaconda3/envs/python3/lib/python3.6/site-packages (from sagemaker==1.72.0) (1.19.4)\n",
      "Collecting smdebug-rulesconfig==0.1.4\n",
      "  Using cached smdebug_rulesconfig-0.1.4-py2.py3-none-any.whl (10 kB)\n",
      "Installing collected packages: smdebug-rulesconfig, sagemaker\n",
      "  Attempting uninstall: smdebug-rulesconfig\n",
      "    Found existing installation: smdebug-rulesconfig 1.0.0\n",
      "    Uninstalling smdebug-rulesconfig-1.0.0:\n",
      "      Successfully uninstalled smdebug-rulesconfig-1.0.0\n",
      "  Attempting uninstall: sagemaker\n",
      "    Found existing installation: sagemaker 2.19.0\n",
      "    Uninstalling sagemaker-2.19.0:\n",
      "      Successfully uninstalled sagemaker-2.19.0\n",
      "Successfully installed sagemaker-1.72.0 smdebug-rulesconfig-0.1.4\n",
      "\u001b[33mWARNING: You are using pip version 20.3; however, version 20.3.3 is available.\n",
      "You should consider upgrading via the '/home/ec2-user/anaconda3/envs/python3/bin/python -m pip install --upgrade pip' command.\u001b[0m\n"
     ]
    }
   ],
   "source": [
    "# Make sure that we use SageMaker 1.x\n",
    "!pip install sagemaker==1.72.0"
   ]
  },
  {
   "cell_type": "markdown",
   "metadata": {},
   "source": [
    "## Step 1: Downloading the data\n",
    "\n",
    "The dataset we are going to use is very popular among researchers in Natural Language Processing, usually referred to as the [IMDb dataset](http://ai.stanford.edu/~amaas/data/sentiment/). It consists of movie reviews from the website [imdb.com](http://www.imdb.com/), each labeled as either '**pos**itive', if the reviewer enjoyed the film, or '**neg**ative' otherwise.\n",
    "\n",
    "> Maas, Andrew L., et al. [Learning Word Vectors for Sentiment Analysis](http://ai.stanford.edu/~amaas/data/sentiment/). In _Proceedings of the 49th Annual Meeting of the Association for Computational Linguistics: Human Language Technologies_. Association for Computational Linguistics, 2011.\n",
    "\n",
    "We begin by using some Jupyter Notebook magic to download and extract the dataset."
   ]
  },
  {
   "cell_type": "code",
   "execution_count": 2,
   "metadata": {},
   "outputs": [
    {
     "name": "stdout",
     "output_type": "stream",
     "text": [
      "--2021-01-22 12:38:18--  http://ai.stanford.edu/~amaas/data/sentiment/aclImdb_v1.tar.gz\n",
      "Resolving ai.stanford.edu (ai.stanford.edu)... 171.64.68.10\n",
      "Connecting to ai.stanford.edu (ai.stanford.edu)|171.64.68.10|:80... connected.\n",
      "HTTP request sent, awaiting response... 200 OK\n",
      "Length: 84125825 (80M) [application/x-gzip]\n",
      "Saving to: ‘../data/aclImdb_v1.tar.gz’\n",
      "\n",
      "../data/aclImdb_v1. 100%[===================>]  80.23M  23.4MB/s    in 4.4s    \n",
      "\n",
      "2021-01-22 12:38:22 (18.2 MB/s) - ‘../data/aclImdb_v1.tar.gz’ saved [84125825/84125825]\n",
      "\n"
     ]
    }
   ],
   "source": [
    "%mkdir ../data\n",
    "!wget -O ../data/aclImdb_v1.tar.gz http://ai.stanford.edu/~amaas/data/sentiment/aclImdb_v1.tar.gz\n",
    "!tar -zxf ../data/aclImdb_v1.tar.gz -C ../data"
   ]
  },
  {
   "cell_type": "markdown",
   "metadata": {},
   "source": [
    "## Step 2: Preparing the data\n",
    "\n",
    "The data we have downloaded is split into various files, each of which contains a single review. It will be much easier going forward if we combine these individual files into two large files, one for training and one for testing."
   ]
  },
  {
   "cell_type": "code",
   "execution_count": 3,
   "metadata": {},
   "outputs": [],
   "source": [
    "import os\n",
    "import glob\n",
    "\n",
    "def read_imdb_data(data_dir='../data/aclImdb'):\n",
    "    data = {}\n",
    "    labels = {}\n",
    "    \n",
    "    for data_type in ['train', 'test']:\n",
    "        data[data_type] = {}\n",
    "        labels[data_type] = {}\n",
    "        \n",
    "        for sentiment in ['pos', 'neg']:\n",
    "            data[data_type][sentiment] = []\n",
    "            labels[data_type][sentiment] = []\n",
    "            \n",
    "            path = os.path.join(data_dir, data_type, sentiment, '*.txt')\n",
    "            files = glob.glob(path)\n",
    "            \n",
    "            for f in files:\n",
    "                with open(f) as review:\n",
    "                    data[data_type][sentiment].append(review.read())\n",
    "                    # Here we represent a positive review by '1' and a negative review by '0'\n",
    "                    labels[data_type][sentiment].append(1 if sentiment == 'pos' else 0)\n",
    "                    \n",
    "            assert len(data[data_type][sentiment]) == len(labels[data_type][sentiment]), \\\n",
    "                    \"{}/{} data size does not match labels size\".format(data_type, sentiment)\n",
    "                \n",
    "    return data, labels"
   ]
  },
  {
   "cell_type": "code",
   "execution_count": 4,
   "metadata": {},
   "outputs": [
    {
     "name": "stdout",
     "output_type": "stream",
     "text": [
      "IMDB reviews: train = 12500 pos / 12500 neg, test = 12500 pos / 12500 neg\n"
     ]
    }
   ],
   "source": [
    "data, labels = read_imdb_data()\n",
    "print(\"IMDB reviews: train = {} pos / {} neg, test = {} pos / {} neg\".format(\n",
    "            len(data['train']['pos']), len(data['train']['neg']),\n",
    "            len(data['test']['pos']), len(data['test']['neg'])))"
   ]
  },
  {
   "cell_type": "code",
   "execution_count": 5,
   "metadata": {},
   "outputs": [],
   "source": [
    "from sklearn.utils import shuffle\n",
    "\n",
    "def prepare_imdb_data(data, labels):\n",
    "    \"\"\"Prepare training and test sets from IMDb movie reviews.\"\"\"\n",
    "    \n",
    "    #Combine positive and negative reviews and labels\n",
    "    data_train = data['train']['pos'] + data['train']['neg']\n",
    "    data_test = data['test']['pos'] + data['test']['neg']\n",
    "    labels_train = labels['train']['pos'] + labels['train']['neg']\n",
    "    labels_test = labels['test']['pos'] + labels['test']['neg']\n",
    "    \n",
    "    #Shuffle reviews and corresponding labels within training and test sets\n",
    "    data_train, labels_train = shuffle(data_train, labels_train)\n",
    "    data_test, labels_test = shuffle(data_test, labels_test)\n",
    "    \n",
    "    # Return a unified training data, test data, training labels, test labets\n",
    "    return data_train, data_test, labels_train, labels_test"
   ]
  },
  {
   "cell_type": "code",
   "execution_count": 6,
   "metadata": {},
   "outputs": [
    {
     "name": "stdout",
     "output_type": "stream",
     "text": [
      "IMDb reviews (combined): train = 25000, test = 25000\n"
     ]
    }
   ],
   "source": [
    "train_X, test_X, train_y, test_y = prepare_imdb_data(data, labels)\n",
    "print(\"IMDb reviews (combined): train = {}, test = {}\".format(len(train_X), len(test_X)))"
   ]
  },
  {
   "cell_type": "code",
   "execution_count": 7,
   "metadata": {},
   "outputs": [
    {
     "data": {
      "text/plain": [
       "'I\\'m going to write about this movie and about \"Irreversible\" (the (in)famous scene in it). So you are warned, if you haven\\'t seen the movie yet. This are just my thoughts, why I think the movie fails (in the end - pun intended).<br /><br />Acting wise, Rosario Dawson is really good and almost conveys portraying someone almost a decade younger (a teenager in other words). The villain guy is good, but loses his \"evil\" touch right before the end. If he really never changes, then why would he let a woman tie him up? He wouldn\\'t, period. Then we also have the bartender/2nd rape Dude. Actually I don\\'t think you would need him. At least not for the 2nd rape, but more about that later on.<br /><br />Let\\'s reprise the story. Rosarios character is sexually insecure, might even have lesbian tendencies (see her scene with a female friend). This wasn\\'t intentional, as Rosario states herself, but there is sexual tension between them. Rosario\\'s character meets a guy, who is a sexual Predator, in all the bad senses. But he makes an impression on her.<br /><br />Rosario commented that her character had a boyfriend before. I beg to differ. Because she acts, as if it is her first boyfriend, which also underlines her phone conversation with her mother. Talking about her mother, here\\'s another problem. After the first rape takes place, Rosarios character doesn\\'t tell anyone what happened. Seiing that her relationship with her mother is a very close one, nothing of that gets explored after that. If Rosarios character wouldn\\'t call her mother anymore or would behave strangely, the mother would be worried like crazy. There was so much potential here. Also her female friend: We see her at the party, it\\'s obvious there is something going on and \"boom\" she is gone.<br /><br />The first rape is almost unbearable to watch. But feels like a pinch, when you compare it to the ending (rape), which feels like you\\'re getting hit with a sledge hammer! After rape no. 1 we get too stretched out scenes. Threads are opened (such as her construction work is an indication that she might be lesbian, as one guy states who tried to hit on her ...), but left in the open. No real social contact is established, if you leave the bartender guy out, who is involved in the 2nd and last rape scene. It\\'s apparent that he isn\\'t a \"nice\" guy and his character get\\'s fleshed out a bit. But when Rosarios character meets her rapist in class again, his being in the movie seems pointless. We get the point that Rosarios character isn\\'t the same anymore, that she went \"bad\" and is able to hurt people. (Too) Many scenes show exactly that, her being without emotion just doing drugs and other stuff. Back to Rapist #1 who cheats on a test, gets caught by Rosarios character and they decide to hang out together again (really?). As absurd as that sounds, the guy meets up with her, not without us having seen him beforehand, with another girl (very likely that he raped her too, although we never see anything of that, fortunately) and his football career. Well career is a stretch and he is bullied. This is an attempt to give his character some depth and it almost works, but then again is too cliché to stay with you. So Rapist #1 submits to Rosarios character ... why exactly? Because he promised her, it was her day? Again, really? A guy like that never loses control, especially with a woman he raped before ... I guess this is supposed to show us how stupid he is. The bartender guy would have worked as someone who could have hit him over the head or something, but letting him submit like that, just feels wrong. Another possibility would have a drug in his drink.<br /><br />So rapist #1 undresses and get\\'s blindfolded and let\\'s Rosarios character tie him on a bed .... seriously, that\\'s just crazy! But what comes next, is even crazier. First she talks to him, then she \"shuts\" him up and forces an object into him. This is as difficult to watch as rape scene number one. This isn\\'t about what this guy deserves or not, it\\'s just intense. And of course that was what they were aiming for. Now after she is \"done\" the bartender guy comes in and rapes ... rapist #1. If this really should work as a revenge movie, it would have been better if Rosarios character herself would have been doing all the \"revenge\". Having a henchman doing the job, takes away everything that was built up.<br /><br />This isn\\'t supposed to be entertaining/enjoyable, it\\'s a hard watch & it is Art-house. But the 10 minute (I didn\\'t count ) rape scene at the end, just smashes everything. Rosarios character is more or less, only watching what happens. Which brings me to the biggest disappointment.<br /><br />Irreversible comparison: \"Irreversible\" had the rape scene, but the movie went on (even if it was back into time). Rosario is looking into the camera in the end and says something about having to get over this. First, that comes a bit too late, that should see her say that after the initial rape. And secondly and most importantly, this is where the Art-house movie should\\'ve come in. It is more interesting seeing were Rosarios character would go after the second rape scene and how she would cope, with what she had done. But then again, she didn\\'t actually physically do that much (see above) ... a broken character that the movie cuts off ...<br /><br />Good intentions (Talia and Rosario had worked before), but failing to convey most of the things, they set out to do (even if you can see what they meant, it has to be convincing, otherwise it doesn\\'t work) ... not to mention the overlong rape scenes as they are ...'"
      ]
     },
     "execution_count": 7,
     "metadata": {},
     "output_type": "execute_result"
    }
   ],
   "source": [
    "train_X[100]"
   ]
  },
  {
   "cell_type": "markdown",
   "metadata": {},
   "source": [
    "## Step 3: Processing the data\n",
    "\n",
    "Now that we have our training and testing datasets merged and ready to use, we need to start processing the raw data into something that will be useable by our machine learning algorithm. To begin with, we remove any html formatting that may appear in the reviews and perform some standard natural language processing in order to homogenize the data."
   ]
  },
  {
   "cell_type": "code",
   "execution_count": 8,
   "metadata": {},
   "outputs": [
    {
     "name": "stderr",
     "output_type": "stream",
     "text": [
      "[nltk_data] Downloading package stopwords to\n",
      "[nltk_data]     /home/ec2-user/nltk_data...\n",
      "[nltk_data]   Unzipping corpora/stopwords.zip.\n"
     ]
    }
   ],
   "source": [
    "import nltk\n",
    "nltk.download(\"stopwords\")\n",
    "from nltk.corpus import stopwords\n",
    "from nltk.stem.porter import *\n",
    "stemmer = PorterStemmer()"
   ]
  },
  {
   "cell_type": "code",
   "execution_count": 9,
   "metadata": {},
   "outputs": [],
   "source": [
    "import re\n",
    "from bs4 import BeautifulSoup\n",
    "\n",
    "def review_to_words(review):\n",
    "    text = BeautifulSoup(review, \"html.parser\").get_text() # Remove HTML tags\n",
    "    text = re.sub(r\"[^a-zA-Z0-9]\", \" \", text.lower()) # Convert to lower case\n",
    "    words = text.split() # Split string into words\n",
    "    words = [w for w in words if w not in stopwords.words(\"english\")] # Remove stopwords\n",
    "    words = [PorterStemmer().stem(w) for w in words] # stem\n",
    "    \n",
    "    return words"
   ]
  },
  {
   "cell_type": "code",
   "execution_count": 10,
   "metadata": {},
   "outputs": [],
   "source": [
    "import pickle\n",
    "\n",
    "cache_dir = os.path.join(\"../cache\", \"sentiment_analysis\")  # where to store cache files\n",
    "os.makedirs(cache_dir, exist_ok=True)  # ensure cache directory exists\n",
    "\n",
    "def preprocess_data(data_train, data_test, labels_train, labels_test,\n",
    "                    cache_dir=cache_dir, cache_file=\"preprocessed_data.pkl\"):\n",
    "    \"\"\"Convert each review to words; read from cache if available.\"\"\"\n",
    "\n",
    "    # If cache_file is not None, try to read from it first\n",
    "    cache_data = None\n",
    "    if cache_file is not None:\n",
    "        try:\n",
    "            with open(os.path.join(cache_dir, cache_file), \"rb\") as f:\n",
    "                cache_data = pickle.load(f)\n",
    "            print(\"Read preprocessed data from cache file:\", cache_file)\n",
    "        except:\n",
    "            pass  # unable to read from cache, but that's okay\n",
    "    \n",
    "    # If cache is missing, then do the heavy lifting\n",
    "    if cache_data is None:\n",
    "        # Preprocess training and test data to obtain words for each review\n",
    "        #words_train = list(map(review_to_words, data_train))\n",
    "        #words_test = list(map(review_to_words, data_test))\n",
    "        words_train = [review_to_words(review) for review in data_train]\n",
    "        words_test = [review_to_words(review) for review in data_test]\n",
    "        \n",
    "        # Write to cache file for future runs\n",
    "        if cache_file is not None:\n",
    "            cache_data = dict(words_train=words_train, words_test=words_test,\n",
    "                              labels_train=labels_train, labels_test=labels_test)\n",
    "            with open(os.path.join(cache_dir, cache_file), \"wb\") as f:\n",
    "                pickle.dump(cache_data, f)\n",
    "            print(\"Wrote preprocessed data to cache file:\", cache_file)\n",
    "    else:\n",
    "        # Unpack data loaded from cache file\n",
    "        words_train, words_test, labels_train, labels_test = (cache_data['words_train'],\n",
    "                cache_data['words_test'], cache_data['labels_train'], cache_data['labels_test'])\n",
    "    \n",
    "    return words_train, words_test, labels_train, labels_test"
   ]
  },
  {
   "cell_type": "code",
   "execution_count": 11,
   "metadata": {},
   "outputs": [
    {
     "name": "stdout",
     "output_type": "stream",
     "text": [
      "Wrote preprocessed data to cache file: preprocessed_data.pkl\n"
     ]
    }
   ],
   "source": [
    "# Preprocess data\n",
    "train_X, test_X, train_y, test_y = preprocess_data(train_X, test_X, train_y, test_y)"
   ]
  },
  {
   "cell_type": "markdown",
   "metadata": {},
   "source": [
    "### Extract Bag-of-Words features\n",
    "\n",
    "For the model we will be implementing, rather than using the reviews directly, we are going to transform each review into a Bag-of-Words feature representation. Keep in mind that 'in the wild' we will only have access to the training set so our transformer can only use the training set to construct a representation."
   ]
  },
  {
   "cell_type": "code",
   "execution_count": 12,
   "metadata": {},
   "outputs": [
    {
     "name": "stderr",
     "output_type": "stream",
     "text": [
      "/home/ec2-user/anaconda3/envs/python3/lib/python3.6/site-packages/sklearn/externals/joblib/__init__.py:15: FutureWarning: sklearn.externals.joblib is deprecated in 0.21 and will be removed in 0.23. Please import this functionality directly from joblib, which can be installed with: pip install joblib. If this warning is raised when loading pickled models, you may need to re-serialize those models with scikit-learn 0.21+.\n",
      "  warnings.warn(msg, category=FutureWarning)\n"
     ]
    }
   ],
   "source": [
    "import numpy as np\n",
    "from sklearn.feature_extraction.text import CountVectorizer\n",
    "from sklearn.externals import joblib\n",
    "# joblib is an enhanced version of pickle that is more efficient for storing NumPy arrays\n",
    "\n",
    "def extract_BoW_features(words_train, words_test, vocabulary_size=5000,\n",
    "                         cache_dir=cache_dir, cache_file=\"bow_features.pkl\"):\n",
    "    \"\"\"Extract Bag-of-Words for a given set of documents, already preprocessed into words.\"\"\"\n",
    "    \n",
    "    # If cache_file is not None, try to read from it first\n",
    "    cache_data = None\n",
    "    if cache_file is not None:\n",
    "        try:\n",
    "            with open(os.path.join(cache_dir, cache_file), \"rb\") as f:\n",
    "                cache_data = joblib.load(f)\n",
    "            print(\"Read features from cache file:\", cache_file)\n",
    "        except:\n",
    "            pass  # unable to read from cache, but that's okay\n",
    "    \n",
    "    # If cache is missing, then do the heavy lifting\n",
    "    if cache_data is None:\n",
    "        # Fit a vectorizer to training documents and use it to transform them\n",
    "        # NOTE: Training documents have already been preprocessed and tokenized into words;\n",
    "        #       pass in dummy functions to skip those steps, e.g. preprocessor=lambda x: x\n",
    "        vectorizer = CountVectorizer(max_features=vocabulary_size,\n",
    "                preprocessor=lambda x: x, tokenizer=lambda x: x)  # already preprocessed\n",
    "        features_train = vectorizer.fit_transform(words_train).toarray()\n",
    "\n",
    "        # Apply the same vectorizer to transform the test documents (ignore unknown words)\n",
    "        features_test = vectorizer.transform(words_test).toarray()\n",
    "        \n",
    "        # NOTE: Remember to convert the features using .toarray() for a compact representation\n",
    "        \n",
    "        # Write to cache file for future runs (store vocabulary as well)\n",
    "        if cache_file is not None:\n",
    "            vocabulary = vectorizer.vocabulary_\n",
    "            cache_data = dict(features_train=features_train, features_test=features_test,\n",
    "                             vocabulary=vocabulary)\n",
    "            with open(os.path.join(cache_dir, cache_file), \"wb\") as f:\n",
    "                joblib.dump(cache_data, f)\n",
    "            print(\"Wrote features to cache file:\", cache_file)\n",
    "    else:\n",
    "        # Unpack data loaded from cache file\n",
    "        features_train, features_test, vocabulary = (cache_data['features_train'],\n",
    "                cache_data['features_test'], cache_data['vocabulary'])\n",
    "    \n",
    "    # Return both the extracted features as well as the vocabulary\n",
    "    return features_train, features_test, vocabulary"
   ]
  },
  {
   "cell_type": "code",
   "execution_count": null,
   "metadata": {},
   "outputs": [],
   "source": [
    "# Extract Bag of Words features for both training and test datasets\n",
    "train_X, test_X, vocabulary = extract_BoW_features(train_X, test_X)"
   ]
  },
  {
   "cell_type": "markdown",
   "metadata": {},
   "source": [
    "## Step 4: Classification using XGBoost\n",
    "\n",
    "Now that we have created the feature representation of our training (and testing) data, it is time to start setting up and using the XGBoost classifier provided by SageMaker.\n",
    "\n",
    "### (TODO) Writing the dataset\n",
    "\n",
    "The XGBoost classifier that we will be using requires the dataset to be written to a file and stored using Amazon S3. To do this, we will start by splitting the training dataset into two parts, the data we will train the model with and a validation set. Then, we will write those datasets to a file and upload the files to S3. In addition, we will write the test set input to a file and upload the file to S3. This is so that we can use SageMakers Batch Transform functionality to test our model once we've fit it."
   ]
  },
  {
   "cell_type": "code",
   "execution_count": 16,
   "metadata": {},
   "outputs": [],
   "source": [
    "import pandas as pd\n",
    "\n",
    "# TODO: Split the train_X and train_y arrays into the DataFrames val_X, train_X and val_y, train_y. Make sure that\n",
    "#       val_X and val_y contain 10 000 entires while train_X and train_y contain the remaining 15 000 entries.\n",
    "\n",
    "# Creating val_X and train_X\n",
    "val_X = train_X[:10000]\n",
    "train_X = train_X[10000:]\n",
    "\n",
    "# Creating val_yand train_y with the remaining data\n",
    "val_y = train_y[:10000]\n",
    "train_y = train_y[10000:]"
   ]
  },
  {
   "cell_type": "code",
   "execution_count": 24,
   "metadata": {},
   "outputs": [],
   "source": [
    "# convert to data frames\n",
    "val_X = pd.DataFrame(val_X)\n",
    "train_X = pd.DataFrame(train_X)\n",
    "\n",
    "val_y = pd.DataFrame(val_y)\n",
    "train_y = pd.DataFrame(train_y)"
   ]
  },
  {
   "cell_type": "markdown",
   "metadata": {},
   "source": [
    "The documentation for the XGBoost algorithm in SageMaker requires that the saved datasets should contain no headers or index and that for the training and validation data, the label should occur first for each sample.\n",
    "\n",
    "For more information about this and other algorithms, the SageMaker developer documentation can be found on __[Amazon's website.](https://docs.aws.amazon.com/sagemaker/latest/dg/)__"
   ]
  },
  {
   "cell_type": "code",
   "execution_count": 17,
   "metadata": {},
   "outputs": [],
   "source": [
    "# First we make sure that the local directory in which we'd like to store the training and validation csv files exists.\n",
    "data_dir = '../data/xgboost'\n",
    "if not os.path.exists(data_dir):\n",
    "    os.makedirs(data_dir)"
   ]
  },
  {
   "cell_type": "code",
   "execution_count": 25,
   "metadata": {},
   "outputs": [],
   "source": [
    "# First, save the test data to test.csv in the data_dir directory. Note that we do not save the associated ground truth\n",
    "# labels, instead we will use them later to compare with our model output.\n",
    "\n",
    "pd.DataFrame(test_X).to_csv(os.path.join(data_dir, 'test.csv'), header=False, index=False)\n",
    "\n",
    "# TODO: Save the training and validation data to train.csv and validation.csv in the data_dir directory.\n",
    "#       Make sure that the files you create are in the correct format.\n",
    "\n",
    "pd.concat([val_y,val_X], axis = 1).to_csv(os.path.join(data_dir, 'validation.csv'), header=False, index=False)\n",
    "pd.concat([train_y,train_X], axis = 1).to_csv(os.path.join(data_dir, 'train.csv'), header=False, index=False)"
   ]
  },
  {
   "cell_type": "code",
   "execution_count": 26,
   "metadata": {},
   "outputs": [],
   "source": [
    "# To save a bit of memory we can set text_X, train_X, val_X, train_y and val_y to None.\n",
    "\n",
    "test_X = train_X = val_X = train_y = val_y = None"
   ]
  },
  {
   "cell_type": "markdown",
   "metadata": {},
   "source": [
    "### (TODO) Uploading Training / Validation files to S3\n",
    "\n",
    "Amazon's S3 service allows us to store files that can be access by both the built-in training models such as the XGBoost model we will be using as well as custom models such as the one we will see a little later.\n",
    "\n",
    "For this, and most other tasks we will be doing using SageMaker, there are two methods we could use. The first is to use the low level functionality of SageMaker which requires knowing each of the objects involved in the SageMaker environment. The second is to use the high level functionality in which certain choices have been made on the user's behalf. The low level approach benefits from allowing the user a great deal of flexibility while the high level approach makes development much quicker. For our purposes we will opt to use the high level approach although using the low-level approach is certainly an option.\n",
    "\n",
    "Recall the method `upload_data()` which is a member of object representing our current SageMaker session. What this method does is upload the data to the default bucket (which is created if it does not exist) into the path described by the key_prefix variable. To see this for yourself, once you have uploaded the data files, go to the S3 console and look to see where the files have been uploaded.\n",
    "\n",
    "For additional resources, see the __[SageMaker API documentation](http://sagemaker.readthedocs.io/en/latest/)__ and in addition the __[SageMaker Developer Guide.](https://docs.aws.amazon.com/sagemaker/latest/dg/)__"
   ]
  },
  {
   "cell_type": "code",
   "execution_count": 28,
   "metadata": {},
   "outputs": [],
   "source": [
    "import sagemaker\n",
    "\n",
    "session = sagemaker.Session() # Store the current SageMaker session\n",
    "\n",
    "# S3 prefix (which folder will we use)\n",
    "prefix = 'sentiment-xgboost'\n",
    "\n",
    "# TODO: Upload the test.csv, train.csv and validation.csv files which are contained in data_dir to S3 using sess.upload_data().\n",
    "test_location = session.upload_data(os.path.join(data_dir,'test.csv'), key_prefix=prefix)\n",
    "val_location = session.upload_data(os.path.join(data_dir,'validation.csv'), key_prefix=prefix)\n",
    "train_location = session.upload_data(os.path.join(data_dir,'train.csv'), key_prefix=prefix)"
   ]
  },
  {
   "cell_type": "markdown",
   "metadata": {},
   "source": [
    "### (TODO) Creating the XGBoost model\n",
    "\n",
    "Now that the data has been uploaded it is time to create the XGBoost model. To begin with, we need to do some setup. At this point it is worth discussing what a model is in SageMaker. It is easiest to think of a model of comprising three different objects in the SageMaker ecosystem, which interact with one another.\n",
    "\n",
    "- Model Artifacts\n",
    "- Training Code (Container)\n",
    "- Inference Code (Container)\n",
    "\n",
    "The Model Artifacts are what you might think of as the actual model itself. For example, if you were building a neural network, the model artifacts would be the weights of the various layers. In our case, for an XGBoost model, the artifacts are the actual trees that are created during training.\n",
    "\n",
    "The other two objects, the training code and the inference code are then used the manipulate the training artifacts. More precisely, the training code uses the training data that is provided and creates the model artifacts, while the inference code uses the model artifacts to make predictions on new data.\n",
    "\n",
    "The way that SageMaker runs the training and inference code is by making use of Docker containers. For now, think of a container as being a way of packaging code up so that dependencies aren't an issue."
   ]
  },
  {
   "cell_type": "code",
   "execution_count": 29,
   "metadata": {},
   "outputs": [],
   "source": [
    "from sagemaker import get_execution_role\n",
    "\n",
    "# Our current execution role is require when creating the model as the training\n",
    "# and inference code will need to access the model artifacts.\n",
    "role = get_execution_role()"
   ]
  },
  {
   "cell_type": "code",
   "execution_count": 30,
   "metadata": {},
   "outputs": [
    {
     "name": "stderr",
     "output_type": "stream",
     "text": [
      "'get_image_uri' method will be deprecated in favor of 'ImageURIProvider' class in SageMaker Python SDK v2.\n",
      "There is a more up to date SageMaker XGBoost image. To use the newer image, please set 'repo_version'='1.0-1'. For example:\n",
      "\tget_image_uri(region, 'xgboost', '1.0-1').\n"
     ]
    }
   ],
   "source": [
    "# We need to retrieve the location of the container which is provided by Amazon for using XGBoost.\n",
    "# As a matter of convenience, the training and inference code both use the same container.\n",
    "from sagemaker.amazon.amazon_estimator import get_image_uri\n",
    "\n",
    "container = get_image_uri(session.boto_region_name, 'xgboost')"
   ]
  },
  {
   "cell_type": "code",
   "execution_count": 31,
   "metadata": {},
   "outputs": [
    {
     "name": "stderr",
     "output_type": "stream",
     "text": [
      "Parameter image_name will be renamed to image_uri in SageMaker Python SDK v2.\n"
     ]
    }
   ],
   "source": [
    "# TODO: Create a SageMaker estimator using the container location determined in the previous cell.\n",
    "#       It is recommended that you use a single training instance of type ml.m4.xlarge. It is also\n",
    "#       recommended that you use 's3://{}/{}/output'.format(session.default_bucket(), prefix) as the\n",
    "#       output path.\n",
    "\n",
    "xgb = sagemaker.estimator.Estimator(container, \n",
    "                                    role,\n",
    "                                    train_instance_count=1,\n",
    "                                    train_instance_type='ml.m4.xlarge',\n",
    "                                    output_path='s3://{}/{}/output'.format(session.default_bucket(), prefix),\n",
    "                                    sagemaker_session=session \n",
    "                                   )"
   ]
  },
  {
   "cell_type": "code",
   "execution_count": 32,
   "metadata": {},
   "outputs": [],
   "source": [
    "# TODO: Set the XGBoost hyperparameters in the xgb object. Don't forget that in this case we have a binary\n",
    "#       label so we should be using the 'binary:logistic' objective.\n",
    "xgb.set_hyperparameters(max_depth=5,\n",
    "                        eta=0.2,\n",
    "                        gamma=4,\n",
    "                        min_child_weight=6,\n",
    "                        subsample=0.8,\n",
    "                        objective='binary:logistic',\n",
    "                        silent=0,\n",
    "                        early_stopping_rounds=10,\n",
    "                        num_round=500)"
   ]
  },
  {
   "cell_type": "markdown",
   "metadata": {},
   "source": [
    "### Fit the XGBoost model\n",
    "\n",
    "Now that our model has been set up we simply need to attach the training and validation datasets and then ask SageMaker to set up the computation."
   ]
  },
  {
   "cell_type": "code",
   "execution_count": 33,
   "metadata": {},
   "outputs": [
    {
     "name": "stderr",
     "output_type": "stream",
     "text": [
      "'s3_input' class will be renamed to 'TrainingInput' in SageMaker Python SDK v2.\n",
      "'s3_input' class will be renamed to 'TrainingInput' in SageMaker Python SDK v2.\n"
     ]
    }
   ],
   "source": [
    "s3_input_train = sagemaker.s3_input(s3_data=train_location, content_type='csv')\n",
    "s3_input_validation = sagemaker.s3_input(s3_data=val_location, content_type='csv')"
   ]
  },
  {
   "cell_type": "code",
   "execution_count": 34,
   "metadata": {},
   "outputs": [
    {
     "name": "stdout",
     "output_type": "stream",
     "text": [
      "2021-01-22 13:36:45 Starting - Starting the training job...\n",
      "2021-01-22 13:36:47 Starting - Launching requested ML instances......\n",
      "2021-01-22 13:38:00 Starting - Preparing the instances for training...\n",
      "2021-01-22 13:38:46 Downloading - Downloading input data...\n",
      "2021-01-22 13:38:59 Training - Downloading the training image...\n",
      "2021-01-22 13:39:36 Training - Training image download completed. Training in progress.\u001b[34mArguments: train\u001b[0m\n",
      "\u001b[34m[2021-01-22:13:39:36:INFO] Running standalone xgboost training.\u001b[0m\n",
      "\u001b[34m[2021-01-22:13:39:36:INFO] File size need to be processed in the node: 238.47mb. Available memory size in the node: 8420.95mb\u001b[0m\n",
      "\u001b[34m[2021-01-22:13:39:36:INFO] Determined delimiter of CSV input is ','\u001b[0m\n",
      "\u001b[34m[13:39:36] S3DistributionType set as FullyReplicated\u001b[0m\n",
      "\u001b[34m[13:39:38] 15000x5000 matrix with 75000000 entries loaded from /opt/ml/input/data/train?format=csv&label_column=0&delimiter=,\u001b[0m\n",
      "\u001b[34m[2021-01-22:13:39:38:INFO] Determined delimiter of CSV input is ','\u001b[0m\n",
      "\u001b[34m[13:39:38] S3DistributionType set as FullyReplicated\u001b[0m\n",
      "\u001b[34m[13:39:40] 10000x5000 matrix with 50000000 entries loaded from /opt/ml/input/data/validation?format=csv&label_column=0&delimiter=,\u001b[0m\n",
      "\u001b[34m[13:39:43] src/tree/updater_prune.cc:74: tree pruning end, 1 roots, 36 extra nodes, 8 pruned nodes, max_depth=5\u001b[0m\n",
      "\u001b[34m[0]#011train-error:0.289933#011validation-error:0.3082\u001b[0m\n",
      "\u001b[34mMultiple eval metrics have been passed: 'validation-error' will be used for early stopping.\n",
      "\u001b[0m\n",
      "\u001b[34mWill train until validation-error hasn't improved in 10 rounds.\u001b[0m\n",
      "\u001b[34m[13:39:45] src/tree/updater_prune.cc:74: tree pruning end, 1 roots, 40 extra nodes, 6 pruned nodes, max_depth=5\u001b[0m\n",
      "\u001b[34m[1]#011train-error:0.2742#011validation-error:0.2896\u001b[0m\n",
      "\u001b[34m[13:39:46] src/tree/updater_prune.cc:74: tree pruning end, 1 roots, 38 extra nodes, 10 pruned nodes, max_depth=5\u001b[0m\n",
      "\u001b[34m[2]#011train-error:0.267533#011validation-error:0.2864\u001b[0m\n",
      "\u001b[34m[13:39:47] src/tree/updater_prune.cc:74: tree pruning end, 1 roots, 40 extra nodes, 12 pruned nodes, max_depth=5\u001b[0m\n",
      "\u001b[34m[3]#011train-error:0.266#011validation-error:0.2863\u001b[0m\n",
      "\u001b[34m[13:39:49] src/tree/updater_prune.cc:74: tree pruning end, 1 roots, 30 extra nodes, 8 pruned nodes, max_depth=5\u001b[0m\n",
      "\u001b[34m[4]#011train-error:0.262333#011validation-error:0.283\u001b[0m\n",
      "\u001b[34m[13:39:50] src/tree/updater_prune.cc:74: tree pruning end, 1 roots, 40 extra nodes, 2 pruned nodes, max_depth=5\u001b[0m\n",
      "\u001b[34m[5]#011train-error:0.252333#011validation-error:0.2745\u001b[0m\n",
      "\u001b[34m[13:39:52] src/tree/updater_prune.cc:74: tree pruning end, 1 roots, 34 extra nodes, 2 pruned nodes, max_depth=5\u001b[0m\n",
      "\u001b[34m[6]#011train-error:0.2468#011validation-error:0.2694\u001b[0m\n",
      "\u001b[34m[13:39:53] src/tree/updater_prune.cc:74: tree pruning end, 1 roots, 30 extra nodes, 4 pruned nodes, max_depth=5\u001b[0m\n",
      "\u001b[34m[7]#011train-error:0.237867#011validation-error:0.2599\u001b[0m\n",
      "\u001b[34m[13:39:54] src/tree/updater_prune.cc:74: tree pruning end, 1 roots, 32 extra nodes, 10 pruned nodes, max_depth=5\u001b[0m\n",
      "\u001b[34m[8]#011train-error:0.237733#011validation-error:0.2619\u001b[0m\n",
      "\u001b[34m[13:39:56] src/tree/updater_prune.cc:74: tree pruning end, 1 roots, 34 extra nodes, 4 pruned nodes, max_depth=5\u001b[0m\n",
      "\u001b[34m[9]#011train-error:0.2276#011validation-error:0.2501\u001b[0m\n",
      "\u001b[34m[13:39:57] src/tree/updater_prune.cc:74: tree pruning end, 1 roots, 28 extra nodes, 6 pruned nodes, max_depth=5\u001b[0m\n",
      "\u001b[34m[10]#011train-error:0.2232#011validation-error:0.2444\u001b[0m\n",
      "\u001b[34m[13:39:58] src/tree/updater_prune.cc:74: tree pruning end, 1 roots, 26 extra nodes, 8 pruned nodes, max_depth=5\u001b[0m\n",
      "\u001b[34m[11]#011train-error:0.217267#011validation-error:0.2375\u001b[0m\n",
      "\u001b[34m[13:40:00] src/tree/updater_prune.cc:74: tree pruning end, 1 roots, 30 extra nodes, 12 pruned nodes, max_depth=5\u001b[0m\n",
      "\u001b[34m[12]#011train-error:0.2116#011validation-error:0.2311\u001b[0m\n",
      "\u001b[34m[13:40:01] src/tree/updater_prune.cc:74: tree pruning end, 1 roots, 26 extra nodes, 10 pruned nodes, max_depth=5\u001b[0m\n",
      "\u001b[34m[13]#011train-error:0.206933#011validation-error:0.229\u001b[0m\n",
      "\u001b[34m[13:40:02] src/tree/updater_prune.cc:74: tree pruning end, 1 roots, 32 extra nodes, 12 pruned nodes, max_depth=5\u001b[0m\n",
      "\u001b[34m[14]#011train-error:0.202933#011validation-error:0.2259\u001b[0m\n",
      "\u001b[34m[13:40:04] src/tree/updater_prune.cc:74: tree pruning end, 1 roots, 24 extra nodes, 12 pruned nodes, max_depth=5\u001b[0m\n",
      "\u001b[34m[15]#011train-error:0.198933#011validation-error:0.2226\u001b[0m\n",
      "\u001b[34m[13:40:05] src/tree/updater_prune.cc:74: tree pruning end, 1 roots, 22 extra nodes, 18 pruned nodes, max_depth=5\u001b[0m\n",
      "\u001b[34m[16]#011train-error:0.196#011validation-error:0.2228\u001b[0m\n",
      "\u001b[34m[13:40:07] src/tree/updater_prune.cc:74: tree pruning end, 1 roots, 28 extra nodes, 6 pruned nodes, max_depth=5\u001b[0m\n",
      "\u001b[34m[17]#011train-error:0.1924#011validation-error:0.219\u001b[0m\n",
      "\u001b[34m[13:40:08] src/tree/updater_prune.cc:74: tree pruning end, 1 roots, 24 extra nodes, 10 pruned nodes, max_depth=5\u001b[0m\n",
      "\u001b[34m[18]#011train-error:0.1904#011validation-error:0.2148\u001b[0m\n",
      "\u001b[34m[13:40:10] src/tree/updater_prune.cc:74: tree pruning end, 1 roots, 28 extra nodes, 2 pruned nodes, max_depth=5\u001b[0m\n",
      "\u001b[34m[19]#011train-error:0.187667#011validation-error:0.2125\u001b[0m\n",
      "\u001b[34m[13:40:11] src/tree/updater_prune.cc:74: tree pruning end, 1 roots, 18 extra nodes, 6 pruned nodes, max_depth=5\u001b[0m\n",
      "\u001b[34m[20]#011train-error:0.185#011validation-error:0.2098\u001b[0m\n",
      "\u001b[34m[13:40:12] src/tree/updater_prune.cc:74: tree pruning end, 1 roots, 24 extra nodes, 12 pruned nodes, max_depth=5\u001b[0m\n",
      "\u001b[34m[21]#011train-error:0.1834#011validation-error:0.2073\u001b[0m\n",
      "\u001b[34m[13:40:14] src/tree/updater_prune.cc:74: tree pruning end, 1 roots, 18 extra nodes, 10 pruned nodes, max_depth=5\u001b[0m\n",
      "\u001b[34m[22]#011train-error:0.1816#011validation-error:0.2042\u001b[0m\n",
      "\u001b[34m[13:40:15] src/tree/updater_prune.cc:74: tree pruning end, 1 roots, 22 extra nodes, 8 pruned nodes, max_depth=5\u001b[0m\n",
      "\u001b[34m[23]#011train-error:0.179467#011validation-error:0.2039\u001b[0m\n",
      "\u001b[34m[13:40:16] src/tree/updater_prune.cc:74: tree pruning end, 1 roots, 20 extra nodes, 16 pruned nodes, max_depth=5\u001b[0m\n",
      "\u001b[34m[24]#011train-error:0.177467#011validation-error:0.2034\u001b[0m\n",
      "\u001b[34m[13:40:17] src/tree/updater_prune.cc:74: tree pruning end, 1 roots, 28 extra nodes, 6 pruned nodes, max_depth=5\u001b[0m\n",
      "\u001b[34m[25]#011train-error:0.174333#011validation-error:0.2012\u001b[0m\n",
      "\u001b[34m[13:40:19] src/tree/updater_prune.cc:74: tree pruning end, 1 roots, 30 extra nodes, 4 pruned nodes, max_depth=5\u001b[0m\n",
      "\u001b[34m[26]#011train-error:0.172067#011validation-error:0.1987\u001b[0m\n",
      "\u001b[34m[13:40:20] src/tree/updater_prune.cc:74: tree pruning end, 1 roots, 24 extra nodes, 4 pruned nodes, max_depth=5\u001b[0m\n",
      "\u001b[34m[27]#011train-error:0.169933#011validation-error:0.1995\u001b[0m\n",
      "\u001b[34m[13:40:21] src/tree/updater_prune.cc:74: tree pruning end, 1 roots, 30 extra nodes, 10 pruned nodes, max_depth=5\u001b[0m\n",
      "\u001b[34m[28]#011train-error:0.167333#011validation-error:0.1962\u001b[0m\n",
      "\u001b[34m[13:40:23] src/tree/updater_prune.cc:74: tree pruning end, 1 roots, 28 extra nodes, 4 pruned nodes, max_depth=5\u001b[0m\n",
      "\u001b[34m[29]#011train-error:0.166#011validation-error:0.1949\u001b[0m\n",
      "\u001b[34m[13:40:24] src/tree/updater_prune.cc:74: tree pruning end, 1 roots, 32 extra nodes, 14 pruned nodes, max_depth=5\u001b[0m\n",
      "\u001b[34m[30]#011train-error:0.163133#011validation-error:0.1936\u001b[0m\n",
      "\u001b[34m[13:40:25] src/tree/updater_prune.cc:74: tree pruning end, 1 roots, 34 extra nodes, 6 pruned nodes, max_depth=5\u001b[0m\n",
      "\u001b[34m[31]#011train-error:0.161733#011validation-error:0.1927\u001b[0m\n",
      "\u001b[34m[13:40:27] src/tree/updater_prune.cc:74: tree pruning end, 1 roots, 36 extra nodes, 4 pruned nodes, max_depth=5\u001b[0m\n",
      "\u001b[34m[32]#011train-error:0.16#011validation-error:0.1924\u001b[0m\n",
      "\u001b[34m[13:40:28] src/tree/updater_prune.cc:74: tree pruning end, 1 roots, 16 extra nodes, 8 pruned nodes, max_depth=5\u001b[0m\n",
      "\u001b[34m[33]#011train-error:0.159067#011validation-error:0.192\u001b[0m\n",
      "\u001b[34m[13:40:29] src/tree/updater_prune.cc:74: tree pruning end, 1 roots, 24 extra nodes, 2 pruned nodes, max_depth=5\u001b[0m\n",
      "\u001b[34m[34]#011train-error:0.156333#011validation-error:0.189\u001b[0m\n",
      "\u001b[34m[13:40:31] src/tree/updater_prune.cc:74: tree pruning end, 1 roots, 22 extra nodes, 8 pruned nodes, max_depth=5\u001b[0m\n",
      "\u001b[34m[35]#011train-error:0.155733#011validation-error:0.1883\u001b[0m\n",
      "\u001b[34m[13:40:32] src/tree/updater_prune.cc:74: tree pruning end, 1 roots, 24 extra nodes, 6 pruned nodes, max_depth=5\u001b[0m\n",
      "\u001b[34m[36]#011train-error:0.154467#011validation-error:0.1874\u001b[0m\n",
      "\u001b[34m[13:40:33] src/tree/updater_prune.cc:74: tree pruning end, 1 roots, 28 extra nodes, 12 pruned nodes, max_depth=5\u001b[0m\n",
      "\u001b[34m[37]#011train-error:0.153133#011validation-error:0.1864\u001b[0m\n",
      "\u001b[34m[13:40:34] src/tree/updater_prune.cc:74: tree pruning end, 1 roots, 22 extra nodes, 4 pruned nodes, max_depth=5\u001b[0m\n",
      "\u001b[34m[38]#011train-error:0.151333#011validation-error:0.1849\u001b[0m\n",
      "\u001b[34m[13:40:36] src/tree/updater_prune.cc:74: tree pruning end, 1 roots, 20 extra nodes, 6 pruned nodes, max_depth=5\u001b[0m\n",
      "\u001b[34m[39]#011train-error:0.149933#011validation-error:0.1851\u001b[0m\n",
      "\u001b[34m[13:40:37] src/tree/updater_prune.cc:74: tree pruning end, 1 roots, 14 extra nodes, 6 pruned nodes, max_depth=5\u001b[0m\n",
      "\u001b[34m[40]#011train-error:0.148533#011validation-error:0.1845\u001b[0m\n",
      "\u001b[34m[13:40:38] src/tree/updater_prune.cc:74: tree pruning end, 1 roots, 18 extra nodes, 8 pruned nodes, max_depth=5\u001b[0m\n",
      "\u001b[34m[41]#011train-error:0.1482#011validation-error:0.1836\u001b[0m\n",
      "\u001b[34m[13:40:40] src/tree/updater_prune.cc:74: tree pruning end, 1 roots, 20 extra nodes, 8 pruned nodes, max_depth=5\u001b[0m\n",
      "\u001b[34m[42]#011train-error:0.1468#011validation-error:0.183\u001b[0m\n",
      "\u001b[34m[13:40:41] src/tree/updater_prune.cc:74: tree pruning end, 1 roots, 22 extra nodes, 8 pruned nodes, max_depth=5\u001b[0m\n",
      "\u001b[34m[43]#011train-error:0.146#011validation-error:0.1814\u001b[0m\n",
      "\u001b[34m[13:40:42] src/tree/updater_prune.cc:74: tree pruning end, 1 roots, 26 extra nodes, 4 pruned nodes, max_depth=5\u001b[0m\n",
      "\u001b[34m[44]#011train-error:0.144933#011validation-error:0.1802\u001b[0m\n",
      "\u001b[34m[13:40:44] src/tree/updater_prune.cc:74: tree pruning end, 1 roots, 34 extra nodes, 6 pruned nodes, max_depth=5\u001b[0m\n",
      "\u001b[34m[45]#011train-error:0.1452#011validation-error:0.1801\u001b[0m\n",
      "\u001b[34m[13:40:45] src/tree/updater_prune.cc:74: tree pruning end, 1 roots, 16 extra nodes, 8 pruned nodes, max_depth=5\u001b[0m\n",
      "\u001b[34m[46]#011train-error:0.1438#011validation-error:0.1788\u001b[0m\n",
      "\u001b[34m[13:40:46] src/tree/updater_prune.cc:74: tree pruning end, 1 roots, 20 extra nodes, 10 pruned nodes, max_depth=5\u001b[0m\n",
      "\u001b[34m[47]#011train-error:0.143#011validation-error:0.1779\u001b[0m\n",
      "\u001b[34m[13:40:47] src/tree/updater_prune.cc:74: tree pruning end, 1 roots, 14 extra nodes, 8 pruned nodes, max_depth=5\u001b[0m\n",
      "\u001b[34m[48]#011train-error:0.142667#011validation-error:0.1773\u001b[0m\n",
      "\u001b[34m[13:40:49] src/tree/updater_prune.cc:74: tree pruning end, 1 roots, 22 extra nodes, 12 pruned nodes, max_depth=5\u001b[0m\n",
      "\u001b[34m[49]#011train-error:0.140867#011validation-error:0.1765\u001b[0m\n",
      "\u001b[34m[13:40:50] src/tree/updater_prune.cc:74: tree pruning end, 1 roots, 28 extra nodes, 6 pruned nodes, max_depth=5\u001b[0m\n",
      "\u001b[34m[50]#011train-error:0.1396#011validation-error:0.1753\u001b[0m\n",
      "\u001b[34m[13:40:51] src/tree/updater_prune.cc:74: tree pruning end, 1 roots, 22 extra nodes, 10 pruned nodes, max_depth=5\u001b[0m\n",
      "\u001b[34m[51]#011train-error:0.1394#011validation-error:0.1738\u001b[0m\n",
      "\u001b[34m[13:40:53] src/tree/updater_prune.cc:74: tree pruning end, 1 roots, 10 extra nodes, 14 pruned nodes, max_depth=5\u001b[0m\n",
      "\u001b[34m[52]#011train-error:0.139133#011validation-error:0.1741\u001b[0m\n",
      "\u001b[34m[13:40:54] src/tree/updater_prune.cc:74: tree pruning end, 1 roots, 38 extra nodes, 4 pruned nodes, max_depth=5\u001b[0m\n",
      "\u001b[34m[53]#011train-error:0.138133#011validation-error:0.1725\u001b[0m\n",
      "\u001b[34m[13:40:55] src/tree/updater_prune.cc:74: tree pruning end, 1 roots, 14 extra nodes, 18 pruned nodes, max_depth=5\u001b[0m\n",
      "\u001b[34m[54]#011train-error:0.137267#011validation-error:0.1716\u001b[0m\n",
      "\u001b[34m[13:40:57] src/tree/updater_prune.cc:74: tree pruning end, 1 roots, 20 extra nodes, 12 pruned nodes, max_depth=5\u001b[0m\n",
      "\u001b[34m[55]#011train-error:0.136933#011validation-error:0.1714\u001b[0m\n",
      "\u001b[34m[13:40:58] src/tree/updater_prune.cc:74: tree pruning end, 1 roots, 16 extra nodes, 16 pruned nodes, max_depth=5\u001b[0m\n",
      "\u001b[34m[56]#011train-error:0.136467#011validation-error:0.1704\u001b[0m\n",
      "\u001b[34m[13:40:59] src/tree/updater_prune.cc:74: tree pruning end, 1 roots, 26 extra nodes, 8 pruned nodes, max_depth=5\u001b[0m\n",
      "\u001b[34m[57]#011train-error:0.134267#011validation-error:0.1703\u001b[0m\n",
      "\u001b[34m[13:41:00] src/tree/updater_prune.cc:74: tree pruning end, 1 roots, 28 extra nodes, 6 pruned nodes, max_depth=5\u001b[0m\n",
      "\u001b[34m[58]#011train-error:0.134#011validation-error:0.1702\u001b[0m\n",
      "\u001b[34m[13:41:02] src/tree/updater_prune.cc:74: tree pruning end, 1 roots, 20 extra nodes, 6 pruned nodes, max_depth=5\u001b[0m\n",
      "\u001b[34m[59]#011train-error:0.1326#011validation-error:0.1695\u001b[0m\n",
      "\u001b[34m[13:41:03] src/tree/updater_prune.cc:74: tree pruning end, 1 roots, 24 extra nodes, 8 pruned nodes, max_depth=5\u001b[0m\n",
      "\u001b[34m[60]#011train-error:0.1316#011validation-error:0.1686\u001b[0m\n",
      "\u001b[34m[13:41:05] src/tree/updater_prune.cc:74: tree pruning end, 1 roots, 18 extra nodes, 6 pruned nodes, max_depth=5\u001b[0m\n",
      "\u001b[34m[61]#011train-error:0.131867#011validation-error:0.1682\u001b[0m\n",
      "\u001b[34m[13:41:07] src/tree/updater_prune.cc:74: tree pruning end, 1 roots, 30 extra nodes, 6 pruned nodes, max_depth=5\u001b[0m\n",
      "\u001b[34m[62]#011train-error:0.130867#011validation-error:0.1667\u001b[0m\n",
      "\u001b[34m[13:41:08] src/tree/updater_prune.cc:74: tree pruning end, 1 roots, 18 extra nodes, 2 pruned nodes, max_depth=5\u001b[0m\n",
      "\u001b[34m[63]#011train-error:0.129933#011validation-error:0.1663\u001b[0m\n",
      "\u001b[34m[13:41:09] src/tree/updater_prune.cc:74: tree pruning end, 1 roots, 34 extra nodes, 12 pruned nodes, max_depth=5\u001b[0m\n",
      "\u001b[34m[64]#011train-error:0.128667#011validation-error:0.1665\u001b[0m\n",
      "\u001b[34m[13:41:11] src/tree/updater_prune.cc:74: tree pruning end, 1 roots, 18 extra nodes, 12 pruned nodes, max_depth=5\u001b[0m\n",
      "\u001b[34m[65]#011train-error:0.128267#011validation-error:0.1656\u001b[0m\n",
      "\u001b[34m[13:41:12] src/tree/updater_prune.cc:74: tree pruning end, 1 roots, 24 extra nodes, 12 pruned nodes, max_depth=5\u001b[0m\n",
      "\u001b[34m[66]#011train-error:0.126467#011validation-error:0.164\u001b[0m\n",
      "\u001b[34m[13:41:13] src/tree/updater_prune.cc:74: tree pruning end, 1 roots, 18 extra nodes, 12 pruned nodes, max_depth=5\u001b[0m\n",
      "\u001b[34m[67]#011train-error:0.1256#011validation-error:0.1636\u001b[0m\n",
      "\u001b[34m[13:41:15] src/tree/updater_prune.cc:74: tree pruning end, 1 roots, 24 extra nodes, 4 pruned nodes, max_depth=5\u001b[0m\n",
      "\u001b[34m[68]#011train-error:0.124067#011validation-error:0.1639\u001b[0m\n",
      "\u001b[34m[13:41:16] src/tree/updater_prune.cc:74: tree pruning end, 1 roots, 14 extra nodes, 8 pruned nodes, max_depth=5\u001b[0m\n",
      "\u001b[34m[69]#011train-error:0.124733#011validation-error:0.1631\u001b[0m\n",
      "\u001b[34m[13:41:17] src/tree/updater_prune.cc:74: tree pruning end, 1 roots, 10 extra nodes, 4 pruned nodes, max_depth=5\u001b[0m\n",
      "\u001b[34m[70]#011train-error:0.1242#011validation-error:0.1625\u001b[0m\n",
      "\u001b[34m[13:41:19] src/tree/updater_prune.cc:74: tree pruning end, 1 roots, 22 extra nodes, 14 pruned nodes, max_depth=5\u001b[0m\n",
      "\u001b[34m[71]#011train-error:0.1228#011validation-error:0.1627\u001b[0m\n",
      "\u001b[34m[13:41:20] src/tree/updater_prune.cc:74: tree pruning end, 1 roots, 20 extra nodes, 6 pruned nodes, max_depth=5\u001b[0m\n",
      "\u001b[34m[72]#011train-error:0.122133#011validation-error:0.1624\u001b[0m\n",
      "\u001b[34m[13:41:21] src/tree/updater_prune.cc:74: tree pruning end, 1 roots, 14 extra nodes, 12 pruned nodes, max_depth=5\u001b[0m\n",
      "\u001b[34m[73]#011train-error:0.1212#011validation-error:0.1627\u001b[0m\n",
      "\u001b[34m[13:41:22] src/tree/updater_prune.cc:74: tree pruning end, 1 roots, 14 extra nodes, 16 pruned nodes, max_depth=5\u001b[0m\n",
      "\u001b[34m[74]#011train-error:0.121133#011validation-error:0.161\u001b[0m\n",
      "\u001b[34m[13:41:24] src/tree/updater_prune.cc:74: tree pruning end, 1 roots, 18 extra nodes, 6 pruned nodes, max_depth=5\u001b[0m\n",
      "\u001b[34m[75]#011train-error:0.1206#011validation-error:0.1605\u001b[0m\n",
      "\u001b[34m[13:41:25] src/tree/updater_prune.cc:74: tree pruning end, 1 roots, 14 extra nodes, 6 pruned nodes, max_depth=5\u001b[0m\n",
      "\u001b[34m[76]#011train-error:0.12#011validation-error:0.1598\u001b[0m\n",
      "\u001b[34m[13:41:26] src/tree/updater_prune.cc:74: tree pruning end, 1 roots, 12 extra nodes, 4 pruned nodes, max_depth=5\u001b[0m\n",
      "\u001b[34m[77]#011train-error:0.120467#011validation-error:0.1602\u001b[0m\n",
      "\u001b[34m[13:41:28] src/tree/updater_prune.cc:74: tree pruning end, 1 roots, 14 extra nodes, 10 pruned nodes, max_depth=5\u001b[0m\n",
      "\u001b[34m[78]#011train-error:0.1198#011validation-error:0.1592\u001b[0m\n",
      "\u001b[34m[13:41:29] src/tree/updater_prune.cc:74: tree pruning end, 1 roots, 34 extra nodes, 4 pruned nodes, max_depth=5\u001b[0m\n",
      "\u001b[34m[79]#011train-error:0.118733#011validation-error:0.1586\u001b[0m\n",
      "\u001b[34m[13:41:30] src/tree/updater_prune.cc:74: tree pruning end, 1 roots, 28 extra nodes, 4 pruned nodes, max_depth=5\u001b[0m\n",
      "\u001b[34m[80]#011train-error:0.117867#011validation-error:0.1582\u001b[0m\n",
      "\u001b[34m[13:41:32] src/tree/updater_prune.cc:74: tree pruning end, 1 roots, 20 extra nodes, 16 pruned nodes, max_depth=5\u001b[0m\n",
      "\u001b[34m[81]#011train-error:0.1172#011validation-error:0.1579\u001b[0m\n",
      "\u001b[34m[13:41:33] src/tree/updater_prune.cc:74: tree pruning end, 1 roots, 16 extra nodes, 6 pruned nodes, max_depth=5\u001b[0m\n",
      "\u001b[34m[82]#011train-error:0.1168#011validation-error:0.1572\u001b[0m\n",
      "\u001b[34m[13:41:34] src/tree/updater_prune.cc:74: tree pruning end, 1 roots, 20 extra nodes, 10 pruned nodes, max_depth=5\u001b[0m\n",
      "\u001b[34m[83]#011train-error:0.116267#011validation-error:0.158\u001b[0m\n",
      "\u001b[34m[13:41:36] src/tree/updater_prune.cc:74: tree pruning end, 1 roots, 16 extra nodes, 2 pruned nodes, max_depth=5\u001b[0m\n",
      "\u001b[34m[84]#011train-error:0.1154#011validation-error:0.1566\u001b[0m\n",
      "\u001b[34m[13:41:37] src/tree/updater_prune.cc:74: tree pruning end, 1 roots, 14 extra nodes, 2 pruned nodes, max_depth=5\u001b[0m\n",
      "\u001b[34m[85]#011train-error:0.1154#011validation-error:0.1561\u001b[0m\n",
      "\u001b[34m[13:41:38] src/tree/updater_prune.cc:74: tree pruning end, 1 roots, 24 extra nodes, 2 pruned nodes, max_depth=5\u001b[0m\n",
      "\u001b[34m[86]#011train-error:0.1152#011validation-error:0.156\u001b[0m\n",
      "\u001b[34m[13:41:39] src/tree/updater_prune.cc:74: tree pruning end, 1 roots, 22 extra nodes, 18 pruned nodes, max_depth=5\u001b[0m\n",
      "\u001b[34m[87]#011train-error:0.114533#011validation-error:0.1571\u001b[0m\n",
      "\u001b[34m[13:41:41] src/tree/updater_prune.cc:74: tree pruning end, 1 roots, 12 extra nodes, 4 pruned nodes, max_depth=5\u001b[0m\n",
      "\u001b[34m[88]#011train-error:0.113067#011validation-error:0.1569\u001b[0m\n",
      "\u001b[34m[13:41:42] src/tree/updater_prune.cc:74: tree pruning end, 1 roots, 26 extra nodes, 6 pruned nodes, max_depth=5\u001b[0m\n",
      "\u001b[34m[89]#011train-error:0.1114#011validation-error:0.1573\u001b[0m\n",
      "\u001b[34m[13:41:43] src/tree/updater_prune.cc:74: tree pruning end, 1 roots, 12 extra nodes, 2 pruned nodes, max_depth=5\u001b[0m\n",
      "\u001b[34m[90]#011train-error:0.110933#011validation-error:0.1577\u001b[0m\n",
      "\u001b[34m[13:41:45] src/tree/updater_prune.cc:74: tree pruning end, 1 roots, 18 extra nodes, 12 pruned nodes, max_depth=5\u001b[0m\n",
      "\u001b[34m[91]#011train-error:0.110867#011validation-error:0.156\u001b[0m\n",
      "\u001b[34m[13:41:46] src/tree/updater_prune.cc:74: tree pruning end, 1 roots, 24 extra nodes, 18 pruned nodes, max_depth=5\u001b[0m\n",
      "\u001b[34m[92]#011train-error:0.110267#011validation-error:0.1557\u001b[0m\n",
      "\u001b[34m[13:41:47] src/tree/updater_prune.cc:74: tree pruning end, 1 roots, 14 extra nodes, 12 pruned nodes, max_depth=5\u001b[0m\n",
      "\u001b[34m[93]#011train-error:0.109933#011validation-error:0.1548\u001b[0m\n",
      "\u001b[34m[13:41:49] src/tree/updater_prune.cc:74: tree pruning end, 1 roots, 14 extra nodes, 8 pruned nodes, max_depth=5\u001b[0m\n",
      "\u001b[34m[94]#011train-error:0.1102#011validation-error:0.1552\u001b[0m\n",
      "\u001b[34m[13:41:50] src/tree/updater_prune.cc:74: tree pruning end, 1 roots, 16 extra nodes, 10 pruned nodes, max_depth=5\u001b[0m\n",
      "\u001b[34m[95]#011train-error:0.109867#011validation-error:0.1549\u001b[0m\n",
      "\u001b[34m[13:41:51] src/tree/updater_prune.cc:74: tree pruning end, 1 roots, 12 extra nodes, 2 pruned nodes, max_depth=5\u001b[0m\n",
      "\u001b[34m[96]#011train-error:0.109667#011validation-error:0.1545\u001b[0m\n",
      "\u001b[34m[13:41:53] src/tree/updater_prune.cc:74: tree pruning end, 1 roots, 10 extra nodes, 12 pruned nodes, max_depth=5\u001b[0m\n",
      "\u001b[34m[97]#011train-error:0.1094#011validation-error:0.154\u001b[0m\n",
      "\u001b[34m[13:41:54] src/tree/updater_prune.cc:74: tree pruning end, 1 roots, 22 extra nodes, 2 pruned nodes, max_depth=5\u001b[0m\n",
      "\u001b[34m[98]#011train-error:0.1084#011validation-error:0.1542\u001b[0m\n",
      "\u001b[34m[13:41:55] src/tree/updater_prune.cc:74: tree pruning end, 1 roots, 12 extra nodes, 8 pruned nodes, max_depth=5\u001b[0m\n",
      "\u001b[34m[99]#011train-error:0.1082#011validation-error:0.1541\u001b[0m\n",
      "\u001b[34m[13:41:56] src/tree/updater_prune.cc:74: tree pruning end, 1 roots, 20 extra nodes, 14 pruned nodes, max_depth=5\u001b[0m\n",
      "\u001b[34m[100]#011train-error:0.107533#011validation-error:0.154\u001b[0m\n",
      "\u001b[34m[13:41:58] src/tree/updater_prune.cc:74: tree pruning end, 1 roots, 20 extra nodes, 6 pruned nodes, max_depth=5\u001b[0m\n",
      "\u001b[34m[101]#011train-error:0.1078#011validation-error:0.1548\u001b[0m\n",
      "\u001b[34m[13:41:59] src/tree/updater_prune.cc:74: tree pruning end, 1 roots, 16 extra nodes, 2 pruned nodes, max_depth=5\u001b[0m\n",
      "\u001b[34m[102]#011train-error:0.106867#011validation-error:0.1543\u001b[0m\n",
      "\u001b[34m[13:42:00] src/tree/updater_prune.cc:74: tree pruning end, 1 roots, 16 extra nodes, 4 pruned nodes, max_depth=5\u001b[0m\n",
      "\u001b[34m[103]#011train-error:0.1076#011validation-error:0.1541\u001b[0m\n",
      "\u001b[34m[13:42:02] src/tree/updater_prune.cc:74: tree pruning end, 1 roots, 12 extra nodes, 2 pruned nodes, max_depth=5\u001b[0m\n",
      "\u001b[34m[104]#011train-error:0.106933#011validation-error:0.1541\u001b[0m\n",
      "\u001b[34m[13:42:03] src/tree/updater_prune.cc:74: tree pruning end, 1 roots, 14 extra nodes, 0 pruned nodes, max_depth=5\u001b[0m\n",
      "\u001b[34m[105]#011train-error:0.106533#011validation-error:0.1528\u001b[0m\n",
      "\u001b[34m[13:42:05] src/tree/updater_prune.cc:74: tree pruning end, 1 roots, 10 extra nodes, 14 pruned nodes, max_depth=5\u001b[0m\n",
      "\u001b[34m[106]#011train-error:0.1062#011validation-error:0.1533\u001b[0m\n",
      "\u001b[34m[13:42:06] src/tree/updater_prune.cc:74: tree pruning end, 1 roots, 12 extra nodes, 10 pruned nodes, max_depth=5\u001b[0m\n",
      "\u001b[34m[107]#011train-error:0.1058#011validation-error:0.153\u001b[0m\n",
      "\u001b[34m[13:42:08] src/tree/updater_prune.cc:74: tree pruning end, 1 roots, 14 extra nodes, 12 pruned nodes, max_depth=5\u001b[0m\n",
      "\u001b[34m[108]#011train-error:0.1054#011validation-error:0.1513\u001b[0m\n",
      "\u001b[34m[13:42:09] src/tree/updater_prune.cc:74: tree pruning end, 1 roots, 12 extra nodes, 6 pruned nodes, max_depth=5\u001b[0m\n",
      "\u001b[34m[109]#011train-error:0.104933#011validation-error:0.1507\u001b[0m\n",
      "\u001b[34m[13:42:10] src/tree/updater_prune.cc:74: tree pruning end, 1 roots, 14 extra nodes, 10 pruned nodes, max_depth=5\u001b[0m\n",
      "\u001b[34m[110]#011train-error:0.104667#011validation-error:0.1504\u001b[0m\n",
      "\u001b[34m[13:42:12] src/tree/updater_prune.cc:74: tree pruning end, 1 roots, 16 extra nodes, 14 pruned nodes, max_depth=5\u001b[0m\n",
      "\u001b[34m[111]#011train-error:0.104133#011validation-error:0.1518\u001b[0m\n",
      "\u001b[34m[13:42:13] src/tree/updater_prune.cc:74: tree pruning end, 1 roots, 14 extra nodes, 8 pruned nodes, max_depth=5\u001b[0m\n",
      "\u001b[34m[112]#011train-error:0.1038#011validation-error:0.1509\u001b[0m\n",
      "\u001b[34m[13:42:14] src/tree/updater_prune.cc:74: tree pruning end, 1 roots, 18 extra nodes, 16 pruned nodes, max_depth=5\u001b[0m\n",
      "\u001b[34m[113]#011train-error:0.103333#011validation-error:0.1499\u001b[0m\n",
      "\u001b[34m[13:42:16] src/tree/updater_prune.cc:74: tree pruning end, 1 roots, 26 extra nodes, 6 pruned nodes, max_depth=5\u001b[0m\n",
      "\u001b[34m[114]#011train-error:0.1026#011validation-error:0.1492\u001b[0m\n",
      "\u001b[34m[13:42:17] src/tree/updater_prune.cc:74: tree pruning end, 1 roots, 20 extra nodes, 8 pruned nodes, max_depth=5\u001b[0m\n",
      "\u001b[34m[115]#011train-error:0.1018#011validation-error:0.1498\u001b[0m\n",
      "\u001b[34m[13:42:18] src/tree/updater_prune.cc:74: tree pruning end, 1 roots, 26 extra nodes, 4 pruned nodes, max_depth=5\u001b[0m\n",
      "\u001b[34m[116]#011train-error:0.1014#011validation-error:0.1494\u001b[0m\n",
      "\u001b[34m[13:42:20] src/tree/updater_prune.cc:74: tree pruning end, 1 roots, 16 extra nodes, 10 pruned nodes, max_depth=5\u001b[0m\n",
      "\u001b[34m[117]#011train-error:0.101533#011validation-error:0.1497\u001b[0m\n",
      "\u001b[34m[13:42:21] src/tree/updater_prune.cc:74: tree pruning end, 1 roots, 24 extra nodes, 10 pruned nodes, max_depth=5\u001b[0m\n",
      "\u001b[34m[118]#011train-error:0.100867#011validation-error:0.1498\u001b[0m\n",
      "\u001b[34m[13:42:22] src/tree/updater_prune.cc:74: tree pruning end, 1 roots, 16 extra nodes, 2 pruned nodes, max_depth=5\u001b[0m\n",
      "\u001b[34m[119]#011train-error:0.1008#011validation-error:0.1492\u001b[0m\n",
      "\u001b[34m[13:42:23] src/tree/updater_prune.cc:74: tree pruning end, 1 roots, 10 extra nodes, 8 pruned nodes, max_depth=5\u001b[0m\n",
      "\u001b[34m[120]#011train-error:0.1004#011validation-error:0.149\u001b[0m\n",
      "\u001b[34m[13:42:25] src/tree/updater_prune.cc:74: tree pruning end, 1 roots, 24 extra nodes, 18 pruned nodes, max_depth=5\u001b[0m\n",
      "\u001b[34m[121]#011train-error:0.100733#011validation-error:0.149\u001b[0m\n",
      "\u001b[34m[13:42:26] src/tree/updater_prune.cc:74: tree pruning end, 1 roots, 14 extra nodes, 6 pruned nodes, max_depth=5\u001b[0m\n",
      "\u001b[34m[122]#011train-error:0.100133#011validation-error:0.1498\u001b[0m\n",
      "\u001b[34m[13:42:27] src/tree/updater_prune.cc:74: tree pruning end, 1 roots, 14 extra nodes, 12 pruned nodes, max_depth=5\u001b[0m\n",
      "\u001b[34m[123]#011train-error:0.0998#011validation-error:0.1494\u001b[0m\n",
      "\u001b[34m[13:42:29] src/tree/updater_prune.cc:74: tree pruning end, 1 roots, 18 extra nodes, 2 pruned nodes, max_depth=5\u001b[0m\n",
      "\u001b[34m[124]#011train-error:0.099333#011validation-error:0.1499\u001b[0m\n",
      "\u001b[34m[13:42:30] src/tree/updater_prune.cc:74: tree pruning end, 1 roots, 14 extra nodes, 14 pruned nodes, max_depth=5\u001b[0m\n",
      "\u001b[34m[125]#011train-error:0.0988#011validation-error:0.1495\u001b[0m\n",
      "\u001b[34m[13:42:31] src/tree/updater_prune.cc:74: tree pruning end, 1 roots, 14 extra nodes, 6 pruned nodes, max_depth=5\u001b[0m\n",
      "\u001b[34m[126]#011train-error:0.0982#011validation-error:0.1484\u001b[0m\n",
      "\u001b[34m[13:42:33] src/tree/updater_prune.cc:74: tree pruning end, 1 roots, 16 extra nodes, 8 pruned nodes, max_depth=5\u001b[0m\n",
      "\u001b[34m[127]#011train-error:0.098333#011validation-error:0.1477\u001b[0m\n",
      "\u001b[34m[13:42:34] src/tree/updater_prune.cc:74: tree pruning end, 1 roots, 20 extra nodes, 2 pruned nodes, max_depth=5\u001b[0m\n",
      "\u001b[34m[128]#011train-error:0.098733#011validation-error:0.1486\u001b[0m\n",
      "\u001b[34m[13:42:35] src/tree/updater_prune.cc:74: tree pruning end, 1 roots, 20 extra nodes, 10 pruned nodes, max_depth=5\u001b[0m\n",
      "\u001b[34m[129]#011train-error:0.0976#011validation-error:0.1474\u001b[0m\n",
      "\u001b[34m[13:42:36] src/tree/updater_prune.cc:74: tree pruning end, 1 roots, 16 extra nodes, 6 pruned nodes, max_depth=5\u001b[0m\n",
      "\u001b[34m[130]#011train-error:0.0966#011validation-error:0.1471\u001b[0m\n",
      "\u001b[34m[13:42:38] src/tree/updater_prune.cc:74: tree pruning end, 1 roots, 22 extra nodes, 10 pruned nodes, max_depth=5\u001b[0m\n",
      "\u001b[34m[131]#011train-error:0.096733#011validation-error:0.1465\u001b[0m\n",
      "\u001b[34m[13:42:39] src/tree/updater_prune.cc:74: tree pruning end, 1 roots, 16 extra nodes, 18 pruned nodes, max_depth=5\u001b[0m\n",
      "\u001b[34m[132]#011train-error:0.0958#011validation-error:0.1462\u001b[0m\n",
      "\u001b[34m[13:42:40] src/tree/updater_prune.cc:74: tree pruning end, 1 roots, 12 extra nodes, 10 pruned nodes, max_depth=5\u001b[0m\n",
      "\u001b[34m[133]#011train-error:0.095#011validation-error:0.146\u001b[0m\n",
      "\u001b[34m[13:42:42] src/tree/updater_prune.cc:74: tree pruning end, 1 roots, 18 extra nodes, 22 pruned nodes, max_depth=5\u001b[0m\n",
      "\u001b[34m[134]#011train-error:0.095067#011validation-error:0.1447\u001b[0m\n",
      "\u001b[34m[13:42:43] src/tree/updater_prune.cc:74: tree pruning end, 1 roots, 12 extra nodes, 6 pruned nodes, max_depth=5\u001b[0m\n",
      "\u001b[34m[135]#011train-error:0.094533#011validation-error:0.1447\u001b[0m\n",
      "\u001b[34m[13:42:44] src/tree/updater_prune.cc:74: tree pruning end, 1 roots, 20 extra nodes, 6 pruned nodes, max_depth=5\u001b[0m\n",
      "\u001b[34m[136]#011train-error:0.093467#011validation-error:0.1441\u001b[0m\n",
      "\u001b[34m[13:42:46] src/tree/updater_prune.cc:74: tree pruning end, 1 roots, 24 extra nodes, 12 pruned nodes, max_depth=5\u001b[0m\n",
      "\u001b[34m[137]#011train-error:0.0932#011validation-error:0.1438\u001b[0m\n",
      "\u001b[34m[13:42:47] src/tree/updater_prune.cc:74: tree pruning end, 1 roots, 12 extra nodes, 4 pruned nodes, max_depth=5\u001b[0m\n",
      "\u001b[34m[138]#011train-error:0.0936#011validation-error:0.1432\u001b[0m\n",
      "\u001b[34m[13:42:48] src/tree/updater_prune.cc:74: tree pruning end, 1 roots, 10 extra nodes, 12 pruned nodes, max_depth=5\u001b[0m\n",
      "\u001b[34m[139]#011train-error:0.093733#011validation-error:0.1435\u001b[0m\n",
      "\u001b[34m[13:42:50] src/tree/updater_prune.cc:74: tree pruning end, 1 roots, 16 extra nodes, 14 pruned nodes, max_depth=5\u001b[0m\n",
      "\u001b[34m[140]#011train-error:0.093533#011validation-error:0.1437\u001b[0m\n",
      "\u001b[34m[13:42:51] src/tree/updater_prune.cc:74: tree pruning end, 1 roots, 16 extra nodes, 20 pruned nodes, max_depth=5\u001b[0m\n",
      "\u001b[34m[141]#011train-error:0.093533#011validation-error:0.1439\u001b[0m\n",
      "\u001b[34m[13:42:52] src/tree/updater_prune.cc:74: tree pruning end, 1 roots, 16 extra nodes, 12 pruned nodes, max_depth=5\u001b[0m\n",
      "\u001b[34m[142]#011train-error:0.092933#011validation-error:0.1434\u001b[0m\n",
      "\u001b[34m[13:42:53] src/tree/updater_prune.cc:74: tree pruning end, 1 roots, 10 extra nodes, 12 pruned nodes, max_depth=5\u001b[0m\n",
      "\u001b[34m[143]#011train-error:0.092667#011validation-error:0.1437\u001b[0m\n",
      "\u001b[34m[13:42:55] src/tree/updater_prune.cc:74: tree pruning end, 1 roots, 26 extra nodes, 8 pruned nodes, max_depth=5\u001b[0m\n",
      "\u001b[34m[144]#011train-error:0.0918#011validation-error:0.1431\u001b[0m\n",
      "\u001b[34m[13:42:56] src/tree/updater_prune.cc:74: tree pruning end, 1 roots, 12 extra nodes, 16 pruned nodes, max_depth=5\u001b[0m\n",
      "\u001b[34m[145]#011train-error:0.091267#011validation-error:0.1431\u001b[0m\n",
      "\u001b[34m[13:42:57] src/tree/updater_prune.cc:74: tree pruning end, 1 roots, 16 extra nodes, 18 pruned nodes, max_depth=5\u001b[0m\n",
      "\u001b[34m[146]#011train-error:0.090933#011validation-error:0.1431\u001b[0m\n",
      "\u001b[34m[13:42:59] src/tree/updater_prune.cc:74: tree pruning end, 1 roots, 10 extra nodes, 2 pruned nodes, max_depth=5\u001b[0m\n",
      "\u001b[34m[147]#011train-error:0.090467#011validation-error:0.1431\u001b[0m\n",
      "\u001b[34m[13:43:00] src/tree/updater_prune.cc:74: tree pruning end, 1 roots, 10 extra nodes, 10 pruned nodes, max_depth=5\u001b[0m\n",
      "\u001b[34m[148]#011train-error:0.091067#011validation-error:0.1434\u001b[0m\n",
      "\u001b[34m[13:43:01] src/tree/updater_prune.cc:74: tree pruning end, 1 roots, 10 extra nodes, 0 pruned nodes, max_depth=5\u001b[0m\n",
      "\u001b[34m[149]#011train-error:0.0906#011validation-error:0.1431\u001b[0m\n",
      "\u001b[34m[13:43:03] src/tree/updater_prune.cc:74: tree pruning end, 1 roots, 10 extra nodes, 0 pruned nodes, max_depth=5\u001b[0m\n",
      "\u001b[34m[150]#011train-error:0.090467#011validation-error:0.1426\u001b[0m\n",
      "\u001b[34m[13:43:04] src/tree/updater_prune.cc:74: tree pruning end, 1 roots, 12 extra nodes, 14 pruned nodes, max_depth=5\u001b[0m\n",
      "\u001b[34m[151]#011train-error:0.0904#011validation-error:0.1425\u001b[0m\n",
      "\u001b[34m[13:43:06] src/tree/updater_prune.cc:74: tree pruning end, 1 roots, 12 extra nodes, 12 pruned nodes, max_depth=5\u001b[0m\n",
      "\u001b[34m[152]#011train-error:0.0904#011validation-error:0.1433\u001b[0m\n",
      "\u001b[34m[13:43:07] src/tree/updater_prune.cc:74: tree pruning end, 1 roots, 10 extra nodes, 2 pruned nodes, max_depth=5\u001b[0m\n",
      "\u001b[34m[153]#011train-error:0.090333#011validation-error:0.1433\u001b[0m\n",
      "\u001b[34m[13:43:09] src/tree/updater_prune.cc:74: tree pruning end, 1 roots, 14 extra nodes, 10 pruned nodes, max_depth=5\u001b[0m\n",
      "\u001b[34m[154]#011train-error:0.089933#011validation-error:0.1427\u001b[0m\n",
      "\u001b[34m[13:43:10] src/tree/updater_prune.cc:74: tree pruning end, 1 roots, 14 extra nodes, 8 pruned nodes, max_depth=5\u001b[0m\n",
      "\u001b[34m[155]#011train-error:0.090267#011validation-error:0.1423\u001b[0m\n",
      "\u001b[34m[13:43:11] src/tree/updater_prune.cc:74: tree pruning end, 1 roots, 10 extra nodes, 2 pruned nodes, max_depth=5\u001b[0m\n",
      "\u001b[34m[156]#011train-error:0.090067#011validation-error:0.1421\u001b[0m\n",
      "\u001b[34m[13:43:13] src/tree/updater_prune.cc:74: tree pruning end, 1 roots, 18 extra nodes, 12 pruned nodes, max_depth=5\u001b[0m\n",
      "\u001b[34m[157]#011train-error:0.089467#011validation-error:0.1424\u001b[0m\n",
      "\u001b[34m[13:43:14] src/tree/updater_prune.cc:74: tree pruning end, 1 roots, 12 extra nodes, 8 pruned nodes, max_depth=5\u001b[0m\n",
      "\u001b[34m[158]#011train-error:0.088933#011validation-error:0.1408\u001b[0m\n",
      "\u001b[34m[13:43:15] src/tree/updater_prune.cc:74: tree pruning end, 1 roots, 10 extra nodes, 10 pruned nodes, max_depth=5\u001b[0m\n",
      "\u001b[34m[159]#011train-error:0.0886#011validation-error:0.1402\u001b[0m\n",
      "\u001b[34m[13:43:17] src/tree/updater_prune.cc:74: tree pruning end, 1 roots, 10 extra nodes, 6 pruned nodes, max_depth=5\u001b[0m\n",
      "\u001b[34m[160]#011train-error:0.087933#011validation-error:0.1403\u001b[0m\n",
      "\u001b[34m[13:43:18] src/tree/updater_prune.cc:74: tree pruning end, 1 roots, 14 extra nodes, 14 pruned nodes, max_depth=5\u001b[0m\n",
      "\u001b[34m[161]#011train-error:0.0876#011validation-error:0.1408\u001b[0m\n",
      "\u001b[34m[13:43:19] src/tree/updater_prune.cc:74: tree pruning end, 1 roots, 12 extra nodes, 6 pruned nodes, max_depth=5\u001b[0m\n",
      "\u001b[34m[162]#011train-error:0.0876#011validation-error:0.1407\u001b[0m\n",
      "\u001b[34m[13:43:20] src/tree/updater_prune.cc:74: tree pruning end, 1 roots, 16 extra nodes, 14 pruned nodes, max_depth=5\u001b[0m\n",
      "\u001b[34m[163]#011train-error:0.087133#011validation-error:0.1408\u001b[0m\n",
      "\u001b[34m[13:43:22] src/tree/updater_prune.cc:74: tree pruning end, 1 roots, 26 extra nodes, 6 pruned nodes, max_depth=5\u001b[0m\n",
      "\u001b[34m[164]#011train-error:0.086267#011validation-error:0.1414\u001b[0m\n",
      "\u001b[34m[13:43:23] src/tree/updater_prune.cc:74: tree pruning end, 1 roots, 10 extra nodes, 8 pruned nodes, max_depth=5\u001b[0m\n",
      "\u001b[34m[165]#011train-error:0.086333#011validation-error:0.1416\u001b[0m\n",
      "\u001b[34m[13:43:24] src/tree/updater_prune.cc:74: tree pruning end, 1 roots, 12 extra nodes, 8 pruned nodes, max_depth=5\u001b[0m\n",
      "\u001b[34m[166]#011train-error:0.085867#011validation-error:0.1406\u001b[0m\n",
      "\u001b[34m[13:43:26] src/tree/updater_prune.cc:74: tree pruning end, 1 roots, 12 extra nodes, 6 pruned nodes, max_depth=5\u001b[0m\n",
      "\u001b[34m[167]#011train-error:0.085733#011validation-error:0.1414\u001b[0m\n",
      "\u001b[34m[13:43:27] src/tree/updater_prune.cc:74: tree pruning end, 1 roots, 12 extra nodes, 6 pruned nodes, max_depth=5\u001b[0m\n",
      "\u001b[34m[168]#011train-error:0.0858#011validation-error:0.1415\u001b[0m\n",
      "\u001b[34m[13:43:28] src/tree/updater_prune.cc:74: tree pruning end, 1 roots, 16 extra nodes, 14 pruned nodes, max_depth=5\u001b[0m\n",
      "\u001b[34m[169]#011train-error:0.085733#011validation-error:0.141\u001b[0m\n",
      "\u001b[34mStopping. Best iteration:\u001b[0m\n",
      "\u001b[34m[159]#011train-error:0.0886#011validation-error:0.1402\n",
      "\u001b[0m\n",
      "\n",
      "2021-01-22 13:43:37 Uploading - Uploading generated training model\n",
      "2021-01-22 13:43:37 Completed - Training job completed\n",
      "Training seconds: 291\n",
      "Billable seconds: 291\n"
     ]
    }
   ],
   "source": [
    "xgb.fit({'train': s3_input_train, 'validation': s3_input_validation})"
   ]
  },
  {
   "cell_type": "markdown",
   "metadata": {},
   "source": [
    "### (TODO) Testing the model\n",
    "\n",
    "Now that we've fit our XGBoost model, it's time to see how well it performs. To do this we will use SageMakers Batch Transform functionality. Batch Transform is a convenient way to perform inference on a large dataset in a way that is not realtime. That is, we don't necessarily need to use our model's results immediately and instead we can peform inference on a large number of samples. An example of this in industry might be peforming an end of month report. This method of inference can also be useful to us as it means to can perform inference on our entire test set. \n",
    "\n",
    "To perform a Batch Transformation we need to first create a transformer objects from our trained estimator object."
   ]
  },
  {
   "cell_type": "code",
   "execution_count": 35,
   "metadata": {},
   "outputs": [
    {
     "name": "stderr",
     "output_type": "stream",
     "text": [
      "Parameter image will be renamed to image_uri in SageMaker Python SDK v2.\n"
     ]
    }
   ],
   "source": [
    "# TODO: Create a transformer object from the trained model. Using an instance count of 1 and an instance type of ml.m4.xlarge\n",
    "#       should be more than enough.\n",
    "xgb_transformer = xgb.transformer(instance_count=1, instance_type='ml.m4.xlarge')"
   ]
  },
  {
   "cell_type": "markdown",
   "metadata": {},
   "source": [
    "Next we actually perform the transform job. When doing so we need to make sure to specify the type of data we are sending so that it is serialized correctly in the background. In our case we are providing our model with csv data so we specify `text/csv`. Also, if the test data that we have provided is too large to process all at once then we need to specify how the data file should be split up. Since each line is a single entry in our data set we tell SageMaker that it can split the input on each line."
   ]
  },
  {
   "cell_type": "code",
   "execution_count": 36,
   "metadata": {},
   "outputs": [],
   "source": [
    "# TODO: Start the transform job. Make sure to specify the content type and the split type of the test data.\n",
    "xgb_transformer.transform(test_location, content_type='text/csv', split_type='Line')"
   ]
  },
  {
   "cell_type": "markdown",
   "metadata": {},
   "source": [
    "Currently the transform job is running but it is doing so in the background. Since we wish to wait until the transform job is done and we would like a bit of feedback we can run the `wait()` method."
   ]
  },
  {
   "cell_type": "code",
   "execution_count": 37,
   "metadata": {},
   "outputs": [
    {
     "name": "stdout",
     "output_type": "stream",
     "text": [
      "..............................\u001b[32m2021-01-22T13:54:15.378:[sagemaker logs]: MaxConcurrentTransforms=4, MaxPayloadInMB=6, BatchStrategy=MULTI_RECORD\u001b[0m\n",
      "\u001b[34mArguments: serve\u001b[0m\n",
      "\u001b[35mArguments: serve\u001b[0m\n",
      "\u001b[34m[2021-01-22 13:54:15 +0000] [1] [INFO] Starting gunicorn 19.7.1\u001b[0m\n",
      "\u001b[34m[2021-01-22 13:54:15 +0000] [1] [INFO] Listening at: http://0.0.0.0:8080 (1)\u001b[0m\n",
      "\u001b[34m[2021-01-22 13:54:15 +0000] [1] [INFO] Using worker: gevent\u001b[0m\n",
      "\u001b[34m[2021-01-22 13:54:15 +0000] [36] [INFO] Booting worker with pid: 36\u001b[0m\n",
      "\u001b[34m[2021-01-22 13:54:15 +0000] [37] [INFO] Booting worker with pid: 37\u001b[0m\n",
      "\u001b[34m[2021-01-22 13:54:15 +0000] [38] [INFO] Booting worker with pid: 38\u001b[0m\n",
      "\u001b[34m[2021-01-22 13:54:15 +0000] [39] [INFO] Booting worker with pid: 39\u001b[0m\n",
      "\u001b[34m[2021-01-22:13:54:15:INFO] Model loaded successfully for worker : 36\u001b[0m\n",
      "\u001b[34m[2021-01-22:13:54:15:INFO] Model loaded successfully for worker : 37\u001b[0m\n",
      "\u001b[34m[2021-01-22:13:54:15:INFO] Model loaded successfully for worker : 38\u001b[0m\n",
      "\u001b[34m[2021-01-22:13:54:15:INFO] Model loaded successfully for worker : 39\u001b[0m\n",
      "\u001b[35m[2021-01-22 13:54:15 +0000] [1] [INFO] Starting gunicorn 19.7.1\u001b[0m\n",
      "\u001b[35m[2021-01-22 13:54:15 +0000] [1] [INFO] Listening at: http://0.0.0.0:8080 (1)\u001b[0m\n",
      "\u001b[35m[2021-01-22 13:54:15 +0000] [1] [INFO] Using worker: gevent\u001b[0m\n",
      "\u001b[35m[2021-01-22 13:54:15 +0000] [36] [INFO] Booting worker with pid: 36\u001b[0m\n",
      "\u001b[35m[2021-01-22 13:54:15 +0000] [37] [INFO] Booting worker with pid: 37\u001b[0m\n",
      "\u001b[35m[2021-01-22 13:54:15 +0000] [38] [INFO] Booting worker with pid: 38\u001b[0m\n",
      "\u001b[35m[2021-01-22 13:54:15 +0000] [39] [INFO] Booting worker with pid: 39\u001b[0m\n",
      "\u001b[35m[2021-01-22:13:54:15:INFO] Model loaded successfully for worker : 36\u001b[0m\n",
      "\u001b[35m[2021-01-22:13:54:15:INFO] Model loaded successfully for worker : 37\u001b[0m\n",
      "\u001b[35m[2021-01-22:13:54:15:INFO] Model loaded successfully for worker : 38\u001b[0m\n",
      "\u001b[35m[2021-01-22:13:54:15:INFO] Model loaded successfully for worker : 39\u001b[0m\n",
      "\u001b[34m[2021-01-22:13:54:15:INFO] Sniff delimiter as ','\u001b[0m\n",
      "\u001b[34m[2021-01-22:13:54:15:INFO] Determined delimiter of CSV input is ','\u001b[0m\n",
      "\u001b[34m[2021-01-22:13:54:15:INFO] Sniff delimiter as ','\u001b[0m\n",
      "\u001b[34m[2021-01-22:13:54:15:INFO] Determined delimiter of CSV input is ','\u001b[0m\n",
      "\u001b[34m[2021-01-22:13:54:15:INFO] Sniff delimiter as ','\u001b[0m\n",
      "\u001b[34m[2021-01-22:13:54:15:INFO] Determined delimiter of CSV input is ','\u001b[0m\n",
      "\u001b[35m[2021-01-22:13:54:15:INFO] Sniff delimiter as ','\u001b[0m\n",
      "\u001b[35m[2021-01-22:13:54:15:INFO] Determined delimiter of CSV input is ','\u001b[0m\n",
      "\u001b[35m[2021-01-22:13:54:15:INFO] Sniff delimiter as ','\u001b[0m\n",
      "\u001b[35m[2021-01-22:13:54:15:INFO] Determined delimiter of CSV input is ','\u001b[0m\n",
      "\u001b[35m[2021-01-22:13:54:15:INFO] Sniff delimiter as ','\u001b[0m\n",
      "\u001b[35m[2021-01-22:13:54:15:INFO] Determined delimiter of CSV input is ','\u001b[0m\n",
      "\u001b[34m[2021-01-22:13:54:17:INFO] Sniff delimiter as ','\u001b[0m\n",
      "\u001b[34m[2021-01-22:13:54:17:INFO] Determined delimiter of CSV input is ','\u001b[0m\n",
      "\u001b[35m[2021-01-22:13:54:17:INFO] Sniff delimiter as ','\u001b[0m\n",
      "\u001b[35m[2021-01-22:13:54:17:INFO] Determined delimiter of CSV input is ','\u001b[0m\n",
      "\u001b[34m[2021-01-22:13:54:17:INFO] Sniff delimiter as ','\u001b[0m\n",
      "\u001b[34m[2021-01-22:13:54:17:INFO] Determined delimiter of CSV input is ','\u001b[0m\n",
      "\u001b[34m[2021-01-22:13:54:17:INFO] Sniff delimiter as ','\u001b[0m\n",
      "\u001b[34m[2021-01-22:13:54:17:INFO] Determined delimiter of CSV input is ','\u001b[0m\n",
      "\u001b[35m[2021-01-22:13:54:17:INFO] Sniff delimiter as ','\u001b[0m\n",
      "\u001b[35m[2021-01-22:13:54:17:INFO] Determined delimiter of CSV input is ','\u001b[0m\n",
      "\u001b[35m[2021-01-22:13:54:17:INFO] Sniff delimiter as ','\u001b[0m\n",
      "\u001b[35m[2021-01-22:13:54:17:INFO] Determined delimiter of CSV input is ','\u001b[0m\n",
      "\u001b[34m[2021-01-22:13:54:19:INFO] Sniff delimiter as ','\u001b[0m\n",
      "\u001b[34m[2021-01-22:13:54:19:INFO] Determined delimiter of CSV input is ','\u001b[0m\n",
      "\u001b[35m[2021-01-22:13:54:19:INFO] Sniff delimiter as ','\u001b[0m\n",
      "\u001b[35m[2021-01-22:13:54:19:INFO] Determined delimiter of CSV input is ','\u001b[0m\n",
      "\u001b[34m[2021-01-22:13:54:19:INFO] Sniff delimiter as ','\u001b[0m\n",
      "\u001b[34m[2021-01-22:13:54:19:INFO] Determined delimiter of CSV input is ','\u001b[0m\n",
      "\u001b[34m[2021-01-22:13:54:19:INFO] Sniff delimiter as ','\u001b[0m\n",
      "\u001b[34m[2021-01-22:13:54:19:INFO] Determined delimiter of CSV input is ','\u001b[0m\n",
      "\u001b[35m[2021-01-22:13:54:19:INFO] Sniff delimiter as ','\u001b[0m\n",
      "\u001b[35m[2021-01-22:13:54:19:INFO] Determined delimiter of CSV input is ','\u001b[0m\n",
      "\u001b[35m[2021-01-22:13:54:19:INFO] Sniff delimiter as ','\u001b[0m\n",
      "\u001b[35m[2021-01-22:13:54:19:INFO] Determined delimiter of CSV input is ','\u001b[0m\n",
      "\u001b[34m[2021-01-22:13:54:23:INFO] Sniff delimiter as ','\u001b[0m\n",
      "\u001b[34m[2021-01-22:13:54:23:INFO] Determined delimiter of CSV input is ','\u001b[0m\n",
      "\u001b[34m[2021-01-22:13:54:23:INFO] Sniff delimiter as ','\u001b[0m\n",
      "\u001b[35m[2021-01-22:13:54:23:INFO] Sniff delimiter as ','\u001b[0m\n",
      "\u001b[35m[2021-01-22:13:54:23:INFO] Determined delimiter of CSV input is ','\u001b[0m\n",
      "\u001b[35m[2021-01-22:13:54:23:INFO] Sniff delimiter as ','\u001b[0m\n",
      "\u001b[34m[2021-01-22:13:54:23:INFO] Determined delimiter of CSV input is ','\u001b[0m\n",
      "\u001b[34m[2021-01-22:13:54:23:INFO] Sniff delimiter as ','\u001b[0m\n",
      "\u001b[34m[2021-01-22:13:54:23:INFO] Determined delimiter of CSV input is ','\u001b[0m\n",
      "\u001b[35m[2021-01-22:13:54:23:INFO] Determined delimiter of CSV input is ','\u001b[0m\n",
      "\u001b[35m[2021-01-22:13:54:23:INFO] Sniff delimiter as ','\u001b[0m\n",
      "\u001b[35m[2021-01-22:13:54:23:INFO] Determined delimiter of CSV input is ','\u001b[0m\n",
      "\u001b[34m[2021-01-22:13:54:24:INFO] Sniff delimiter as ','\u001b[0m\n",
      "\u001b[34m[2021-01-22:13:54:24:INFO] Determined delimiter of CSV input is ','\u001b[0m\n",
      "\u001b[34m[2021-01-22:13:54:24:INFO] Sniff delimiter as ','\u001b[0m\n",
      "\u001b[34m[2021-01-22:13:54:24:INFO] Determined delimiter of CSV input is ','\u001b[0m\n",
      "\u001b[35m[2021-01-22:13:54:24:INFO] Sniff delimiter as ','\u001b[0m\n",
      "\u001b[35m[2021-01-22:13:54:24:INFO] Determined delimiter of CSV input is ','\u001b[0m\n",
      "\u001b[35m[2021-01-22:13:54:24:INFO] Sniff delimiter as ','\u001b[0m\n",
      "\u001b[35m[2021-01-22:13:54:24:INFO] Determined delimiter of CSV input is ','\u001b[0m\n",
      "\u001b[34m[2021-01-22:13:54:26:INFO] Sniff delimiter as ','\u001b[0m\n",
      "\u001b[34m[2021-01-22:13:54:26:INFO] Determined delimiter of CSV input is ','\u001b[0m\n",
      "\u001b[34m[2021-01-22:13:54:26:INFO] Sniff delimiter as ','\u001b[0m\n",
      "\u001b[34m[2021-01-22:13:54:26:INFO] Determined delimiter of CSV input is ','\u001b[0m\n",
      "\u001b[34m[2021-01-22:13:54:26:INFO] Sniff delimiter as ','\u001b[0m\n",
      "\u001b[34m[2021-01-22:13:54:26:INFO] Determined delimiter of CSV input is ','\u001b[0m\n",
      "\u001b[35m[2021-01-22:13:54:26:INFO] Sniff delimiter as ','\u001b[0m\n",
      "\u001b[35m[2021-01-22:13:54:26:INFO] Determined delimiter of CSV input is ','\u001b[0m\n",
      "\u001b[35m[2021-01-22:13:54:26:INFO] Sniff delimiter as ','\u001b[0m\n",
      "\u001b[35m[2021-01-22:13:54:26:INFO] Determined delimiter of CSV input is ','\u001b[0m\n",
      "\u001b[35m[2021-01-22:13:54:26:INFO] Sniff delimiter as ','\u001b[0m\n",
      "\u001b[35m[2021-01-22:13:54:26:INFO] Determined delimiter of CSV input is ','\u001b[0m\n",
      "\u001b[34m[2021-01-22:13:54:27:INFO] Sniff delimiter as ','\u001b[0m\n",
      "\u001b[34m[2021-01-22:13:54:27:INFO] Determined delimiter of CSV input is ','\u001b[0m\n",
      "\u001b[34m[2021-01-22:13:54:27:INFO] Sniff delimiter as ','\u001b[0m\n",
      "\u001b[34m[2021-01-22:13:54:27:INFO] Determined delimiter of CSV input is ','\u001b[0m\n",
      "\u001b[35m[2021-01-22:13:54:27:INFO] Sniff delimiter as ','\u001b[0m\n",
      "\u001b[35m[2021-01-22:13:54:27:INFO] Determined delimiter of CSV input is ','\u001b[0m\n",
      "\u001b[35m[2021-01-22:13:54:27:INFO] Sniff delimiter as ','\u001b[0m\n",
      "\u001b[35m[2021-01-22:13:54:27:INFO] Determined delimiter of CSV input is ','\u001b[0m\n",
      "\u001b[34m[2021-01-22:13:54:29:INFO] Sniff delimiter as ','\u001b[0m\n",
      "\u001b[34m[2021-01-22:13:54:29:INFO] Determined delimiter of CSV input is ','\u001b[0m\n",
      "\u001b[34m[2021-01-22:13:54:29:INFO] Sniff delimiter as ','\u001b[0m\n",
      "\u001b[34m[2021-01-22:13:54:29:INFO] Determined delimiter of CSV input is ','\u001b[0m\n",
      "\u001b[34m[2021-01-22:13:54:29:INFO] Sniff delimiter as ','\u001b[0m\n",
      "\u001b[34m[2021-01-22:13:54:29:INFO] Determined delimiter of CSV input is ','\u001b[0m\n",
      "\u001b[34m[2021-01-22:13:54:29:INFO] Sniff delimiter as ','\u001b[0m\n",
      "\u001b[34m[2021-01-22:13:54:29:INFO] Determined delimiter of CSV input is ','\u001b[0m\n",
      "\u001b[35m[2021-01-22:13:54:29:INFO] Sniff delimiter as ','\u001b[0m\n",
      "\u001b[35m[2021-01-22:13:54:29:INFO] Determined delimiter of CSV input is ','\u001b[0m\n",
      "\u001b[35m[2021-01-22:13:54:29:INFO] Sniff delimiter as ','\u001b[0m\n",
      "\u001b[35m[2021-01-22:13:54:29:INFO] Determined delimiter of CSV input is ','\u001b[0m\n",
      "\u001b[35m[2021-01-22:13:54:29:INFO] Sniff delimiter as ','\u001b[0m\n",
      "\u001b[35m[2021-01-22:13:54:29:INFO] Determined delimiter of CSV input is ','\u001b[0m\n",
      "\u001b[35m[2021-01-22:13:54:29:INFO] Sniff delimiter as ','\u001b[0m\n",
      "\u001b[35m[2021-01-22:13:54:29:INFO] Determined delimiter of CSV input is ','\u001b[0m\n",
      "\u001b[34m[2021-01-22:13:54:33:INFO] Sniff delimiter as ','\u001b[0m\n",
      "\u001b[34m[2021-01-22:13:54:33:INFO] Determined delimiter of CSV input is ','\u001b[0m\n",
      "\u001b[34m[2021-01-22:13:54:33:INFO] Sniff delimiter as ','\u001b[0m\n",
      "\u001b[34m[2021-01-22:13:54:33:INFO] Determined delimiter of CSV input is ','\u001b[0m\n",
      "\u001b[34m[2021-01-22:13:54:34:INFO] Sniff delimiter as ','\u001b[0m\n",
      "\u001b[34m[2021-01-22:13:54:34:INFO] Determined delimiter of CSV input is ','\u001b[0m\n",
      "\u001b[34m[2021-01-22:13:54:34:INFO] Sniff delimiter as ','\u001b[0m\n",
      "\u001b[35m[2021-01-22:13:54:33:INFO] Sniff delimiter as ','\u001b[0m\n",
      "\u001b[35m[2021-01-22:13:54:33:INFO] Determined delimiter of CSV input is ','\u001b[0m\n",
      "\u001b[35m[2021-01-22:13:54:33:INFO] Sniff delimiter as ','\u001b[0m\n",
      "\u001b[35m[2021-01-22:13:54:33:INFO] Determined delimiter of CSV input is ','\u001b[0m\n",
      "\u001b[35m[2021-01-22:13:54:34:INFO] Sniff delimiter as ','\u001b[0m\n",
      "\u001b[35m[2021-01-22:13:54:34:INFO] Determined delimiter of CSV input is ','\u001b[0m\n",
      "\u001b[35m[2021-01-22:13:54:34:INFO] Sniff delimiter as ','\u001b[0m\n",
      "\u001b[34m[2021-01-22:13:54:34:INFO] Determined delimiter of CSV input is ','\u001b[0m\n",
      "\u001b[35m[2021-01-22:13:54:34:INFO] Determined delimiter of CSV input is ','\u001b[0m\n",
      "\u001b[34m[2021-01-22:13:54:36:INFO] Sniff delimiter as ','\u001b[0m\n",
      "\u001b[34m[2021-01-22:13:54:36:INFO] Determined delimiter of CSV input is ','\u001b[0m\n",
      "\u001b[35m[2021-01-22:13:54:36:INFO] Sniff delimiter as ','\u001b[0m\n",
      "\u001b[35m[2021-01-22:13:54:36:INFO] Determined delimiter of CSV input is ','\u001b[0m\n",
      "\u001b[34m[2021-01-22:13:54:36:INFO] Sniff delimiter as ','\u001b[0m\n",
      "\u001b[34m[2021-01-22:13:54:36:INFO] Determined delimiter of CSV input is ','\u001b[0m\n",
      "\u001b[34m[2021-01-22:13:54:36:INFO] Sniff delimiter as ','\u001b[0m\n",
      "\u001b[34m[2021-01-22:13:54:36:INFO] Determined delimiter of CSV input is ','\u001b[0m\n",
      "\u001b[35m[2021-01-22:13:54:36:INFO] Sniff delimiter as ','\u001b[0m\n",
      "\u001b[35m[2021-01-22:13:54:36:INFO] Determined delimiter of CSV input is ','\u001b[0m\n",
      "\u001b[35m[2021-01-22:13:54:36:INFO] Sniff delimiter as ','\u001b[0m\n",
      "\u001b[35m[2021-01-22:13:54:36:INFO] Determined delimiter of CSV input is ','\u001b[0m\n",
      "\u001b[34m[2021-01-22:13:54:36:INFO] Sniff delimiter as ','\u001b[0m\n",
      "\u001b[34m[2021-01-22:13:54:36:INFO] Determined delimiter of CSV input is ','\u001b[0m\n",
      "\u001b[35m[2021-01-22:13:54:36:INFO] Sniff delimiter as ','\u001b[0m\n",
      "\u001b[35m[2021-01-22:13:54:36:INFO] Determined delimiter of CSV input is ','\u001b[0m\n",
      "\u001b[34m[2021-01-22:13:54:38:INFO] Sniff delimiter as ','\u001b[0m\n",
      "\u001b[34m[2021-01-22:13:54:38:INFO] Determined delimiter of CSV input is ','\u001b[0m\n",
      "\u001b[34m[2021-01-22:13:54:38:INFO] Sniff delimiter as ','\u001b[0m\n",
      "\u001b[34m[2021-01-22:13:54:38:INFO] Determined delimiter of CSV input is ','\u001b[0m\n",
      "\u001b[34m[2021-01-22:13:54:38:INFO] Sniff delimiter as ','\u001b[0m\n",
      "\u001b[34m[2021-01-22:13:54:38:INFO] Determined delimiter of CSV input is ','\u001b[0m\n",
      "\u001b[35m[2021-01-22:13:54:38:INFO] Sniff delimiter as ','\u001b[0m\n",
      "\u001b[35m[2021-01-22:13:54:38:INFO] Determined delimiter of CSV input is ','\u001b[0m\n",
      "\u001b[35m[2021-01-22:13:54:38:INFO] Sniff delimiter as ','\u001b[0m\n",
      "\u001b[35m[2021-01-22:13:54:38:INFO] Determined delimiter of CSV input is ','\u001b[0m\n",
      "\u001b[35m[2021-01-22:13:54:38:INFO] Sniff delimiter as ','\u001b[0m\n",
      "\u001b[35m[2021-01-22:13:54:38:INFO] Determined delimiter of CSV input is ','\u001b[0m\n",
      "\n"
     ]
    }
   ],
   "source": [
    "xgb_transformer.wait()"
   ]
  },
  {
   "cell_type": "markdown",
   "metadata": {},
   "source": [
    "Now the transform job has executed and the result, the estimated sentiment of each review, has been saved on S3. Since we would rather work on this file locally we can perform a bit of notebook magic to copy the file to the `data_dir`."
   ]
  },
  {
   "cell_type": "code",
   "execution_count": 38,
   "metadata": {},
   "outputs": [
    {
     "name": "stdout",
     "output_type": "stream",
     "text": [
      "download: s3://sagemaker-us-east-1-459717541543/xgboost-2021-01-22-13-49-18-121/test.csv.out to ../data/xgboost/test.csv.out\r\n"
     ]
    }
   ],
   "source": [
    "!aws s3 cp --recursive $xgb_transformer.output_path $data_dir"
   ]
  },
  {
   "cell_type": "markdown",
   "metadata": {},
   "source": [
    "The last step is now to read in the output from our model, convert the output to something a little more usable, in this case we want the sentiment to be either `1` (positive) or `0` (negative), and then compare to the ground truth labels."
   ]
  },
  {
   "cell_type": "code",
   "execution_count": 41,
   "metadata": {},
   "outputs": [],
   "source": [
    "predictions = pd.read_csv(os.path.join(data_dir, 'test.csv.out'), header=None)\n",
    "predictions = [round(num) for num in predictions.squeeze().values]"
   ]
  },
  {
   "cell_type": "code",
   "execution_count": 42,
   "metadata": {},
   "outputs": [
    {
     "data": {
      "text/plain": [
       "0.86316"
      ]
     },
     "execution_count": 42,
     "metadata": {},
     "output_type": "execute_result"
    }
   ],
   "source": [
    "from sklearn.metrics import accuracy_score\n",
    "accuracy_score(test_y, predictions)"
   ]
  },
  {
   "cell_type": "markdown",
   "metadata": {},
   "source": [
    "## Optional: Clean up\n",
    "\n",
    "The default notebook instance on SageMaker doesn't have a lot of excess disk space available. As you continue to complete and execute notebooks you will eventually fill up this disk space, leading to errors which can be difficult to diagnose. Once you are completely finished using a notebook it is a good idea to remove the files that you created along the way. Of course, you can do this from the terminal or from the notebook hub if you would like. The cell below contains some commands to clean up the created files from within the notebook."
   ]
  },
  {
   "cell_type": "code",
   "execution_count": 43,
   "metadata": {},
   "outputs": [],
   "source": [
    "# First we will remove all of the files contained in the data_dir directory\n",
    "!rm $data_dir/*\n",
    "\n",
    "# And then we delete the directory itself\n",
    "!rmdir $data_dir\n",
    "\n",
    "# Similarly we will remove the files in the cache_dir directory and the directory itself\n",
    "!rm $cache_dir/*\n",
    "!rmdir $cache_dir"
   ]
  },
  {
   "cell_type": "code",
   "execution_count": null,
   "metadata": {},
   "outputs": [],
   "source": []
  }
 ],
 "metadata": {
  "kernelspec": {
   "display_name": "conda_python3",
   "language": "python",
   "name": "conda_python3"
  },
  "language_info": {
   "codemirror_mode": {
    "name": "ipython",
    "version": 3
   },
   "file_extension": ".py",
   "mimetype": "text/x-python",
   "name": "python",
   "nbconvert_exporter": "python",
   "pygments_lexer": "ipython3",
   "version": "3.6.10"
  }
 },
 "nbformat": 4,
 "nbformat_minor": 2
}
