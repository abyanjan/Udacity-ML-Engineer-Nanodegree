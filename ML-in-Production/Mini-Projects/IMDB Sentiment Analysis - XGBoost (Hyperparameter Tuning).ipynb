{
 "cells": [
  {
   "cell_type": "markdown",
   "metadata": {},
   "source": [
    "# Sentiment Analysis\n",
    "\n",
    "## Using XGBoost in SageMaker\n",
    "\n",
    "_Deep Learning Nanodegree Program | Deployment_\n",
    "\n",
    "---\n",
    "\n",
    "In this example of using Amazon's SageMaker service we will construct a random tree model to predict the sentiment of a movie review. You may have seen a version of this example in a pervious lesson although it would have been done using the sklearn package. Instead, we will be using the XGBoost package as it is provided to us by Amazon.\n",
    "\n",
    "## Instructions\n",
    "\n",
    "Some template code has already been provided for you, and you will need to implement additional functionality to successfully complete this notebook. You will not need to modify the included code beyond what is requested. Sections that begin with '**TODO**' in the header indicate that you need to complete or implement some portion within them. Instructions will be provided for each section and the specifics of the implementation are marked in the code block with a `# TODO: ...` comment. Please be sure to read the instructions carefully!\n",
    "\n",
    "In addition to implementing code, there will be questions for you to answer which relate to the task and your implementation. Each section where you will answer a question is preceded by a '**Question:**' header. Carefully read each question and provide your answer below the '**Answer:**' header by editing the Markdown cell.\n",
    "\n",
    "> **Note**: Code and Markdown cells can be executed using the **Shift+Enter** keyboard shortcut. In addition, a cell can be edited by typically clicking it (double-click for Markdown cells) or by pressing **Enter** while it is highlighted."
   ]
  },
  {
   "cell_type": "code",
   "execution_count": 1,
   "metadata": {},
   "outputs": [
    {
     "name": "stdout",
     "output_type": "stream",
     "text": [
      "Requirement already satisfied: sagemaker==1.72.0 in /home/ec2-user/anaconda3/envs/python3/lib/python3.6/site-packages (1.72.0)\n",
      "Requirement already satisfied: boto3>=1.14.12 in /home/ec2-user/anaconda3/envs/python3/lib/python3.6/site-packages (from sagemaker==1.72.0) (1.16.37)\n",
      "Requirement already satisfied: numpy>=1.9.0 in /home/ec2-user/anaconda3/envs/python3/lib/python3.6/site-packages (from sagemaker==1.72.0) (1.19.4)\n",
      "Requirement already satisfied: packaging>=20.0 in /home/ec2-user/anaconda3/envs/python3/lib/python3.6/site-packages (from sagemaker==1.72.0) (20.7)\n",
      "Requirement already satisfied: smdebug-rulesconfig==0.1.4 in /home/ec2-user/anaconda3/envs/python3/lib/python3.6/site-packages (from sagemaker==1.72.0) (0.1.4)\n",
      "Requirement already satisfied: protobuf3-to-dict>=0.1.5 in /home/ec2-user/anaconda3/envs/python3/lib/python3.6/site-packages (from sagemaker==1.72.0) (0.1.5)\n",
      "Requirement already satisfied: scipy>=0.19.0 in /home/ec2-user/anaconda3/envs/python3/lib/python3.6/site-packages (from sagemaker==1.72.0) (1.4.1)\n",
      "Requirement already satisfied: importlib-metadata>=1.4.0 in /home/ec2-user/anaconda3/envs/python3/lib/python3.6/site-packages (from sagemaker==1.72.0) (3.1.0)\n",
      "Requirement already satisfied: protobuf>=3.1 in /home/ec2-user/anaconda3/envs/python3/lib/python3.6/site-packages (from sagemaker==1.72.0) (3.14.0)\n",
      "Requirement already satisfied: s3transfer<0.4.0,>=0.3.0 in /home/ec2-user/anaconda3/envs/python3/lib/python3.6/site-packages (from boto3>=1.14.12->sagemaker==1.72.0) (0.3.3)\n",
      "Requirement already satisfied: botocore<1.20.0,>=1.19.37 in /home/ec2-user/anaconda3/envs/python3/lib/python3.6/site-packages (from boto3>=1.14.12->sagemaker==1.72.0) (1.19.37)\n",
      "Requirement already satisfied: jmespath<1.0.0,>=0.7.1 in /home/ec2-user/anaconda3/envs/python3/lib/python3.6/site-packages (from boto3>=1.14.12->sagemaker==1.72.0) (0.10.0)\n",
      "Requirement already satisfied: jmespath<1.0.0,>=0.7.1 in /home/ec2-user/anaconda3/envs/python3/lib/python3.6/site-packages (from boto3>=1.14.12->sagemaker==1.72.0) (0.10.0)\n",
      "Requirement already satisfied: python-dateutil<3.0.0,>=2.1 in /home/ec2-user/anaconda3/envs/python3/lib/python3.6/site-packages (from botocore<1.20.0,>=1.19.37->boto3>=1.14.12->sagemaker==1.72.0) (2.8.1)\n",
      "Requirement already satisfied: urllib3<1.27,>=1.25.4 in /home/ec2-user/anaconda3/envs/python3/lib/python3.6/site-packages (from botocore<1.20.0,>=1.19.37->boto3>=1.14.12->sagemaker==1.72.0) (1.25.11)\n",
      "Requirement already satisfied: zipp>=0.5 in /home/ec2-user/anaconda3/envs/python3/lib/python3.6/site-packages (from importlib-metadata>=1.4.0->sagemaker==1.72.0) (3.4.0)\n",
      "Requirement already satisfied: pyparsing>=2.0.2 in /home/ec2-user/anaconda3/envs/python3/lib/python3.6/site-packages (from packaging>=20.0->sagemaker==1.72.0) (2.4.7)\n",
      "Requirement already satisfied: six>=1.9 in /home/ec2-user/anaconda3/envs/python3/lib/python3.6/site-packages (from protobuf>=3.1->sagemaker==1.72.0) (1.15.0)\n",
      "Requirement already satisfied: six>=1.9 in /home/ec2-user/anaconda3/envs/python3/lib/python3.6/site-packages (from protobuf>=3.1->sagemaker==1.72.0) (1.15.0)\n",
      "Requirement already satisfied: protobuf>=3.1 in /home/ec2-user/anaconda3/envs/python3/lib/python3.6/site-packages (from sagemaker==1.72.0) (3.14.0)\n",
      "Requirement already satisfied: six>=1.9 in /home/ec2-user/anaconda3/envs/python3/lib/python3.6/site-packages (from protobuf>=3.1->sagemaker==1.72.0) (1.15.0)\n",
      "Requirement already satisfied: botocore<1.20.0,>=1.19.37 in /home/ec2-user/anaconda3/envs/python3/lib/python3.6/site-packages (from boto3>=1.14.12->sagemaker==1.72.0) (1.19.37)\n",
      "Requirement already satisfied: numpy>=1.9.0 in /home/ec2-user/anaconda3/envs/python3/lib/python3.6/site-packages (from sagemaker==1.72.0) (1.19.4)\n",
      "\u001b[33mWARNING: You are using pip version 20.3; however, version 20.3.3 is available.\n",
      "You should consider upgrading via the '/home/ec2-user/anaconda3/envs/python3/bin/python -m pip install --upgrade pip' command.\u001b[0m\n"
     ]
    }
   ],
   "source": [
    "# Make sure that we use SageMaker 1.x\n",
    "!pip install sagemaker==1.72.0"
   ]
  },
  {
   "cell_type": "markdown",
   "metadata": {},
   "source": [
    "## Step 1: Downloading the data\n",
    "\n",
    "The dataset we are going to use is very popular among researchers in Natural Language Processing, usually referred to as the [IMDb dataset](http://ai.stanford.edu/~amaas/data/sentiment/). It consists of movie reviews from the website [imdb.com](http://www.imdb.com/), each labeled as either '**pos**itive', if the reviewer enjoyed the film, or '**neg**ative' otherwise.\n",
    "\n",
    "> Maas, Andrew L., et al. [Learning Word Vectors for Sentiment Analysis](http://ai.stanford.edu/~amaas/data/sentiment/). In _Proceedings of the 49th Annual Meeting of the Association for Computational Linguistics: Human Language Technologies_. Association for Computational Linguistics, 2011.\n",
    "\n",
    "We begin by using some Jupyter Notebook magic to download and extract the dataset."
   ]
  },
  {
   "cell_type": "code",
   "execution_count": 2,
   "metadata": {},
   "outputs": [
    {
     "name": "stdout",
     "output_type": "stream",
     "text": [
      "mkdir: cannot create directory ‘../data’: File exists\n",
      "--2021-01-23 12:03:43--  http://ai.stanford.edu/~amaas/data/sentiment/aclImdb_v1.tar.gz\n",
      "Resolving ai.stanford.edu (ai.stanford.edu)... 171.64.68.10\n",
      "Connecting to ai.stanford.edu (ai.stanford.edu)|171.64.68.10|:80... connected.\n",
      "HTTP request sent, awaiting response... 200 OK\n",
      "Length: 84125825 (80M) [application/x-gzip]\n",
      "Saving to: ‘../data/aclImdb_v1.tar.gz’\n",
      "\n",
      "../data/aclImdb_v1. 100%[===================>]  80.23M  24.4MB/s    in 3.9s    \n",
      "\n",
      "2021-01-23 12:03:47 (20.6 MB/s) - ‘../data/aclImdb_v1.tar.gz’ saved [84125825/84125825]\n",
      "\n"
     ]
    }
   ],
   "source": [
    "%mkdir ../data\n",
    "!wget -O ../data/aclImdb_v1.tar.gz http://ai.stanford.edu/~amaas/data/sentiment/aclImdb_v1.tar.gz\n",
    "!tar -zxf ../data/aclImdb_v1.tar.gz -C ../data"
   ]
  },
  {
   "cell_type": "markdown",
   "metadata": {},
   "source": [
    "## Step 2: Preparing the data\n",
    "\n",
    "The data we have downloaded is split into various files, each of which contains a single review. It will be much easier going forward if we combine these individual files into two large files, one for training and one for testing."
   ]
  },
  {
   "cell_type": "code",
   "execution_count": 3,
   "metadata": {},
   "outputs": [],
   "source": [
    "import os\n",
    "import glob\n",
    "\n",
    "def read_imdb_data(data_dir='../data/aclImdb'):\n",
    "    data = {}\n",
    "    labels = {}\n",
    "    \n",
    "    for data_type in ['train', 'test']:\n",
    "        data[data_type] = {}\n",
    "        labels[data_type] = {}\n",
    "        \n",
    "        for sentiment in ['pos', 'neg']:\n",
    "            data[data_type][sentiment] = []\n",
    "            labels[data_type][sentiment] = []\n",
    "            \n",
    "            path = os.path.join(data_dir, data_type, sentiment, '*.txt')\n",
    "            files = glob.glob(path)\n",
    "            \n",
    "            for f in files:\n",
    "                with open(f) as review:\n",
    "                    data[data_type][sentiment].append(review.read())\n",
    "                    # Here we represent a positive review by '1' and a negative review by '0'\n",
    "                    labels[data_type][sentiment].append(1 if sentiment == 'pos' else 0)\n",
    "                    \n",
    "            assert len(data[data_type][sentiment]) == len(labels[data_type][sentiment]), \\\n",
    "                    \"{}/{} data size does not match labels size\".format(data_type, sentiment)\n",
    "                \n",
    "    return data, labels"
   ]
  },
  {
   "cell_type": "code",
   "execution_count": 4,
   "metadata": {},
   "outputs": [
    {
     "name": "stdout",
     "output_type": "stream",
     "text": [
      "IMDB reviews: train = 12500 pos / 12500 neg, test = 12500 pos / 12500 neg\n"
     ]
    }
   ],
   "source": [
    "data, labels = read_imdb_data()\n",
    "print(\"IMDB reviews: train = {} pos / {} neg, test = {} pos / {} neg\".format(\n",
    "            len(data['train']['pos']), len(data['train']['neg']),\n",
    "            len(data['test']['pos']), len(data['test']['neg'])))"
   ]
  },
  {
   "cell_type": "code",
   "execution_count": 5,
   "metadata": {},
   "outputs": [],
   "source": [
    "from sklearn.utils import shuffle\n",
    "\n",
    "def prepare_imdb_data(data, labels):\n",
    "    \"\"\"Prepare training and test sets from IMDb movie reviews.\"\"\"\n",
    "    \n",
    "    #Combine positive and negative reviews and labels\n",
    "    data_train = data['train']['pos'] + data['train']['neg']\n",
    "    data_test = data['test']['pos'] + data['test']['neg']\n",
    "    labels_train = labels['train']['pos'] + labels['train']['neg']\n",
    "    labels_test = labels['test']['pos'] + labels['test']['neg']\n",
    "    \n",
    "    #Shuffle reviews and corresponding labels within training and test sets\n",
    "    data_train, labels_train = shuffle(data_train, labels_train)\n",
    "    data_test, labels_test = shuffle(data_test, labels_test)\n",
    "    \n",
    "    # Return a unified training data, test data, training labels, test labets\n",
    "    return data_train, data_test, labels_train, labels_test"
   ]
  },
  {
   "cell_type": "code",
   "execution_count": 6,
   "metadata": {},
   "outputs": [
    {
     "name": "stdout",
     "output_type": "stream",
     "text": [
      "IMDb reviews (combined): train = 25000, test = 25000\n"
     ]
    }
   ],
   "source": [
    "train_X, test_X, train_y, test_y = prepare_imdb_data(data, labels)\n",
    "print(\"IMDb reviews (combined): train = {}, test = {}\".format(len(train_X), len(test_X)))"
   ]
  },
  {
   "cell_type": "code",
   "execution_count": 7,
   "metadata": {},
   "outputs": [
    {
     "data": {
      "text/plain": [
       "'When I noticed that \"Hamish Macbeth\" was being broadcast in the United States, I was thrilled. I then had the misfortune to watch the darn thing. I adore M. C. Beaton\\'s books about the wonderful Scottish Constable. The characters in the book are entertaining and very well-written. The powers that be who are responsible for this mish-mash apparently have never have read one of Beaton\\'s books. Only the name \"Hamish Macbeth\" has anything to do with the series. Besides the lack of familiar characters, I find the whole show offensively loud. It seems that the actors feel they must shout their lines and scream at each other. If you love M. C. Beaton\\'s adorable Hamish Macbeth don\\'t waste your time on this rubbish.'"
      ]
     },
     "execution_count": 7,
     "metadata": {},
     "output_type": "execute_result"
    }
   ],
   "source": [
    "train_X[100]"
   ]
  },
  {
   "cell_type": "markdown",
   "metadata": {},
   "source": [
    "## Step 3: Processing the data\n",
    "\n",
    "Now that we have our training and testing datasets merged and ready to use, we need to start processing the raw data into something that will be useable by our machine learning algorithm. To begin with, we remove any html formatting that may appear in the reviews and perform some standard natural language processing in order to homogenize the data."
   ]
  },
  {
   "cell_type": "code",
   "execution_count": 8,
   "metadata": {},
   "outputs": [
    {
     "name": "stderr",
     "output_type": "stream",
     "text": [
      "[nltk_data] Downloading package stopwords to\n",
      "[nltk_data]     /home/ec2-user/nltk_data...\n",
      "[nltk_data]   Unzipping corpora/stopwords.zip.\n"
     ]
    }
   ],
   "source": [
    "import nltk\n",
    "nltk.download(\"stopwords\")\n",
    "from nltk.corpus import stopwords\n",
    "from nltk.stem.porter import *\n",
    "stemmer = PorterStemmer()"
   ]
  },
  {
   "cell_type": "code",
   "execution_count": 9,
   "metadata": {},
   "outputs": [],
   "source": [
    "import re\n",
    "from bs4 import BeautifulSoup\n",
    "\n",
    "def review_to_words(review):\n",
    "    text = BeautifulSoup(review, \"html.parser\").get_text() # Remove HTML tags\n",
    "    text = re.sub(r\"[^a-zA-Z0-9]\", \" \", text.lower()) # Convert to lower case\n",
    "    words = text.split() # Split string into words\n",
    "    words = [w for w in words if w not in stopwords.words(\"english\")] # Remove stopwords\n",
    "    words = [PorterStemmer().stem(w) for w in words] # stem\n",
    "    \n",
    "    return words"
   ]
  },
  {
   "cell_type": "code",
   "execution_count": 10,
   "metadata": {},
   "outputs": [],
   "source": [
    "import pickle\n",
    "\n",
    "cache_dir = os.path.join(\"../cache\", \"sentiment_analysis\")  # where to store cache files\n",
    "os.makedirs(cache_dir, exist_ok=True)  # ensure cache directory exists\n",
    "\n",
    "def preprocess_data(data_train, data_test, labels_train, labels_test,\n",
    "                    cache_dir=cache_dir, cache_file=\"preprocessed_data.pkl\"):\n",
    "    \"\"\"Convert each review to words; read from cache if available.\"\"\"\n",
    "\n",
    "    # If cache_file is not None, try to read from it first\n",
    "    cache_data = None\n",
    "    if cache_file is not None:\n",
    "        try:\n",
    "            with open(os.path.join(cache_dir, cache_file), \"rb\") as f:\n",
    "                cache_data = pickle.load(f)\n",
    "            print(\"Read preprocessed data from cache file:\", cache_file)\n",
    "        except:\n",
    "            pass  # unable to read from cache, but that's okay\n",
    "    \n",
    "    # If cache is missing, then do the heavy lifting\n",
    "    if cache_data is None:\n",
    "        # Preprocess training and test data to obtain words for each review\n",
    "        #words_train = list(map(review_to_words, data_train))\n",
    "        #words_test = list(map(review_to_words, data_test))\n",
    "        words_train = [review_to_words(review) for review in data_train]\n",
    "        words_test = [review_to_words(review) for review in data_test]\n",
    "        \n",
    "        # Write to cache file for future runs\n",
    "        if cache_file is not None:\n",
    "            cache_data = dict(words_train=words_train, words_test=words_test,\n",
    "                              labels_train=labels_train, labels_test=labels_test)\n",
    "            with open(os.path.join(cache_dir, cache_file), \"wb\") as f:\n",
    "                pickle.dump(cache_data, f)\n",
    "            print(\"Wrote preprocessed data to cache file:\", cache_file)\n",
    "    else:\n",
    "        # Unpack data loaded from cache file\n",
    "        words_train, words_test, labels_train, labels_test = (cache_data['words_train'],\n",
    "                cache_data['words_test'], cache_data['labels_train'], cache_data['labels_test'])\n",
    "    \n",
    "    return words_train, words_test, labels_train, labels_test"
   ]
  },
  {
   "cell_type": "code",
   "execution_count": 34,
   "metadata": {},
   "outputs": [
    {
     "name": "stdout",
     "output_type": "stream",
     "text": [
      "Read preprocessed data from cache file: preprocessed_data.pkl\n"
     ]
    }
   ],
   "source": [
    "# Preprocess data\n",
    "train_X, test_X, train_y, test_y = preprocess_data(train_X, test_X, train_y, test_y)"
   ]
  },
  {
   "cell_type": "markdown",
   "metadata": {},
   "source": [
    "### Extract Bag-of-Words features\n",
    "\n",
    "For the model we will be implementing, rather than using the reviews directly, we are going to transform each review into a Bag-of-Words feature representation. Keep in mind that 'in the wild' we will only have access to the training set so our transformer can only use the training set to construct a representation."
   ]
  },
  {
   "cell_type": "code",
   "execution_count": 12,
   "metadata": {},
   "outputs": [
    {
     "name": "stderr",
     "output_type": "stream",
     "text": [
      "/home/ec2-user/anaconda3/envs/python3/lib/python3.6/site-packages/sklearn/externals/joblib/__init__.py:15: FutureWarning: sklearn.externals.joblib is deprecated in 0.21 and will be removed in 0.23. Please import this functionality directly from joblib, which can be installed with: pip install joblib. If this warning is raised when loading pickled models, you may need to re-serialize those models with scikit-learn 0.21+.\n",
      "  warnings.warn(msg, category=FutureWarning)\n"
     ]
    }
   ],
   "source": [
    "import numpy as np\n",
    "from sklearn.feature_extraction.text import CountVectorizer\n",
    "from sklearn.externals import joblib\n",
    "# joblib is an enhanced version of pickle that is more efficient for storing NumPy arrays\n",
    "\n",
    "def extract_BoW_features(words_train, words_test, vocabulary_size=5000,\n",
    "                         cache_dir=cache_dir, cache_file=\"bow_features.pkl\"):\n",
    "    \"\"\"Extract Bag-of-Words for a given set of documents, already preprocessed into words.\"\"\"\n",
    "    \n",
    "    # If cache_file is not None, try to read from it first\n",
    "    cache_data = None\n",
    "    if cache_file is not None:\n",
    "        try:\n",
    "            with open(os.path.join(cache_dir, cache_file), \"rb\") as f:\n",
    "                cache_data = joblib.load(f)\n",
    "            print(\"Read features from cache file:\", cache_file)\n",
    "        except:\n",
    "            pass  # unable to read from cache, but that's okay\n",
    "    \n",
    "    # If cache is missing, then do the heavy lifting\n",
    "    if cache_data is None:\n",
    "        # Fit a vectorizer to training documents and use it to transform them\n",
    "        # NOTE: Training documents have already been preprocessed and tokenized into words;\n",
    "        #       pass in dummy functions to skip those steps, e.g. preprocessor=lambda x: x\n",
    "        vectorizer = CountVectorizer(max_features=vocabulary_size,\n",
    "                preprocessor=lambda x: x, tokenizer=lambda x: x)  # already preprocessed\n",
    "        features_train = vectorizer.fit_transform(words_train).toarray()\n",
    "\n",
    "        # Apply the same vectorizer to transform the test documents (ignore unknown words)\n",
    "        features_test = vectorizer.transform(words_test).toarray()\n",
    "        \n",
    "        # NOTE: Remember to convert the features using .toarray() for a compact representation\n",
    "        \n",
    "        # Write to cache file for future runs (store vocabulary as well)\n",
    "        if cache_file is not None:\n",
    "            vocabulary = vectorizer.vocabulary_\n",
    "            cache_data = dict(features_train=features_train, features_test=features_test,\n",
    "                             vocabulary=vocabulary)\n",
    "            with open(os.path.join(cache_dir, cache_file), \"wb\") as f:\n",
    "                joblib.dump(cache_data, f)\n",
    "            print(\"Wrote features to cache file:\", cache_file)\n",
    "    else:\n",
    "        # Unpack data loaded from cache file\n",
    "        features_train, features_test, vocabulary = (cache_data['features_train'],\n",
    "                cache_data['features_test'], cache_data['vocabulary'])\n",
    "    \n",
    "    # Return both the extracted features as well as the vocabulary\n",
    "    return features_train, features_test, vocabulary"
   ]
  },
  {
   "cell_type": "code",
   "execution_count": 35,
   "metadata": {},
   "outputs": [
    {
     "name": "stdout",
     "output_type": "stream",
     "text": [
      "Wrote features to cache file: bow_features.pkl\n"
     ]
    }
   ],
   "source": [
    "# Extract Bag of Words features for both training and test datasets\n",
    "train_X, test_X, vocabulary = extract_BoW_features(train_X, test_X)"
   ]
  },
  {
   "cell_type": "markdown",
   "metadata": {},
   "source": [
    "## Step 4: Classification using XGBoost\n",
    "\n",
    "Now that we have created the feature representation of our training (and testing) data, it is time to start setting up and using the XGBoost classifier provided by SageMaker.\n",
    "\n",
    "### Writing the dataset\n",
    "\n",
    "The XGBoost classifier that we will be using requires the dataset to be written to a file and stored using Amazon S3. To do this, we will start by splitting the training dataset into two parts, the data we will train the model with and a validation set. Then, we will write those datasets to a file and upload the files to S3. In addition, we will write the test set input to a file and upload the file to S3. This is so that we can use SageMakers Batch Transform functionality to test our model once we've fit it."
   ]
  },
  {
   "cell_type": "code",
   "execution_count": 36,
   "metadata": {},
   "outputs": [],
   "source": [
    "import pandas as pd\n",
    "\n",
    "val_X = pd.DataFrame(train_X[:10000])\n",
    "train_X = pd.DataFrame(train_X[10000:])\n",
    "\n",
    "val_y = pd.DataFrame(train_y[:10000])\n",
    "train_y = pd.DataFrame(train_y[10000:])\n",
    "\n",
    "test_y = pd.DataFrame(test_y)\n",
    "test_X = pd.DataFrame(test_X)"
   ]
  },
  {
   "cell_type": "markdown",
   "metadata": {},
   "source": [
    "The documentation for the XGBoost algorithm in SageMaker requires that the saved datasets should contain no headers or index and that for the training and validation data, the label should occur first for each sample.\n",
    "\n",
    "For more information about this and other algorithms, the SageMaker developer documentation can be found on __[Amazon's website.](https://docs.aws.amazon.com/sagemaker/latest/dg/)__"
   ]
  },
  {
   "cell_type": "code",
   "execution_count": 37,
   "metadata": {},
   "outputs": [],
   "source": [
    "# First we make sure that the local directory in which we'd like to store the training and validation csv files exists.\n",
    "data_dir = '../data/xgboost'\n",
    "if not os.path.exists(data_dir):\n",
    "    os.makedirs(data_dir)"
   ]
  },
  {
   "cell_type": "code",
   "execution_count": 38,
   "metadata": {},
   "outputs": [],
   "source": [
    "# First, save the test data to test.csv in the data_dir directory. Note that we do not save the associated ground truth\n",
    "# labels, instead we will use them later to compare with our model output.\n",
    "\n",
    "#pd.concat([test_y, test_X], axis=1).to_csv(os.path.join(data_dir, 'test.csv'), header=False, index=False)\n",
    "pd.DataFrame(test_X).to_csv(os.path.join(data_dir, 'test.csv'), header=False, index=False)\n",
    "\n",
    "pd.concat([val_y, val_X], axis=1).to_csv(os.path.join(data_dir, 'validation.csv'), header=False, index=False)\n",
    "pd.concat([train_y, train_X], axis=1).to_csv(os.path.join(data_dir, 'train.csv'), header=False, index=False)"
   ]
  },
  {
   "cell_type": "code",
   "execution_count": 39,
   "metadata": {},
   "outputs": [],
   "source": [
    "# To save a bit of memory we can set text_X, train_X, val_X, train_y and val_y to None.\n",
    "\n",
    "train_X = val_X = train_y = val_y = None"
   ]
  },
  {
   "cell_type": "markdown",
   "metadata": {},
   "source": [
    "### Uploading Training / Validation files to S3\n",
    "\n",
    "Amazon's S3 service allows us to store files that can be access by both the built-in training models such as the XGBoost model we will be using as well as custom models such as the one we will see a little later.\n",
    "\n",
    "For this, and most other tasks we will be doing using SageMaker, there are two methods we could use. The first is to use the low level functionality of SageMaker which requires knowing each of the objects involved in the SageMaker environment. The second is to use the high level functionality in which certain choices have been made on the user's behalf. The low level approach benefits from allowing the user a great deal of flexibility while the high level approach makes development much quicker. For our purposes we will opt to use the high level approach although using the low-level approach is certainly an option.\n",
    "\n",
    "Recall the method `upload_data()` which is a member of object representing our current SageMaker session. What this method does is upload the data to the default bucket (which is created if it does not exist) into the path described by the key_prefix variable. To see this for yourself, once you have uploaded the data files, go to the S3 console and look to see where the files have been uploaded.\n",
    "\n",
    "For additional resources, see the __[SageMaker API documentation](http://sagemaker.readthedocs.io/en/latest/)__ and in addition the __[SageMaker Developer Guide.](https://docs.aws.amazon.com/sagemaker/latest/dg/)__"
   ]
  },
  {
   "cell_type": "code",
   "execution_count": 40,
   "metadata": {},
   "outputs": [],
   "source": [
    "import sagemaker\n",
    "\n",
    "session = sagemaker.Session() # Store the current SageMaker session\n",
    "\n",
    "# S3 prefix (which folder will we use)\n",
    "prefix = 'sentiment-xgboost'\n",
    "\n",
    "test_location = session.upload_data(os.path.join(data_dir, 'test.csv'), key_prefix=prefix)\n",
    "val_location = session.upload_data(os.path.join(data_dir, 'validation.csv'), key_prefix=prefix)\n",
    "train_location = session.upload_data(os.path.join(data_dir, 'train.csv'), key_prefix=prefix)"
   ]
  },
  {
   "cell_type": "markdown",
   "metadata": {},
   "source": [
    "### (TODO) Creating a hypertuned XGBoost model\n",
    "\n",
    "Now that the data has been uploaded it is time to create the XGBoost model. As in the Boston Housing notebook, the first step is to create an estimator object which will be used as the *base* of your hyperparameter tuning job."
   ]
  },
  {
   "cell_type": "code",
   "execution_count": 41,
   "metadata": {},
   "outputs": [],
   "source": [
    "from sagemaker import get_execution_role\n",
    "\n",
    "# Our current execution role is require when creating the model as the training\n",
    "# and inference code will need to access the model artifacts.\n",
    "role = get_execution_role()"
   ]
  },
  {
   "cell_type": "code",
   "execution_count": 42,
   "metadata": {},
   "outputs": [
    {
     "name": "stderr",
     "output_type": "stream",
     "text": [
      "'get_image_uri' method will be deprecated in favor of 'ImageURIProvider' class in SageMaker Python SDK v2.\n",
      "There is a more up to date SageMaker XGBoost image. To use the newer image, please set 'repo_version'='1.0-1'. For example:\n",
      "\tget_image_uri(region, 'xgboost', '1.0-1').\n"
     ]
    }
   ],
   "source": [
    "# We need to retrieve the location of the container which is provided by Amazon for using XGBoost.\n",
    "# As a matter of convenience, the training and inference code both use the same container.\n",
    "from sagemaker.amazon.amazon_estimator import get_image_uri\n",
    "\n",
    "container = get_image_uri(session.boto_region_name, 'xgboost')"
   ]
  },
  {
   "cell_type": "code",
   "execution_count": 43,
   "metadata": {},
   "outputs": [
    {
     "name": "stderr",
     "output_type": "stream",
     "text": [
      "Parameter image_name will be renamed to image_uri in SageMaker Python SDK v2.\n"
     ]
    }
   ],
   "source": [
    "# TODO: Create a SageMaker estimator using the container location determined in the previous cell.\n",
    "#       It is recommended that you use a single training instance of type ml.m4.xlarge. It is also\n",
    "#       recommended that you use 's3://{}/{}/output'.format(session.default_bucket(), prefix) as the\n",
    "#       output path.\n",
    "\n",
    "xgb = sagemaker.estimator.Estimator(container,\n",
    "                                   role,\n",
    "                                   train_instance_count = 1,\n",
    "                                   train_instance_type = 'ml.m4.xlarge',\n",
    "                                   output_path = \"s3://{}/{}/output\".format(session.default_bucket(), prefix),\n",
    "                                   sagemaker_session = session\n",
    "                                   )\n",
    "\n",
    "# TODO: Set the XGBoost hyperparameters in the xgb object. Don't forget that in this case we have a binary\n",
    "#       label so we should be using the 'binary:logistic' objective.\n",
    "\n",
    "xgb.set_hyperparameters(max_depth = 5,\n",
    "                       eta = 0.1,\n",
    "                       gamma = 4,\n",
    "                       min_child_weight=6,\n",
    "                       subsample = 0.8,\n",
    "                       objective='binary:logistic',\n",
    "                       early_stopping_rounds=5,\n",
    "                       num_round=200)"
   ]
  },
  {
   "cell_type": "markdown",
   "metadata": {},
   "source": [
    "### (TODO) Create the hyperparameter tuner\n",
    "\n",
    "Now that the base estimator has been set up we need to construct a hyperparameter tuner object which we will use to request SageMaker construct a hyperparameter tuning job.\n",
    "\n",
    "**Note:** Training a single sentiment analysis XGBoost model takes longer than training a Boston Housing XGBoost model so if you don't want the hyperparameter tuning job to take too long, make sure to not set the total number of models (jobs) too high."
   ]
  },
  {
   "cell_type": "code",
   "execution_count": 44,
   "metadata": {},
   "outputs": [],
   "source": [
    "# First, make sure to import the relevant objects used to construct the tuner\n",
    "from sagemaker.tuner import IntegerParameter, ContinuousParameter, HyperparameterTuner\n",
    "\n",
    "# TODO: Create the hyperparameter tuner object\n",
    "\n",
    "xgb_hyperparameter_tuner = HyperparameterTuner(estimator = xgb,\n",
    "                                              objective_metric_name='validation:rmse',\n",
    "                                              objective_type='Minimize',\n",
    "                                              max_jobs=6,\n",
    "                                              max_parallel_jobs=3,\n",
    "                                              hyperparameter_ranges={\n",
    "                                                  'max_depth':IntegerParameter(3,9),\n",
    "                                                  'eta':ContinuousParameter(0.05,0.3),\n",
    "                                                  'min_child_weight':IntegerParameter(2,8),\n",
    "                                                  'subsample':ContinuousParameter(0.5,0.9),\n",
    "                                                  'gamma':IntegerParameter(0,6)\n",
    "                                              }\n",
    "                                              )\n",
    "\n"
   ]
  },
  {
   "cell_type": "markdown",
   "metadata": {},
   "source": [
    "### Fit the hyperparameter tuner\n",
    "\n",
    "Now that the hyperparameter tuner object has been constructed, it is time to fit the various models and find the best performing model."
   ]
  },
  {
   "cell_type": "code",
   "execution_count": 45,
   "metadata": {},
   "outputs": [
    {
     "name": "stderr",
     "output_type": "stream",
     "text": [
      "'s3_input' class will be renamed to 'TrainingInput' in SageMaker Python SDK v2.\n",
      "'s3_input' class will be renamed to 'TrainingInput' in SageMaker Python SDK v2.\n"
     ]
    }
   ],
   "source": [
    "s3_input_train = sagemaker.s3_input(s3_data=train_location, content_type='csv')\n",
    "s3_input_validation = sagemaker.s3_input(s3_data=val_location, content_type='csv')"
   ]
  },
  {
   "cell_type": "code",
   "execution_count": 46,
   "metadata": {},
   "outputs": [],
   "source": [
    "xgb_hyperparameter_tuner.fit({'train': s3_input_train, 'validation': s3_input_validation})"
   ]
  },
  {
   "cell_type": "markdown",
   "metadata": {},
   "source": [
    "Remember that the tuning job is constructed and run in the background so if we want to see the progress of our training job we need to call the `wait()` method."
   ]
  },
  {
   "cell_type": "code",
   "execution_count": 47,
   "metadata": {},
   "outputs": [
    {
     "name": "stdout",
     "output_type": "stream",
     "text": [
      "........................................................................................................................................................................................................................................................................................................!\n"
     ]
    }
   ],
   "source": [
    "xgb_hyperparameter_tuner.wait()"
   ]
  },
  {
   "cell_type": "code",
   "execution_count": 50,
   "metadata": {},
   "outputs": [
    {
     "data": {
      "text/plain": [
       "'xgboost-210123-1312-005-fc3e8fef'"
      ]
     },
     "execution_count": 50,
     "metadata": {},
     "output_type": "execute_result"
    }
   ],
   "source": [
    "xgb_hyperparameter_tuner.best_training_job()"
   ]
  },
  {
   "cell_type": "markdown",
   "metadata": {},
   "source": [
    "### (TODO) Testing the model\n",
    "\n",
    "Now that we've run our hyperparameter tuning job, it's time to see how well the best performing model actually performs. To do this we will use SageMaker's Batch Transform functionality. Batch Transform is a convenient way to perform inference on a large dataset in a way that is not realtime. That is, we don't necessarily need to use our model's results immediately and instead we can peform inference on a large number of samples. An example of this in industry might be peforming an end of month report. This method of inference can also be useful to us as it means to can perform inference on our entire test set. \n",
    "\n",
    "Remember that in order to create a transformer object to perform the batch transform job, we need a trained estimator object. We can do that using the `attach()` method, creating an estimator object which is attached to the best trained job."
   ]
  },
  {
   "cell_type": "code",
   "execution_count": 49,
   "metadata": {},
   "outputs": [
    {
     "name": "stderr",
     "output_type": "stream",
     "text": [
      "Parameter image_name will be renamed to image_uri in SageMaker Python SDK v2.\n"
     ]
    },
    {
     "name": "stdout",
     "output_type": "stream",
     "text": [
      "2021-01-23 13:31:49 Starting - Preparing the instances for training\n",
      "2021-01-23 13:31:49 Downloading - Downloading input data\n",
      "2021-01-23 13:31:49 Training - Training image download completed. Training in progress.\n",
      "2021-01-23 13:31:49 Uploading - Uploading generated training model\n",
      "2021-01-23 13:31:49 Completed - Training job completed\u001b[34mArguments: train\u001b[0m\n",
      "\u001b[34m[2021-01-23:13:25:14:INFO] Running standalone xgboost training.\u001b[0m\n",
      "\u001b[34m[2021-01-23:13:25:14:INFO] Setting up HPO optimized metric to be : rmse\u001b[0m\n",
      "\u001b[34m[2021-01-23:13:25:14:INFO] File size need to be processed in the node: 238.47mb. Available memory size in the node: 8434.4mb\u001b[0m\n",
      "\u001b[34m[2021-01-23:13:25:14:INFO] Determined delimiter of CSV input is ','\u001b[0m\n",
      "\u001b[34m[13:25:14] S3DistributionType set as FullyReplicated\u001b[0m\n",
      "\u001b[34m[13:25:16] 15000x5000 matrix with 75000000 entries loaded from /opt/ml/input/data/train?format=csv&label_column=0&delimiter=,\u001b[0m\n",
      "\u001b[34m[2021-01-23:13:25:16:INFO] Determined delimiter of CSV input is ','\u001b[0m\n",
      "\u001b[34m[13:25:16] S3DistributionType set as FullyReplicated\u001b[0m\n",
      "\u001b[34m[13:25:17] 10000x5000 matrix with 50000000 entries loaded from /opt/ml/input/data/validation?format=csv&label_column=0&delimiter=,\u001b[0m\n",
      "\u001b[34m[13:25:22] src/tree/updater_prune.cc:74: tree pruning end, 1 roots, 130 extra nodes, 38 pruned nodes, max_depth=8\u001b[0m\n",
      "\u001b[34m[0]#011train-rmse:0.462292#011validation-rmse:0.465114\u001b[0m\n",
      "\u001b[34mMultiple eval metrics have been passed: 'validation-rmse' will be used for early stopping.\n",
      "\u001b[0m\n",
      "\u001b[34mWill train until validation-rmse hasn't improved in 5 rounds.\u001b[0m\n",
      "\u001b[34m[13:25:25] src/tree/updater_prune.cc:74: tree pruning end, 1 roots, 124 extra nodes, 48 pruned nodes, max_depth=8\u001b[0m\n",
      "\u001b[34m[1]#011train-rmse:0.439105#011validation-rmse:0.445096\u001b[0m\n",
      "\u001b[34m[13:25:27] src/tree/updater_prune.cc:74: tree pruning end, 1 roots, 94 extra nodes, 26 pruned nodes, max_depth=8\u001b[0m\n",
      "\u001b[34m[2]#011train-rmse:0.423942#011validation-rmse:0.43222\u001b[0m\n",
      "\u001b[34m[13:25:29] src/tree/updater_prune.cc:74: tree pruning end, 1 roots, 112 extra nodes, 40 pruned nodes, max_depth=8\u001b[0m\n",
      "\u001b[34m[3]#011train-rmse:0.410165#011validation-rmse:0.420724\u001b[0m\n",
      "\u001b[34m[13:25:32] src/tree/updater_prune.cc:74: tree pruning end, 1 roots, 82 extra nodes, 40 pruned nodes, max_depth=8\u001b[0m\n",
      "\u001b[34m[4]#011train-rmse:0.399996#011validation-rmse:0.411365\u001b[0m\n",
      "\u001b[34m[13:25:34] src/tree/updater_prune.cc:74: tree pruning end, 1 roots, 62 extra nodes, 46 pruned nodes, max_depth=8\u001b[0m\n",
      "\u001b[34m[5]#011train-rmse:0.391779#011validation-rmse:0.404305\u001b[0m\n",
      "\u001b[34m[13:25:36] src/tree/updater_prune.cc:74: tree pruning end, 1 roots, 62 extra nodes, 50 pruned nodes, max_depth=8\u001b[0m\n",
      "\u001b[34m[6]#011train-rmse:0.38414#011validation-rmse:0.398256\u001b[0m\n",
      "\u001b[34m[13:25:38] src/tree/updater_prune.cc:74: tree pruning end, 1 roots, 92 extra nodes, 32 pruned nodes, max_depth=8\u001b[0m\n",
      "\u001b[34m[7]#011train-rmse:0.37572#011validation-rmse:0.392501\u001b[0m\n",
      "\u001b[34m[13:25:41] src/tree/updater_prune.cc:74: tree pruning end, 1 roots, 74 extra nodes, 48 pruned nodes, max_depth=8\u001b[0m\n",
      "\u001b[34m[8]#011train-rmse:0.369094#011validation-rmse:0.388231\u001b[0m\n",
      "\u001b[34m[13:25:43] src/tree/updater_prune.cc:74: tree pruning end, 1 roots, 72 extra nodes, 40 pruned nodes, max_depth=8\u001b[0m\n",
      "\u001b[34m[9]#011train-rmse:0.363596#011validation-rmse:0.384329\u001b[0m\n",
      "\u001b[34m[13:25:45] src/tree/updater_prune.cc:74: tree pruning end, 1 roots, 80 extra nodes, 58 pruned nodes, max_depth=8\u001b[0m\n",
      "\u001b[34m[10]#011train-rmse:0.357574#011validation-rmse:0.380245\u001b[0m\n",
      "\u001b[34m[13:25:48] src/tree/updater_prune.cc:74: tree pruning end, 1 roots, 64 extra nodes, 38 pruned nodes, max_depth=8\u001b[0m\n",
      "\u001b[34m[11]#011train-rmse:0.352288#011validation-rmse:0.377004\u001b[0m\n",
      "\u001b[34m[13:25:50] src/tree/updater_prune.cc:74: tree pruning end, 1 roots, 88 extra nodes, 26 pruned nodes, max_depth=8\u001b[0m\n",
      "\u001b[34m[12]#011train-rmse:0.346445#011validation-rmse:0.373475\u001b[0m\n",
      "\u001b[34m[13:25:52] src/tree/updater_prune.cc:74: tree pruning end, 1 roots, 56 extra nodes, 36 pruned nodes, max_depth=8\u001b[0m\n",
      "\u001b[34m[13]#011train-rmse:0.34225#011validation-rmse:0.370819\u001b[0m\n",
      "\u001b[34m[13:25:54] src/tree/updater_prune.cc:74: tree pruning end, 1 roots, 66 extra nodes, 34 pruned nodes, max_depth=8\u001b[0m\n",
      "\u001b[34m[14]#011train-rmse:0.33774#011validation-rmse:0.368368\u001b[0m\n",
      "\u001b[34m[13:25:57] src/tree/updater_prune.cc:74: tree pruning end, 1 roots, 42 extra nodes, 32 pruned nodes, max_depth=8\u001b[0m\n",
      "\u001b[34m[15]#011train-rmse:0.334217#011validation-rmse:0.36554\u001b[0m\n",
      "\u001b[34m[13:25:59] src/tree/updater_prune.cc:74: tree pruning end, 1 roots, 70 extra nodes, 46 pruned nodes, max_depth=8\u001b[0m\n",
      "\u001b[34m[16]#011train-rmse:0.330319#011validation-rmse:0.363805\u001b[0m\n",
      "\u001b[34m[13:26:01] src/tree/updater_prune.cc:74: tree pruning end, 1 roots, 54 extra nodes, 52 pruned nodes, max_depth=8\u001b[0m\n",
      "\u001b[34m[17]#011train-rmse:0.327064#011validation-rmse:0.361694\u001b[0m\n",
      "\u001b[34m[13:26:04] src/tree/updater_prune.cc:74: tree pruning end, 1 roots, 48 extra nodes, 38 pruned nodes, max_depth=8\u001b[0m\n",
      "\u001b[34m[18]#011train-rmse:0.324128#011validation-rmse:0.359732\u001b[0m\n",
      "\u001b[34m[13:26:07] src/tree/updater_prune.cc:74: tree pruning end, 1 roots, 44 extra nodes, 30 pruned nodes, max_depth=8\u001b[0m\n",
      "\u001b[34m[19]#011train-rmse:0.321168#011validation-rmse:0.358026\u001b[0m\n",
      "\u001b[34m[13:26:09] src/tree/updater_prune.cc:74: tree pruning end, 1 roots, 58 extra nodes, 32 pruned nodes, max_depth=8\u001b[0m\n",
      "\u001b[34m[20]#011train-rmse:0.318106#011validation-rmse:0.356588\u001b[0m\n",
      "\u001b[34m[13:26:11] src/tree/updater_prune.cc:74: tree pruning end, 1 roots, 50 extra nodes, 42 pruned nodes, max_depth=8\u001b[0m\n",
      "\u001b[34m[21]#011train-rmse:0.315605#011validation-rmse:0.35497\u001b[0m\n",
      "\u001b[34m[13:26:14] src/tree/updater_prune.cc:74: tree pruning end, 1 roots, 40 extra nodes, 48 pruned nodes, max_depth=8\u001b[0m\n",
      "\u001b[34m[22]#011train-rmse:0.313157#011validation-rmse:0.353104\u001b[0m\n",
      "\u001b[34m[13:26:16] src/tree/updater_prune.cc:74: tree pruning end, 1 roots, 40 extra nodes, 56 pruned nodes, max_depth=8\u001b[0m\n",
      "\u001b[34m[23]#011train-rmse:0.310813#011validation-rmse:0.351492\u001b[0m\n",
      "\u001b[34m[13:26:18] src/tree/updater_prune.cc:74: tree pruning end, 1 roots, 32 extra nodes, 34 pruned nodes, max_depth=8\u001b[0m\n",
      "\u001b[34m[24]#011train-rmse:0.308897#011validation-rmse:0.349697\u001b[0m\n",
      "\u001b[34m[13:26:21] src/tree/updater_prune.cc:74: tree pruning end, 1 roots, 76 extra nodes, 52 pruned nodes, max_depth=8\u001b[0m\n",
      "\u001b[34m[25]#011train-rmse:0.305416#011validation-rmse:0.348404\u001b[0m\n",
      "\u001b[34m[13:26:23] src/tree/updater_prune.cc:74: tree pruning end, 1 roots, 56 extra nodes, 42 pruned nodes, max_depth=8\u001b[0m\n",
      "\u001b[34m[26]#011train-rmse:0.302908#011validation-rmse:0.346964\u001b[0m\n",
      "\u001b[34m[13:26:25] src/tree/updater_prune.cc:74: tree pruning end, 1 roots, 44 extra nodes, 30 pruned nodes, max_depth=8\u001b[0m\n",
      "\u001b[34m[27]#011train-rmse:0.300828#011validation-rmse:0.345766\u001b[0m\n",
      "\u001b[34m[13:26:28] src/tree/updater_prune.cc:74: tree pruning end, 1 roots, 42 extra nodes, 36 pruned nodes, max_depth=8\u001b[0m\n",
      "\u001b[34m[28]#011train-rmse:0.298886#011validation-rmse:0.34508\u001b[0m\n",
      "\u001b[34m[13:26:30] src/tree/updater_prune.cc:74: tree pruning end, 1 roots, 34 extra nodes, 48 pruned nodes, max_depth=8\u001b[0m\n",
      "\u001b[34m[29]#011train-rmse:0.297226#011validation-rmse:0.344119\u001b[0m\n",
      "\u001b[34m[13:26:32] src/tree/updater_prune.cc:74: tree pruning end, 1 roots, 36 extra nodes, 20 pruned nodes, max_depth=8\u001b[0m\n",
      "\u001b[34m[30]#011train-rmse:0.295476#011validation-rmse:0.343096\u001b[0m\n",
      "\u001b[34m[13:26:34] src/tree/updater_prune.cc:74: tree pruning end, 1 roots, 38 extra nodes, 46 pruned nodes, max_depth=8\u001b[0m\n",
      "\u001b[34m[31]#011train-rmse:0.293667#011validation-rmse:0.342075\u001b[0m\n",
      "\u001b[34m[13:26:37] src/tree/updater_prune.cc:74: tree pruning end, 1 roots, 48 extra nodes, 44 pruned nodes, max_depth=8\u001b[0m\n",
      "\u001b[34m[32]#011train-rmse:0.291562#011validation-rmse:0.34073\u001b[0m\n",
      "\u001b[34m[13:26:39] src/tree/updater_prune.cc:74: tree pruning end, 1 roots, 30 extra nodes, 48 pruned nodes, max_depth=8\u001b[0m\n",
      "\u001b[34m[33]#011train-rmse:0.290358#011validation-rmse:0.340075\u001b[0m\n",
      "\u001b[34m[13:26:41] src/tree/updater_prune.cc:74: tree pruning end, 1 roots, 44 extra nodes, 38 pruned nodes, max_depth=8\u001b[0m\n",
      "\u001b[34m[34]#011train-rmse:0.288552#011validation-rmse:0.339282\u001b[0m\n",
      "\u001b[34m[13:26:44] src/tree/updater_prune.cc:74: tree pruning end, 1 roots, 26 extra nodes, 26 pruned nodes, max_depth=8\u001b[0m\n",
      "\u001b[34m[35]#011train-rmse:0.287145#011validation-rmse:0.33879\u001b[0m\n",
      "\u001b[34m[13:26:46] src/tree/updater_prune.cc:74: tree pruning end, 1 roots, 46 extra nodes, 46 pruned nodes, max_depth=8\u001b[0m\n",
      "\u001b[34m[36]#011train-rmse:0.285264#011validation-rmse:0.337938\u001b[0m\n",
      "\u001b[34m[13:26:48] src/tree/updater_prune.cc:74: tree pruning end, 1 roots, 18 extra nodes, 36 pruned nodes, max_depth=8\u001b[0m\n",
      "\u001b[34m[37]#011train-rmse:0.284105#011validation-rmse:0.337303\u001b[0m\n",
      "\u001b[34m[13:26:50] src/tree/updater_prune.cc:74: tree pruning end, 1 roots, 34 extra nodes, 36 pruned nodes, max_depth=8\u001b[0m\n",
      "\u001b[34m[38]#011train-rmse:0.28272#011validation-rmse:0.336416\u001b[0m\n",
      "\u001b[34m[13:26:53] src/tree/updater_prune.cc:74: tree pruning end, 1 roots, 48 extra nodes, 54 pruned nodes, max_depth=8\u001b[0m\n",
      "\u001b[34m[39]#011train-rmse:0.280809#011validation-rmse:0.335536\u001b[0m\n",
      "\u001b[34m[13:26:55] src/tree/updater_prune.cc:74: tree pruning end, 1 roots, 34 extra nodes, 30 pruned nodes, max_depth=8\u001b[0m\n",
      "\u001b[34m[40]#011train-rmse:0.279408#011validation-rmse:0.334736\u001b[0m\n",
      "\u001b[34m[13:26:57] src/tree/updater_prune.cc:74: tree pruning end, 1 roots, 26 extra nodes, 26 pruned nodes, max_depth=8\u001b[0m\n",
      "\u001b[34m[41]#011train-rmse:0.278261#011validation-rmse:0.334039\u001b[0m\n",
      "\u001b[34m[13:27:00] src/tree/updater_prune.cc:74: tree pruning end, 1 roots, 48 extra nodes, 52 pruned nodes, max_depth=8\u001b[0m\n",
      "\u001b[34m[42]#011train-rmse:0.276184#011validation-rmse:0.333547\u001b[0m\n",
      "\u001b[34m[13:27:02] src/tree/updater_prune.cc:74: tree pruning end, 1 roots, 24 extra nodes, 52 pruned nodes, max_depth=8\u001b[0m\n",
      "\u001b[34m[43]#011train-rmse:0.275343#011validation-rmse:0.33294\u001b[0m\n",
      "\u001b[34m[13:27:05] src/tree/updater_prune.cc:74: tree pruning end, 1 roots, 30 extra nodes, 16 pruned nodes, max_depth=8\u001b[0m\n",
      "\u001b[34m[44]#011train-rmse:0.274101#011validation-rmse:0.332602\u001b[0m\n",
      "\u001b[34m[13:27:07] src/tree/updater_prune.cc:74: tree pruning end, 1 roots, 18 extra nodes, 34 pruned nodes, max_depth=8\u001b[0m\n",
      "\u001b[34m[45]#011train-rmse:0.273025#011validation-rmse:0.331981\u001b[0m\n",
      "\u001b[34m[13:27:10] src/tree/updater_prune.cc:74: tree pruning end, 1 roots, 52 extra nodes, 34 pruned nodes, max_depth=8\u001b[0m\n",
      "\u001b[34m[46]#011train-rmse:0.270803#011validation-rmse:0.33123\u001b[0m\n",
      "\u001b[34m[13:27:12] src/tree/updater_prune.cc:74: tree pruning end, 1 roots, 28 extra nodes, 32 pruned nodes, max_depth=8\u001b[0m\n",
      "\u001b[34m[47]#011train-rmse:0.269499#011validation-rmse:0.330369\u001b[0m\n",
      "\u001b[34m[13:27:14] src/tree/updater_prune.cc:74: tree pruning end, 1 roots, 44 extra nodes, 46 pruned nodes, max_depth=8\u001b[0m\n",
      "\u001b[34m[48]#011train-rmse:0.267926#011validation-rmse:0.330397\u001b[0m\n",
      "\u001b[34m[13:27:17] src/tree/updater_prune.cc:74: tree pruning end, 1 roots, 52 extra nodes, 46 pruned nodes, max_depth=8\u001b[0m\n",
      "\u001b[34m[49]#011train-rmse:0.266197#011validation-rmse:0.330444\u001b[0m\n",
      "\u001b[34m[13:27:19] src/tree/updater_prune.cc:74: tree pruning end, 1 roots, 46 extra nodes, 36 pruned nodes, max_depth=8\u001b[0m\n",
      "\u001b[34m[50]#011train-rmse:0.264592#011validation-rmse:0.329749\u001b[0m\n",
      "\u001b[34m[13:27:21] src/tree/updater_prune.cc:74: tree pruning end, 1 roots, 34 extra nodes, 58 pruned nodes, max_depth=8\u001b[0m\n",
      "\u001b[34m[51]#011train-rmse:0.263321#011validation-rmse:0.329467\u001b[0m\n",
      "\u001b[34m[13:27:23] src/tree/updater_prune.cc:74: tree pruning end, 1 roots, 26 extra nodes, 38 pruned nodes, max_depth=8\u001b[0m\n",
      "\u001b[34m[52]#011train-rmse:0.262476#011validation-rmse:0.329156\u001b[0m\n",
      "\u001b[34m[13:27:26] src/tree/updater_prune.cc:74: tree pruning end, 1 roots, 32 extra nodes, 56 pruned nodes, max_depth=8\u001b[0m\n",
      "\u001b[34m[53]#011train-rmse:0.261486#011validation-rmse:0.328886\u001b[0m\n",
      "\u001b[34m[13:27:28] src/tree/updater_prune.cc:74: tree pruning end, 1 roots, 24 extra nodes, 26 pruned nodes, max_depth=8\u001b[0m\n",
      "\u001b[34m[54]#011train-rmse:0.260562#011validation-rmse:0.328261\u001b[0m\n",
      "\u001b[34m[13:27:30] src/tree/updater_prune.cc:74: tree pruning end, 1 roots, 18 extra nodes, 44 pruned nodes, max_depth=8\u001b[0m\n",
      "\u001b[34m[55]#011train-rmse:0.259893#011validation-rmse:0.327751\u001b[0m\n",
      "\u001b[34m[13:27:33] src/tree/updater_prune.cc:74: tree pruning end, 1 roots, 22 extra nodes, 18 pruned nodes, max_depth=8\u001b[0m\n",
      "\u001b[34m[56]#011train-rmse:0.258986#011validation-rmse:0.327361\u001b[0m\n",
      "\u001b[34m[13:27:35] src/tree/updater_prune.cc:74: tree pruning end, 1 roots, 28 extra nodes, 42 pruned nodes, max_depth=8\u001b[0m\n",
      "\u001b[34m[57]#011train-rmse:0.258103#011validation-rmse:0.327042\u001b[0m\n",
      "\u001b[34m[13:27:37] src/tree/updater_prune.cc:74: tree pruning end, 1 roots, 32 extra nodes, 68 pruned nodes, max_depth=8\u001b[0m\n",
      "\u001b[34m[58]#011train-rmse:0.256948#011validation-rmse:0.326476\u001b[0m\n",
      "\u001b[34m[13:27:40] src/tree/updater_prune.cc:74: tree pruning end, 1 roots, 20 extra nodes, 62 pruned nodes, max_depth=8\u001b[0m\n",
      "\u001b[34m[59]#011train-rmse:0.25617#011validation-rmse:0.325913\u001b[0m\n",
      "\u001b[34m[13:27:42] src/tree/updater_prune.cc:74: tree pruning end, 1 roots, 20 extra nodes, 28 pruned nodes, max_depth=8\u001b[0m\n",
      "\u001b[34m[60]#011train-rmse:0.255385#011validation-rmse:0.325753\u001b[0m\n",
      "\u001b[34m[13:27:44] src/tree/updater_prune.cc:74: tree pruning end, 1 roots, 42 extra nodes, 68 pruned nodes, max_depth=8\u001b[0m\n",
      "\u001b[34m[61]#011train-rmse:0.253971#011validation-rmse:0.325847\u001b[0m\n",
      "\u001b[34m[13:27:46] src/tree/updater_prune.cc:74: tree pruning end, 1 roots, 24 extra nodes, 30 pruned nodes, max_depth=8\u001b[0m\n",
      "\u001b[34m[62]#011train-rmse:0.253158#011validation-rmse:0.325286\u001b[0m\n",
      "\u001b[34m[13:27:49] src/tree/updater_prune.cc:74: tree pruning end, 1 roots, 24 extra nodes, 42 pruned nodes, max_depth=8\u001b[0m\n",
      "\u001b[34m[63]#011train-rmse:0.252331#011validation-rmse:0.325286\u001b[0m\n",
      "\u001b[34m[13:27:51] src/tree/updater_prune.cc:74: tree pruning end, 1 roots, 26 extra nodes, 52 pruned nodes, max_depth=8\u001b[0m\n",
      "\u001b[34m[64]#011train-rmse:0.251166#011validation-rmse:0.324417\u001b[0m\n",
      "\u001b[34m[13:27:53] src/tree/updater_prune.cc:74: tree pruning end, 1 roots, 20 extra nodes, 26 pruned nodes, max_depth=8\u001b[0m\n",
      "\u001b[34m[65]#011train-rmse:0.250469#011validation-rmse:0.324126\u001b[0m\n",
      "\u001b[34m[13:27:56] src/tree/updater_prune.cc:74: tree pruning end, 1 roots, 22 extra nodes, 38 pruned nodes, max_depth=8\u001b[0m\n",
      "\u001b[34m[66]#011train-rmse:0.249784#011validation-rmse:0.323955\u001b[0m\n",
      "\u001b[34m[13:27:58] src/tree/updater_prune.cc:74: tree pruning end, 1 roots, 36 extra nodes, 26 pruned nodes, max_depth=8\u001b[0m\n",
      "\u001b[34m[67]#011train-rmse:0.248679#011validation-rmse:0.323608\u001b[0m\n",
      "\u001b[34m[13:28:00] src/tree/updater_prune.cc:74: tree pruning end, 1 roots, 30 extra nodes, 34 pruned nodes, max_depth=8\u001b[0m\n",
      "\u001b[34m[68]#011train-rmse:0.247734#011validation-rmse:0.323307\u001b[0m\n",
      "\u001b[34m[13:28:03] src/tree/updater_prune.cc:74: tree pruning end, 1 roots, 24 extra nodes, 56 pruned nodes, max_depth=8\u001b[0m\n",
      "\u001b[34m[69]#011train-rmse:0.246899#011validation-rmse:0.322788\u001b[0m\n",
      "\u001b[34m[13:28:05] src/tree/updater_prune.cc:74: tree pruning end, 1 roots, 32 extra nodes, 38 pruned nodes, max_depth=8\u001b[0m\n",
      "\u001b[34m[70]#011train-rmse:0.24614#011validation-rmse:0.322482\u001b[0m\n",
      "\u001b[34m[13:28:08] src/tree/updater_prune.cc:74: tree pruning end, 1 roots, 22 extra nodes, 50 pruned nodes, max_depth=8\u001b[0m\n",
      "\u001b[34m[71]#011train-rmse:0.245569#011validation-rmse:0.322329\u001b[0m\n",
      "\u001b[34m[13:28:10] src/tree/updater_prune.cc:74: tree pruning end, 1 roots, 20 extra nodes, 56 pruned nodes, max_depth=8\u001b[0m\n",
      "\u001b[34m[72]#011train-rmse:0.244916#011validation-rmse:0.321812\u001b[0m\n",
      "\u001b[34m[13:28:13] src/tree/updater_prune.cc:74: tree pruning end, 1 roots, 26 extra nodes, 40 pruned nodes, max_depth=8\u001b[0m\n",
      "\u001b[34m[73]#011train-rmse:0.244111#011validation-rmse:0.321504\u001b[0m\n",
      "\u001b[34m[13:28:15] src/tree/updater_prune.cc:74: tree pruning end, 1 roots, 18 extra nodes, 36 pruned nodes, max_depth=8\u001b[0m\n",
      "\u001b[34m[74]#011train-rmse:0.243666#011validation-rmse:0.321064\u001b[0m\n",
      "\u001b[34m[13:28:17] src/tree/updater_prune.cc:74: tree pruning end, 1 roots, 18 extra nodes, 32 pruned nodes, max_depth=8\u001b[0m\n",
      "\u001b[34m[75]#011train-rmse:0.243018#011validation-rmse:0.32082\u001b[0m\n",
      "\u001b[34m[13:28:20] src/tree/updater_prune.cc:74: tree pruning end, 1 roots, 24 extra nodes, 14 pruned nodes, max_depth=8\u001b[0m\n",
      "\u001b[34m[76]#011train-rmse:0.242037#011validation-rmse:0.320269\u001b[0m\n",
      "\u001b[34m[13:28:22] src/tree/updater_prune.cc:74: tree pruning end, 1 roots, 20 extra nodes, 18 pruned nodes, max_depth=8\u001b[0m\n",
      "\u001b[34m[77]#011train-rmse:0.241483#011validation-rmse:0.320167\u001b[0m\n",
      "\u001b[34m[13:28:24] src/tree/updater_prune.cc:74: tree pruning end, 1 roots, 26 extra nodes, 48 pruned nodes, max_depth=8\u001b[0m\n",
      "\u001b[34m[78]#011train-rmse:0.240631#011validation-rmse:0.319843\u001b[0m\n",
      "\u001b[34m[13:28:26] src/tree/updater_prune.cc:74: tree pruning end, 1 roots, 40 extra nodes, 64 pruned nodes, max_depth=8\u001b[0m\n",
      "\u001b[34m[79]#011train-rmse:0.239734#011validation-rmse:0.319684\u001b[0m\n",
      "\u001b[34m[13:28:29] src/tree/updater_prune.cc:74: tree pruning end, 1 roots, 18 extra nodes, 30 pruned nodes, max_depth=8\u001b[0m\n",
      "\u001b[34m[80]#011train-rmse:0.239229#011validation-rmse:0.319399\u001b[0m\n",
      "\u001b[34m[13:28:31] src/tree/updater_prune.cc:74: tree pruning end, 1 roots, 18 extra nodes, 32 pruned nodes, max_depth=8\u001b[0m\n",
      "\u001b[34m[81]#011train-rmse:0.238771#011validation-rmse:0.318906\u001b[0m\n",
      "\u001b[34m[13:28:33] src/tree/updater_prune.cc:74: tree pruning end, 1 roots, 22 extra nodes, 40 pruned nodes, max_depth=8\u001b[0m\n",
      "\u001b[34m[82]#011train-rmse:0.238049#011validation-rmse:0.318567\u001b[0m\n",
      "\u001b[34m[13:28:36] src/tree/updater_prune.cc:74: tree pruning end, 1 roots, 20 extra nodes, 20 pruned nodes, max_depth=8\u001b[0m\n",
      "\u001b[34m[83]#011train-rmse:0.237526#011validation-rmse:0.318299\u001b[0m\n",
      "\u001b[34m[13:28:38] src/tree/updater_prune.cc:74: tree pruning end, 1 roots, 20 extra nodes, 54 pruned nodes, max_depth=8\u001b[0m\n",
      "\u001b[34m[84]#011train-rmse:0.236979#011validation-rmse:0.318256\u001b[0m\n",
      "\u001b[34m[13:28:40] src/tree/updater_prune.cc:74: tree pruning end, 1 roots, 22 extra nodes, 32 pruned nodes, max_depth=8\u001b[0m\n",
      "\u001b[34m[85]#011train-rmse:0.236441#011validation-rmse:0.317939\u001b[0m\n",
      "\u001b[34m[13:28:42] src/tree/updater_prune.cc:74: tree pruning end, 1 roots, 20 extra nodes, 30 pruned nodes, max_depth=8\u001b[0m\n",
      "\u001b[34m[86]#011train-rmse:0.23586#011validation-rmse:0.317752\u001b[0m\n",
      "\u001b[34m[13:28:45] src/tree/updater_prune.cc:74: tree pruning end, 1 roots, 26 extra nodes, 36 pruned nodes, max_depth=8\u001b[0m\n",
      "\u001b[34m[87]#011train-rmse:0.235086#011validation-rmse:0.317907\u001b[0m\n",
      "\u001b[34m[13:28:47] src/tree/updater_prune.cc:74: tree pruning end, 1 roots, 18 extra nodes, 40 pruned nodes, max_depth=8\u001b[0m\n",
      "\u001b[34m[88]#011train-rmse:0.234525#011validation-rmse:0.317941\u001b[0m\n",
      "\u001b[34m[13:28:49] src/tree/updater_prune.cc:74: tree pruning end, 1 roots, 20 extra nodes, 50 pruned nodes, max_depth=8\u001b[0m\n",
      "\u001b[34m[89]#011train-rmse:0.233955#011validation-rmse:0.317568\u001b[0m\n",
      "\u001b[34m[13:28:52] src/tree/updater_prune.cc:74: tree pruning end, 1 roots, 22 extra nodes, 44 pruned nodes, max_depth=8\u001b[0m\n",
      "\u001b[34m[90]#011train-rmse:0.233362#011validation-rmse:0.317463\u001b[0m\n",
      "\u001b[34m[13:28:54] src/tree/updater_prune.cc:74: tree pruning end, 1 roots, 16 extra nodes, 10 pruned nodes, max_depth=8\u001b[0m\n",
      "\u001b[34m[91]#011train-rmse:0.232947#011validation-rmse:0.317295\u001b[0m\n",
      "\u001b[34m[13:28:56] src/tree/updater_prune.cc:74: tree pruning end, 1 roots, 18 extra nodes, 28 pruned nodes, max_depth=8\u001b[0m\n",
      "\u001b[34m[92]#011train-rmse:0.232469#011validation-rmse:0.317127\u001b[0m\n",
      "\u001b[34m[13:28:59] src/tree/updater_prune.cc:74: tree pruning end, 1 roots, 26 extra nodes, 36 pruned nodes, max_depth=8\u001b[0m\n",
      "\u001b[34m[93]#011train-rmse:0.231821#011validation-rmse:0.316902\u001b[0m\n",
      "\u001b[34m[13:29:01] src/tree/updater_prune.cc:74: tree pruning end, 1 roots, 22 extra nodes, 36 pruned nodes, max_depth=8\u001b[0m\n",
      "\u001b[34m[94]#011train-rmse:0.231174#011validation-rmse:0.31617\u001b[0m\n",
      "\u001b[34m[13:29:03] src/tree/updater_prune.cc:74: tree pruning end, 1 roots, 16 extra nodes, 30 pruned nodes, max_depth=8\u001b[0m\n",
      "\u001b[34m[95]#011train-rmse:0.230724#011validation-rmse:0.315995\u001b[0m\n",
      "\u001b[34m[13:29:06] src/tree/updater_prune.cc:74: tree pruning end, 1 roots, 20 extra nodes, 44 pruned nodes, max_depth=8\u001b[0m\n",
      "\u001b[34m[96]#011train-rmse:0.230127#011validation-rmse:0.315849\u001b[0m\n",
      "\u001b[34m[13:29:08] src/tree/updater_prune.cc:74: tree pruning end, 1 roots, 20 extra nodes, 46 pruned nodes, max_depth=8\u001b[0m\n",
      "\u001b[34m[97]#011train-rmse:0.229642#011validation-rmse:0.315519\u001b[0m\n",
      "\u001b[34m[13:29:11] src/tree/updater_prune.cc:74: tree pruning end, 1 roots, 18 extra nodes, 26 pruned nodes, max_depth=8\u001b[0m\n",
      "\u001b[34m[98]#011train-rmse:0.229134#011validation-rmse:0.315484\u001b[0m\n",
      "\u001b[34m[13:29:13] src/tree/updater_prune.cc:74: tree pruning end, 1 roots, 16 extra nodes, 24 pruned nodes, max_depth=8\u001b[0m\n",
      "\u001b[34m[99]#011train-rmse:0.228812#011validation-rmse:0.315295\u001b[0m\n",
      "\u001b[34m[13:29:15] src/tree/updater_prune.cc:74: tree pruning end, 1 roots, 18 extra nodes, 20 pruned nodes, max_depth=8\u001b[0m\n",
      "\u001b[34m[100]#011train-rmse:0.22836#011validation-rmse:0.315142\u001b[0m\n",
      "\u001b[34m[13:29:18] src/tree/updater_prune.cc:74: tree pruning end, 1 roots, 20 extra nodes, 44 pruned nodes, max_depth=8\u001b[0m\n",
      "\u001b[34m[101]#011train-rmse:0.227876#011validation-rmse:0.314898\u001b[0m\n",
      "\u001b[34m[13:29:20] src/tree/updater_prune.cc:74: tree pruning end, 1 roots, 24 extra nodes, 14 pruned nodes, max_depth=8\u001b[0m\n",
      "\u001b[34m[102]#011train-rmse:0.227127#011validation-rmse:0.31459\u001b[0m\n",
      "\u001b[34m[13:29:22] src/tree/updater_prune.cc:74: tree pruning end, 1 roots, 28 extra nodes, 42 pruned nodes, max_depth=8\u001b[0m\n",
      "\u001b[34m[103]#011train-rmse:0.226398#011validation-rmse:0.313897\u001b[0m\n",
      "\u001b[34m[13:29:25] src/tree/updater_prune.cc:74: tree pruning end, 1 roots, 16 extra nodes, 18 pruned nodes, max_depth=8\u001b[0m\n",
      "\u001b[34m[104]#011train-rmse:0.226065#011validation-rmse:0.313724\u001b[0m\n",
      "\u001b[34m[13:29:27] src/tree/updater_prune.cc:74: tree pruning end, 1 roots, 16 extra nodes, 26 pruned nodes, max_depth=8\u001b[0m\n",
      "\u001b[34m[105]#011train-rmse:0.225696#011validation-rmse:0.313639\u001b[0m\n",
      "\u001b[34m[13:29:29] src/tree/updater_prune.cc:74: tree pruning end, 1 roots, 24 extra nodes, 30 pruned nodes, max_depth=8\u001b[0m\n",
      "\u001b[34m[106]#011train-rmse:0.225017#011validation-rmse:0.313815\u001b[0m\n",
      "\u001b[34m[13:29:32] src/tree/updater_prune.cc:74: tree pruning end, 1 roots, 20 extra nodes, 36 pruned nodes, max_depth=8\u001b[0m\n",
      "\u001b[34m[107]#011train-rmse:0.22452#011validation-rmse:0.313385\u001b[0m\n",
      "\u001b[34m[13:29:34] src/tree/updater_prune.cc:74: tree pruning end, 1 roots, 20 extra nodes, 16 pruned nodes, max_depth=8\u001b[0m\n",
      "\u001b[34m[108]#011train-rmse:0.224062#011validation-rmse:0.313273\u001b[0m\n",
      "\u001b[34m[13:29:36] src/tree/updater_prune.cc:74: tree pruning end, 1 roots, 18 extra nodes, 24 pruned nodes, max_depth=8\u001b[0m\n",
      "\u001b[34m[109]#011train-rmse:0.223647#011validation-rmse:0.313109\u001b[0m\n",
      "\u001b[34m[13:29:39] src/tree/updater_prune.cc:74: tree pruning end, 1 roots, 16 extra nodes, 42 pruned nodes, max_depth=8\u001b[0m\n",
      "\u001b[34m[110]#011train-rmse:0.223329#011validation-rmse:0.313009\u001b[0m\n",
      "\u001b[34m[13:29:41] src/tree/updater_prune.cc:74: tree pruning end, 1 roots, 18 extra nodes, 30 pruned nodes, max_depth=7\u001b[0m\n",
      "\u001b[34m[111]#011train-rmse:0.222923#011validation-rmse:0.312596\u001b[0m\n",
      "\u001b[34m[13:29:43] src/tree/updater_prune.cc:74: tree pruning end, 1 roots, 18 extra nodes, 44 pruned nodes, max_depth=8\u001b[0m\n",
      "\u001b[34m[112]#011train-rmse:0.222496#011validation-rmse:0.312548\u001b[0m\n",
      "\u001b[34m[13:29:45] src/tree/updater_prune.cc:74: tree pruning end, 1 roots, 20 extra nodes, 42 pruned nodes, max_depth=8\u001b[0m\n",
      "\u001b[34m[113]#011train-rmse:0.222014#011validation-rmse:0.312388\u001b[0m\n",
      "\u001b[34m[13:29:48] src/tree/updater_prune.cc:74: tree pruning end, 1 roots, 16 extra nodes, 34 pruned nodes, max_depth=8\u001b[0m\n",
      "\u001b[34m[114]#011train-rmse:0.221736#011validation-rmse:0.312204\u001b[0m\n",
      "\u001b[34m[13:29:50] src/tree/updater_prune.cc:74: tree pruning end, 1 roots, 22 extra nodes, 42 pruned nodes, max_depth=8\u001b[0m\n",
      "\u001b[34m[115]#011train-rmse:0.221335#011validation-rmse:0.312141\u001b[0m\n",
      "\u001b[34m[13:29:52] src/tree/updater_prune.cc:74: tree pruning end, 1 roots, 32 extra nodes, 40 pruned nodes, max_depth=8\u001b[0m\n",
      "\u001b[34m[116]#011train-rmse:0.220275#011validation-rmse:0.311806\u001b[0m\n",
      "\u001b[34m[13:29:55] src/tree/updater_prune.cc:74: tree pruning end, 1 roots, 18 extra nodes, 36 pruned nodes, max_depth=8\u001b[0m\n",
      "\u001b[34m[117]#011train-rmse:0.219774#011validation-rmse:0.311845\u001b[0m\n",
      "\u001b[34m[13:29:57] src/tree/updater_prune.cc:74: tree pruning end, 1 roots, 28 extra nodes, 44 pruned nodes, max_depth=8\u001b[0m\n",
      "\u001b[34m[118]#011train-rmse:0.219085#011validation-rmse:0.311481\u001b[0m\n",
      "\u001b[34m[13:29:59] src/tree/updater_prune.cc:74: tree pruning end, 1 roots, 32 extra nodes, 80 pruned nodes, max_depth=8\u001b[0m\n",
      "\u001b[34m[119]#011train-rmse:0.21828#011validation-rmse:0.311413\u001b[0m\n",
      "\u001b[34m[13:30:02] src/tree/updater_prune.cc:74: tree pruning end, 1 roots, 20 extra nodes, 38 pruned nodes, max_depth=8\u001b[0m\n",
      "\u001b[34m[120]#011train-rmse:0.217752#011validation-rmse:0.311092\u001b[0m\n",
      "\u001b[34m[13:30:04] src/tree/updater_prune.cc:74: tree pruning end, 1 roots, 18 extra nodes, 22 pruned nodes, max_depth=8\u001b[0m\n",
      "\u001b[34m[121]#011train-rmse:0.217444#011validation-rmse:0.311129\u001b[0m\n",
      "\u001b[34m[13:30:07] src/tree/updater_prune.cc:74: tree pruning end, 1 roots, 20 extra nodes, 24 pruned nodes, max_depth=8\u001b[0m\n",
      "\u001b[34m[122]#011train-rmse:0.216981#011validation-rmse:0.311249\u001b[0m\n",
      "\u001b[34m[13:30:09] src/tree/updater_prune.cc:74: tree pruning end, 1 roots, 18 extra nodes, 36 pruned nodes, max_depth=8\u001b[0m\n",
      "\u001b[34m[123]#011train-rmse:0.216596#011validation-rmse:0.31116\u001b[0m\n",
      "\u001b[34m[13:30:11] src/tree/updater_prune.cc:74: tree pruning end, 1 roots, 14 extra nodes, 10 pruned nodes, max_depth=7\u001b[0m\n",
      "\u001b[34m[124]#011train-rmse:0.216319#011validation-rmse:0.310908\u001b[0m\n",
      "\u001b[34m[13:30:14] src/tree/updater_prune.cc:74: tree pruning end, 1 roots, 26 extra nodes, 32 pruned nodes, max_depth=8\u001b[0m\n",
      "\u001b[34m[125]#011train-rmse:0.21568#011validation-rmse:0.310766\u001b[0m\n",
      "\u001b[34m[13:30:16] src/tree/updater_prune.cc:74: tree pruning end, 1 roots, 18 extra nodes, 64 pruned nodes, max_depth=8\u001b[0m\n",
      "\u001b[34m[126]#011train-rmse:0.215214#011validation-rmse:0.31063\u001b[0m\n",
      "\u001b[34m[13:30:18] src/tree/updater_prune.cc:74: tree pruning end, 1 roots, 18 extra nodes, 40 pruned nodes, max_depth=8\u001b[0m\n",
      "\u001b[34m[127]#011train-rmse:0.21484#011validation-rmse:0.310351\u001b[0m\n",
      "\u001b[34m[13:30:21] src/tree/updater_prune.cc:74: tree pruning end, 1 roots, 22 extra nodes, 34 pruned nodes, max_depth=7\u001b[0m\n",
      "\u001b[34m[128]#011train-rmse:0.214366#011validation-rmse:0.31048\u001b[0m\n",
      "\u001b[34m[13:30:23] src/tree/updater_prune.cc:74: tree pruning end, 1 roots, 22 extra nodes, 48 pruned nodes, max_depth=8\u001b[0m\n",
      "\u001b[34m[129]#011train-rmse:0.213821#011validation-rmse:0.310423\u001b[0m\n",
      "\u001b[34m[13:30:25] src/tree/updater_prune.cc:74: tree pruning end, 1 roots, 20 extra nodes, 26 pruned nodes, max_depth=8\u001b[0m\n",
      "\u001b[34m[130]#011train-rmse:0.213332#011validation-rmse:0.310059\u001b[0m\n",
      "\u001b[34m[13:30:27] src/tree/updater_prune.cc:74: tree pruning end, 1 roots, 20 extra nodes, 40 pruned nodes, max_depth=8\u001b[0m\n",
      "\u001b[34m[131]#011train-rmse:0.212963#011validation-rmse:0.310021\u001b[0m\n",
      "\u001b[34m[13:30:30] src/tree/updater_prune.cc:74: tree pruning end, 1 roots, 22 extra nodes, 36 pruned nodes, max_depth=8\u001b[0m\n",
      "\u001b[34m[132]#011train-rmse:0.212444#011validation-rmse:0.310043\u001b[0m\n",
      "\u001b[34m[13:30:32] src/tree/updater_prune.cc:74: tree pruning end, 1 roots, 20 extra nodes, 36 pruned nodes, max_depth=8\u001b[0m\n",
      "\u001b[34m[133]#011train-rmse:0.212061#011validation-rmse:0.310179\u001b[0m\n",
      "\u001b[34m[13:30:34] src/tree/updater_prune.cc:74: tree pruning end, 1 roots, 16 extra nodes, 32 pruned nodes, max_depth=8\u001b[0m\n",
      "\u001b[34m[134]#011train-rmse:0.211771#011validation-rmse:0.309915\u001b[0m\n",
      "\u001b[34m[13:30:37] src/tree/updater_prune.cc:74: tree pruning end, 1 roots, 18 extra nodes, 24 pruned nodes, max_depth=8\u001b[0m\n",
      "\u001b[34m[135]#011train-rmse:0.211504#011validation-rmse:0.309881\u001b[0m\n",
      "\u001b[34m[13:30:39] src/tree/updater_prune.cc:74: tree pruning end, 1 roots, 22 extra nodes, 54 pruned nodes, max_depth=7\u001b[0m\n",
      "\u001b[34m[136]#011train-rmse:0.211059#011validation-rmse:0.309864\u001b[0m\n",
      "\u001b[34m[13:30:41] src/tree/updater_prune.cc:74: tree pruning end, 1 roots, 32 extra nodes, 46 pruned nodes, max_depth=8\u001b[0m\n",
      "\u001b[34m[137]#011train-rmse:0.210043#011validation-rmse:0.309981\u001b[0m\n",
      "\u001b[34m[13:30:43] src/tree/updater_prune.cc:74: tree pruning end, 1 roots, 18 extra nodes, 50 pruned nodes, max_depth=8\u001b[0m\n",
      "\u001b[34m[138]#011train-rmse:0.209693#011validation-rmse:0.309746\u001b[0m\n",
      "\u001b[34m[13:30:46] src/tree/updater_prune.cc:74: tree pruning end, 1 roots, 16 extra nodes, 18 pruned nodes, max_depth=8\u001b[0m\n",
      "\u001b[34m[139]#011train-rmse:0.209421#011validation-rmse:0.309747\u001b[0m\n",
      "\u001b[34m[13:30:48] src/tree/updater_prune.cc:74: tree pruning end, 1 roots, 16 extra nodes, 32 pruned nodes, max_depth=8\u001b[0m\n",
      "\u001b[34m[140]#011train-rmse:0.209129#011validation-rmse:0.309658\u001b[0m\n",
      "\u001b[34m[13:30:50] src/tree/updater_prune.cc:74: tree pruning end, 1 roots, 26 extra nodes, 30 pruned nodes, max_depth=8\u001b[0m\n",
      "\u001b[34m[141]#011train-rmse:0.208406#011validation-rmse:0.309369\u001b[0m\n",
      "\u001b[34m[13:30:53] src/tree/updater_prune.cc:74: tree pruning end, 1 roots, 2 extra nodes, 34 pruned nodes, max_depth=1\u001b[0m\n",
      "\u001b[34m[142]#011train-rmse:0.208358#011validation-rmse:0.309313\u001b[0m\n",
      "\u001b[34m[13:30:55] src/tree/updater_prune.cc:74: tree pruning end, 1 roots, 14 extra nodes, 42 pruned nodes, max_depth=6\u001b[0m\n",
      "\u001b[34m[143]#011train-rmse:0.208071#011validation-rmse:0.308989\u001b[0m\n",
      "\u001b[34m[13:30:57] src/tree/updater_prune.cc:74: tree pruning end, 1 roots, 16 extra nodes, 34 pruned nodes, max_depth=7\u001b[0m\n",
      "\u001b[34m[144]#011train-rmse:0.207754#011validation-rmse:0.308917\u001b[0m\n",
      "\u001b[34m[13:31:00] src/tree/updater_prune.cc:74: tree pruning end, 1 roots, 16 extra nodes, 28 pruned nodes, max_depth=8\u001b[0m\n",
      "\u001b[34m[145]#011train-rmse:0.207636#011validation-rmse:0.30892\u001b[0m\n",
      "\u001b[34m[13:31:02] src/tree/updater_prune.cc:74: tree pruning end, 1 roots, 18 extra nodes, 56 pruned nodes, max_depth=7\u001b[0m\n",
      "\u001b[34m[146]#011train-rmse:0.207227#011validation-rmse:0.308761\u001b[0m\n",
      "\u001b[34m[13:31:05] src/tree/updater_prune.cc:74: tree pruning end, 1 roots, 6 extra nodes, 44 pruned nodes, max_depth=3\u001b[0m\n",
      "\u001b[34m[147]#011train-rmse:0.207112#011validation-rmse:0.308776\u001b[0m\n",
      "\u001b[34m[13:31:07] src/tree/updater_prune.cc:74: tree pruning end, 1 roots, 14 extra nodes, 60 pruned nodes, max_depth=5\u001b[0m\n",
      "\u001b[34m[148]#011train-rmse:0.206787#011validation-rmse:0.308417\u001b[0m\n",
      "\u001b[34m[13:31:10] src/tree/updater_prune.cc:74: tree pruning end, 1 roots, 18 extra nodes, 20 pruned nodes, max_depth=8\u001b[0m\n",
      "\u001b[34m[149]#011train-rmse:0.206434#011validation-rmse:0.308059\u001b[0m\n",
      "\u001b[34m[13:31:12] src/tree/updater_prune.cc:74: tree pruning end, 1 roots, 30 extra nodes, 72 pruned nodes, max_depth=8\u001b[0m\n",
      "\u001b[34m[150]#011train-rmse:0.205729#011validation-rmse:0.307823\u001b[0m\n",
      "\u001b[34m[13:31:14] src/tree/updater_prune.cc:74: tree pruning end, 1 roots, 20 extra nodes, 22 pruned nodes, max_depth=8\u001b[0m\n",
      "\u001b[34m[151]#011train-rmse:0.205341#011validation-rmse:0.307712\u001b[0m\n",
      "\u001b[34m[13:31:16] src/tree/updater_prune.cc:74: tree pruning end, 1 roots, 4 extra nodes, 30 pruned nodes, max_depth=2\u001b[0m\n",
      "\u001b[34m[152]#011train-rmse:0.205225#011validation-rmse:0.307685\u001b[0m\n",
      "\u001b[34m[13:31:19] src/tree/updater_prune.cc:74: tree pruning end, 1 roots, 18 extra nodes, 50 pruned nodes, max_depth=7\u001b[0m\n",
      "\u001b[34m[153]#011train-rmse:0.205036#011validation-rmse:0.307689\u001b[0m\n",
      "\u001b[34m[13:31:21] src/tree/updater_prune.cc:74: tree pruning end, 1 roots, 16 extra nodes, 20 pruned nodes, max_depth=8\u001b[0m\n",
      "\u001b[34m[154]#011train-rmse:0.204743#011validation-rmse:0.307458\u001b[0m\n",
      "\u001b[34m[13:31:23] src/tree/updater_prune.cc:74: tree pruning end, 1 roots, 20 extra nodes, 56 pruned nodes, max_depth=7\u001b[0m\n",
      "\u001b[34m[155]#011train-rmse:0.20413#011validation-rmse:0.307502\u001b[0m\n",
      "\u001b[34m[13:31:26] src/tree/updater_prune.cc:74: tree pruning end, 1 roots, 24 extra nodes, 36 pruned nodes, max_depth=8\u001b[0m\n",
      "\u001b[34m[156]#011train-rmse:0.203416#011validation-rmse:0.307473\u001b[0m\n",
      "\u001b[34m[13:31:28] src/tree/updater_prune.cc:74: tree pruning end, 1 roots, 2 extra nodes, 36 pruned nodes, max_depth=1\u001b[0m\n",
      "\u001b[34m[157]#011train-rmse:0.203392#011validation-rmse:0.307451\u001b[0m\n",
      "\u001b[34m[13:31:30] src/tree/updater_prune.cc:74: tree pruning end, 1 roots, 4 extra nodes, 66 pruned nodes, max_depth=2\u001b[0m\n",
      "\u001b[34m[158]#011train-rmse:0.203335#011validation-rmse:0.307538\u001b[0m\n",
      "\u001b[34m[13:31:33] src/tree/updater_prune.cc:74: tree pruning end, 1 roots, 8 extra nodes, 42 pruned nodes, max_depth=4\u001b[0m\n",
      "\u001b[34m[159]#011train-rmse:0.203117#011validation-rmse:0.307556\u001b[0m\n",
      "\u001b[34m[13:31:35] src/tree/updater_prune.cc:74: tree pruning end, 1 roots, 4 extra nodes, 58 pruned nodes, max_depth=2\u001b[0m\n",
      "\u001b[34m[160]#011train-rmse:0.203125#011validation-rmse:0.30763\u001b[0m\n",
      "\u001b[34m[13:31:37] src/tree/updater_prune.cc:74: tree pruning end, 1 roots, 20 extra nodes, 86 pruned nodes, max_depth=6\u001b[0m\n",
      "\u001b[34m[161]#011train-rmse:0.202651#011validation-rmse:0.307571\u001b[0m\n",
      "\u001b[34m[13:31:39] src/tree/updater_prune.cc:74: tree pruning end, 1 roots, 10 extra nodes, 36 pruned nodes, max_depth=4\u001b[0m\n",
      "\u001b[34m[162]#011train-rmse:0.202432#011validation-rmse:0.307548\u001b[0m\n",
      "\u001b[34mStopping. Best iteration:\u001b[0m\n",
      "\u001b[34m[157]#011train-rmse:0.203392#011validation-rmse:0.307451\n",
      "\u001b[0m\n",
      "Training seconds: 450\n",
      "Billable seconds: 450\n"
     ]
    }
   ],
   "source": [
    "# TODO: Create a new estimator object attached to the best training job found during hyperparameter tuning\n",
    "\n",
    "xgb_attached = sagemaker.estimator.Estimator.attach(xgb_hyperparameter_tuner.best_training_job())\n"
   ]
  },
  {
   "cell_type": "markdown",
   "metadata": {},
   "source": [
    "Now that we have an estimator object attached to the correct training job, we can proceed as we normally would and create a transformer object."
   ]
  },
  {
   "cell_type": "code",
   "execution_count": 52,
   "metadata": {},
   "outputs": [
    {
     "name": "stderr",
     "output_type": "stream",
     "text": [
      "Parameter image will be renamed to image_uri in SageMaker Python SDK v2.\n"
     ]
    }
   ],
   "source": [
    "# TODO: Create a transformer object from the attached estimator. Using an instance count of 1 and an instance type of ml.m4.xlarge\n",
    "#       should be more than enough.\n",
    "\n",
    "xgb_transformer = xgb_attached.transformer(instance_count=1, instance_type='ml.m4.xlarge')\n"
   ]
  },
  {
   "cell_type": "markdown",
   "metadata": {},
   "source": [
    "Next we actually perform the transform job. When doing so we need to make sure to specify the type of data we are sending so that it is serialized correctly in the background. In our case we are providing our model with csv data so we specify `text/csv`. Also, if the test data that we have provided is too large to process all at once then we need to specify how the data file should be split up. Since each line is a single entry in our data set we tell SageMaker that it can split the input on each line."
   ]
  },
  {
   "cell_type": "code",
   "execution_count": 54,
   "metadata": {},
   "outputs": [],
   "source": [
    "# TODO: Start the transform job. Make sure to specify the content type and the split type of the test data.\n",
    "xgb_transformer.transform(test_location, content_type='text/csv',split_type='Line')"
   ]
  },
  {
   "cell_type": "markdown",
   "metadata": {},
   "source": [
    "Currently the transform job is running but it is doing so in the background. Since we wish to wait until the transform job is done and we would like a bit of feedback we can run the `wait()` method."
   ]
  },
  {
   "cell_type": "code",
   "execution_count": 55,
   "metadata": {},
   "outputs": [
    {
     "name": "stdout",
     "output_type": "stream",
     "text": [
      "................................\u001b[32m2021-01-23T13:47:23.969:[sagemaker logs]: MaxConcurrentTransforms=4, MaxPayloadInMB=6, BatchStrategy=MULTI_RECORD\u001b[0m\n",
      "\u001b[34mArguments: serve\u001b[0m\n",
      "\u001b[34m[2021-01-23 13:47:23 +0000] [1] [INFO] Starting gunicorn 19.7.1\u001b[0m\n",
      "\u001b[34m[2021-01-23 13:47:23 +0000] [1] [INFO] Listening at: http://0.0.0.0:8080 (1)\u001b[0m\n",
      "\u001b[34m[2021-01-23 13:47:23 +0000] [1] [INFO] Using worker: gevent\u001b[0m\n",
      "\u001b[34m[2021-01-23 13:47:23 +0000] [36] [INFO] Booting worker with pid: 36\u001b[0m\n",
      "\u001b[34m[2021-01-23 13:47:23 +0000] [37] [INFO] Booting worker with pid: 37\u001b[0m\n",
      "\u001b[34m[2021-01-23:13:47:23:INFO] Model loaded successfully for worker : 36\u001b[0m\n",
      "\u001b[34m[2021-01-23:13:47:23:INFO] Model loaded successfully for worker : 37\u001b[0m\n",
      "\u001b[34m[2021-01-23 13:47:23 +0000] [38] [INFO] Booting worker with pid: 38\u001b[0m\n",
      "\u001b[34m[2021-01-23 13:47:24 +0000] [39] [INFO] Booting worker with pid: 39\u001b[0m\n",
      "\u001b[34m[2021-01-23:13:47:24:INFO] Model loaded successfully for worker : 38\u001b[0m\n",
      "\u001b[34m[2021-01-23:13:47:24:INFO] Model loaded successfully for worker : 39\u001b[0m\n",
      "\u001b[34m[2021-01-23:13:47:24:INFO] Sniff delimiter as ','\u001b[0m\n",
      "\u001b[34m[2021-01-23:13:47:24:INFO] Determined delimiter of CSV input is ','\u001b[0m\n",
      "\u001b[35mArguments: serve\u001b[0m\n",
      "\u001b[35m[2021-01-23 13:47:23 +0000] [1] [INFO] Starting gunicorn 19.7.1\u001b[0m\n",
      "\u001b[35m[2021-01-23 13:47:23 +0000] [1] [INFO] Listening at: http://0.0.0.0:8080 (1)\u001b[0m\n",
      "\u001b[35m[2021-01-23 13:47:23 +0000] [1] [INFO] Using worker: gevent\u001b[0m\n",
      "\u001b[35m[2021-01-23 13:47:23 +0000] [36] [INFO] Booting worker with pid: 36\u001b[0m\n",
      "\u001b[35m[2021-01-23 13:47:23 +0000] [37] [INFO] Booting worker with pid: 37\u001b[0m\n",
      "\u001b[35m[2021-01-23:13:47:23:INFO] Model loaded successfully for worker : 36\u001b[0m\n",
      "\u001b[35m[2021-01-23:13:47:23:INFO] Model loaded successfully for worker : 37\u001b[0m\n",
      "\u001b[35m[2021-01-23 13:47:23 +0000] [38] [INFO] Booting worker with pid: 38\u001b[0m\n",
      "\u001b[35m[2021-01-23 13:47:24 +0000] [39] [INFO] Booting worker with pid: 39\u001b[0m\n",
      "\u001b[35m[2021-01-23:13:47:24:INFO] Model loaded successfully for worker : 38\u001b[0m\n",
      "\u001b[35m[2021-01-23:13:47:24:INFO] Model loaded successfully for worker : 39\u001b[0m\n",
      "\u001b[35m[2021-01-23:13:47:24:INFO] Sniff delimiter as ','\u001b[0m\n",
      "\u001b[35m[2021-01-23:13:47:24:INFO] Determined delimiter of CSV input is ','\u001b[0m\n",
      "\u001b[34m[2021-01-23:13:47:24:INFO] Sniff delimiter as ','\u001b[0m\n",
      "\u001b[34m[2021-01-23:13:47:24:INFO] Determined delimiter of CSV input is ','\u001b[0m\n",
      "\u001b[34m[2021-01-23:13:47:24:INFO] Sniff delimiter as ','\u001b[0m\n",
      "\u001b[34m[2021-01-23:13:47:24:INFO] Determined delimiter of CSV input is ','\u001b[0m\n",
      "\u001b[35m[2021-01-23:13:47:24:INFO] Sniff delimiter as ','\u001b[0m\n",
      "\u001b[35m[2021-01-23:13:47:24:INFO] Determined delimiter of CSV input is ','\u001b[0m\n",
      "\u001b[35m[2021-01-23:13:47:24:INFO] Sniff delimiter as ','\u001b[0m\n",
      "\u001b[35m[2021-01-23:13:47:24:INFO] Determined delimiter of CSV input is ','\u001b[0m\n",
      "\u001b[34m[2021-01-23:13:47:24:INFO] Sniff delimiter as ','\u001b[0m\n",
      "\u001b[34m[2021-01-23:13:47:24:INFO] Determined delimiter of CSV input is ','\u001b[0m\n",
      "\u001b[35m[2021-01-23:13:47:24:INFO] Sniff delimiter as ','\u001b[0m\n",
      "\u001b[35m[2021-01-23:13:47:24:INFO] Determined delimiter of CSV input is ','\u001b[0m\n",
      "\u001b[34m[2021-01-23:13:47:26:INFO] Sniff delimiter as ','\u001b[0m\n",
      "\u001b[34m[2021-01-23:13:47:26:INFO] Determined delimiter of CSV input is ','\u001b[0m\n",
      "\u001b[34m[2021-01-23:13:47:26:INFO] Sniff delimiter as ','\u001b[0m\n",
      "\u001b[34m[2021-01-23:13:47:26:INFO] Determined delimiter of CSV input is ','\u001b[0m\n",
      "\u001b[34m[2021-01-23:13:47:27:INFO] Sniff delimiter as ','\u001b[0m\n",
      "\u001b[34m[2021-01-23:13:47:27:INFO] Determined delimiter of CSV input is ','\u001b[0m\n",
      "\u001b[34m[2021-01-23:13:47:27:INFO] Sniff delimiter as ','\u001b[0m\n",
      "\u001b[35m[2021-01-23:13:47:26:INFO] Sniff delimiter as ','\u001b[0m\n",
      "\u001b[35m[2021-01-23:13:47:26:INFO] Determined delimiter of CSV input is ','\u001b[0m\n",
      "\u001b[35m[2021-01-23:13:47:26:INFO] Sniff delimiter as ','\u001b[0m\n",
      "\u001b[35m[2021-01-23:13:47:26:INFO] Determined delimiter of CSV input is ','\u001b[0m\n",
      "\u001b[35m[2021-01-23:13:47:27:INFO] Sniff delimiter as ','\u001b[0m\n",
      "\u001b[35m[2021-01-23:13:47:27:INFO] Determined delimiter of CSV input is ','\u001b[0m\n",
      "\u001b[35m[2021-01-23:13:47:27:INFO] Sniff delimiter as ','\u001b[0m\n",
      "\u001b[34m[2021-01-23:13:47:27:INFO] Determined delimiter of CSV input is ','\u001b[0m\n",
      "\u001b[35m[2021-01-23:13:47:27:INFO] Determined delimiter of CSV input is ','\u001b[0m\n",
      "\u001b[34m[2021-01-23:13:47:29:INFO] Sniff delimiter as ','\u001b[0m\n",
      "\u001b[34m[2021-01-23:13:47:29:INFO] Determined delimiter of CSV input is ','\u001b[0m\n",
      "\u001b[34m[2021-01-23:13:47:29:INFO] Sniff delimiter as ','\u001b[0m\n",
      "\u001b[34m[2021-01-23:13:47:29:INFO] Determined delimiter of CSV input is ','\u001b[0m\n",
      "\u001b[34m[2021-01-23:13:47:29:INFO] Sniff delimiter as ','\u001b[0m\n",
      "\u001b[35m[2021-01-23:13:47:29:INFO] Sniff delimiter as ','\u001b[0m\n",
      "\u001b[35m[2021-01-23:13:47:29:INFO] Determined delimiter of CSV input is ','\u001b[0m\n",
      "\u001b[35m[2021-01-23:13:47:29:INFO] Sniff delimiter as ','\u001b[0m\n",
      "\u001b[35m[2021-01-23:13:47:29:INFO] Determined delimiter of CSV input is ','\u001b[0m\n",
      "\u001b[35m[2021-01-23:13:47:29:INFO] Sniff delimiter as ','\u001b[0m\n",
      "\u001b[34m[2021-01-23:13:47:29:INFO] Determined delimiter of CSV input is ','\u001b[0m\n",
      "\u001b[35m[2021-01-23:13:47:29:INFO] Determined delimiter of CSV input is ','\u001b[0m\n",
      "\u001b[34m[2021-01-23:13:47:29:INFO] Sniff delimiter as ','\u001b[0m\n",
      "\u001b[34m[2021-01-23:13:47:29:INFO] Determined delimiter of CSV input is ','\u001b[0m\n",
      "\u001b[35m[2021-01-23:13:47:29:INFO] Sniff delimiter as ','\u001b[0m\n",
      "\u001b[35m[2021-01-23:13:47:29:INFO] Determined delimiter of CSV input is ','\u001b[0m\n",
      "\u001b[34m[2021-01-23:13:47:31:INFO] Sniff delimiter as ','\u001b[0m\n",
      "\u001b[34m[2021-01-23:13:47:31:INFO] Determined delimiter of CSV input is ','\u001b[0m\n",
      "\u001b[34m[2021-01-23:13:47:31:INFO] Sniff delimiter as ','\u001b[0m\n",
      "\u001b[34m[2021-01-23:13:47:31:INFO] Determined delimiter of CSV input is ','\u001b[0m\n",
      "\u001b[34m[2021-01-23:13:47:32:INFO] Sniff delimiter as ','\u001b[0m\n",
      "\u001b[34m[2021-01-23:13:47:32:INFO] Determined delimiter of CSV input is ','\u001b[0m\n",
      "\u001b[34m[2021-01-23:13:47:32:INFO] Sniff delimiter as ','\u001b[0m\n",
      "\u001b[34m[2021-01-23:13:47:32:INFO] Determined delimiter of CSV input is ','\u001b[0m\n",
      "\u001b[35m[2021-01-23:13:47:31:INFO] Sniff delimiter as ','\u001b[0m\n",
      "\u001b[35m[2021-01-23:13:47:31:INFO] Determined delimiter of CSV input is ','\u001b[0m\n",
      "\u001b[35m[2021-01-23:13:47:31:INFO] Sniff delimiter as ','\u001b[0m\n",
      "\u001b[35m[2021-01-23:13:47:31:INFO] Determined delimiter of CSV input is ','\u001b[0m\n",
      "\u001b[35m[2021-01-23:13:47:32:INFO] Sniff delimiter as ','\u001b[0m\n",
      "\u001b[35m[2021-01-23:13:47:32:INFO] Determined delimiter of CSV input is ','\u001b[0m\n",
      "\u001b[35m[2021-01-23:13:47:32:INFO] Sniff delimiter as ','\u001b[0m\n",
      "\u001b[35m[2021-01-23:13:47:32:INFO] Determined delimiter of CSV input is ','\u001b[0m\n",
      "\u001b[34m[2021-01-23:13:47:36:INFO] Sniff delimiter as ','\u001b[0m\n",
      "\u001b[34m[2021-01-23:13:47:36:INFO] Determined delimiter of CSV input is ','\u001b[0m\n",
      "\u001b[35m[2021-01-23:13:47:36:INFO] Sniff delimiter as ','\u001b[0m\n",
      "\u001b[35m[2021-01-23:13:47:36:INFO] Determined delimiter of CSV input is ','\u001b[0m\n",
      "\u001b[34m[2021-01-23:13:47:36:INFO] Sniff delimiter as ','\u001b[0m\n",
      "\u001b[34m[2021-01-23:13:47:36:INFO] Determined delimiter of CSV input is ','\u001b[0m\n",
      "\u001b[34m[2021-01-23:13:47:37:INFO] Sniff delimiter as ','\u001b[0m\n",
      "\u001b[34m[2021-01-23:13:47:37:INFO] Determined delimiter of CSV input is ','\u001b[0m\n",
      "\u001b[34m[2021-01-23:13:47:37:INFO] Sniff delimiter as ','\u001b[0m\n",
      "\u001b[34m[2021-01-23:13:47:37:INFO] Determined delimiter of CSV input is ','\u001b[0m\n",
      "\u001b[35m[2021-01-23:13:47:36:INFO] Sniff delimiter as ','\u001b[0m\n",
      "\u001b[35m[2021-01-23:13:47:36:INFO] Determined delimiter of CSV input is ','\u001b[0m\n",
      "\u001b[35m[2021-01-23:13:47:37:INFO] Sniff delimiter as ','\u001b[0m\n",
      "\u001b[35m[2021-01-23:13:47:37:INFO] Determined delimiter of CSV input is ','\u001b[0m\n",
      "\u001b[35m[2021-01-23:13:47:37:INFO] Sniff delimiter as ','\u001b[0m\n",
      "\u001b[35m[2021-01-23:13:47:37:INFO] Determined delimiter of CSV input is ','\u001b[0m\n",
      "\u001b[34m[2021-01-23:13:47:39:INFO] Sniff delimiter as ','\u001b[0m\n",
      "\u001b[34m[2021-01-23:13:47:39:INFO] Determined delimiter of CSV input is ','\u001b[0m\n",
      "\u001b[34m[2021-01-23:13:47:39:INFO] Sniff delimiter as ','\u001b[0m\n",
      "\u001b[34m[2021-01-23:13:47:39:INFO] Determined delimiter of CSV input is ','\u001b[0m\n",
      "\u001b[34m[2021-01-23:13:47:39:INFO] Sniff delimiter as ','\u001b[0m\n",
      "\u001b[34m[2021-01-23:13:47:39:INFO] Determined delimiter of CSV input is ','\u001b[0m\n",
      "\u001b[35m[2021-01-23:13:47:39:INFO] Sniff delimiter as ','\u001b[0m\n",
      "\u001b[35m[2021-01-23:13:47:39:INFO] Determined delimiter of CSV input is ','\u001b[0m\n",
      "\u001b[35m[2021-01-23:13:47:39:INFO] Sniff delimiter as ','\u001b[0m\n",
      "\u001b[35m[2021-01-23:13:47:39:INFO] Determined delimiter of CSV input is ','\u001b[0m\n",
      "\u001b[35m[2021-01-23:13:47:39:INFO] Sniff delimiter as ','\u001b[0m\n",
      "\u001b[35m[2021-01-23:13:47:39:INFO] Determined delimiter of CSV input is ','\u001b[0m\n",
      "\u001b[34m[2021-01-23:13:47:39:INFO] Sniff delimiter as ','\u001b[0m\n",
      "\u001b[34m[2021-01-23:13:47:39:INFO] Determined delimiter of CSV input is ','\u001b[0m\n",
      "\u001b[35m[2021-01-23:13:47:39:INFO] Sniff delimiter as ','\u001b[0m\n",
      "\u001b[35m[2021-01-23:13:47:39:INFO] Determined delimiter of CSV input is ','\u001b[0m\n",
      "\u001b[34m[2021-01-23:13:47:41:INFO] Sniff delimiter as ','\u001b[0m\n",
      "\u001b[34m[2021-01-23:13:47:41:INFO] Determined delimiter of CSV input is ','\u001b[0m\n",
      "\u001b[34m[2021-01-23:13:47:41:INFO] Sniff delimiter as ','\u001b[0m\n",
      "\u001b[34m[2021-01-23:13:47:41:INFO] Determined delimiter of CSV input is ','\u001b[0m\n",
      "\u001b[35m[2021-01-23:13:47:41:INFO] Sniff delimiter as ','\u001b[0m\n",
      "\u001b[35m[2021-01-23:13:47:41:INFO] Determined delimiter of CSV input is ','\u001b[0m\n",
      "\u001b[35m[2021-01-23:13:47:41:INFO] Sniff delimiter as ','\u001b[0m\n",
      "\u001b[35m[2021-01-23:13:47:41:INFO] Determined delimiter of CSV input is ','\u001b[0m\n",
      "\u001b[34m[2021-01-23:13:47:41:INFO] Sniff delimiter as ','\u001b[0m\n",
      "\u001b[34m[2021-01-23:13:47:41:INFO] Determined delimiter of CSV input is ','\u001b[0m\n",
      "\u001b[34m[2021-01-23:13:47:42:INFO] Sniff delimiter as ','\u001b[0m\n",
      "\u001b[34m[2021-01-23:13:47:42:INFO] Determined delimiter of CSV input is ','\u001b[0m\n",
      "\u001b[35m[2021-01-23:13:47:41:INFO] Sniff delimiter as ','\u001b[0m\n",
      "\u001b[35m[2021-01-23:13:47:41:INFO] Determined delimiter of CSV input is ','\u001b[0m\n",
      "\u001b[35m[2021-01-23:13:47:42:INFO] Sniff delimiter as ','\u001b[0m\n",
      "\u001b[35m[2021-01-23:13:47:42:INFO] Determined delimiter of CSV input is ','\u001b[0m\n",
      "\u001b[34m[2021-01-23:13:47:44:INFO] Sniff delimiter as ','\u001b[0m\n",
      "\u001b[34m[2021-01-23:13:47:44:INFO] Determined delimiter of CSV input is ','\u001b[0m\n",
      "\u001b[34m[2021-01-23:13:47:44:INFO] Sniff delimiter as ','\u001b[0m\n",
      "\u001b[34m[2021-01-23:13:47:44:INFO] Determined delimiter of CSV input is ','\u001b[0m\n",
      "\u001b[34m[2021-01-23:13:47:44:INFO] Sniff delimiter as ','\u001b[0m\n",
      "\u001b[34m[2021-01-23:13:47:44:INFO] Determined delimiter of CSV input is ','\u001b[0m\n",
      "\u001b[35m[2021-01-23:13:47:44:INFO] Sniff delimiter as ','\u001b[0m\n",
      "\u001b[35m[2021-01-23:13:47:44:INFO] Determined delimiter of CSV input is ','\u001b[0m\n",
      "\u001b[35m[2021-01-23:13:47:44:INFO] Sniff delimiter as ','\u001b[0m\n",
      "\u001b[35m[2021-01-23:13:47:44:INFO] Determined delimiter of CSV input is ','\u001b[0m\n",
      "\u001b[35m[2021-01-23:13:47:44:INFO] Sniff delimiter as ','\u001b[0m\n",
      "\u001b[35m[2021-01-23:13:47:44:INFO] Determined delimiter of CSV input is ','\u001b[0m\n",
      "\u001b[34m[2021-01-23:13:47:44:INFO] Sniff delimiter as ','\u001b[0m\n",
      "\u001b[35m[2021-01-23:13:47:44:INFO] Sniff delimiter as ','\u001b[0m\n",
      "\u001b[34m[2021-01-23:13:47:44:INFO] Determined delimiter of CSV input is ','\u001b[0m\n",
      "\u001b[35m[2021-01-23:13:47:44:INFO] Determined delimiter of CSV input is ','\u001b[0m\n",
      "\u001b[34m[2021-01-23:13:47:46:INFO] Sniff delimiter as ','\u001b[0m\n",
      "\u001b[34m[2021-01-23:13:47:46:INFO] Determined delimiter of CSV input is ','\u001b[0m\n",
      "\u001b[34m[2021-01-23:13:47:46:INFO] Sniff delimiter as ','\u001b[0m\n",
      "\u001b[34m[2021-01-23:13:47:46:INFO] Determined delimiter of CSV input is ','\u001b[0m\n",
      "\u001b[35m[2021-01-23:13:47:46:INFO] Sniff delimiter as ','\u001b[0m\n",
      "\u001b[35m[2021-01-23:13:47:46:INFO] Determined delimiter of CSV input is ','\u001b[0m\n",
      "\u001b[35m[2021-01-23:13:47:46:INFO] Sniff delimiter as ','\u001b[0m\n",
      "\u001b[35m[2021-01-23:13:47:46:INFO] Determined delimiter of CSV input is ','\u001b[0m\n",
      "\u001b[34m[2021-01-23:13:47:46:INFO] Sniff delimiter as ','\u001b[0m\n",
      "\u001b[34m[2021-01-23:13:47:46:INFO] Determined delimiter of CSV input is ','\u001b[0m\n",
      "\u001b[34m[2021-01-23:13:47:47:INFO] Sniff delimiter as ','\u001b[0m\n",
      "\u001b[34m[2021-01-23:13:47:47:INFO] Determined delimiter of CSV input is ','\u001b[0m\n",
      "\u001b[35m[2021-01-23:13:47:46:INFO] Sniff delimiter as ','\u001b[0m\n",
      "\u001b[35m[2021-01-23:13:47:46:INFO] Determined delimiter of CSV input is ','\u001b[0m\n",
      "\u001b[35m[2021-01-23:13:47:47:INFO] Sniff delimiter as ','\u001b[0m\n",
      "\u001b[35m[2021-01-23:13:47:47:INFO] Determined delimiter of CSV input is ','\u001b[0m\n",
      "\n"
     ]
    }
   ],
   "source": [
    "xgb_transformer.wait()"
   ]
  },
  {
   "cell_type": "markdown",
   "metadata": {},
   "source": [
    "Now the transform job has executed and the result, the estimated sentiment of each review, has been saved on S3. Since we would rather work on this file locally we can perform a bit of notebook magic to copy the file to the `data_dir`."
   ]
  },
  {
   "cell_type": "code",
   "execution_count": 56,
   "metadata": {},
   "outputs": [
    {
     "name": "stdout",
     "output_type": "stream",
     "text": [
      "download: s3://sagemaker-us-east-1-459717541543/xgboost-210123-1312-005-fc3e8fef-2021-01-23-13-42-07-233/test.csv.out to ../data/xgboost/test.csv.out\r\n"
     ]
    }
   ],
   "source": [
    "!aws s3 cp --recursive $xgb_transformer.output_path $data_dir"
   ]
  },
  {
   "cell_type": "markdown",
   "metadata": {},
   "source": [
    "The last step is now to read in the output from our model, convert the output to something a little more usable, in this case we want the sentiment to be either `1` (positive) or `0` (negative), and then compare to the ground truth labels."
   ]
  },
  {
   "cell_type": "code",
   "execution_count": 57,
   "metadata": {},
   "outputs": [],
   "source": [
    "predictions = pd.read_csv(os.path.join(data_dir, 'test.csv.out'), header=None)\n",
    "predictions = [round(num) for num in predictions.squeeze().values]"
   ]
  },
  {
   "cell_type": "code",
   "execution_count": 58,
   "metadata": {},
   "outputs": [
    {
     "data": {
      "text/plain": [
       "0.86548"
      ]
     },
     "execution_count": 58,
     "metadata": {},
     "output_type": "execute_result"
    }
   ],
   "source": [
    "from sklearn.metrics import accuracy_score\n",
    "accuracy_score(test_y, predictions)"
   ]
  },
  {
   "cell_type": "markdown",
   "metadata": {},
   "source": [
    "## Optional: Clean up\n",
    "\n",
    "The default notebook instance on SageMaker doesn't have a lot of excess disk space available. As you continue to complete and execute notebooks you will eventually fill up this disk space, leading to errors which can be difficult to diagnose. Once you are completely finished using a notebook it is a good idea to remove the files that you created along the way. Of course, you can do this from the terminal or from the notebook hub if you would like. The cell below contains some commands to clean up the created files from within the notebook."
   ]
  },
  {
   "cell_type": "code",
   "execution_count": 59,
   "metadata": {},
   "outputs": [],
   "source": [
    "# First we will remove all of the files contained in the data_dir directory\n",
    "!rm $data_dir/*\n",
    "\n",
    "# And then we delete the directory itself\n",
    "!rmdir $data_dir\n",
    "\n",
    "# Similarly we will remove the files in the cache_dir directory and the directory itself\n",
    "#!rm $cache_dir/*\n",
    "#!rmdir $cache_dir"
   ]
  },
  {
   "cell_type": "code",
   "execution_count": null,
   "metadata": {},
   "outputs": [],
   "source": []
  }
 ],
 "metadata": {
  "kernelspec": {
   "display_name": "conda_python3",
   "language": "python",
   "name": "conda_python3"
  },
  "language_info": {
   "codemirror_mode": {
    "name": "ipython",
    "version": 3
   },
   "file_extension": ".py",
   "mimetype": "text/x-python",
   "name": "python",
   "nbconvert_exporter": "python",
   "pygments_lexer": "ipython3",
   "version": "3.6.10"
  }
 },
 "nbformat": 4,
 "nbformat_minor": 2
}
